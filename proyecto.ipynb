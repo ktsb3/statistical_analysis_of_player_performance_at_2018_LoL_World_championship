{
 "cells": [
  {
   "cell_type": "markdown",
   "metadata": {},
   "source": [
    "### Proyecto de sistemas inteligentes para la toma de decisiones:\n",
    "\n",
    "### Analisis y descripción de datos\n",
    "\n",
    "### Keshava Tonathiu Sanchez Barbosa (418127029) keshava.t.s.b@gmail.com"
   ]
  },
  {
   "cell_type": "code",
   "execution_count": 83,
   "metadata": {},
   "outputs": [
    {
     "data": {
      "text/html": [
       "\n",
       "    <div class=\"bk-root\">\n",
       "        <a href=\"https://bokeh.org\" target=\"_blank\" class=\"bk-logo bk-logo-small bk-logo-notebook\"></a>\n",
       "        <span id=\"6903\">Loading BokehJS ...</span>\n",
       "    </div>"
      ]
     },
     "metadata": {},
     "output_type": "display_data"
    },
    {
     "data": {
      "application/javascript": [
       "\n",
       "(function(root) {\n",
       "  function now() {\n",
       "    return new Date();\n",
       "  }\n",
       "\n",
       "  var force = true;\n",
       "\n",
       "  if (typeof root._bokeh_onload_callbacks === \"undefined\" || force === true) {\n",
       "    root._bokeh_onload_callbacks = [];\n",
       "    root._bokeh_is_loading = undefined;\n",
       "  }\n",
       "\n",
       "  var JS_MIME_TYPE = 'application/javascript';\n",
       "  var HTML_MIME_TYPE = 'text/html';\n",
       "  var EXEC_MIME_TYPE = 'application/vnd.bokehjs_exec.v0+json';\n",
       "  var CLASS_NAME = 'output_bokeh rendered_html';\n",
       "\n",
       "  /**\n",
       "   * Render data to the DOM node\n",
       "   */\n",
       "  function render(props, node) {\n",
       "    var script = document.createElement(\"script\");\n",
       "    node.appendChild(script);\n",
       "  }\n",
       "\n",
       "  /**\n",
       "   * Handle when an output is cleared or removed\n",
       "   */\n",
       "  function handleClearOutput(event, handle) {\n",
       "    var cell = handle.cell;\n",
       "\n",
       "    var id = cell.output_area._bokeh_element_id;\n",
       "    var server_id = cell.output_area._bokeh_server_id;\n",
       "    // Clean up Bokeh references\n",
       "    if (id != null && id in Bokeh.index) {\n",
       "      Bokeh.index[id].model.document.clear();\n",
       "      delete Bokeh.index[id];\n",
       "    }\n",
       "\n",
       "    if (server_id !== undefined) {\n",
       "      // Clean up Bokeh references\n",
       "      var cmd = \"from bokeh.io.state import curstate; print(curstate().uuid_to_server['\" + server_id + \"'].get_sessions()[0].document.roots[0]._id)\";\n",
       "      cell.notebook.kernel.execute(cmd, {\n",
       "        iopub: {\n",
       "          output: function(msg) {\n",
       "            var id = msg.content.text.trim();\n",
       "            if (id in Bokeh.index) {\n",
       "              Bokeh.index[id].model.document.clear();\n",
       "              delete Bokeh.index[id];\n",
       "            }\n",
       "          }\n",
       "        }\n",
       "      });\n",
       "      // Destroy server and session\n",
       "      var cmd = \"import bokeh.io.notebook as ion; ion.destroy_server('\" + server_id + \"')\";\n",
       "      cell.notebook.kernel.execute(cmd);\n",
       "    }\n",
       "  }\n",
       "\n",
       "  /**\n",
       "   * Handle when a new output is added\n",
       "   */\n",
       "  function handleAddOutput(event, handle) {\n",
       "    var output_area = handle.output_area;\n",
       "    var output = handle.output;\n",
       "\n",
       "    // limit handleAddOutput to display_data with EXEC_MIME_TYPE content only\n",
       "    if ((output.output_type != \"display_data\") || (!output.data.hasOwnProperty(EXEC_MIME_TYPE))) {\n",
       "      return\n",
       "    }\n",
       "\n",
       "    var toinsert = output_area.element.find(\".\" + CLASS_NAME.split(' ')[0]);\n",
       "\n",
       "    if (output.metadata[EXEC_MIME_TYPE][\"id\"] !== undefined) {\n",
       "      toinsert[toinsert.length - 1].firstChild.textContent = output.data[JS_MIME_TYPE];\n",
       "      // store reference to embed id on output_area\n",
       "      output_area._bokeh_element_id = output.metadata[EXEC_MIME_TYPE][\"id\"];\n",
       "    }\n",
       "    if (output.metadata[EXEC_MIME_TYPE][\"server_id\"] !== undefined) {\n",
       "      var bk_div = document.createElement(\"div\");\n",
       "      bk_div.innerHTML = output.data[HTML_MIME_TYPE];\n",
       "      var script_attrs = bk_div.children[0].attributes;\n",
       "      for (var i = 0; i < script_attrs.length; i++) {\n",
       "        toinsert[toinsert.length - 1].firstChild.setAttribute(script_attrs[i].name, script_attrs[i].value);\n",
       "      }\n",
       "      // store reference to server id on output_area\n",
       "      output_area._bokeh_server_id = output.metadata[EXEC_MIME_TYPE][\"server_id\"];\n",
       "    }\n",
       "  }\n",
       "\n",
       "  function register_renderer(events, OutputArea) {\n",
       "\n",
       "    function append_mime(data, metadata, element) {\n",
       "      // create a DOM node to render to\n",
       "      var toinsert = this.create_output_subarea(\n",
       "        metadata,\n",
       "        CLASS_NAME,\n",
       "        EXEC_MIME_TYPE\n",
       "      );\n",
       "      this.keyboard_manager.register_events(toinsert);\n",
       "      // Render to node\n",
       "      var props = {data: data, metadata: metadata[EXEC_MIME_TYPE]};\n",
       "      render(props, toinsert[toinsert.length - 1]);\n",
       "      element.append(toinsert);\n",
       "      return toinsert\n",
       "    }\n",
       "\n",
       "    /* Handle when an output is cleared or removed */\n",
       "    events.on('clear_output.CodeCell', handleClearOutput);\n",
       "    events.on('delete.Cell', handleClearOutput);\n",
       "\n",
       "    /* Handle when a new output is added */\n",
       "    events.on('output_added.OutputArea', handleAddOutput);\n",
       "\n",
       "    /**\n",
       "     * Register the mime type and append_mime function with output_area\n",
       "     */\n",
       "    OutputArea.prototype.register_mime_type(EXEC_MIME_TYPE, append_mime, {\n",
       "      /* Is output safe? */\n",
       "      safe: true,\n",
       "      /* Index of renderer in `output_area.display_order` */\n",
       "      index: 0\n",
       "    });\n",
       "  }\n",
       "\n",
       "  // register the mime type if in Jupyter Notebook environment and previously unregistered\n",
       "  if (root.Jupyter !== undefined) {\n",
       "    var events = require('base/js/events');\n",
       "    var OutputArea = require('notebook/js/outputarea').OutputArea;\n",
       "\n",
       "    if (OutputArea.prototype.mime_types().indexOf(EXEC_MIME_TYPE) == -1) {\n",
       "      register_renderer(events, OutputArea);\n",
       "    }\n",
       "  }\n",
       "\n",
       "  \n",
       "  if (typeof (root._bokeh_timeout) === \"undefined\" || force === true) {\n",
       "    root._bokeh_timeout = Date.now() + 5000;\n",
       "    root._bokeh_failed_load = false;\n",
       "  }\n",
       "\n",
       "  var NB_LOAD_WARNING = {'data': {'text/html':\n",
       "     \"<div style='background-color: #fdd'>\\n\"+\n",
       "     \"<p>\\n\"+\n",
       "     \"BokehJS does not appear to have successfully loaded. If loading BokehJS from CDN, this \\n\"+\n",
       "     \"may be due to a slow or bad network connection. Possible fixes:\\n\"+\n",
       "     \"</p>\\n\"+\n",
       "     \"<ul>\\n\"+\n",
       "     \"<li>re-rerun `output_notebook()` to attempt to load from CDN again, or</li>\\n\"+\n",
       "     \"<li>use INLINE resources instead, as so:</li>\\n\"+\n",
       "     \"</ul>\\n\"+\n",
       "     \"<code>\\n\"+\n",
       "     \"from bokeh.resources import INLINE\\n\"+\n",
       "     \"output_notebook(resources=INLINE)\\n\"+\n",
       "     \"</code>\\n\"+\n",
       "     \"</div>\"}};\n",
       "\n",
       "  function display_loaded() {\n",
       "    var el = document.getElementById(\"6903\");\n",
       "    if (el != null) {\n",
       "      el.textContent = \"BokehJS is loading...\";\n",
       "    }\n",
       "    if (root.Bokeh !== undefined) {\n",
       "      if (el != null) {\n",
       "        el.textContent = \"BokehJS \" + root.Bokeh.version + \" successfully loaded.\";\n",
       "      }\n",
       "    } else if (Date.now() < root._bokeh_timeout) {\n",
       "      setTimeout(display_loaded, 100)\n",
       "    }\n",
       "  }\n",
       "\n",
       "\n",
       "  function run_callbacks() {\n",
       "    try {\n",
       "      root._bokeh_onload_callbacks.forEach(function(callback) {\n",
       "        if (callback != null)\n",
       "          callback();\n",
       "      });\n",
       "    } finally {\n",
       "      delete root._bokeh_onload_callbacks\n",
       "    }\n",
       "    console.debug(\"Bokeh: all callbacks have finished\");\n",
       "  }\n",
       "\n",
       "  function load_libs(css_urls, js_urls, callback) {\n",
       "    if (css_urls == null) css_urls = [];\n",
       "    if (js_urls == null) js_urls = [];\n",
       "\n",
       "    root._bokeh_onload_callbacks.push(callback);\n",
       "    if (root._bokeh_is_loading > 0) {\n",
       "      console.debug(\"Bokeh: BokehJS is being loaded, scheduling callback at\", now());\n",
       "      return null;\n",
       "    }\n",
       "    if (js_urls == null || js_urls.length === 0) {\n",
       "      run_callbacks();\n",
       "      return null;\n",
       "    }\n",
       "    console.debug(\"Bokeh: BokehJS not loaded, scheduling load and callback at\", now());\n",
       "    root._bokeh_is_loading = css_urls.length + js_urls.length;\n",
       "\n",
       "    function on_load() {\n",
       "      root._bokeh_is_loading--;\n",
       "      if (root._bokeh_is_loading === 0) {\n",
       "        console.debug(\"Bokeh: all BokehJS libraries/stylesheets loaded\");\n",
       "        run_callbacks()\n",
       "      }\n",
       "    }\n",
       "\n",
       "    function on_error() {\n",
       "      console.error(\"failed to load \" + url);\n",
       "    }\n",
       "\n",
       "    for (var i = 0; i < css_urls.length; i++) {\n",
       "      var url = css_urls[i];\n",
       "      const element = document.createElement(\"link\");\n",
       "      element.onload = on_load;\n",
       "      element.onerror = on_error;\n",
       "      element.rel = \"stylesheet\";\n",
       "      element.type = \"text/css\";\n",
       "      element.href = url;\n",
       "      console.debug(\"Bokeh: injecting link tag for BokehJS stylesheet: \", url);\n",
       "      document.body.appendChild(element);\n",
       "    }\n",
       "\n",
       "    for (var i = 0; i < js_urls.length; i++) {\n",
       "      var url = js_urls[i];\n",
       "      var element = document.createElement('script');\n",
       "      element.onload = on_load;\n",
       "      element.onerror = on_error;\n",
       "      element.async = false;\n",
       "      element.src = url;\n",
       "      console.debug(\"Bokeh: injecting script tag for BokehJS library: \", url);\n",
       "      document.head.appendChild(element);\n",
       "    }\n",
       "  };var element = document.getElementById(\"6903\");\n",
       "  if (element == null) {\n",
       "    console.error(\"Bokeh: ERROR: autoload.js configured with elementid '6903' but no matching script tag was found. \")\n",
       "    return false;\n",
       "  }\n",
       "\n",
       "  function inject_raw_css(css) {\n",
       "    const element = document.createElement(\"style\");\n",
       "    element.appendChild(document.createTextNode(css));\n",
       "    document.body.appendChild(element);\n",
       "  }\n",
       "\n",
       "  \n",
       "  var js_urls = [\"https://cdn.pydata.org/bokeh/release/bokeh-1.4.0.min.js\", \"https://cdn.pydata.org/bokeh/release/bokeh-widgets-1.4.0.min.js\", \"https://cdn.pydata.org/bokeh/release/bokeh-tables-1.4.0.min.js\", \"https://cdn.pydata.org/bokeh/release/bokeh-gl-1.4.0.min.js\"];\n",
       "  var css_urls = [];\n",
       "  \n",
       "\n",
       "  var inline_js = [\n",
       "    function(Bokeh) {\n",
       "      Bokeh.set_log_level(\"info\");\n",
       "    },\n",
       "    function(Bokeh) {\n",
       "    \n",
       "    \n",
       "    }\n",
       "  ];\n",
       "\n",
       "  function run_inline_js() {\n",
       "    \n",
       "    if (root.Bokeh !== undefined || force === true) {\n",
       "      \n",
       "    for (var i = 0; i < inline_js.length; i++) {\n",
       "      inline_js[i].call(root, root.Bokeh);\n",
       "    }\n",
       "    if (force === true) {\n",
       "        display_loaded();\n",
       "      }} else if (Date.now() < root._bokeh_timeout) {\n",
       "      setTimeout(run_inline_js, 100);\n",
       "    } else if (!root._bokeh_failed_load) {\n",
       "      console.log(\"Bokeh: BokehJS failed to load within specified timeout.\");\n",
       "      root._bokeh_failed_load = true;\n",
       "    } else if (force !== true) {\n",
       "      var cell = $(document.getElementById(\"6903\")).parents('.cell').data().cell;\n",
       "      cell.output_area.append_execute_result(NB_LOAD_WARNING)\n",
       "    }\n",
       "\n",
       "  }\n",
       "\n",
       "  if (root._bokeh_is_loading === 0) {\n",
       "    console.debug(\"Bokeh: BokehJS loaded, going straight to plotting\");\n",
       "    run_inline_js();\n",
       "  } else {\n",
       "    load_libs(css_urls, js_urls, function() {\n",
       "      console.debug(\"Bokeh: BokehJS plotting callback run at\", now());\n",
       "      run_inline_js();\n",
       "    });\n",
       "  }\n",
       "}(window));"
      ],
      "application/vnd.bokehjs_load.v0+json": "\n(function(root) {\n  function now() {\n    return new Date();\n  }\n\n  var force = true;\n\n  if (typeof root._bokeh_onload_callbacks === \"undefined\" || force === true) {\n    root._bokeh_onload_callbacks = [];\n    root._bokeh_is_loading = undefined;\n  }\n\n  \n\n  \n  if (typeof (root._bokeh_timeout) === \"undefined\" || force === true) {\n    root._bokeh_timeout = Date.now() + 5000;\n    root._bokeh_failed_load = false;\n  }\n\n  var NB_LOAD_WARNING = {'data': {'text/html':\n     \"<div style='background-color: #fdd'>\\n\"+\n     \"<p>\\n\"+\n     \"BokehJS does not appear to have successfully loaded. If loading BokehJS from CDN, this \\n\"+\n     \"may be due to a slow or bad network connection. Possible fixes:\\n\"+\n     \"</p>\\n\"+\n     \"<ul>\\n\"+\n     \"<li>re-rerun `output_notebook()` to attempt to load from CDN again, or</li>\\n\"+\n     \"<li>use INLINE resources instead, as so:</li>\\n\"+\n     \"</ul>\\n\"+\n     \"<code>\\n\"+\n     \"from bokeh.resources import INLINE\\n\"+\n     \"output_notebook(resources=INLINE)\\n\"+\n     \"</code>\\n\"+\n     \"</div>\"}};\n\n  function display_loaded() {\n    var el = document.getElementById(\"6903\");\n    if (el != null) {\n      el.textContent = \"BokehJS is loading...\";\n    }\n    if (root.Bokeh !== undefined) {\n      if (el != null) {\n        el.textContent = \"BokehJS \" + root.Bokeh.version + \" successfully loaded.\";\n      }\n    } else if (Date.now() < root._bokeh_timeout) {\n      setTimeout(display_loaded, 100)\n    }\n  }\n\n\n  function run_callbacks() {\n    try {\n      root._bokeh_onload_callbacks.forEach(function(callback) {\n        if (callback != null)\n          callback();\n      });\n    } finally {\n      delete root._bokeh_onload_callbacks\n    }\n    console.debug(\"Bokeh: all callbacks have finished\");\n  }\n\n  function load_libs(css_urls, js_urls, callback) {\n    if (css_urls == null) css_urls = [];\n    if (js_urls == null) js_urls = [];\n\n    root._bokeh_onload_callbacks.push(callback);\n    if (root._bokeh_is_loading > 0) {\n      console.debug(\"Bokeh: BokehJS is being loaded, scheduling callback at\", now());\n      return null;\n    }\n    if (js_urls == null || js_urls.length === 0) {\n      run_callbacks();\n      return null;\n    }\n    console.debug(\"Bokeh: BokehJS not loaded, scheduling load and callback at\", now());\n    root._bokeh_is_loading = css_urls.length + js_urls.length;\n\n    function on_load() {\n      root._bokeh_is_loading--;\n      if (root._bokeh_is_loading === 0) {\n        console.debug(\"Bokeh: all BokehJS libraries/stylesheets loaded\");\n        run_callbacks()\n      }\n    }\n\n    function on_error() {\n      console.error(\"failed to load \" + url);\n    }\n\n    for (var i = 0; i < css_urls.length; i++) {\n      var url = css_urls[i];\n      const element = document.createElement(\"link\");\n      element.onload = on_load;\n      element.onerror = on_error;\n      element.rel = \"stylesheet\";\n      element.type = \"text/css\";\n      element.href = url;\n      console.debug(\"Bokeh: injecting link tag for BokehJS stylesheet: \", url);\n      document.body.appendChild(element);\n    }\n\n    for (var i = 0; i < js_urls.length; i++) {\n      var url = js_urls[i];\n      var element = document.createElement('script');\n      element.onload = on_load;\n      element.onerror = on_error;\n      element.async = false;\n      element.src = url;\n      console.debug(\"Bokeh: injecting script tag for BokehJS library: \", url);\n      document.head.appendChild(element);\n    }\n  };var element = document.getElementById(\"6903\");\n  if (element == null) {\n    console.error(\"Bokeh: ERROR: autoload.js configured with elementid '6903' but no matching script tag was found. \")\n    return false;\n  }\n\n  function inject_raw_css(css) {\n    const element = document.createElement(\"style\");\n    element.appendChild(document.createTextNode(css));\n    document.body.appendChild(element);\n  }\n\n  \n  var js_urls = [\"https://cdn.pydata.org/bokeh/release/bokeh-1.4.0.min.js\", \"https://cdn.pydata.org/bokeh/release/bokeh-widgets-1.4.0.min.js\", \"https://cdn.pydata.org/bokeh/release/bokeh-tables-1.4.0.min.js\", \"https://cdn.pydata.org/bokeh/release/bokeh-gl-1.4.0.min.js\"];\n  var css_urls = [];\n  \n\n  var inline_js = [\n    function(Bokeh) {\n      Bokeh.set_log_level(\"info\");\n    },\n    function(Bokeh) {\n    \n    \n    }\n  ];\n\n  function run_inline_js() {\n    \n    if (root.Bokeh !== undefined || force === true) {\n      \n    for (var i = 0; i < inline_js.length; i++) {\n      inline_js[i].call(root, root.Bokeh);\n    }\n    if (force === true) {\n        display_loaded();\n      }} else if (Date.now() < root._bokeh_timeout) {\n      setTimeout(run_inline_js, 100);\n    } else if (!root._bokeh_failed_load) {\n      console.log(\"Bokeh: BokehJS failed to load within specified timeout.\");\n      root._bokeh_failed_load = true;\n    } else if (force !== true) {\n      var cell = $(document.getElementById(\"6903\")).parents('.cell').data().cell;\n      cell.output_area.append_execute_result(NB_LOAD_WARNING)\n    }\n\n  }\n\n  if (root._bokeh_is_loading === 0) {\n    console.debug(\"Bokeh: BokehJS loaded, going straight to plotting\");\n    run_inline_js();\n  } else {\n    load_libs(css_urls, js_urls, function() {\n      console.debug(\"Bokeh: BokehJS plotting callback run at\", now());\n      run_inline_js();\n    });\n  }\n}(window));"
     },
     "metadata": {},
     "output_type": "display_data"
    }
   ],
   "source": [
    "import numpy as np\n",
    "import pandas as pd\n",
    "import graphviz\n",
    "from bokeh.plotting import figure\n",
    "from bokeh.io import output_notebook #output_file(\"file.html\") para un archivo\n",
    "from bokeh.io import show\n",
    "from bokeh.models import ColumnDataSource\n",
    "from bokeh.layouts import gridplot\n",
    "from bokeh.palettes import *\n",
    "from bokeh.plotting import figure\n",
    "from bokeh.transform import cumsum\n",
    "from bokeh.models import LabelSet, ColumnDataSource\n",
    "from math import pi\n",
    "from collections import Counter\n",
    "output_notebook()"
   ]
  },
  {
   "cell_type": "markdown",
   "metadata": {},
   "source": [
    "### Leemos nuestro dataset y vemos la descripción de nuestro dataset"
   ]
  },
  {
   "cell_type": "code",
   "execution_count": 2,
   "metadata": {},
   "outputs": [
    {
     "name": "stdout",
     "output_type": "stream",
     "text": [
      "<class 'pandas.core.frame.DataFrame'>\n",
      "RangeIndex: 89 entries, 0 to 88\n",
      "Data columns (total 12 columns):\n",
      "Name                  89 non-null object\n",
      "Team                  89 non-null object\n",
      "Position              89 non-null object\n",
      "KDA Ratio             89 non-null float64\n",
      "Kills Total           89 non-null int64\n",
      "Deaths                89 non-null int64\n",
      "Assists               89 non-null int64\n",
      "Kill Participation    89 non-null float64\n",
      "CS Per Minute         89 non-null float64\n",
      "CS Total              89 non-null int64\n",
      "Minutes Played        89 non-null int64\n",
      "Games Played          89 non-null int64\n",
      "dtypes: float64(3), int64(6), object(3)\n",
      "memory usage: 8.5+ KB\n"
     ]
    }
   ],
   "source": [
    "data = pd.read_csv('lol.csv')\n",
    "data.info()"
   ]
  },
  {
   "cell_type": "markdown",
   "metadata": {},
   "source": [
    "### Nuestro dataset consiste de 12 columnas y 89 entradas, donde cada columna a partir de la tercera contiene estadisticas del desempeño del jugador en el mundial de League of Legends de 2018. Aunado a esto tenemos 89 enetradas, cada una representa un jugador distinto"
   ]
  },
  {
   "cell_type": "markdown",
   "metadata": {},
   "source": [
    "- ### 'Name' : Contiene el apodo del jugador\n",
    "- ### 'Team' : Contiene el equipo al que pertenece el jugador\n",
    "- ### 'Postion' : Contiene la posición/rol que juega el jugador\n",
    "- ### 'KDA Ration' : contiene la proporcion de 'kills'(asesinatos) y 'Assists'(asistencia de asesinatos) por cada 'Deaths'(muerte(s))\n",
    "- ### 'Kills Total' : Numero total de 'kills' obtenidas por el jugador\n",
    "- ### 'Deaths' : Numero total de 'deaths' que sufrio el jugador\n",
    "- ### 'Assists' : Numero total de 'assits' que obtuvo el jugador\n",
    "- ### 'Kill Participation' : Contiene un valor entre 0 y 1 que representa su participacion total en asesinatos tanto 'kills' como 'assists'\n",
    "- ### 'CS Per Minute' : Numero de subditos asesinados por minuto\n",
    "- ### 'CS Total' : Numero de subditos asesinados en total\n",
    "- ### 'Minutes played' : Minutos en total que jugo un participante\n",
    "- ### 'Games Played' : Numero total de juegos en los que participo"
   ]
  },
  {
   "cell_type": "markdown",
   "metadata": {},
   "source": [
    "### Ahora confirmaremos que nuestro dataset no tenga datos faltantes para saber que no necesitamos hacer mas preprocesamiento de datos y podemos continuar con el analisis"
   ]
  },
  {
   "cell_type": "code",
   "execution_count": 3,
   "metadata": {},
   "outputs": [
    {
     "data": {
      "text/plain": [
       "Name                  0\n",
       "Team                  0\n",
       "Position              0\n",
       "KDA Ratio             0\n",
       "Kills Total           0\n",
       "Deaths                0\n",
       "Assists               0\n",
       "Kill Participation    0\n",
       "CS Per Minute         0\n",
       "CS Total              0\n",
       "Minutes Played        0\n",
       "Games Played          0\n",
       "dtype: int64"
      ]
     },
     "execution_count": 3,
     "metadata": {},
     "output_type": "execute_result"
    }
   ],
   "source": [
    "data.isna().sum()"
   ]
  },
  {
   "cell_type": "markdown",
   "metadata": {},
   "source": [
    "### Ahora veremos las primeras entradas del dataset, de esta manera tendremos una mejor idea de como esta representado todo"
   ]
  },
  {
   "cell_type": "code",
   "execution_count": 4,
   "metadata": {},
   "outputs": [
    {
     "data": {
      "text/html": [
       "<div>\n",
       "<style scoped>\n",
       "    .dataframe tbody tr th:only-of-type {\n",
       "        vertical-align: middle;\n",
       "    }\n",
       "\n",
       "    .dataframe tbody tr th {\n",
       "        vertical-align: top;\n",
       "    }\n",
       "\n",
       "    .dataframe thead th {\n",
       "        text-align: right;\n",
       "    }\n",
       "</style>\n",
       "<table border=\"1\" class=\"dataframe\">\n",
       "  <thead>\n",
       "    <tr style=\"text-align: right;\">\n",
       "      <th></th>\n",
       "      <th>Name</th>\n",
       "      <th>Team</th>\n",
       "      <th>Position</th>\n",
       "      <th>KDA Ratio</th>\n",
       "      <th>Kills Total</th>\n",
       "      <th>Deaths</th>\n",
       "      <th>Assists</th>\n",
       "      <th>Kill Participation</th>\n",
       "      <th>CS Per Minute</th>\n",
       "      <th>CS Total</th>\n",
       "      <th>Minutes Played</th>\n",
       "      <th>Games Played</th>\n",
       "    </tr>\n",
       "  </thead>\n",
       "  <tbody>\n",
       "    <tr>\n",
       "      <th>0</th>\n",
       "      <td>Rekkles</td>\n",
       "      <td>FNC</td>\n",
       "      <td>ADC</td>\n",
       "      <td>13.7</td>\n",
       "      <td>28</td>\n",
       "      <td>6</td>\n",
       "      <td>54</td>\n",
       "      <td>0.73</td>\n",
       "      <td>10.8</td>\n",
       "      <td>2156</td>\n",
       "      <td>200</td>\n",
       "      <td>7</td>\n",
       "    </tr>\n",
       "    <tr>\n",
       "      <th>1</th>\n",
       "      <td>Mata</td>\n",
       "      <td>KT</td>\n",
       "      <td>Support</td>\n",
       "      <td>12.2</td>\n",
       "      <td>4</td>\n",
       "      <td>5</td>\n",
       "      <td>57</td>\n",
       "      <td>0.78</td>\n",
       "      <td>1.5</td>\n",
       "      <td>265</td>\n",
       "      <td>182</td>\n",
       "      <td>6</td>\n",
       "    </tr>\n",
       "    <tr>\n",
       "      <th>2</th>\n",
       "      <td>Broxah</td>\n",
       "      <td>FNC</td>\n",
       "      <td>Jungle</td>\n",
       "      <td>11.1</td>\n",
       "      <td>30</td>\n",
       "      <td>7</td>\n",
       "      <td>48</td>\n",
       "      <td>0.70</td>\n",
       "      <td>5.4</td>\n",
       "      <td>1072</td>\n",
       "      <td>200</td>\n",
       "      <td>7</td>\n",
       "    </tr>\n",
       "    <tr>\n",
       "      <th>3</th>\n",
       "      <td>Mowgli</td>\n",
       "      <td>AFS</td>\n",
       "      <td>Jungle</td>\n",
       "      <td>9.0</td>\n",
       "      <td>2</td>\n",
       "      <td>0</td>\n",
       "      <td>7</td>\n",
       "      <td>0.75</td>\n",
       "      <td>5.3</td>\n",
       "      <td>139</td>\n",
       "      <td>26</td>\n",
       "      <td>1</td>\n",
       "    </tr>\n",
       "    <tr>\n",
       "      <th>4</th>\n",
       "      <td>Uzi</td>\n",
       "      <td>RNG</td>\n",
       "      <td>ADC</td>\n",
       "      <td>8.8</td>\n",
       "      <td>33</td>\n",
       "      <td>8</td>\n",
       "      <td>37</td>\n",
       "      <td>0.66</td>\n",
       "      <td>10.8</td>\n",
       "      <td>2740</td>\n",
       "      <td>253</td>\n",
       "      <td>8</td>\n",
       "    </tr>\n",
       "  </tbody>\n",
       "</table>\n",
       "</div>"
      ],
      "text/plain": [
       "      Name Team Position  KDA Ratio  Kills Total  Deaths  Assists  \\\n",
       "0  Rekkles  FNC      ADC       13.7           28       6       54   \n",
       "1     Mata   KT  Support       12.2            4       5       57   \n",
       "2   Broxah  FNC   Jungle       11.1           30       7       48   \n",
       "3   Mowgli  AFS   Jungle        9.0            2       0        7   \n",
       "4      Uzi  RNG      ADC        8.8           33       8       37   \n",
       "\n",
       "   Kill Participation  CS Per Minute  CS Total  Minutes Played  Games Played  \n",
       "0                0.73           10.8      2156             200             7  \n",
       "1                0.78            1.5       265             182             6  \n",
       "2                0.70            5.4      1072             200             7  \n",
       "3                0.75            5.3       139              26             1  \n",
       "4                0.66           10.8      2740             253             8  "
      ]
     },
     "execution_count": 4,
     "metadata": {},
     "output_type": "execute_result"
    }
   ],
   "source": [
    "data.head()"
   ]
  },
  {
   "cell_type": "markdown",
   "metadata": {},
   "source": [
    "### Entonces ahora que sabemos que significa cada columna del dataset, sabemos que esta integra y hemos dado un pequeño vistazo a la información podemos iniciar por la información mas sencilla de obtener, iniciando por los mejores "
   ]
  },
  {
   "cell_type": "markdown",
   "metadata": {},
   "source": [
    "### Primero, cada equipo consta de 5 titulares y tiene derecho a tener un jugador suplente, por lo tanto cada equipo es de 5 integrantes mas un suplente, asi que vamos a ver que rol es el que mas representaciṕon tiene en el dataset"
   ]
  },
  {
   "cell_type": "code",
   "execution_count": 5,
   "metadata": {},
   "outputs": [
    {
     "data": {
      "text/plain": [
       "[('Jungle', 24), ('Top', 19), ('ADC', 16), ('Support', 15), ('Mid', 15)]"
      ]
     },
     "execution_count": 5,
     "metadata": {},
     "output_type": "execute_result"
    }
   ],
   "source": [
    "roles = list(data['Position'])\n",
    "roles_n = Counter(roles)\n",
    "roles_n.most_common()"
   ]
  },
  {
   "cell_type": "code",
   "execution_count": 6,
   "metadata": {},
   "outputs": [
    {
     "name": "stdout",
     "output_type": "stream",
     "text": [
      "{'Jungle': 24, 'Top': 19, 'ADC': 16, 'Support': 15, 'Mid': 15}\n"
     ]
    }
   ],
   "source": [
    "x = {}\n",
    "for i in range(len(roles_n)):\n",
    "    x[roles_n.most_common()[i][0]] = roles_n.most_common()[i][1]\n",
    "\n",
    "print(x)"
   ]
  },
  {
   "cell_type": "code",
   "execution_count": 119,
   "metadata": {},
   "outputs": [
    {
     "name": "stderr",
     "output_type": "stream",
     "text": [
      "BokehDeprecationWarning: 'legend' keyword is deprecated, use explicit 'legend_label', 'legend_field', or 'legend_group' keywords instead\n"
     ]
    },
    {
     "data": {
      "text/html": [
       "\n",
       "\n",
       "\n",
       "\n",
       "\n",
       "\n",
       "  <div class=\"bk-root\" id=\"83373806-f610-47fe-9827-5e08f851dbba\" data-root-id=\"19501\"></div>\n"
      ]
     },
     "metadata": {},
     "output_type": "display_data"
    },
    {
     "data": {
      "application/javascript": [
       "(function(root) {\n",
       "  function embed_document(root) {\n",
       "    \n",
       "  var docs_json = {\"5c90d4a0-8acf-4839-a2f0-3b8e7347b1e0\":{\"roots\":{\"references\":[{\"attributes\":{\"below\":[{\"id\":\"19512\",\"type\":\"LinearAxis\"}],\"center\":[{\"id\":\"19516\",\"type\":\"Grid\"},{\"id\":\"19521\",\"type\":\"Grid\"},{\"id\":\"19538\",\"type\":\"Legend\"},{\"id\":\"19542\",\"type\":\"LabelSet\"}],\"left\":[{\"id\":\"19517\",\"type\":\"LinearAxis\"}],\"plot_height\":400,\"renderers\":[{\"id\":\"19531\",\"type\":\"GlyphRenderer\"}],\"title\":{\"id\":\"19502\",\"type\":\"Title\"},\"toolbar\":{\"id\":\"19523\",\"type\":\"Toolbar\"},\"toolbar_location\":null,\"x_range\":{\"id\":\"19504\",\"type\":\"DataRange1d\"},\"x_scale\":{\"id\":\"19508\",\"type\":\"LinearScale\"},\"y_range\":{\"id\":\"19506\",\"type\":\"DataRange1d\"},\"y_scale\":{\"id\":\"19510\",\"type\":\"LinearScale\"}},\"id\":\"19501\",\"subtype\":\"Figure\",\"type\":\"Plot\"},{\"attributes\":{\"axis_label\":null,\"formatter\":{\"id\":\"19535\",\"type\":\"BasicTickFormatter\"},\"ticker\":{\"id\":\"19518\",\"type\":\"BasicTicker\"},\"visible\":false},\"id\":\"19517\",\"type\":\"LinearAxis\"},{\"attributes\":{\"angle\":{\"expr\":{\"id\":\"19541\",\"type\":\"CumSum\"},\"units\":\"rad\"},\"level\":\"glyph\",\"source\":{\"id\":\"19540\",\"type\":\"ColumnDataSource\"},\"text\":{\"field\":\"value\"},\"x\":{\"value\":0},\"y\":{\"value\":1}},\"id\":\"19542\",\"type\":\"LabelSet\"},{\"attributes\":{},\"id\":\"19518\",\"type\":\"BasicTicker\"},{\"attributes\":{\"dimension\":1,\"grid_line_color\":null,\"ticker\":{\"id\":\"19518\",\"type\":\"BasicTicker\"}},\"id\":\"19521\",\"type\":\"Grid\"},{\"attributes\":{\"active_drag\":\"auto\",\"active_inspect\":\"auto\",\"active_multi\":null,\"active_scroll\":\"auto\",\"active_tap\":\"auto\",\"tools\":[{\"id\":\"19522\",\"type\":\"HoverTool\"}]},\"id\":\"19523\",\"type\":\"Toolbar\"},{\"attributes\":{\"callback\":null,\"tooltips\":\"@role: @value\"},\"id\":\"19522\",\"type\":\"HoverTool\"},{\"attributes\":{\"field\":\"angle\"},\"id\":\"19526\",\"type\":\"CumSum\"},{\"attributes\":{\"callback\":null,\"data\":{\"angle\":{\"__ndarray__\":\"rHWodwYc+z8oXWXJL3b1P3NOcPquEvI/jEnJCoTx8D+MSckKhPHwPw==\",\"dtype\":\"float64\",\"shape\":[5]},\"color\":[\"#0C0786\",\"#7C02A7\",\"#CA4678\",\"#F79341\",\"#EFF821\"],\"index\":[0,1,2,3,4],\"role\":[\"Jungle\",\"Top\",\"ADC\",\"Support\",\"Mid\"],\"value\":[24,19,16,15,15]},\"selected\":{\"id\":\"20105\",\"type\":\"Selection\"},\"selection_policy\":{\"id\":\"20106\",\"type\":\"UnionRenderers\"}},\"id\":\"19527\",\"type\":\"ColumnDataSource\"},{\"attributes\":{\"field\":\"angle\",\"include_zero\":true},\"id\":\"19541\",\"type\":\"CumSum\"},{\"attributes\":{\"field\":\"angle\",\"include_zero\":true},\"id\":\"19525\",\"type\":\"CumSum\"},{\"attributes\":{\"label\":{\"field\":\"role\"},\"renderers\":[{\"id\":\"19531\",\"type\":\"GlyphRenderer\"}]},\"id\":\"19539\",\"type\":\"LegendItem\"},{\"attributes\":{\"callback\":null},\"id\":\"19504\",\"type\":\"DataRange1d\"},{\"attributes\":{\"data_source\":{\"id\":\"19527\",\"type\":\"ColumnDataSource\"},\"glyph\":{\"id\":\"19529\",\"type\":\"Wedge\"},\"hover_glyph\":null,\"muted_glyph\":null,\"nonselection_glyph\":{\"id\":\"19530\",\"type\":\"Wedge\"},\"selection_glyph\":null,\"view\":{\"id\":\"19532\",\"type\":\"CDSView\"}},\"id\":\"19531\",\"type\":\"GlyphRenderer\"},{\"attributes\":{},\"id\":\"20107\",\"type\":\"Selection\"},{\"attributes\":{\"end_angle\":{\"expr\":{\"id\":\"19526\",\"type\":\"CumSum\"},\"units\":\"rad\"},\"fill_color\":{\"field\":\"color\"},\"line_color\":{\"value\":\"white\"},\"radius\":{\"units\":\"data\",\"value\":0.45},\"start_angle\":{\"expr\":{\"id\":\"19525\",\"type\":\"CumSum\"},\"units\":\"rad\"},\"x\":{\"value\":0},\"y\":{\"value\":1}},\"id\":\"19529\",\"type\":\"Wedge\"},{\"attributes\":{\"items\":[{\"id\":\"19539\",\"type\":\"LegendItem\"}]},\"id\":\"19538\",\"type\":\"Legend\"},{\"attributes\":{\"source\":{\"id\":\"19527\",\"type\":\"ColumnDataSource\"}},\"id\":\"19532\",\"type\":\"CDSView\"},{\"attributes\":{\"text\":\"Numero de jugadores por posici\\u00f3n\"},\"id\":\"19502\",\"type\":\"Title\"},{\"attributes\":{},\"id\":\"20106\",\"type\":\"UnionRenderers\"},{\"attributes\":{},\"id\":\"19537\",\"type\":\"BasicTickFormatter\"},{\"attributes\":{\"callback\":null},\"id\":\"19506\",\"type\":\"DataRange1d\"},{\"attributes\":{},\"id\":\"19535\",\"type\":\"BasicTickFormatter\"},{\"attributes\":{\"end_angle\":{\"expr\":{\"id\":\"19526\",\"type\":\"CumSum\"},\"units\":\"rad\"},\"fill_alpha\":{\"value\":0.1},\"fill_color\":{\"value\":\"#1f77b4\"},\"line_alpha\":{\"value\":0.1},\"line_color\":{\"value\":\"#1f77b4\"},\"radius\":{\"units\":\"data\",\"value\":0.45},\"start_angle\":{\"expr\":{\"id\":\"19525\",\"type\":\"CumSum\"},\"units\":\"rad\"},\"x\":{\"value\":0},\"y\":{\"value\":1}},\"id\":\"19530\",\"type\":\"Wedge\"},{\"attributes\":{},\"id\":\"19508\",\"type\":\"LinearScale\"},{\"attributes\":{},\"id\":\"20108\",\"type\":\"UnionRenderers\"},{\"attributes\":{},\"id\":\"19510\",\"type\":\"LinearScale\"},{\"attributes\":{},\"id\":\"20105\",\"type\":\"Selection\"},{\"attributes\":{\"axis_label\":null,\"formatter\":{\"id\":\"19537\",\"type\":\"BasicTickFormatter\"},\"ticker\":{\"id\":\"19513\",\"type\":\"BasicTicker\"},\"visible\":false},\"id\":\"19512\",\"type\":\"LinearAxis\"},{\"attributes\":{},\"id\":\"19513\",\"type\":\"BasicTicker\"},{\"attributes\":{\"callback\":null,\"data\":{\"angle\":{\"__ndarray__\":\"rHWodwYc+z8oXWXJL3b1P3NOcPquEvI/jEnJCoTx8D+MSckKhPHwPw==\",\"dtype\":\"float64\",\"shape\":[5]},\"color\":[\"#0C0786\",\"#7C02A7\",\"#CA4678\",\"#F79341\",\"#EFF821\"],\"index\":[0,1,2,3,4],\"role\":[\"Jungle\",\"Top\",\"ADC\",\"Support\",\"Mid\"],\"value\":[\"                                 24\",\"                                 19\",\"                                 16\",\"                                 15\",\"                                 15\"]},\"selected\":{\"id\":\"20107\",\"type\":\"Selection\"},\"selection_policy\":{\"id\":\"20108\",\"type\":\"UnionRenderers\"}},\"id\":\"19540\",\"type\":\"ColumnDataSource\"},{\"attributes\":{\"grid_line_color\":null,\"ticker\":{\"id\":\"19513\",\"type\":\"BasicTicker\"}},\"id\":\"19516\",\"type\":\"Grid\"}],\"root_ids\":[\"19501\"]},\"title\":\"Bokeh Application\",\"version\":\"1.4.0\"}};\n",
       "  var render_items = [{\"docid\":\"5c90d4a0-8acf-4839-a2f0-3b8e7347b1e0\",\"roots\":{\"19501\":\"83373806-f610-47fe-9827-5e08f851dbba\"}}];\n",
       "  root.Bokeh.embed.embed_items_notebook(docs_json, render_items);\n",
       "\n",
       "  }\n",
       "  if (root.Bokeh !== undefined) {\n",
       "    embed_document(root);\n",
       "  } else {\n",
       "    var attempts = 0;\n",
       "    var timer = setInterval(function(root) {\n",
       "      if (root.Bokeh !== undefined) {\n",
       "        clearInterval(timer);\n",
       "        embed_document(root);\n",
       "      } else {\n",
       "        attempts++;\n",
       "        if (attempts > 100) {\n",
       "          clearInterval(timer);\n",
       "          console.log(\"Bokeh: ERROR: Unable to run BokehJS code because BokehJS library is missing\");\n",
       "        }\n",
       "      }\n",
       "    }, 10, root)\n",
       "  }\n",
       "})(window);"
      ],
      "application/vnd.bokehjs_exec.v0+json": ""
     },
     "metadata": {
      "application/vnd.bokehjs_exec.v0+json": {
       "id": "19501"
      }
     },
     "output_type": "display_data"
    }
   ],
   "source": [
    "data_pie = pd.Series(x).reset_index(name='value').rename(columns={'index':'role'})\n",
    "data_pie['angle'] = data_pie['value']/data_pie['value'].sum() * 2*pi\n",
    "data_pie['color'] = Plasma[len(x)]\n",
    "\n",
    "p = figure(plot_height=400, title=\"Numero de jugadores por posición\", toolbar_location=None,\n",
    "        tools=\"hover\", tooltips=\"@role: @value\")\n",
    "\n",
    "p.wedge(x=0, y=1, radius=0.45,\n",
    "        start_angle=cumsum('angle', include_zero=True), end_angle=cumsum('angle'),\n",
    "        line_color=\"white\", fill_color='color', legend='role', source=data_pie)\n",
    "\n",
    "data_pie[\"value\"] = data_pie['value'].astype(str)\n",
    "data_pie[\"value\"] = data_pie[\"value\"].str.pad(35, side = \"left\")\n",
    "source = ColumnDataSource(data_pie)\n",
    "\n",
    "labels = LabelSet(x=0, y=1, text='value', level='glyph',\n",
    "        angle=cumsum('angle', include_zero=True), source=source, render_mode='canvas')\n",
    "\n",
    "p.add_layout(labels)\n",
    "\n",
    "p.axis.axis_label=None\n",
    "p.axis.visible=False\n",
    "p.grid.grid_line_color = None\n",
    "\n",
    "show(p)"
   ]
  },
  {
   "cell_type": "code",
   "execution_count": 8,
   "metadata": {},
   "outputs": [
    {
     "name": "stdout",
     "output_type": "stream",
     "text": [
      "['Jungle', 'Top', 'ADC', 'Support', 'Mid'] [24, 19, 16, 15, 15]\n"
     ]
    }
   ],
   "source": [
    "roles_name = []\n",
    "roles_count = []\n",
    "for i in range(len(roles_n)):\n",
    "    roles_name.append(roles_n.most_common()[i][0])\n",
    "    roles_count.append(roles_n.most_common()[i][1])\n",
    "print(roles_name, roles_count)"
   ]
  },
  {
   "cell_type": "code",
   "execution_count": 9,
   "metadata": {},
   "outputs": [
    {
     "data": {
      "text/html": [
       "\n",
       "\n",
       "\n",
       "\n",
       "\n",
       "\n",
       "  <div class=\"bk-root\" id=\"7984caa3-5d97-48d8-bb20-bb9e2b27afdb\" data-root-id=\"1108\"></div>\n"
      ]
     },
     "metadata": {},
     "output_type": "display_data"
    },
    {
     "data": {
      "application/javascript": [
       "(function(root) {\n",
       "  function embed_document(root) {\n",
       "    \n",
       "  var docs_json = {\"8983a955-26ee-49df-bb19-c50ab6ff9b33\":{\"roots\":{\"references\":[{\"attributes\":{\"below\":[{\"id\":\"1119\",\"type\":\"CategoricalAxis\"}],\"center\":[{\"id\":\"1122\",\"type\":\"Grid\"},{\"id\":\"1127\",\"type\":\"Grid\"}],\"left\":[{\"id\":\"1123\",\"type\":\"LinearAxis\"}],\"plot_height\":250,\"renderers\":[{\"id\":\"1144\",\"type\":\"GlyphRenderer\"}],\"title\":{\"id\":\"1109\",\"type\":\"Title\"},\"toolbar\":{\"id\":\"1134\",\"type\":\"Toolbar\"},\"x_range\":{\"id\":\"1111\",\"type\":\"FactorRange\"},\"x_scale\":{\"id\":\"1115\",\"type\":\"CategoricalScale\"},\"y_range\":{\"id\":\"1113\",\"type\":\"DataRange1d\"},\"y_scale\":{\"id\":\"1117\",\"type\":\"LinearScale\"}},\"id\":\"1108\",\"subtype\":\"Figure\",\"type\":\"Plot\"},{\"attributes\":{\"source\":{\"id\":\"1141\",\"type\":\"ColumnDataSource\"}},\"id\":\"1145\",\"type\":\"CDSView\"},{\"attributes\":{},\"id\":\"1133\",\"type\":\"HelpTool\"},{\"attributes\":{},\"id\":\"1129\",\"type\":\"WheelZoomTool\"},{\"attributes\":{\"active_drag\":\"auto\",\"active_inspect\":\"auto\",\"active_multi\":null,\"active_scroll\":\"auto\",\"active_tap\":\"auto\",\"tools\":[{\"id\":\"1128\",\"type\":\"PanTool\"},{\"id\":\"1129\",\"type\":\"WheelZoomTool\"},{\"id\":\"1130\",\"type\":\"BoxZoomTool\"},{\"id\":\"1131\",\"type\":\"SaveTool\"},{\"id\":\"1132\",\"type\":\"ResetTool\"},{\"id\":\"1133\",\"type\":\"HelpTool\"}]},\"id\":\"1134\",\"type\":\"Toolbar\"},{\"attributes\":{},\"id\":\"1157\",\"type\":\"BasicTickFormatter\"},{\"attributes\":{\"formatter\":{\"id\":\"1157\",\"type\":\"BasicTickFormatter\"},\"ticker\":{\"id\":\"1124\",\"type\":\"BasicTicker\"}},\"id\":\"1123\",\"type\":\"LinearAxis\"},{\"attributes\":{},\"id\":\"1132\",\"type\":\"ResetTool\"},{\"attributes\":{\"dimension\":1,\"ticker\":{\"id\":\"1124\",\"type\":\"BasicTicker\"},\"visible\":false},\"id\":\"1127\",\"type\":\"Grid\"},{\"attributes\":{},\"id\":\"1128\",\"type\":\"PanTool\"},{\"attributes\":{},\"id\":\"1120\",\"type\":\"CategoricalTicker\"},{\"attributes\":{\"ticker\":{\"id\":\"1120\",\"type\":\"CategoricalTicker\"},\"visible\":false},\"id\":\"1122\",\"type\":\"Grid\"},{\"attributes\":{\"callback\":null,\"data\":{\"fill_color\":[\"#0C0786\",\"#7C02A7\",\"#CA4678\",\"#F79341\",\"#EFF821\"],\"line_color\":[\"#0C0786\",\"#7C02A7\",\"#CA4678\",\"#F79341\",\"#EFF821\"],\"top\":[24,19,16,15,15],\"x\":[\"Jungle\",\"Top\",\"ADC\",\"Support\",\"Mid\"]},\"selected\":{\"id\":\"1160\",\"type\":\"Selection\"},\"selection_policy\":{\"id\":\"1161\",\"type\":\"UnionRenderers\"}},\"id\":\"1141\",\"type\":\"ColumnDataSource\"},{\"attributes\":{\"overlay\":{\"id\":\"1162\",\"type\":\"BoxAnnotation\"}},\"id\":\"1130\",\"type\":\"BoxZoomTool\"},{\"attributes\":{\"bottom_units\":\"screen\",\"fill_alpha\":{\"value\":0.5},\"fill_color\":{\"value\":\"lightgrey\"},\"left_units\":\"screen\",\"level\":\"overlay\",\"line_alpha\":{\"value\":1.0},\"line_color\":{\"value\":\"black\"},\"line_dash\":[4,4],\"line_width\":{\"value\":2},\"render_mode\":\"css\",\"right_units\":\"screen\",\"top_units\":\"screen\"},\"id\":\"1162\",\"type\":\"BoxAnnotation\"},{\"attributes\":{\"text\":\"Numero de jugadores por posici\\u00f3n\"},\"id\":\"1109\",\"type\":\"Title\"},{\"attributes\":{},\"id\":\"1161\",\"type\":\"UnionRenderers\"},{\"attributes\":{\"fill_color\":{\"field\":\"fill_color\"},\"line_color\":{\"field\":\"line_color\"},\"top\":{\"field\":\"top\"},\"width\":{\"value\":0.9},\"x\":{\"field\":\"x\"}},\"id\":\"1142\",\"type\":\"VBar\"},{\"attributes\":{},\"id\":\"1131\",\"type\":\"SaveTool\"},{\"attributes\":{},\"id\":\"1159\",\"type\":\"CategoricalTickFormatter\"},{\"attributes\":{\"callback\":null},\"id\":\"1113\",\"type\":\"DataRange1d\"},{\"attributes\":{\"data_source\":{\"id\":\"1141\",\"type\":\"ColumnDataSource\"},\"glyph\":{\"id\":\"1142\",\"type\":\"VBar\"},\"hover_glyph\":null,\"muted_glyph\":null,\"nonselection_glyph\":{\"id\":\"1143\",\"type\":\"VBar\"},\"selection_glyph\":null,\"view\":{\"id\":\"1145\",\"type\":\"CDSView\"}},\"id\":\"1144\",\"type\":\"GlyphRenderer\"},{\"attributes\":{\"callback\":null,\"factors\":[\"Jungle\",\"Top\",\"ADC\",\"Support\",\"Mid\"]},\"id\":\"1111\",\"type\":\"FactorRange\"},{\"attributes\":{},\"id\":\"1124\",\"type\":\"BasicTicker\"},{\"attributes\":{},\"id\":\"1115\",\"type\":\"CategoricalScale\"},{\"attributes\":{\"fill_alpha\":{\"value\":0.1},\"fill_color\":{\"value\":\"#1f77b4\"},\"line_alpha\":{\"value\":0.1},\"line_color\":{\"value\":\"#1f77b4\"},\"top\":{\"field\":\"top\"},\"width\":{\"value\":0.9},\"x\":{\"field\":\"x\"}},\"id\":\"1143\",\"type\":\"VBar\"},{\"attributes\":{},\"id\":\"1160\",\"type\":\"Selection\"},{\"attributes\":{},\"id\":\"1117\",\"type\":\"LinearScale\"},{\"attributes\":{\"formatter\":{\"id\":\"1159\",\"type\":\"CategoricalTickFormatter\"},\"ticker\":{\"id\":\"1120\",\"type\":\"CategoricalTicker\"}},\"id\":\"1119\",\"type\":\"CategoricalAxis\"}],\"root_ids\":[\"1108\"]},\"title\":\"Bokeh Application\",\"version\":\"1.4.0\"}};\n",
       "  var render_items = [{\"docid\":\"8983a955-26ee-49df-bb19-c50ab6ff9b33\",\"roots\":{\"1108\":\"7984caa3-5d97-48d8-bb20-bb9e2b27afdb\"}}];\n",
       "  root.Bokeh.embed.embed_items_notebook(docs_json, render_items);\n",
       "\n",
       "  }\n",
       "  if (root.Bokeh !== undefined) {\n",
       "    embed_document(root);\n",
       "  } else {\n",
       "    var attempts = 0;\n",
       "    var timer = setInterval(function(root) {\n",
       "      if (root.Bokeh !== undefined) {\n",
       "        clearInterval(timer);\n",
       "        embed_document(root);\n",
       "      } else {\n",
       "        attempts++;\n",
       "        if (attempts > 100) {\n",
       "          clearInterval(timer);\n",
       "          console.log(\"Bokeh: ERROR: Unable to run BokehJS code because BokehJS library is missing\");\n",
       "        }\n",
       "      }\n",
       "    }, 10, root)\n",
       "  }\n",
       "})(window);"
      ],
      "application/vnd.bokehjs_exec.v0+json": ""
     },
     "metadata": {
      "application/vnd.bokehjs_exec.v0+json": {
       "id": "1108"
      }
     },
     "output_type": "display_data"
    }
   ],
   "source": [
    "p1 = figure(x_range = roles_name, plot_height=250, title=\"Numero de jugadores por posición\")\n",
    "p1.vbar(x = roles_name, top = roles_count, width = 0.9, color = Plasma[5])\n",
    "p1.xgrid.visible = False\n",
    "p1.ygrid.visible = False\n",
    "show(p1)"
   ]
  },
  {
   "cell_type": "markdown",
   "metadata": {},
   "source": [
    "### En esta grafica tenemos información muy importante, quiza no sea apreciable dado que la base de una posición es 15, asi que como complemento antes de analisar grafiquemos nuevamente, pero quitando los 15 jugadores base"
   ]
  },
  {
   "cell_type": "code",
   "execution_count": 10,
   "metadata": {},
   "outputs": [
    {
     "name": "stdout",
     "output_type": "stream",
     "text": [
      "{'Jungle': 8, 'Top': 3}\n"
     ]
    }
   ],
   "source": [
    "x_pie2 = {}\n",
    "for i in range(2):\n",
    "    x_pie2[roles_name[i]] = roles_count[i] - 16\n",
    "print(x_pie2)"
   ]
  },
  {
   "cell_type": "code",
   "execution_count": 11,
   "metadata": {},
   "outputs": [
    {
     "name": "stderr",
     "output_type": "stream",
     "text": [
      "BokehDeprecationWarning: 'legend' keyword is deprecated, use explicit 'legend_label', 'legend_field', or 'legend_group' keywords instead\n"
     ]
    },
    {
     "data": {
      "text/html": [
       "\n",
       "\n",
       "\n",
       "\n",
       "\n",
       "\n",
       "  <div class=\"bk-root\" id=\"ea844f8e-aad2-4ea9-8773-5f50fe4d2ee8\" data-root-id=\"1211\"></div>\n"
      ]
     },
     "metadata": {},
     "output_type": "display_data"
    },
    {
     "data": {
      "application/javascript": [
       "(function(root) {\n",
       "  function embed_document(root) {\n",
       "    \n",
       "  var docs_json = {\"7df87968-6896-4887-863a-175b8a8eb734\":{\"roots\":{\"references\":[{\"attributes\":{\"below\":[{\"id\":\"1222\",\"type\":\"LinearAxis\"}],\"center\":[{\"id\":\"1226\",\"type\":\"Grid\"},{\"id\":\"1231\",\"type\":\"Grid\"},{\"id\":\"1248\",\"type\":\"Legend\"},{\"id\":\"1252\",\"type\":\"LabelSet\"}],\"left\":[{\"id\":\"1227\",\"type\":\"LinearAxis\"}],\"plot_height\":350,\"renderers\":[{\"id\":\"1241\",\"type\":\"GlyphRenderer\"}],\"title\":{\"id\":\"1212\",\"type\":\"Title\"},\"toolbar\":{\"id\":\"1233\",\"type\":\"Toolbar\"},\"toolbar_location\":null,\"x_range\":{\"id\":\"1214\",\"type\":\"DataRange1d\"},\"x_scale\":{\"id\":\"1218\",\"type\":\"LinearScale\"},\"y_range\":{\"id\":\"1216\",\"type\":\"DataRange1d\"},\"y_scale\":{\"id\":\"1220\",\"type\":\"LinearScale\"}},\"id\":\"1211\",\"subtype\":\"Figure\",\"type\":\"Plot\"},{\"attributes\":{\"data_source\":{\"id\":\"1237\",\"type\":\"ColumnDataSource\"},\"glyph\":{\"id\":\"1239\",\"type\":\"Wedge\"},\"hover_glyph\":null,\"muted_glyph\":null,\"nonselection_glyph\":{\"id\":\"1240\",\"type\":\"Wedge\"},\"selection_glyph\":null,\"view\":{\"id\":\"1242\",\"type\":\"CDSView\"}},\"id\":\"1241\",\"type\":\"GlyphRenderer\"},{\"attributes\":{\"callback\":null},\"id\":\"1216\",\"type\":\"DataRange1d\"},{\"attributes\":{\"end_angle\":{\"expr\":{\"id\":\"1236\",\"type\":\"CumSum\"},\"units\":\"rad\"},\"fill_color\":{\"field\":\"color\"},\"line_color\":{\"value\":\"white\"},\"radius\":{\"units\":\"data\",\"value\":0.45},\"start_angle\":{\"expr\":{\"id\":\"1235\",\"type\":\"CumSum\"},\"units\":\"rad\"},\"x\":{\"value\":0},\"y\":{\"value\":1}},\"id\":\"1239\",\"type\":\"Wedge\"},{\"attributes\":{\"axis_label\":null,\"formatter\":{\"id\":\"1247\",\"type\":\"BasicTickFormatter\"},\"ticker\":{\"id\":\"1223\",\"type\":\"BasicTicker\"},\"visible\":false},\"id\":\"1222\",\"type\":\"LinearAxis\"},{\"attributes\":{},\"id\":\"1220\",\"type\":\"LinearScale\"},{\"attributes\":{\"source\":{\"id\":\"1237\",\"type\":\"ColumnDataSource\"}},\"id\":\"1242\",\"type\":\"CDSView\"},{\"attributes\":{},\"id\":\"1245\",\"type\":\"BasicTickFormatter\"},{\"attributes\":{},\"id\":\"1247\",\"type\":\"BasicTickFormatter\"},{\"attributes\":{\"items\":[{\"id\":\"1249\",\"type\":\"LegendItem\"}]},\"id\":\"1248\",\"type\":\"Legend\"},{\"attributes\":{},\"id\":\"1218\",\"type\":\"LinearScale\"},{\"attributes\":{\"label\":{\"field\":\"role\"},\"renderers\":[{\"id\":\"1241\",\"type\":\"GlyphRenderer\"}]},\"id\":\"1249\",\"type\":\"LegendItem\"},{\"attributes\":{\"text\":\"Suplentes por rol\"},\"id\":\"1212\",\"type\":\"Title\"},{\"attributes\":{\"grid_line_color\":null,\"ticker\":{\"id\":\"1223\",\"type\":\"BasicTicker\"}},\"id\":\"1226\",\"type\":\"Grid\"},{\"attributes\":{\"axis_label\":null,\"formatter\":{\"id\":\"1245\",\"type\":\"BasicTickFormatter\"},\"ticker\":{\"id\":\"1228\",\"type\":\"BasicTicker\"},\"visible\":false},\"id\":\"1227\",\"type\":\"LinearAxis\"},{\"attributes\":{\"field\":\"angle\",\"include_zero\":true},\"id\":\"1251\",\"type\":\"CumSum\"},{\"attributes\":{\"callback\":null},\"id\":\"1214\",\"type\":\"DataRange1d\"},{\"attributes\":{},\"id\":\"1277\",\"type\":\"UnionRenderers\"},{\"attributes\":{\"field\":\"angle\",\"include_zero\":true},\"id\":\"1235\",\"type\":\"CumSum\"},{\"attributes\":{},\"id\":\"1228\",\"type\":\"BasicTicker\"},{\"attributes\":{\"dimension\":1,\"grid_line_color\":null,\"ticker\":{\"id\":\"1228\",\"type\":\"BasicTicker\"}},\"id\":\"1231\",\"type\":\"Grid\"},{\"attributes\":{},\"id\":\"1223\",\"type\":\"BasicTicker\"},{\"attributes\":{},\"id\":\"1279\",\"type\":\"UnionRenderers\"},{\"attributes\":{},\"id\":\"1278\",\"type\":\"Selection\"},{\"attributes\":{\"active_drag\":\"auto\",\"active_inspect\":\"auto\",\"active_multi\":null,\"active_scroll\":\"auto\",\"active_tap\":\"auto\",\"tools\":[{\"id\":\"1232\",\"type\":\"HoverTool\"}]},\"id\":\"1233\",\"type\":\"Toolbar\"},{\"attributes\":{\"angle\":{\"expr\":{\"id\":\"1251\",\"type\":\"CumSum\"},\"units\":\"rad\"},\"level\":\"glyph\",\"source\":{\"id\":\"1250\",\"type\":\"ColumnDataSource\"},\"text\":{\"field\":\"value\"},\"x\":{\"value\":0},\"y\":{\"value\":1}},\"id\":\"1252\",\"type\":\"LabelSet\"},{\"attributes\":{\"callback\":null,\"data\":{\"angle\":{\"__ndarray__\":\"433Ua0JHEkDUvL6h42r7Pw==\",\"dtype\":\"float64\",\"shape\":[2]},\"color\":[\"#000003\",\"#FBFCBF\"],\"index\":[0,1],\"role\":[\"Jungle\",\"Top\"],\"value\":[\"                                  8\",\"                                  3\"]},\"selected\":{\"id\":\"1278\",\"type\":\"Selection\"},\"selection_policy\":{\"id\":\"1279\",\"type\":\"UnionRenderers\"}},\"id\":\"1250\",\"type\":\"ColumnDataSource\"},{\"attributes\":{\"callback\":null,\"tooltips\":\"@role: @value\"},\"id\":\"1232\",\"type\":\"HoverTool\"},{\"attributes\":{\"field\":\"angle\"},\"id\":\"1236\",\"type\":\"CumSum\"},{\"attributes\":{},\"id\":\"1276\",\"type\":\"Selection\"},{\"attributes\":{\"callback\":null,\"data\":{\"angle\":{\"__ndarray__\":\"433Ua0JHEkDUvL6h42r7Pw==\",\"dtype\":\"float64\",\"shape\":[2]},\"color\":[\"#000003\",\"#FBFCBF\"],\"index\":[0,1],\"role\":[\"Jungle\",\"Top\"],\"value\":[8,3]},\"selected\":{\"id\":\"1276\",\"type\":\"Selection\"},\"selection_policy\":{\"id\":\"1277\",\"type\":\"UnionRenderers\"}},\"id\":\"1237\",\"type\":\"ColumnDataSource\"},{\"attributes\":{\"end_angle\":{\"expr\":{\"id\":\"1236\",\"type\":\"CumSum\"},\"units\":\"rad\"},\"fill_alpha\":{\"value\":0.1},\"fill_color\":{\"value\":\"#1f77b4\"},\"line_alpha\":{\"value\":0.1},\"line_color\":{\"value\":\"#1f77b4\"},\"radius\":{\"units\":\"data\",\"value\":0.45},\"start_angle\":{\"expr\":{\"id\":\"1235\",\"type\":\"CumSum\"},\"units\":\"rad\"},\"x\":{\"value\":0},\"y\":{\"value\":1}},\"id\":\"1240\",\"type\":\"Wedge\"}],\"root_ids\":[\"1211\"]},\"title\":\"Bokeh Application\",\"version\":\"1.4.0\"}};\n",
       "  var render_items = [{\"docid\":\"7df87968-6896-4887-863a-175b8a8eb734\",\"roots\":{\"1211\":\"ea844f8e-aad2-4ea9-8773-5f50fe4d2ee8\"}}];\n",
       "  root.Bokeh.embed.embed_items_notebook(docs_json, render_items);\n",
       "\n",
       "  }\n",
       "  if (root.Bokeh !== undefined) {\n",
       "    embed_document(root);\n",
       "  } else {\n",
       "    var attempts = 0;\n",
       "    var timer = setInterval(function(root) {\n",
       "      if (root.Bokeh !== undefined) {\n",
       "        clearInterval(timer);\n",
       "        embed_document(root);\n",
       "      } else {\n",
       "        attempts++;\n",
       "        if (attempts > 100) {\n",
       "          clearInterval(timer);\n",
       "          console.log(\"Bokeh: ERROR: Unable to run BokehJS code because BokehJS library is missing\");\n",
       "        }\n",
       "      }\n",
       "    }, 10, root)\n",
       "  }\n",
       "})(window);"
      ],
      "application/vnd.bokehjs_exec.v0+json": ""
     },
     "metadata": {
      "application/vnd.bokehjs_exec.v0+json": {
       "id": "1211"
      }
     },
     "output_type": "display_data"
    }
   ],
   "source": [
    "data_pie = pd.Series(x_pie2).reset_index(name='value').rename(columns={'index':'role'})\n",
    "data_pie['angle'] = data_pie['value']/data_pie['value'].sum() * 2*pi\n",
    "data_pie['color'] = magma(2)\n",
    "\n",
    "p_pie2 = figure(plot_height=350, title=\"Suplentes por rol\", toolbar_location=None,\n",
    "        tools=\"hover\", tooltips=\"@role: @value\")\n",
    "\n",
    "p_pie2.wedge(x=0, y=1, radius=0.45,\n",
    "        start_angle=cumsum('angle', include_zero=True), end_angle=cumsum('angle'),\n",
    "        line_color=\"white\", fill_color='color', legend='role', source=data_pie)\n",
    "\n",
    "data_pie[\"value\"] = data_pie['value'].astype(str)\n",
    "data_pie[\"value\"] = data_pie[\"value\"].str.pad(35, side = \"left\")\n",
    "source = ColumnDataSource(data_pie)\n",
    "\n",
    "labels = LabelSet(x=0, y=1, text='value', level='glyph',\n",
    "        angle=cumsum('angle', include_zero=True), source=source, render_mode='canvas')\n",
    "\n",
    "p_pie2.add_layout(labels)\n",
    "\n",
    "p_pie2.axis.axis_label=None\n",
    "p_pie2.axis.visible=False\n",
    "p_pie2.grid.grid_line_color = None\n",
    "\n",
    "show(p_pie2)"
   ]
  },
  {
   "cell_type": "code",
   "execution_count": 12,
   "metadata": {},
   "outputs": [
    {
     "data": {
      "text/plain": [
       "[9, 4, 1, 0, 0]"
      ]
     },
     "execution_count": 12,
     "metadata": {},
     "output_type": "execute_result"
    }
   ],
   "source": [
    "roles_subs = []\n",
    "for i in range(len(roles_count)):\n",
    "    roles_subs.append(roles_count[i] - 15)\n",
    "roles_subs"
   ]
  },
  {
   "cell_type": "code",
   "execution_count": 13,
   "metadata": {},
   "outputs": [
    {
     "data": {
      "text/html": [
       "\n",
       "\n",
       "\n",
       "\n",
       "\n",
       "\n",
       "  <div class=\"bk-root\" id=\"7fa3e692-5ece-4ac6-9745-4b9d29aee388\" data-root-id=\"1393\"></div>\n"
      ]
     },
     "metadata": {},
     "output_type": "display_data"
    },
    {
     "data": {
      "application/javascript": [
       "(function(root) {\n",
       "  function embed_document(root) {\n",
       "    \n",
       "  var docs_json = {\"f258113c-d6d3-4674-a845-7b3934d4e6db\":{\"roots\":{\"references\":[{\"attributes\":{\"children\":[{\"id\":\"1390\",\"type\":\"GridBox\"},{\"id\":\"1392\",\"type\":\"ToolbarBox\"}]},\"id\":\"1393\",\"type\":\"Row\"},{\"attributes\":{\"source\":{\"id\":\"1141\",\"type\":\"ColumnDataSource\"}},\"id\":\"1145\",\"type\":\"CDSView\"},{\"attributes\":{},\"id\":\"1133\",\"type\":\"HelpTool\"},{\"attributes\":{\"ticker\":{\"id\":\"1346\",\"type\":\"CategoricalTicker\"},\"visible\":false},\"id\":\"1348\",\"type\":\"Grid\"},{\"attributes\":{\"text\":\"Numero de suplentes por posici\\u00f3n\"},\"id\":\"1335\",\"type\":\"Title\"},{\"attributes\":{\"callback\":null,\"data\":{\"fill_color\":[\"#0C0786\",\"#7C02A7\",\"#CA4678\",\"#F79341\",\"#EFF821\"],\"line_color\":[\"#0C0786\",\"#7C02A7\",\"#CA4678\",\"#F79341\",\"#EFF821\"],\"top\":[9,4,1,0,0],\"x\":[\"Jungle\",\"Top\",\"ADC\",\"Support\",\"Mid\"]},\"selected\":{\"id\":\"1386\",\"type\":\"Selection\"},\"selection_policy\":{\"id\":\"1387\",\"type\":\"UnionRenderers\"}},\"id\":\"1367\",\"type\":\"ColumnDataSource\"},{\"attributes\":{},\"id\":\"1129\",\"type\":\"WheelZoomTool\"},{\"attributes\":{\"active_drag\":\"auto\",\"active_inspect\":\"auto\",\"active_multi\":null,\"active_scroll\":\"auto\",\"active_tap\":\"auto\",\"tools\":[{\"id\":\"1128\",\"type\":\"PanTool\"},{\"id\":\"1129\",\"type\":\"WheelZoomTool\"},{\"id\":\"1130\",\"type\":\"BoxZoomTool\"},{\"id\":\"1131\",\"type\":\"SaveTool\"},{\"id\":\"1132\",\"type\":\"ResetTool\"},{\"id\":\"1133\",\"type\":\"HelpTool\"}]},\"id\":\"1134\",\"type\":\"Toolbar\"},{\"attributes\":{},\"id\":\"1343\",\"type\":\"LinearScale\"},{\"attributes\":{},\"id\":\"1354\",\"type\":\"PanTool\"},{\"attributes\":{\"dimension\":1,\"ticker\":{\"id\":\"1350\",\"type\":\"BasicTicker\"},\"visible\":false},\"id\":\"1353\",\"type\":\"Grid\"},{\"attributes\":{},\"id\":\"1157\",\"type\":\"BasicTickFormatter\"},{\"attributes\":{},\"id\":\"1350\",\"type\":\"BasicTicker\"},{\"attributes\":{\"formatter\":{\"id\":\"1157\",\"type\":\"BasicTickFormatter\"},\"ticker\":{\"id\":\"1124\",\"type\":\"BasicTicker\"}},\"id\":\"1123\",\"type\":\"LinearAxis\"},{\"attributes\":{},\"id\":\"1385\",\"type\":\"CategoricalTickFormatter\"},{\"attributes\":{},\"id\":\"1132\",\"type\":\"ResetTool\"},{\"attributes\":{},\"id\":\"1386\",\"type\":\"Selection\"},{\"attributes\":{\"callback\":null},\"id\":\"1339\",\"type\":\"DataRange1d\"},{\"attributes\":{\"formatter\":{\"id\":\"1385\",\"type\":\"CategoricalTickFormatter\"},\"ticker\":{\"id\":\"1346\",\"type\":\"CategoricalTicker\"}},\"id\":\"1345\",\"type\":\"CategoricalAxis\"},{\"attributes\":{\"dimension\":1,\"ticker\":{\"id\":\"1124\",\"type\":\"BasicTicker\"},\"visible\":false},\"id\":\"1127\",\"type\":\"Grid\"},{\"attributes\":{},\"id\":\"1355\",\"type\":\"WheelZoomTool\"},{\"attributes\":{\"formatter\":{\"id\":\"1383\",\"type\":\"BasicTickFormatter\"},\"ticker\":{\"id\":\"1350\",\"type\":\"BasicTicker\"}},\"id\":\"1349\",\"type\":\"LinearAxis\"},{\"attributes\":{},\"id\":\"1128\",\"type\":\"PanTool\"},{\"attributes\":{},\"id\":\"1357\",\"type\":\"SaveTool\"},{\"attributes\":{},\"id\":\"1359\",\"type\":\"HelpTool\"},{\"attributes\":{},\"id\":\"1358\",\"type\":\"ResetTool\"},{\"attributes\":{},\"id\":\"1120\",\"type\":\"CategoricalTicker\"},{\"attributes\":{},\"id\":\"1383\",\"type\":\"BasicTickFormatter\"},{\"attributes\":{\"overlay\":{\"id\":\"1388\",\"type\":\"BoxAnnotation\"}},\"id\":\"1356\",\"type\":\"BoxZoomTool\"},{\"attributes\":{\"ticker\":{\"id\":\"1120\",\"type\":\"CategoricalTicker\"},\"visible\":false},\"id\":\"1122\",\"type\":\"Grid\"},{\"attributes\":{\"callback\":null,\"data\":{\"fill_color\":[\"#0C0786\",\"#7C02A7\",\"#CA4678\",\"#F79341\",\"#EFF821\"],\"line_color\":[\"#0C0786\",\"#7C02A7\",\"#CA4678\",\"#F79341\",\"#EFF821\"],\"top\":[24,19,16,15,15],\"x\":[\"Jungle\",\"Top\",\"ADC\",\"Support\",\"Mid\"]},\"selected\":{\"id\":\"1160\",\"type\":\"Selection\"},\"selection_policy\":{\"id\":\"1161\",\"type\":\"UnionRenderers\"}},\"id\":\"1141\",\"type\":\"ColumnDataSource\"},{\"attributes\":{\"children\":[[{\"id\":\"1108\",\"subtype\":\"Figure\",\"type\":\"Plot\"},0,0],[{\"id\":\"1334\",\"subtype\":\"Figure\",\"type\":\"Plot\"},0,1]]},\"id\":\"1390\",\"type\":\"GridBox\"},{\"attributes\":{\"below\":[{\"id\":\"1119\",\"type\":\"CategoricalAxis\"}],\"center\":[{\"id\":\"1122\",\"type\":\"Grid\"},{\"id\":\"1127\",\"type\":\"Grid\"}],\"left\":[{\"id\":\"1123\",\"type\":\"LinearAxis\"}],\"plot_height\":250,\"renderers\":[{\"id\":\"1144\",\"type\":\"GlyphRenderer\"}],\"title\":{\"id\":\"1109\",\"type\":\"Title\"},\"toolbar\":{\"id\":\"1134\",\"type\":\"Toolbar\"},\"toolbar_location\":null,\"x_range\":{\"id\":\"1111\",\"type\":\"FactorRange\"},\"x_scale\":{\"id\":\"1115\",\"type\":\"CategoricalScale\"},\"y_range\":{\"id\":\"1113\",\"type\":\"DataRange1d\"},\"y_scale\":{\"id\":\"1117\",\"type\":\"LinearScale\"}},\"id\":\"1108\",\"subtype\":\"Figure\",\"type\":\"Plot\"},{\"attributes\":{\"fill_alpha\":{\"value\":0.1},\"fill_color\":{\"value\":\"#1f77b4\"},\"line_alpha\":{\"value\":0.1},\"line_color\":{\"value\":\"#1f77b4\"},\"top\":{\"field\":\"top\"},\"width\":{\"value\":0.9},\"x\":{\"field\":\"x\"}},\"id\":\"1369\",\"type\":\"VBar\"},{\"attributes\":{\"overlay\":{\"id\":\"1162\",\"type\":\"BoxAnnotation\"}},\"id\":\"1130\",\"type\":\"BoxZoomTool\"},{\"attributes\":{\"bottom_units\":\"screen\",\"fill_alpha\":{\"value\":0.5},\"fill_color\":{\"value\":\"lightgrey\"},\"left_units\":\"screen\",\"level\":\"overlay\",\"line_alpha\":{\"value\":1.0},\"line_color\":{\"value\":\"black\"},\"line_dash\":[4,4],\"line_width\":{\"value\":2},\"render_mode\":\"css\",\"right_units\":\"screen\",\"top_units\":\"screen\"},\"id\":\"1162\",\"type\":\"BoxAnnotation\"},{\"attributes\":{\"text\":\"Numero de jugadores por posici\\u00f3n\"},\"id\":\"1109\",\"type\":\"Title\"},{\"attributes\":{\"data_source\":{\"id\":\"1367\",\"type\":\"ColumnDataSource\"},\"glyph\":{\"id\":\"1368\",\"type\":\"VBar\"},\"hover_glyph\":null,\"muted_glyph\":null,\"nonselection_glyph\":{\"id\":\"1369\",\"type\":\"VBar\"},\"selection_glyph\":null,\"view\":{\"id\":\"1371\",\"type\":\"CDSView\"}},\"id\":\"1370\",\"type\":\"GlyphRenderer\"},{\"attributes\":{},\"id\":\"1161\",\"type\":\"UnionRenderers\"},{\"attributes\":{\"fill_color\":{\"field\":\"fill_color\"},\"line_color\":{\"field\":\"line_color\"},\"top\":{\"field\":\"top\"},\"width\":{\"value\":0.9},\"x\":{\"field\":\"x\"}},\"id\":\"1142\",\"type\":\"VBar\"},{\"attributes\":{\"source\":{\"id\":\"1367\",\"type\":\"ColumnDataSource\"}},\"id\":\"1371\",\"type\":\"CDSView\"},{\"attributes\":{},\"id\":\"1131\",\"type\":\"SaveTool\"},{\"attributes\":{\"callback\":null,\"factors\":[\"Jungle\",\"Top\",\"ADC\",\"Support\",\"Mid\"]},\"id\":\"1337\",\"type\":\"FactorRange\"},{\"attributes\":{\"callback\":null},\"id\":\"1113\",\"type\":\"DataRange1d\"},{\"attributes\":{},\"id\":\"1159\",\"type\":\"CategoricalTickFormatter\"},{\"attributes\":{\"below\":[{\"id\":\"1345\",\"type\":\"CategoricalAxis\"}],\"center\":[{\"id\":\"1348\",\"type\":\"Grid\"},{\"id\":\"1353\",\"type\":\"Grid\"}],\"left\":[{\"id\":\"1349\",\"type\":\"LinearAxis\"}],\"plot_height\":250,\"renderers\":[{\"id\":\"1370\",\"type\":\"GlyphRenderer\"}],\"title\":{\"id\":\"1335\",\"type\":\"Title\"},\"toolbar\":{\"id\":\"1360\",\"type\":\"Toolbar\"},\"toolbar_location\":null,\"x_range\":{\"id\":\"1337\",\"type\":\"FactorRange\"},\"x_scale\":{\"id\":\"1341\",\"type\":\"CategoricalScale\"},\"y_range\":{\"id\":\"1339\",\"type\":\"DataRange1d\"},\"y_scale\":{\"id\":\"1343\",\"type\":\"LinearScale\"}},\"id\":\"1334\",\"subtype\":\"Figure\",\"type\":\"Plot\"},{\"attributes\":{\"fill_color\":{\"field\":\"fill_color\"},\"line_color\":{\"field\":\"line_color\"},\"top\":{\"field\":\"top\"},\"width\":{\"value\":0.9},\"x\":{\"field\":\"x\"}},\"id\":\"1368\",\"type\":\"VBar\"},{\"attributes\":{\"toolbar\":{\"id\":\"1391\",\"type\":\"ProxyToolbar\"}},\"id\":\"1392\",\"type\":\"ToolbarBox\"},{\"attributes\":{\"data_source\":{\"id\":\"1141\",\"type\":\"ColumnDataSource\"},\"glyph\":{\"id\":\"1142\",\"type\":\"VBar\"},\"hover_glyph\":null,\"muted_glyph\":null,\"nonselection_glyph\":{\"id\":\"1143\",\"type\":\"VBar\"},\"selection_glyph\":null,\"view\":{\"id\":\"1145\",\"type\":\"CDSView\"}},\"id\":\"1144\",\"type\":\"GlyphRenderer\"},{\"attributes\":{\"callback\":null,\"factors\":[\"Jungle\",\"Top\",\"ADC\",\"Support\",\"Mid\"]},\"id\":\"1111\",\"type\":\"FactorRange\"},{\"attributes\":{},\"id\":\"1341\",\"type\":\"CategoricalScale\"},{\"attributes\":{},\"id\":\"1124\",\"type\":\"BasicTicker\"},{\"attributes\":{},\"id\":\"1346\",\"type\":\"CategoricalTicker\"},{\"attributes\":{},\"id\":\"1160\",\"type\":\"Selection\"},{\"attributes\":{},\"id\":\"1115\",\"type\":\"CategoricalScale\"},{\"attributes\":{\"fill_alpha\":{\"value\":0.1},\"fill_color\":{\"value\":\"#1f77b4\"},\"line_alpha\":{\"value\":0.1},\"line_color\":{\"value\":\"#1f77b4\"},\"top\":{\"field\":\"top\"},\"width\":{\"value\":0.9},\"x\":{\"field\":\"x\"}},\"id\":\"1143\",\"type\":\"VBar\"},{\"attributes\":{\"tools\":[{\"id\":\"1128\",\"type\":\"PanTool\"},{\"id\":\"1129\",\"type\":\"WheelZoomTool\"},{\"id\":\"1130\",\"type\":\"BoxZoomTool\"},{\"id\":\"1131\",\"type\":\"SaveTool\"},{\"id\":\"1132\",\"type\":\"ResetTool\"},{\"id\":\"1133\",\"type\":\"HelpTool\"},{\"id\":\"1354\",\"type\":\"PanTool\"},{\"id\":\"1355\",\"type\":\"WheelZoomTool\"},{\"id\":\"1356\",\"type\":\"BoxZoomTool\"},{\"id\":\"1357\",\"type\":\"SaveTool\"},{\"id\":\"1358\",\"type\":\"ResetTool\"},{\"id\":\"1359\",\"type\":\"HelpTool\"}]},\"id\":\"1391\",\"type\":\"ProxyToolbar\"},{\"attributes\":{},\"id\":\"1387\",\"type\":\"UnionRenderers\"},{\"attributes\":{\"active_drag\":\"auto\",\"active_inspect\":\"auto\",\"active_multi\":null,\"active_scroll\":\"auto\",\"active_tap\":\"auto\",\"tools\":[{\"id\":\"1354\",\"type\":\"PanTool\"},{\"id\":\"1355\",\"type\":\"WheelZoomTool\"},{\"id\":\"1356\",\"type\":\"BoxZoomTool\"},{\"id\":\"1357\",\"type\":\"SaveTool\"},{\"id\":\"1358\",\"type\":\"ResetTool\"},{\"id\":\"1359\",\"type\":\"HelpTool\"}]},\"id\":\"1360\",\"type\":\"Toolbar\"},{\"attributes\":{},\"id\":\"1117\",\"type\":\"LinearScale\"},{\"attributes\":{\"bottom_units\":\"screen\",\"fill_alpha\":{\"value\":0.5},\"fill_color\":{\"value\":\"lightgrey\"},\"left_units\":\"screen\",\"level\":\"overlay\",\"line_alpha\":{\"value\":1.0},\"line_color\":{\"value\":\"black\"},\"line_dash\":[4,4],\"line_width\":{\"value\":2},\"render_mode\":\"css\",\"right_units\":\"screen\",\"top_units\":\"screen\"},\"id\":\"1388\",\"type\":\"BoxAnnotation\"},{\"attributes\":{\"formatter\":{\"id\":\"1159\",\"type\":\"CategoricalTickFormatter\"},\"ticker\":{\"id\":\"1120\",\"type\":\"CategoricalTicker\"}},\"id\":\"1119\",\"type\":\"CategoricalAxis\"}],\"root_ids\":[\"1393\"]},\"title\":\"Bokeh Application\",\"version\":\"1.4.0\"}};\n",
       "  var render_items = [{\"docid\":\"f258113c-d6d3-4674-a845-7b3934d4e6db\",\"roots\":{\"1393\":\"7fa3e692-5ece-4ac6-9745-4b9d29aee388\"}}];\n",
       "  root.Bokeh.embed.embed_items_notebook(docs_json, render_items);\n",
       "\n",
       "  }\n",
       "  if (root.Bokeh !== undefined) {\n",
       "    embed_document(root);\n",
       "  } else {\n",
       "    var attempts = 0;\n",
       "    var timer = setInterval(function(root) {\n",
       "      if (root.Bokeh !== undefined) {\n",
       "        clearInterval(timer);\n",
       "        embed_document(root);\n",
       "      } else {\n",
       "        attempts++;\n",
       "        if (attempts > 100) {\n",
       "          clearInterval(timer);\n",
       "          console.log(\"Bokeh: ERROR: Unable to run BokehJS code because BokehJS library is missing\");\n",
       "        }\n",
       "      }\n",
       "    }, 10, root)\n",
       "  }\n",
       "})(window);"
      ],
      "application/vnd.bokehjs_exec.v0+json": ""
     },
     "metadata": {
      "application/vnd.bokehjs_exec.v0+json": {
       "id": "1393"
      }
     },
     "output_type": "display_data"
    }
   ],
   "source": [
    "p2 = figure(x_range = roles_name, plot_height=250, title=\"Numero de suplentes por posición\")\n",
    "p2.vbar(x = roles_name, top = roles_subs, width = 0.9, color = Plasma[5])\n",
    "p2.xgrid.visible = False\n",
    "p2.ygrid.visible = False\n",
    "p = gridplot([[p1, p2]], toolbar_location = \"right\")\n",
    "show(p)"
   ]
  },
  {
   "cell_type": "markdown",
   "metadata": {},
   "source": [
    "### Ambas graficas de barras representan el numero de jugadores por posición, el numero es representado en el eje Y, y la posición en el eje X\n",
    "\n",
    "### Sobre el numero de jugadores por posición, podemos observar que de todos los participantes en el mundial, 26.96% cubren la posición de 'Jungle'(jungla) y asi mismo tiene la mayor cantidad de suplentes cubriendo 64.28% del total de suplentes.\n",
    "\n",
    "### Por otro lado las posiciones 'Mid' y 'Support' son las posiciones con solo los jugadores titulares presentes cubriendo 16.85% cada una de estas posiciones, y teniendo 0 suplentes presentes\n",
    "\n",
    "### Esta situación con la posición de 'Jungle' nos presenta multiples posibles situaciones, una posibilidad es que existe una gran cantidad de jugadores con mucha habilidad por lo tanto no tener a dos de los mejores jugadores en el equipo y reserva en todo momento seria un desperdicio. Por otro lado, puede que esta posición sea muy diversa en estilo de juego y distintos jugadores cubran ciertas habilidades pero otras no, y dependiendo de la estrategia que busque usar el equipo es mas conveniente tener a dos jugadores con arsenales distintos. Tambien puede que represente que este rol es el mas debil, donde todos sus representantes tienen un mal desempeño y es mejor tener una reserva de otro jugador en caso de que el titular este jugando muy mal, y de esta manera intentar amortiguar el golpe dle mal desempeño."
   ]
  },
  {
   "cell_type": "markdown",
   "metadata": {},
   "source": [
    "### Hablando de desempeño porque no observamos la información que tenemos sobre asesinatos, asistencias y muertes\n",
    "\n",
    "### Primero veamos quienes son los jugadores mas sedientos de sangre, busquemos a los 10 jugadores con mas asesinatos"
   ]
  },
  {
   "cell_type": "code",
   "execution_count": 14,
   "metadata": {},
   "outputs": [
    {
     "data": {
      "text/html": [
       "<div>\n",
       "<style scoped>\n",
       "    .dataframe tbody tr th:only-of-type {\n",
       "        vertical-align: middle;\n",
       "    }\n",
       "\n",
       "    .dataframe tbody tr th {\n",
       "        vertical-align: top;\n",
       "    }\n",
       "\n",
       "    .dataframe thead th {\n",
       "        text-align: right;\n",
       "    }\n",
       "</style>\n",
       "<table border=\"1\" class=\"dataframe\">\n",
       "  <thead>\n",
       "    <tr style=\"text-align: right;\">\n",
       "      <th></th>\n",
       "      <th>Name</th>\n",
       "      <th>Kills Total</th>\n",
       "      <th>Team</th>\n",
       "      <th>Position</th>\n",
       "    </tr>\n",
       "  </thead>\n",
       "  <tbody>\n",
       "    <tr>\n",
       "      <th>57</th>\n",
       "      <td>Perkz</td>\n",
       "      <td>25</td>\n",
       "      <td>G2</td>\n",
       "      <td>Mid</td>\n",
       "    </tr>\n",
       "    <tr>\n",
       "      <th>5</th>\n",
       "      <td>Ucal</td>\n",
       "      <td>25</td>\n",
       "      <td>KT</td>\n",
       "      <td>Mid</td>\n",
       "    </tr>\n",
       "    <tr>\n",
       "      <th>30</th>\n",
       "      <td>Rookie</td>\n",
       "      <td>26</td>\n",
       "      <td>IG</td>\n",
       "      <td>Mid</td>\n",
       "    </tr>\n",
       "    <tr>\n",
       "      <th>14</th>\n",
       "      <td>Betty</td>\n",
       "      <td>27</td>\n",
       "      <td>FW</td>\n",
       "      <td>ADC</td>\n",
       "    </tr>\n",
       "    <tr>\n",
       "      <th>6</th>\n",
       "      <td>Deft</td>\n",
       "      <td>28</td>\n",
       "      <td>KT</td>\n",
       "      <td>ADC</td>\n",
       "    </tr>\n",
       "    <tr>\n",
       "      <th>12</th>\n",
       "      <td>iBoy</td>\n",
       "      <td>28</td>\n",
       "      <td>EDG</td>\n",
       "      <td>ADC</td>\n",
       "    </tr>\n",
       "    <tr>\n",
       "      <th>0</th>\n",
       "      <td>Rekkles</td>\n",
       "      <td>28</td>\n",
       "      <td>FNC</td>\n",
       "      <td>ADC</td>\n",
       "    </tr>\n",
       "    <tr>\n",
       "      <th>46</th>\n",
       "      <td>AnDa</td>\n",
       "      <td>29</td>\n",
       "      <td>100</td>\n",
       "      <td>Jungle</td>\n",
       "    </tr>\n",
       "    <tr>\n",
       "      <th>2</th>\n",
       "      <td>Broxah</td>\n",
       "      <td>30</td>\n",
       "      <td>FNC</td>\n",
       "      <td>Jungle</td>\n",
       "    </tr>\n",
       "    <tr>\n",
       "      <th>4</th>\n",
       "      <td>Uzi</td>\n",
       "      <td>33</td>\n",
       "      <td>RNG</td>\n",
       "      <td>ADC</td>\n",
       "    </tr>\n",
       "    <tr>\n",
       "      <th>39</th>\n",
       "      <td>JackeyLove</td>\n",
       "      <td>33</td>\n",
       "      <td>IG</td>\n",
       "      <td>ADC</td>\n",
       "    </tr>\n",
       "    <tr>\n",
       "      <th>25</th>\n",
       "      <td>Jensen</td>\n",
       "      <td>34</td>\n",
       "      <td>C9</td>\n",
       "      <td>Mid</td>\n",
       "    </tr>\n",
       "    <tr>\n",
       "      <th>18</th>\n",
       "      <td>Caps</td>\n",
       "      <td>37</td>\n",
       "      <td>FNC</td>\n",
       "      <td>Mid</td>\n",
       "    </tr>\n",
       "  </tbody>\n",
       "</table>\n",
       "</div>"
      ],
      "text/plain": [
       "          Name  Kills Total Team Position\n",
       "57       Perkz           25   G2      Mid\n",
       "5         Ucal           25   KT      Mid\n",
       "30      Rookie           26   IG      Mid\n",
       "14       Betty           27   FW      ADC\n",
       "6         Deft           28   KT      ADC\n",
       "12        iBoy           28  EDG      ADC\n",
       "0      Rekkles           28  FNC      ADC\n",
       "46        AnDa           29  100   Jungle\n",
       "2       Broxah           30  FNC   Jungle\n",
       "4          Uzi           33  RNG      ADC\n",
       "39  JackeyLove           33   IG      ADC\n",
       "25      Jensen           34   C9      Mid\n",
       "18        Caps           37  FNC      Mid"
      ]
     },
     "execution_count": 14,
     "metadata": {},
     "output_type": "execute_result"
    }
   ],
   "source": [
    "kills = data[['Name', 'Kills Total', 'Team', 'Position']]\n",
    "kills = kills.sort_values(by = [\"Kills Total\"])\n",
    "kills = kills[-13:]\n",
    "kills"
   ]
  },
  {
   "cell_type": "code",
   "execution_count": 15,
   "metadata": {},
   "outputs": [
    {
     "data": {
      "text/plain": [
       "[('ADC', 6), ('Mid', 5), ('Jungle', 2)]"
      ]
     },
     "execution_count": 15,
     "metadata": {},
     "output_type": "execute_result"
    }
   ],
   "source": [
    "roles = list(kills['Position'])\n",
    "roles_n = Counter(roles)\n",
    "roles_n.most_common()"
   ]
  },
  {
   "cell_type": "code",
   "execution_count": 16,
   "metadata": {},
   "outputs": [
    {
     "name": "stdout",
     "output_type": "stream",
     "text": [
      "{'ADC': 6, 'Mid': 5, 'Jungle': 2}\n"
     ]
    }
   ],
   "source": [
    "x_pie3 = {}\n",
    "for i in range(len(roles_n)):\n",
    "    x_pie3[roles_n.most_common()[i][0]] = roles_n.most_common()[i][1]\n",
    "\n",
    "print(x_pie3)"
   ]
  },
  {
   "cell_type": "code",
   "execution_count": 91,
   "metadata": {},
   "outputs": [
    {
     "name": "stderr",
     "output_type": "stream",
     "text": [
      "BokehDeprecationWarning: 'legend' keyword is deprecated, use explicit 'legend_label', 'legend_field', or 'legend_group' keywords instead\n"
     ]
    },
    {
     "data": {
      "text/html": [
       "\n",
       "\n",
       "\n",
       "\n",
       "\n",
       "\n",
       "  <div class=\"bk-root\" id=\"54533f7e-5096-4200-bccc-18e6668bb037\" data-root-id=\"8522\"></div>\n"
      ]
     },
     "metadata": {},
     "output_type": "display_data"
    },
    {
     "data": {
      "application/javascript": [
       "(function(root) {\n",
       "  function embed_document(root) {\n",
       "    \n",
       "  var docs_json = {\"a9d58b84-6f58-495b-b5fe-527d1681dd0b\":{\"roots\":{\"references\":[{\"attributes\":{\"below\":[{\"id\":\"8533\",\"type\":\"LinearAxis\"}],\"center\":[{\"id\":\"8537\",\"type\":\"Grid\"},{\"id\":\"8542\",\"type\":\"Grid\"},{\"id\":\"8559\",\"type\":\"Legend\"},{\"id\":\"8563\",\"type\":\"LabelSet\"}],\"left\":[{\"id\":\"8538\",\"type\":\"LinearAxis\"}],\"plot_height\":350,\"plot_width\":1000,\"renderers\":[{\"id\":\"8552\",\"type\":\"GlyphRenderer\"}],\"title\":{\"id\":\"8523\",\"type\":\"Title\"},\"toolbar\":{\"id\":\"8544\",\"type\":\"Toolbar\"},\"toolbar_location\":null,\"x_range\":{\"id\":\"8525\",\"type\":\"DataRange1d\"},\"x_scale\":{\"id\":\"8529\",\"type\":\"LinearScale\"},\"y_range\":{\"id\":\"8527\",\"type\":\"DataRange1d\"},\"y_scale\":{\"id\":\"8531\",\"type\":\"LinearScale\"}},\"id\":\"8522\",\"subtype\":\"Figure\",\"type\":\"Plot\"},{\"attributes\":{\"field\":\"angle\",\"include_zero\":true},\"id\":\"8546\",\"type\":\"CumSum\"},{\"attributes\":{},\"id\":\"8891\",\"type\":\"UnionRenderers\"},{\"attributes\":{},\"id\":\"8892\",\"type\":\"Selection\"},{\"attributes\":{},\"id\":\"8529\",\"type\":\"LinearScale\"},{\"attributes\":{},\"id\":\"8890\",\"type\":\"Selection\"},{\"attributes\":{\"text\":\"Asesinatos por rol\"},\"id\":\"8523\",\"type\":\"Title\"},{\"attributes\":{},\"id\":\"8893\",\"type\":\"UnionRenderers\"},{\"attributes\":{},\"id\":\"8531\",\"type\":\"LinearScale\"},{\"attributes\":{\"end_angle\":{\"expr\":{\"id\":\"8547\",\"type\":\"CumSum\"},\"units\":\"rad\"},\"fill_alpha\":{\"value\":0.1},\"fill_color\":{\"value\":\"#1f77b4\"},\"line_alpha\":{\"value\":0.1},\"line_color\":{\"value\":\"#1f77b4\"},\"radius\":{\"units\":\"data\",\"value\":0.3},\"start_angle\":{\"expr\":{\"id\":\"8546\",\"type\":\"CumSum\"},\"units\":\"rad\"},\"x\":{\"value\":0},\"y\":{\"value\":1}},\"id\":\"8551\",\"type\":\"Wedge\"},{\"attributes\":{\"axis_label\":null,\"formatter\":{\"id\":\"8558\",\"type\":\"BasicTickFormatter\"},\"ticker\":{\"id\":\"8534\",\"type\":\"BasicTicker\"},\"visible\":false},\"id\":\"8533\",\"type\":\"LinearAxis\"},{\"attributes\":{\"field\":\"angle\"},\"id\":\"8547\",\"type\":\"CumSum\"},{\"attributes\":{},\"id\":\"8534\",\"type\":\"BasicTicker\"},{\"attributes\":{\"callback\":null,\"tooltips\":\"@role: @value\"},\"id\":\"8543\",\"type\":\"HoverTool\"},{\"attributes\":{\"end_angle\":{\"expr\":{\"id\":\"8547\",\"type\":\"CumSum\"},\"units\":\"rad\"},\"fill_color\":{\"field\":\"color\"},\"line_color\":{\"value\":\"white\"},\"radius\":{\"units\":\"data\",\"value\":0.3},\"start_angle\":{\"expr\":{\"id\":\"8546\",\"type\":\"CumSum\"},\"units\":\"rad\"},\"x\":{\"value\":0},\"y\":{\"value\":1}},\"id\":\"8550\",\"type\":\"Wedge\"},{\"attributes\":{},\"id\":\"8556\",\"type\":\"BasicTickFormatter\"},{\"attributes\":{\"grid_line_color\":null,\"ticker\":{\"id\":\"8534\",\"type\":\"BasicTicker\"}},\"id\":\"8537\",\"type\":\"Grid\"},{\"attributes\":{\"callback\":null,\"data\":{\"angle\":{\"__ndarray__\":\"PgJ6YQ8zB0CJrOV7N1UDQKitoiy/7u4/\",\"dtype\":\"float64\",\"shape\":[3]},\"color\":[\"#7fc97f\",\"#beaed4\",\"#fdc086\"],\"index\":[0,1,2],\"role\":[\"ADC\",\"Mid\",\"Jungle\"],\"value\":[6,5,2]},\"selected\":{\"id\":\"8890\",\"type\":\"Selection\"},\"selection_policy\":{\"id\":\"8891\",\"type\":\"UnionRenderers\"}},\"id\":\"8548\",\"type\":\"ColumnDataSource\"},{\"attributes\":{},\"id\":\"8558\",\"type\":\"BasicTickFormatter\"},{\"attributes\":{},\"id\":\"8539\",\"type\":\"BasicTicker\"},{\"attributes\":{\"items\":[{\"id\":\"8560\",\"type\":\"LegendItem\"}]},\"id\":\"8559\",\"type\":\"Legend\"},{\"attributes\":{\"label\":{\"field\":\"role\"},\"renderers\":[{\"id\":\"8552\",\"type\":\"GlyphRenderer\"}]},\"id\":\"8560\",\"type\":\"LegendItem\"},{\"attributes\":{\"dimension\":1,\"grid_line_color\":null,\"ticker\":{\"id\":\"8539\",\"type\":\"BasicTicker\"}},\"id\":\"8542\",\"type\":\"Grid\"},{\"attributes\":{\"callback\":null},\"id\":\"8525\",\"type\":\"DataRange1d\"},{\"attributes\":{\"field\":\"angle\",\"include_zero\":true},\"id\":\"8562\",\"type\":\"CumSum\"},{\"attributes\":{\"axis_label\":null,\"formatter\":{\"id\":\"8556\",\"type\":\"BasicTickFormatter\"},\"ticker\":{\"id\":\"8539\",\"type\":\"BasicTicker\"},\"visible\":false},\"id\":\"8538\",\"type\":\"LinearAxis\"},{\"attributes\":{\"source\":{\"id\":\"8548\",\"type\":\"ColumnDataSource\"}},\"id\":\"8553\",\"type\":\"CDSView\"},{\"attributes\":{\"callback\":null},\"id\":\"8527\",\"type\":\"DataRange1d\"},{\"attributes\":{\"angle\":{\"expr\":{\"id\":\"8562\",\"type\":\"CumSum\"},\"units\":\"rad\"},\"level\":\"glyph\",\"source\":{\"id\":\"8561\",\"type\":\"ColumnDataSource\"},\"text\":{\"field\":\"value\"},\"x\":{\"value\":0},\"y\":{\"value\":1}},\"id\":\"8563\",\"type\":\"LabelSet\"},{\"attributes\":{\"callback\":null,\"data\":{\"angle\":{\"__ndarray__\":\"PgJ6YQ8zB0CJrOV7N1UDQKitoiy/7u4/\",\"dtype\":\"float64\",\"shape\":[3]},\"color\":[\"#7fc97f\",\"#beaed4\",\"#fdc086\"],\"index\":[0,1,2],\"role\":[\"ADC\",\"Mid\",\"Jungle\"],\"value\":[\"                                  6\",\"                                  5\",\"                                  2\"]},\"selected\":{\"id\":\"8892\",\"type\":\"Selection\"},\"selection_policy\":{\"id\":\"8893\",\"type\":\"UnionRenderers\"}},\"id\":\"8561\",\"type\":\"ColumnDataSource\"},{\"attributes\":{\"active_drag\":\"auto\",\"active_inspect\":\"auto\",\"active_multi\":null,\"active_scroll\":\"auto\",\"active_tap\":\"auto\",\"tools\":[{\"id\":\"8543\",\"type\":\"HoverTool\"}]},\"id\":\"8544\",\"type\":\"Toolbar\"},{\"attributes\":{\"data_source\":{\"id\":\"8548\",\"type\":\"ColumnDataSource\"},\"glyph\":{\"id\":\"8550\",\"type\":\"Wedge\"},\"hover_glyph\":null,\"muted_glyph\":null,\"nonselection_glyph\":{\"id\":\"8551\",\"type\":\"Wedge\"},\"selection_glyph\":null,\"view\":{\"id\":\"8553\",\"type\":\"CDSView\"}},\"id\":\"8552\",\"type\":\"GlyphRenderer\"}],\"root_ids\":[\"8522\"]},\"title\":\"Bokeh Application\",\"version\":\"1.4.0\"}};\n",
       "  var render_items = [{\"docid\":\"a9d58b84-6f58-495b-b5fe-527d1681dd0b\",\"roots\":{\"8522\":\"54533f7e-5096-4200-bccc-18e6668bb037\"}}];\n",
       "  root.Bokeh.embed.embed_items_notebook(docs_json, render_items);\n",
       "\n",
       "  }\n",
       "  if (root.Bokeh !== undefined) {\n",
       "    embed_document(root);\n",
       "  } else {\n",
       "    var attempts = 0;\n",
       "    var timer = setInterval(function(root) {\n",
       "      if (root.Bokeh !== undefined) {\n",
       "        clearInterval(timer);\n",
       "        embed_document(root);\n",
       "      } else {\n",
       "        attempts++;\n",
       "        if (attempts > 100) {\n",
       "          clearInterval(timer);\n",
       "          console.log(\"Bokeh: ERROR: Unable to run BokehJS code because BokehJS library is missing\");\n",
       "        }\n",
       "      }\n",
       "    }, 10, root)\n",
       "  }\n",
       "})(window);"
      ],
      "application/vnd.bokehjs_exec.v0+json": ""
     },
     "metadata": {
      "application/vnd.bokehjs_exec.v0+json": {
       "id": "8522"
      }
     },
     "output_type": "display_data"
    }
   ],
   "source": [
    "data_pie = pd.Series(x_pie3).reset_index(name='value').rename(columns={'index':'role'})\n",
    "data_pie['angle'] = data_pie['value']/data_pie['value'].sum() * 2*pi\n",
    "data_pie['color'] = Accent[len(x_pie3)]\n",
    "\n",
    "p_pie3 = figure(plot_height=350, plot_width = 1000, title=\"Asesinatos por rol\", toolbar_location=None,\n",
    "        tools=\"hover\", tooltips=\"@role: @value\")\n",
    "\n",
    "p_pie3.wedge(x=0, y=1, radius=0.30,\n",
    "        start_angle=cumsum('angle', include_zero=True), end_angle=cumsum('angle'),\n",
    "        line_color=\"white\", fill_color='color', legend='role', source=data_pie)\n",
    "\n",
    "data_pie[\"value\"] = data_pie['value'].astype(str)\n",
    "data_pie[\"value\"] = data_pie[\"value\"].str.pad(35, side = \"left\")\n",
    "source = ColumnDataSource(data_pie)\n",
    "\n",
    "labels = LabelSet(x=0, y=1, text='value', level='glyph',\n",
    "        angle=cumsum('angle', include_zero=True), source=source, render_mode='canvas')\n",
    "\n",
    "p_pie3.add_layout(labels)\n",
    "\n",
    "p_pie3.axis.axis_label=None\n",
    "p_pie3.axis.visible=False\n",
    "p_pie3.grid.grid_line_color = None\n",
    "\n",
    "show(p_pie3)"
   ]
  },
  {
   "cell_type": "code",
   "execution_count": 120,
   "metadata": {},
   "outputs": [
    {
     "name": "stdout",
     "output_type": "stream",
     "text": [
      "['G2 Mid', 'KT Mid', 'IG Mid', 'FW ADC', 'KT ADC', 'EDG ADC', 'FNC ADC', '100 Jungle', 'FNC Jungle', 'RNG ADC', 'IG ADC', 'C9 Mid', 'FNC Mid'] [25, 25, 26, 27, 28, 28, 28, 29, 30, 33, 33, 34, 37]\n"
     ]
    }
   ],
   "source": [
    "kill_er = []\n",
    "kill_n = []\n",
    "for i in range(len(kills)):\n",
    "    killer = kills.iloc[i]['Team'] + \" \" + kills.iloc[i]['Position']\n",
    "    kill_er.append(killer)\n",
    "    kill_n.append(kills.iloc[i]['Kills Total'])\n",
    "print(kill_er, kill_n)"
   ]
  },
  {
   "cell_type": "code",
   "execution_count": 152,
   "metadata": {},
   "outputs": [
    {
     "data": {
      "text/html": [
       "\n",
       "\n",
       "\n",
       "\n",
       "\n",
       "\n",
       "  <div class=\"bk-root\" id=\"01f8b3ff-134a-4d7a-b085-e4c8773098c0\" data-root-id=\"30935\"></div>\n"
      ]
     },
     "metadata": {},
     "output_type": "display_data"
    },
    {
     "data": {
      "application/javascript": [
       "(function(root) {\n",
       "  function embed_document(root) {\n",
       "    \n",
       "  var docs_json = {\"8606c3c1-6d9c-4275-97fa-5db5a35e1881\":{\"roots\":{\"references\":[{\"attributes\":{\"below\":[{\"id\":\"30946\",\"type\":\"CategoricalAxis\"}],\"center\":[{\"id\":\"30949\",\"type\":\"Grid\"},{\"id\":\"30954\",\"type\":\"Grid\"}],\"left\":[{\"id\":\"30950\",\"type\":\"LinearAxis\"}],\"plot_height\":250,\"plot_width\":1000,\"renderers\":[{\"id\":\"30971\",\"type\":\"GlyphRenderer\"}],\"title\":{\"id\":\"30936\",\"type\":\"Title\"},\"toolbar\":{\"id\":\"30961\",\"type\":\"Toolbar\"},\"x_range\":{\"id\":\"30938\",\"type\":\"FactorRange\"},\"x_scale\":{\"id\":\"30942\",\"type\":\"CategoricalScale\"},\"y_range\":{\"id\":\"30940\",\"type\":\"DataRange1d\"},\"y_scale\":{\"id\":\"30944\",\"type\":\"LinearScale\"}},\"id\":\"30935\",\"subtype\":\"Figure\",\"type\":\"Plot\"},{\"attributes\":{},\"id\":\"30947\",\"type\":\"CategoricalTicker\"},{\"attributes\":{\"ticker\":{\"id\":\"30947\",\"type\":\"CategoricalTicker\"},\"visible\":false},\"id\":\"30949\",\"type\":\"Grid\"},{\"attributes\":{\"formatter\":{\"id\":\"31723\",\"type\":\"BasicTickFormatter\"},\"ticker\":{\"id\":\"30951\",\"type\":\"BasicTicker\"}},\"id\":\"30950\",\"type\":\"LinearAxis\"},{\"attributes\":{},\"id\":\"30951\",\"type\":\"BasicTicker\"},{\"attributes\":{\"dimension\":1,\"ticker\":{\"id\":\"30951\",\"type\":\"BasicTicker\"},\"visible\":false},\"id\":\"30954\",\"type\":\"Grid\"},{\"attributes\":{\"fill_alpha\":{\"value\":0.1},\"fill_color\":{\"value\":\"#1f77b4\"},\"line_alpha\":{\"value\":0.1},\"line_color\":{\"value\":\"#1f77b4\"},\"top\":{\"field\":\"top\"},\"width\":{\"value\":0.9},\"x\":{\"field\":\"x\"}},\"id\":\"30970\",\"type\":\"VBar\"},{\"attributes\":{\"fill_color\":{\"field\":\"fill_color\"},\"line_color\":{\"field\":\"line_color\"},\"top\":{\"field\":\"top\"},\"width\":{\"value\":0.9},\"x\":{\"field\":\"x\"}},\"id\":\"30969\",\"type\":\"VBar\"},{\"attributes\":{\"callback\":null,\"data\":{\"fill_color\":[\"#004445\",\"#004445\",\"#004445\",\"#004445\",\"#004445\",\"#2c7873\",\"#2c7873\",\"#2c7873\",\"#2c7873\",\"#6fb98f\",\"#6fb98f\",\"#6fb98f\",\"#ffd800\"],\"line_color\":[\"#004445\",\"#004445\",\"#004445\",\"#004445\",\"#004445\",\"#2c7873\",\"#2c7873\",\"#2c7873\",\"#2c7873\",\"#6fb98f\",\"#6fb98f\",\"#6fb98f\",\"#ffd800\"],\"top\":[25,25,26,27,28,28,28,29,30,33,33,34,37],\"x\":[\"G2 Mid\",\"KT Mid\",\"IG Mid\",\"FW ADC\",\"KT ADC\",\"EDG ADC\",\"FNC ADC\",\"100 Jungle\",\"FNC Jungle\",\"RNG ADC\",\"IG ADC\",\"C9 Mid\",\"FNC Mid\"]},\"selected\":{\"id\":\"31726\",\"type\":\"Selection\"},\"selection_policy\":{\"id\":\"31727\",\"type\":\"UnionRenderers\"}},\"id\":\"30968\",\"type\":\"ColumnDataSource\"},{\"attributes\":{},\"id\":\"30955\",\"type\":\"PanTool\"},{\"attributes\":{},\"id\":\"30956\",\"type\":\"WheelZoomTool\"},{\"attributes\":{\"callback\":null},\"id\":\"30940\",\"type\":\"DataRange1d\"},{\"attributes\":{},\"id\":\"31723\",\"type\":\"BasicTickFormatter\"},{\"attributes\":{\"bottom_units\":\"screen\",\"fill_alpha\":{\"value\":0.5},\"fill_color\":{\"value\":\"lightgrey\"},\"left_units\":\"screen\",\"level\":\"overlay\",\"line_alpha\":{\"value\":1.0},\"line_color\":{\"value\":\"black\"},\"line_dash\":[4,4],\"line_width\":{\"value\":2},\"render_mode\":\"css\",\"right_units\":\"screen\",\"top_units\":\"screen\"},\"id\":\"31728\",\"type\":\"BoxAnnotation\"},{\"attributes\":{\"overlay\":{\"id\":\"31728\",\"type\":\"BoxAnnotation\"}},\"id\":\"30957\",\"type\":\"BoxZoomTool\"},{\"attributes\":{\"text\":\"Asesinatos por jugador\"},\"id\":\"30936\",\"type\":\"Title\"},{\"attributes\":{},\"id\":\"30958\",\"type\":\"SaveTool\"},{\"attributes\":{},\"id\":\"30959\",\"type\":\"ResetTool\"},{\"attributes\":{\"formatter\":{\"id\":\"31725\",\"type\":\"CategoricalTickFormatter\"},\"ticker\":{\"id\":\"30947\",\"type\":\"CategoricalTicker\"}},\"id\":\"30946\",\"type\":\"CategoricalAxis\"},{\"attributes\":{},\"id\":\"30944\",\"type\":\"LinearScale\"},{\"attributes\":{\"callback\":null,\"factors\":[\"G2 Mid\",\"KT Mid\",\"IG Mid\",\"FW ADC\",\"KT ADC\",\"EDG ADC\",\"FNC ADC\",\"100 Jungle\",\"FNC Jungle\",\"RNG ADC\",\"IG ADC\",\"C9 Mid\",\"FNC Mid\"]},\"id\":\"30938\",\"type\":\"FactorRange\"},{\"attributes\":{},\"id\":\"30960\",\"type\":\"HelpTool\"},{\"attributes\":{\"active_drag\":\"auto\",\"active_inspect\":\"auto\",\"active_multi\":null,\"active_scroll\":\"auto\",\"active_tap\":\"auto\",\"tools\":[{\"id\":\"30955\",\"type\":\"PanTool\"},{\"id\":\"30956\",\"type\":\"WheelZoomTool\"},{\"id\":\"30957\",\"type\":\"BoxZoomTool\"},{\"id\":\"30958\",\"type\":\"SaveTool\"},{\"id\":\"30959\",\"type\":\"ResetTool\"},{\"id\":\"30960\",\"type\":\"HelpTool\"}]},\"id\":\"30961\",\"type\":\"Toolbar\"},{\"attributes\":{},\"id\":\"31726\",\"type\":\"Selection\"},{\"attributes\":{\"data_source\":{\"id\":\"30968\",\"type\":\"ColumnDataSource\"},\"glyph\":{\"id\":\"30969\",\"type\":\"VBar\"},\"hover_glyph\":null,\"muted_glyph\":null,\"nonselection_glyph\":{\"id\":\"30970\",\"type\":\"VBar\"},\"selection_glyph\":null,\"view\":{\"id\":\"30972\",\"type\":\"CDSView\"}},\"id\":\"30971\",\"type\":\"GlyphRenderer\"},{\"attributes\":{},\"id\":\"31725\",\"type\":\"CategoricalTickFormatter\"},{\"attributes\":{\"source\":{\"id\":\"30968\",\"type\":\"ColumnDataSource\"}},\"id\":\"30972\",\"type\":\"CDSView\"},{\"attributes\":{},\"id\":\"31727\",\"type\":\"UnionRenderers\"},{\"attributes\":{},\"id\":\"30942\",\"type\":\"CategoricalScale\"}],\"root_ids\":[\"30935\"]},\"title\":\"Bokeh Application\",\"version\":\"1.4.0\"}};\n",
       "  var render_items = [{\"docid\":\"8606c3c1-6d9c-4275-97fa-5db5a35e1881\",\"roots\":{\"30935\":\"01f8b3ff-134a-4d7a-b085-e4c8773098c0\"}}];\n",
       "  root.Bokeh.embed.embed_items_notebook(docs_json, render_items);\n",
       "\n",
       "  }\n",
       "  if (root.Bokeh !== undefined) {\n",
       "    embed_document(root);\n",
       "  } else {\n",
       "    var attempts = 0;\n",
       "    var timer = setInterval(function(root) {\n",
       "      if (root.Bokeh !== undefined) {\n",
       "        clearInterval(timer);\n",
       "        embed_document(root);\n",
       "      } else {\n",
       "        attempts++;\n",
       "        if (attempts > 100) {\n",
       "          clearInterval(timer);\n",
       "          console.log(\"Bokeh: ERROR: Unable to run BokehJS code because BokehJS library is missing\");\n",
       "        }\n",
       "      }\n",
       "    }, 10, root)\n",
       "  }\n",
       "})(window);"
      ],
      "application/vnd.bokehjs_exec.v0+json": ""
     },
     "metadata": {
      "application/vnd.bokehjs_exec.v0+json": {
       "id": "30935"
      }
     },
     "output_type": "display_data"
    }
   ],
   "source": [
    "p3 = figure(x_range = kill_er, plot_height=250, plot_width = 1000, title=\"Asesinatos por jugador\")\n",
    "p3.vbar(x = kill_er, top = kill_n, width = 0.9, color = [\"#004445\", \"#004445\", \"#004445\", \"#004445\", \"#004445\", \"#2c7873\", \"#2c7873\", \"#2c7873\", \"#2c7873\", \"#6fb98f\", \"#6fb98f\", \"#6fb98f\", \"#ffd800\"])\n",
    "p3.xgrid.visible = False\n",
    "p3.ygrid.visible = False\n",
    "show(p3)"
   ]
  },
  {
   "cell_type": "code",
   "execution_count": 153,
   "metadata": {},
   "outputs": [
    {
     "data": {
      "text/html": [
       "\n",
       "\n",
       "\n",
       "\n",
       "\n",
       "\n",
       "  <div class=\"bk-root\" id=\"c9c72ed7-50d3-4972-9dc9-83d163478b4d\" data-root-id=\"31799\"></div>\n"
      ]
     },
     "metadata": {},
     "output_type": "display_data"
    },
    {
     "data": {
      "application/javascript": [
       "(function(root) {\n",
       "  function embed_document(root) {\n",
       "    \n",
       "  var docs_json = {\"c36b6cf6-acbc-4f1a-9010-a79e30c57f15\":{\"roots\":{\"references\":[{\"attributes\":{\"children\":[{\"id\":\"31796\",\"type\":\"GridBox\"},{\"id\":\"31798\",\"type\":\"ToolbarBox\"}]},\"id\":\"31799\",\"type\":\"Row\"},{\"attributes\":{\"field\":\"angle\",\"include_zero\":true},\"id\":\"8546\",\"type\":\"CumSum\"},{\"attributes\":{},\"id\":\"30947\",\"type\":\"CategoricalTicker\"},{\"attributes\":{},\"id\":\"8891\",\"type\":\"UnionRenderers\"},{\"attributes\":{\"ticker\":{\"id\":\"30947\",\"type\":\"CategoricalTicker\"},\"visible\":false},\"id\":\"30949\",\"type\":\"Grid\"},{\"attributes\":{},\"id\":\"8892\",\"type\":\"Selection\"},{\"attributes\":{\"tools\":[{\"id\":\"30955\",\"type\":\"PanTool\"},{\"id\":\"30956\",\"type\":\"WheelZoomTool\"},{\"id\":\"30957\",\"type\":\"BoxZoomTool\"},{\"id\":\"30958\",\"type\":\"SaveTool\"},{\"id\":\"30959\",\"type\":\"ResetTool\"},{\"id\":\"30960\",\"type\":\"HelpTool\"},{\"id\":\"8543\",\"type\":\"HoverTool\"}]},\"id\":\"31797\",\"type\":\"ProxyToolbar\"},{\"attributes\":{},\"id\":\"8529\",\"type\":\"LinearScale\"},{\"attributes\":{},\"id\":\"8890\",\"type\":\"Selection\"},{\"attributes\":{\"text\":\"Asesinatos por rol\"},\"id\":\"8523\",\"type\":\"Title\"},{\"attributes\":{\"formatter\":{\"id\":\"31723\",\"type\":\"BasicTickFormatter\"},\"ticker\":{\"id\":\"30951\",\"type\":\"BasicTicker\"}},\"id\":\"30950\",\"type\":\"LinearAxis\"},{\"attributes\":{},\"id\":\"8893\",\"type\":\"UnionRenderers\"},{\"attributes\":{\"below\":[{\"id\":\"8533\",\"type\":\"LinearAxis\"}],\"center\":[{\"id\":\"8537\",\"type\":\"Grid\"},{\"id\":\"8542\",\"type\":\"Grid\"},{\"id\":\"8559\",\"type\":\"Legend\"},{\"id\":\"8563\",\"type\":\"LabelSet\"}],\"left\":[{\"id\":\"8538\",\"type\":\"LinearAxis\"}],\"plot_height\":350,\"plot_width\":1000,\"renderers\":[{\"id\":\"8552\",\"type\":\"GlyphRenderer\"}],\"title\":{\"id\":\"8523\",\"type\":\"Title\"},\"toolbar\":{\"id\":\"8544\",\"type\":\"Toolbar\"},\"toolbar_location\":null,\"x_range\":{\"id\":\"8525\",\"type\":\"DataRange1d\"},\"x_scale\":{\"id\":\"8529\",\"type\":\"LinearScale\"},\"y_range\":{\"id\":\"8527\",\"type\":\"DataRange1d\"},\"y_scale\":{\"id\":\"8531\",\"type\":\"LinearScale\"}},\"id\":\"8522\",\"subtype\":\"Figure\",\"type\":\"Plot\"},{\"attributes\":{},\"id\":\"8531\",\"type\":\"LinearScale\"},{\"attributes\":{\"end_angle\":{\"expr\":{\"id\":\"8547\",\"type\":\"CumSum\"},\"units\":\"rad\"},\"fill_alpha\":{\"value\":0.1},\"fill_color\":{\"value\":\"#1f77b4\"},\"line_alpha\":{\"value\":0.1},\"line_color\":{\"value\":\"#1f77b4\"},\"radius\":{\"units\":\"data\",\"value\":0.3},\"start_angle\":{\"expr\":{\"id\":\"8546\",\"type\":\"CumSum\"},\"units\":\"rad\"},\"x\":{\"value\":0},\"y\":{\"value\":1}},\"id\":\"8551\",\"type\":\"Wedge\"},{\"attributes\":{},\"id\":\"30951\",\"type\":\"BasicTicker\"},{\"attributes\":{\"axis_label\":null,\"formatter\":{\"id\":\"8558\",\"type\":\"BasicTickFormatter\"},\"ticker\":{\"id\":\"8534\",\"type\":\"BasicTicker\"},\"visible\":false},\"id\":\"8533\",\"type\":\"LinearAxis\"},{\"attributes\":{\"field\":\"angle\"},\"id\":\"8547\",\"type\":\"CumSum\"},{\"attributes\":{\"dimension\":1,\"ticker\":{\"id\":\"30951\",\"type\":\"BasicTicker\"},\"visible\":false},\"id\":\"30954\",\"type\":\"Grid\"},{\"attributes\":{},\"id\":\"8534\",\"type\":\"BasicTicker\"},{\"attributes\":{\"fill_alpha\":{\"value\":0.1},\"fill_color\":{\"value\":\"#1f77b4\"},\"line_alpha\":{\"value\":0.1},\"line_color\":{\"value\":\"#1f77b4\"},\"top\":{\"field\":\"top\"},\"width\":{\"value\":0.9},\"x\":{\"field\":\"x\"}},\"id\":\"30970\",\"type\":\"VBar\"},{\"attributes\":{\"callback\":null,\"tooltips\":\"@role: @value\"},\"id\":\"8543\",\"type\":\"HoverTool\"},{\"attributes\":{\"fill_color\":{\"field\":\"fill_color\"},\"line_color\":{\"field\":\"line_color\"},\"top\":{\"field\":\"top\"},\"width\":{\"value\":0.9},\"x\":{\"field\":\"x\"}},\"id\":\"30969\",\"type\":\"VBar\"},{\"attributes\":{\"callback\":null,\"data\":{\"fill_color\":[\"#004445\",\"#004445\",\"#004445\",\"#004445\",\"#004445\",\"#2c7873\",\"#2c7873\",\"#2c7873\",\"#2c7873\",\"#6fb98f\",\"#6fb98f\",\"#6fb98f\",\"#ffd800\"],\"line_color\":[\"#004445\",\"#004445\",\"#004445\",\"#004445\",\"#004445\",\"#2c7873\",\"#2c7873\",\"#2c7873\",\"#2c7873\",\"#6fb98f\",\"#6fb98f\",\"#6fb98f\",\"#ffd800\"],\"top\":[25,25,26,27,28,28,28,29,30,33,33,34,37],\"x\":[\"G2 Mid\",\"KT Mid\",\"IG Mid\",\"FW ADC\",\"KT ADC\",\"EDG ADC\",\"FNC ADC\",\"100 Jungle\",\"FNC Jungle\",\"RNG ADC\",\"IG ADC\",\"C9 Mid\",\"FNC Mid\"]},\"selected\":{\"id\":\"31726\",\"type\":\"Selection\"},\"selection_policy\":{\"id\":\"31727\",\"type\":\"UnionRenderers\"}},\"id\":\"30968\",\"type\":\"ColumnDataSource\"},{\"attributes\":{\"end_angle\":{\"expr\":{\"id\":\"8547\",\"type\":\"CumSum\"},\"units\":\"rad\"},\"fill_color\":{\"field\":\"color\"},\"line_color\":{\"value\":\"white\"},\"radius\":{\"units\":\"data\",\"value\":0.3},\"start_angle\":{\"expr\":{\"id\":\"8546\",\"type\":\"CumSum\"},\"units\":\"rad\"},\"x\":{\"value\":0},\"y\":{\"value\":1}},\"id\":\"8550\",\"type\":\"Wedge\"},{\"attributes\":{},\"id\":\"30955\",\"type\":\"PanTool\"},{\"attributes\":{},\"id\":\"8556\",\"type\":\"BasicTickFormatter\"},{\"attributes\":{\"grid_line_color\":null,\"ticker\":{\"id\":\"8534\",\"type\":\"BasicTicker\"}},\"id\":\"8537\",\"type\":\"Grid\"},{\"attributes\":{\"callback\":null},\"id\":\"30940\",\"type\":\"DataRange1d\"},{\"attributes\":{},\"id\":\"30956\",\"type\":\"WheelZoomTool\"},{\"attributes\":{\"callback\":null,\"data\":{\"angle\":{\"__ndarray__\":\"PgJ6YQ8zB0CJrOV7N1UDQKitoiy/7u4/\",\"dtype\":\"float64\",\"shape\":[3]},\"color\":[\"#7fc97f\",\"#beaed4\",\"#fdc086\"],\"index\":[0,1,2],\"role\":[\"ADC\",\"Mid\",\"Jungle\"],\"value\":[6,5,2]},\"selected\":{\"id\":\"8890\",\"type\":\"Selection\"},\"selection_policy\":{\"id\":\"8891\",\"type\":\"UnionRenderers\"}},\"id\":\"8548\",\"type\":\"ColumnDataSource\"},{\"attributes\":{},\"id\":\"31723\",\"type\":\"BasicTickFormatter\"},{\"attributes\":{},\"id\":\"8558\",\"type\":\"BasicTickFormatter\"},{\"attributes\":{\"overlay\":{\"id\":\"31728\",\"type\":\"BoxAnnotation\"}},\"id\":\"30957\",\"type\":\"BoxZoomTool\"},{\"attributes\":{\"bottom_units\":\"screen\",\"fill_alpha\":{\"value\":0.5},\"fill_color\":{\"value\":\"lightgrey\"},\"left_units\":\"screen\",\"level\":\"overlay\",\"line_alpha\":{\"value\":1.0},\"line_color\":{\"value\":\"black\"},\"line_dash\":[4,4],\"line_width\":{\"value\":2},\"render_mode\":\"css\",\"right_units\":\"screen\",\"top_units\":\"screen\"},\"id\":\"31728\",\"type\":\"BoxAnnotation\"},{\"attributes\":{},\"id\":\"8539\",\"type\":\"BasicTicker\"},{\"attributes\":{\"items\":[{\"id\":\"8560\",\"type\":\"LegendItem\"}]},\"id\":\"8559\",\"type\":\"Legend\"},{\"attributes\":{\"text\":\"Asesinatos por jugador\"},\"id\":\"30936\",\"type\":\"Title\"},{\"attributes\":{},\"id\":\"30958\",\"type\":\"SaveTool\"},{\"attributes\":{\"label\":{\"field\":\"role\"},\"renderers\":[{\"id\":\"8552\",\"type\":\"GlyphRenderer\"}]},\"id\":\"8560\",\"type\":\"LegendItem\"},{\"attributes\":{\"dimension\":1,\"grid_line_color\":null,\"ticker\":{\"id\":\"8539\",\"type\":\"BasicTicker\"}},\"id\":\"8542\",\"type\":\"Grid\"},{\"attributes\":{},\"id\":\"30959\",\"type\":\"ResetTool\"},{\"attributes\":{\"children\":[[{\"id\":\"30935\",\"subtype\":\"Figure\",\"type\":\"Plot\"},0,0],[{\"id\":\"8522\",\"subtype\":\"Figure\",\"type\":\"Plot\"},1,0]]},\"id\":\"31796\",\"type\":\"GridBox\"},{\"attributes\":{\"callback\":null},\"id\":\"8525\",\"type\":\"DataRange1d\"},{\"attributes\":{\"formatter\":{\"id\":\"31725\",\"type\":\"CategoricalTickFormatter\"},\"ticker\":{\"id\":\"30947\",\"type\":\"CategoricalTicker\"}},\"id\":\"30946\",\"type\":\"CategoricalAxis\"},{\"attributes\":{},\"id\":\"30944\",\"type\":\"LinearScale\"},{\"attributes\":{\"callback\":null,\"factors\":[\"G2 Mid\",\"KT Mid\",\"IG Mid\",\"FW ADC\",\"KT ADC\",\"EDG ADC\",\"FNC ADC\",\"100 Jungle\",\"FNC Jungle\",\"RNG ADC\",\"IG ADC\",\"C9 Mid\",\"FNC Mid\"]},\"id\":\"30938\",\"type\":\"FactorRange\"},{\"attributes\":{},\"id\":\"30960\",\"type\":\"HelpTool\"},{\"attributes\":{\"source\":{\"id\":\"30968\",\"type\":\"ColumnDataSource\"}},\"id\":\"30972\",\"type\":\"CDSView\"},{\"attributes\":{\"field\":\"angle\",\"include_zero\":true},\"id\":\"8562\",\"type\":\"CumSum\"},{\"attributes\":{\"active_drag\":\"auto\",\"active_inspect\":\"auto\",\"active_multi\":null,\"active_scroll\":\"auto\",\"active_tap\":\"auto\",\"tools\":[{\"id\":\"30955\",\"type\":\"PanTool\"},{\"id\":\"30956\",\"type\":\"WheelZoomTool\"},{\"id\":\"30957\",\"type\":\"BoxZoomTool\"},{\"id\":\"30958\",\"type\":\"SaveTool\"},{\"id\":\"30959\",\"type\":\"ResetTool\"},{\"id\":\"30960\",\"type\":\"HelpTool\"}]},\"id\":\"30961\",\"type\":\"Toolbar\"},{\"attributes\":{\"axis_label\":null,\"formatter\":{\"id\":\"8556\",\"type\":\"BasicTickFormatter\"},\"ticker\":{\"id\":\"8539\",\"type\":\"BasicTicker\"},\"visible\":false},\"id\":\"8538\",\"type\":\"LinearAxis\"},{\"attributes\":{},\"id\":\"31726\",\"type\":\"Selection\"},{\"attributes\":{\"source\":{\"id\":\"8548\",\"type\":\"ColumnDataSource\"}},\"id\":\"8553\",\"type\":\"CDSView\"},{\"attributes\":{\"callback\":null},\"id\":\"8527\",\"type\":\"DataRange1d\"},{\"attributes\":{\"toolbar\":{\"id\":\"31797\",\"type\":\"ProxyToolbar\"}},\"id\":\"31798\",\"type\":\"ToolbarBox\"},{\"attributes\":{\"data_source\":{\"id\":\"30968\",\"type\":\"ColumnDataSource\"},\"glyph\":{\"id\":\"30969\",\"type\":\"VBar\"},\"hover_glyph\":null,\"muted_glyph\":null,\"nonselection_glyph\":{\"id\":\"30970\",\"type\":\"VBar\"},\"selection_glyph\":null,\"view\":{\"id\":\"30972\",\"type\":\"CDSView\"}},\"id\":\"30971\",\"type\":\"GlyphRenderer\"},{\"attributes\":{\"below\":[{\"id\":\"30946\",\"type\":\"CategoricalAxis\"}],\"center\":[{\"id\":\"30949\",\"type\":\"Grid\"},{\"id\":\"30954\",\"type\":\"Grid\"}],\"left\":[{\"id\":\"30950\",\"type\":\"LinearAxis\"}],\"plot_height\":250,\"plot_width\":1000,\"renderers\":[{\"id\":\"30971\",\"type\":\"GlyphRenderer\"}],\"title\":{\"id\":\"30936\",\"type\":\"Title\"},\"toolbar\":{\"id\":\"30961\",\"type\":\"Toolbar\"},\"toolbar_location\":null,\"x_range\":{\"id\":\"30938\",\"type\":\"FactorRange\"},\"x_scale\":{\"id\":\"30942\",\"type\":\"CategoricalScale\"},\"y_range\":{\"id\":\"30940\",\"type\":\"DataRange1d\"},\"y_scale\":{\"id\":\"30944\",\"type\":\"LinearScale\"}},\"id\":\"30935\",\"subtype\":\"Figure\",\"type\":\"Plot\"},{\"attributes\":{\"angle\":{\"expr\":{\"id\":\"8562\",\"type\":\"CumSum\"},\"units\":\"rad\"},\"level\":\"glyph\",\"source\":{\"id\":\"8561\",\"type\":\"ColumnDataSource\"},\"text\":{\"field\":\"value\"},\"x\":{\"value\":0},\"y\":{\"value\":1}},\"id\":\"8563\",\"type\":\"LabelSet\"},{\"attributes\":{\"callback\":null,\"data\":{\"angle\":{\"__ndarray__\":\"PgJ6YQ8zB0CJrOV7N1UDQKitoiy/7u4/\",\"dtype\":\"float64\",\"shape\":[3]},\"color\":[\"#7fc97f\",\"#beaed4\",\"#fdc086\"],\"index\":[0,1,2],\"role\":[\"ADC\",\"Mid\",\"Jungle\"],\"value\":[\"                                  6\",\"                                  5\",\"                                  2\"]},\"selected\":{\"id\":\"8892\",\"type\":\"Selection\"},\"selection_policy\":{\"id\":\"8893\",\"type\":\"UnionRenderers\"}},\"id\":\"8561\",\"type\":\"ColumnDataSource\"},{\"attributes\":{},\"id\":\"31725\",\"type\":\"CategoricalTickFormatter\"},{\"attributes\":{\"active_drag\":\"auto\",\"active_inspect\":\"auto\",\"active_multi\":null,\"active_scroll\":\"auto\",\"active_tap\":\"auto\",\"tools\":[{\"id\":\"8543\",\"type\":\"HoverTool\"}]},\"id\":\"8544\",\"type\":\"Toolbar\"},{\"attributes\":{},\"id\":\"31727\",\"type\":\"UnionRenderers\"},{\"attributes\":{},\"id\":\"30942\",\"type\":\"CategoricalScale\"},{\"attributes\":{\"data_source\":{\"id\":\"8548\",\"type\":\"ColumnDataSource\"},\"glyph\":{\"id\":\"8550\",\"type\":\"Wedge\"},\"hover_glyph\":null,\"muted_glyph\":null,\"nonselection_glyph\":{\"id\":\"8551\",\"type\":\"Wedge\"},\"selection_glyph\":null,\"view\":{\"id\":\"8553\",\"type\":\"CDSView\"}},\"id\":\"8552\",\"type\":\"GlyphRenderer\"}],\"root_ids\":[\"31799\"]},\"title\":\"Bokeh Application\",\"version\":\"1.4.0\"}};\n",
       "  var render_items = [{\"docid\":\"c36b6cf6-acbc-4f1a-9010-a79e30c57f15\",\"roots\":{\"31799\":\"c9c72ed7-50d3-4972-9dc9-83d163478b4d\"}}];\n",
       "  root.Bokeh.embed.embed_items_notebook(docs_json, render_items);\n",
       "\n",
       "  }\n",
       "  if (root.Bokeh !== undefined) {\n",
       "    embed_document(root);\n",
       "  } else {\n",
       "    var attempts = 0;\n",
       "    var timer = setInterval(function(root) {\n",
       "      if (root.Bokeh !== undefined) {\n",
       "        clearInterval(timer);\n",
       "        embed_document(root);\n",
       "      } else {\n",
       "        attempts++;\n",
       "        if (attempts > 100) {\n",
       "          clearInterval(timer);\n",
       "          console.log(\"Bokeh: ERROR: Unable to run BokehJS code because BokehJS library is missing\");\n",
       "        }\n",
       "      }\n",
       "    }, 10, root)\n",
       "  }\n",
       "})(window);"
      ],
      "application/vnd.bokehjs_exec.v0+json": ""
     },
     "metadata": {
      "application/vnd.bokehjs_exec.v0+json": {
       "id": "31799"
      }
     },
     "output_type": "display_data"
    }
   ],
   "source": [
    "p = gridplot([[p3],[p_pie3]], toolbar_location = \"right\")\n",
    "show(p)"
   ]
  },
  {
   "cell_type": "markdown",
   "metadata": {},
   "source": [
    "### Que jugadores murieron mas veces?"
   ]
  },
  {
   "cell_type": "code",
   "execution_count": 21,
   "metadata": {},
   "outputs": [
    {
     "data": {
      "text/html": [
       "<div>\n",
       "<style scoped>\n",
       "    .dataframe tbody tr th:only-of-type {\n",
       "        vertical-align: middle;\n",
       "    }\n",
       "\n",
       "    .dataframe tbody tr th {\n",
       "        vertical-align: top;\n",
       "    }\n",
       "\n",
       "    .dataframe thead th {\n",
       "        text-align: right;\n",
       "    }\n",
       "</style>\n",
       "<table border=\"1\" class=\"dataframe\">\n",
       "  <thead>\n",
       "    <tr style=\"text-align: right;\">\n",
       "      <th></th>\n",
       "      <th>Name</th>\n",
       "      <th>Team</th>\n",
       "      <th>Position</th>\n",
       "      <th>Deaths</th>\n",
       "    </tr>\n",
       "  </thead>\n",
       "  <tbody>\n",
       "    <tr>\n",
       "      <th>79</th>\n",
       "      <td>PK</td>\n",
       "      <td>GRX</td>\n",
       "      <td>Top</td>\n",
       "      <td>19</td>\n",
       "    </tr>\n",
       "    <tr>\n",
       "      <th>57</th>\n",
       "      <td>Perkz</td>\n",
       "      <td>G2</td>\n",
       "      <td>Mid</td>\n",
       "      <td>20</td>\n",
       "    </tr>\n",
       "    <tr>\n",
       "      <th>70</th>\n",
       "      <td>Crown</td>\n",
       "      <td>GEN</td>\n",
       "      <td>Mid</td>\n",
       "      <td>20</td>\n",
       "    </tr>\n",
       "    <tr>\n",
       "      <th>69</th>\n",
       "      <td>Ryu</td>\n",
       "      <td>100</td>\n",
       "      <td>Mid</td>\n",
       "      <td>20</td>\n",
       "    </tr>\n",
       "    <tr>\n",
       "      <th>77</th>\n",
       "      <td>Stitch</td>\n",
       "      <td>GRX</td>\n",
       "      <td>ADC</td>\n",
       "      <td>21</td>\n",
       "    </tr>\n",
       "    <tr>\n",
       "      <th>73</th>\n",
       "      <td>Palette</td>\n",
       "      <td>PVB</td>\n",
       "      <td>Support</td>\n",
       "      <td>23</td>\n",
       "    </tr>\n",
       "    <tr>\n",
       "      <th>86</th>\n",
       "      <td>Liang</td>\n",
       "      <td>MAD</td>\n",
       "      <td>Top</td>\n",
       "      <td>23</td>\n",
       "    </tr>\n",
       "    <tr>\n",
       "      <th>67</th>\n",
       "      <td>Kikis</td>\n",
       "      <td>VIT</td>\n",
       "      <td>Jungle</td>\n",
       "      <td>25</td>\n",
       "    </tr>\n",
       "    <tr>\n",
       "      <th>64</th>\n",
       "      <td>Svenskeren</td>\n",
       "      <td>C9</td>\n",
       "      <td>Jungle</td>\n",
       "      <td>25</td>\n",
       "    </tr>\n",
       "    <tr>\n",
       "      <th>76</th>\n",
       "      <td>Zeros</td>\n",
       "      <td>PVB</td>\n",
       "      <td>Top</td>\n",
       "      <td>26</td>\n",
       "    </tr>\n",
       "    <tr>\n",
       "      <th>71</th>\n",
       "      <td>Jactroll</td>\n",
       "      <td>VIT</td>\n",
       "      <td>Support</td>\n",
       "      <td>27</td>\n",
       "    </tr>\n",
       "    <tr>\n",
       "      <th>84</th>\n",
       "      <td>Koala</td>\n",
       "      <td>GRX</td>\n",
       "      <td>Support</td>\n",
       "      <td>28</td>\n",
       "    </tr>\n",
       "    <tr>\n",
       "      <th>48</th>\n",
       "      <td>Rikara</td>\n",
       "      <td>100</td>\n",
       "      <td>ADC</td>\n",
       "      <td>32</td>\n",
       "    </tr>\n",
       "  </tbody>\n",
       "</table>\n",
       "</div>"
      ],
      "text/plain": [
       "          Name Team Position  Deaths\n",
       "79          PK  GRX      Top      19\n",
       "57       Perkz   G2      Mid      20\n",
       "70       Crown  GEN      Mid      20\n",
       "69         Ryu  100      Mid      20\n",
       "77      Stitch  GRX      ADC      21\n",
       "73     Palette  PVB  Support      23\n",
       "86       Liang  MAD      Top      23\n",
       "67       Kikis  VIT   Jungle      25\n",
       "64  Svenskeren   C9   Jungle      25\n",
       "76       Zeros  PVB      Top      26\n",
       "71    Jactroll  VIT  Support      27\n",
       "84       Koala  GRX  Support      28\n",
       "48      Rikara  100      ADC      32"
      ]
     },
     "execution_count": 21,
     "metadata": {},
     "output_type": "execute_result"
    }
   ],
   "source": [
    "death = data[['Name', 'Team', 'Position', 'Deaths']]\n",
    "deaths = death.sort_values(by = ['Deaths'])\n",
    "deaths = deaths[-13:]\n",
    "deaths"
   ]
  },
  {
   "cell_type": "code",
   "execution_count": 22,
   "metadata": {},
   "outputs": [
    {
     "data": {
      "text/plain": [
       "[('Top', 3), ('Mid', 3), ('Support', 3), ('ADC', 2), ('Jungle', 2)]"
      ]
     },
     "execution_count": 22,
     "metadata": {},
     "output_type": "execute_result"
    }
   ],
   "source": [
    "roles = list(deaths['Position'])\n",
    "roles_n = Counter(roles)\n",
    "roles_n.most_common()"
   ]
  },
  {
   "cell_type": "code",
   "execution_count": 23,
   "metadata": {},
   "outputs": [
    {
     "name": "stdout",
     "output_type": "stream",
     "text": [
      "{'Top': 3, 'Mid': 3, 'Support': 3, 'ADC': 2, 'Jungle': 2}\n"
     ]
    }
   ],
   "source": [
    "x_pie4 = {}\n",
    "for i in range(len(roles_n)):\n",
    "    x_pie4[roles_n.most_common()[i][0]] = roles_n.most_common()[i][1]\n",
    "\n",
    "print(x_pie4)"
   ]
  },
  {
   "cell_type": "code",
   "execution_count": 123,
   "metadata": {},
   "outputs": [
    {
     "name": "stderr",
     "output_type": "stream",
     "text": [
      "BokehDeprecationWarning: 'legend' keyword is deprecated, use explicit 'legend_label', 'legend_field', or 'legend_group' keywords instead\n"
     ]
    },
    {
     "data": {
      "text/html": [
       "\n",
       "\n",
       "\n",
       "\n",
       "\n",
       "\n",
       "  <div class=\"bk-root\" id=\"d7891cd3-1ee5-4498-9c71-33e0c944d78c\" data-root-id=\"21537\"></div>\n"
      ]
     },
     "metadata": {},
     "output_type": "display_data"
    },
    {
     "data": {
      "application/javascript": [
       "(function(root) {\n",
       "  function embed_document(root) {\n",
       "    \n",
       "  var docs_json = {\"b9b73433-f0a5-48db-82d6-2dc7b74824c0\":{\"roots\":{\"references\":[{\"attributes\":{\"below\":[{\"id\":\"21548\",\"type\":\"LinearAxis\"}],\"center\":[{\"id\":\"21552\",\"type\":\"Grid\"},{\"id\":\"21557\",\"type\":\"Grid\"},{\"id\":\"21574\",\"type\":\"Legend\"},{\"id\":\"21578\",\"type\":\"LabelSet\"}],\"left\":[{\"id\":\"21553\",\"type\":\"LinearAxis\"}],\"plot_height\":400,\"plot_width\":1000,\"renderers\":[{\"id\":\"21567\",\"type\":\"GlyphRenderer\"}],\"title\":{\"id\":\"21538\",\"type\":\"Title\"},\"toolbar\":{\"id\":\"21559\",\"type\":\"Toolbar\"},\"toolbar_location\":null,\"x_range\":{\"id\":\"21540\",\"type\":\"DataRange1d\"},\"x_scale\":{\"id\":\"21544\",\"type\":\"LinearScale\"},\"y_range\":{\"id\":\"21542\",\"type\":\"DataRange1d\"},\"y_scale\":{\"id\":\"21546\",\"type\":\"LinearScale\"}},\"id\":\"21537\",\"subtype\":\"Figure\",\"type\":\"Plot\"},{\"attributes\":{\"grid_line_color\":null,\"ticker\":{\"id\":\"21549\",\"type\":\"BasicTicker\"}},\"id\":\"21552\",\"type\":\"Grid\"},{\"attributes\":{\"axis_label\":null,\"formatter\":{\"id\":\"21571\",\"type\":\"BasicTickFormatter\"},\"ticker\":{\"id\":\"21554\",\"type\":\"BasicTicker\"},\"visible\":false},\"id\":\"21553\",\"type\":\"LinearAxis\"},{\"attributes\":{\"data_source\":{\"id\":\"21563\",\"type\":\"ColumnDataSource\"},\"glyph\":{\"id\":\"21565\",\"type\":\"Wedge\"},\"hover_glyph\":null,\"muted_glyph\":null,\"nonselection_glyph\":{\"id\":\"21566\",\"type\":\"Wedge\"},\"selection_glyph\":null,\"view\":{\"id\":\"21568\",\"type\":\"CDSView\"}},\"id\":\"21567\",\"type\":\"GlyphRenderer\"},{\"attributes\":{\"callback\":null,\"data\":{\"angle\":{\"__ndarray__\":\"PgJ6YQ8z9z8+AnphDzP3Pz4CemEPM/c/qK2iLL/u7j+oraIsv+7uPw==\",\"dtype\":\"float64\",\"shape\":[5]},\"color\":[\"#b30000\",\"#e34a33\",\"#fc8d59\",\"#fdcc8a\",\"#fef0d9\"],\"index\":[0,1,2,3,4],\"role\":[\"Top\",\"Mid\",\"Support\",\"ADC\",\"Jungle\"],\"value\":[\"                                  3\",\"                                  3\",\"                                  3\",\"                                  2\",\"                                  2\"]},\"selected\":{\"id\":\"22177\",\"type\":\"Selection\"},\"selection_policy\":{\"id\":\"22178\",\"type\":\"UnionRenderers\"}},\"id\":\"21576\",\"type\":\"ColumnDataSource\"},{\"attributes\":{},\"id\":\"21554\",\"type\":\"BasicTicker\"},{\"attributes\":{\"field\":\"angle\",\"include_zero\":true},\"id\":\"21577\",\"type\":\"CumSum\"},{\"attributes\":{\"dimension\":1,\"grid_line_color\":null,\"ticker\":{\"id\":\"21554\",\"type\":\"BasicTicker\"}},\"id\":\"21557\",\"type\":\"Grid\"},{\"attributes\":{\"active_drag\":\"auto\",\"active_inspect\":\"auto\",\"active_multi\":null,\"active_scroll\":\"auto\",\"active_tap\":\"auto\",\"tools\":[{\"id\":\"21558\",\"type\":\"HoverTool\"}]},\"id\":\"21559\",\"type\":\"Toolbar\"},{\"attributes\":{\"callback\":null,\"tooltips\":\"@role: @value\"},\"id\":\"21558\",\"type\":\"HoverTool\"},{\"attributes\":{\"end_angle\":{\"expr\":{\"id\":\"21562\",\"type\":\"CumSum\"},\"units\":\"rad\"},\"fill_color\":{\"field\":\"color\"},\"line_color\":{\"value\":\"white\"},\"radius\":{\"units\":\"data\",\"value\":0.3},\"start_angle\":{\"expr\":{\"id\":\"21561\",\"type\":\"CumSum\"},\"units\":\"rad\"},\"x\":{\"value\":0},\"y\":{\"value\":1}},\"id\":\"21565\",\"type\":\"Wedge\"},{\"attributes\":{\"items\":[{\"id\":\"21575\",\"type\":\"LegendItem\"}]},\"id\":\"21574\",\"type\":\"Legend\"},{\"attributes\":{\"field\":\"angle\"},\"id\":\"21562\",\"type\":\"CumSum\"},{\"attributes\":{\"end_angle\":{\"expr\":{\"id\":\"21562\",\"type\":\"CumSum\"},\"units\":\"rad\"},\"fill_alpha\":{\"value\":0.1},\"fill_color\":{\"value\":\"#1f77b4\"},\"line_alpha\":{\"value\":0.1},\"line_color\":{\"value\":\"#1f77b4\"},\"radius\":{\"units\":\"data\",\"value\":0.3},\"start_angle\":{\"expr\":{\"id\":\"21561\",\"type\":\"CumSum\"},\"units\":\"rad\"},\"x\":{\"value\":0},\"y\":{\"value\":1}},\"id\":\"21566\",\"type\":\"Wedge\"},{\"attributes\":{\"callback\":null,\"data\":{\"angle\":{\"__ndarray__\":\"PgJ6YQ8z9z8+AnphDzP3Pz4CemEPM/c/qK2iLL/u7j+oraIsv+7uPw==\",\"dtype\":\"float64\",\"shape\":[5]},\"color\":[\"#b30000\",\"#e34a33\",\"#fc8d59\",\"#fdcc8a\",\"#fef0d9\"],\"index\":[0,1,2,3,4],\"role\":[\"Top\",\"Mid\",\"Support\",\"ADC\",\"Jungle\"],\"value\":[3,3,3,2,2]},\"selected\":{\"id\":\"22175\",\"type\":\"Selection\"},\"selection_policy\":{\"id\":\"22176\",\"type\":\"UnionRenderers\"}},\"id\":\"21563\",\"type\":\"ColumnDataSource\"},{\"attributes\":{},\"id\":\"21573\",\"type\":\"BasicTickFormatter\"},{\"attributes\":{\"text\":\"Representantes de muertes por rol\"},\"id\":\"21538\",\"type\":\"Title\"},{\"attributes\":{},\"id\":\"22176\",\"type\":\"UnionRenderers\"},{\"attributes\":{\"callback\":null},\"id\":\"21542\",\"type\":\"DataRange1d\"},{\"attributes\":{\"angle\":{\"expr\":{\"id\":\"21577\",\"type\":\"CumSum\"},\"units\":\"rad\"},\"level\":\"glyph\",\"source\":{\"id\":\"21576\",\"type\":\"ColumnDataSource\"},\"text\":{\"field\":\"value\"},\"x\":{\"value\":0},\"y\":{\"value\":1}},\"id\":\"21578\",\"type\":\"LabelSet\"},{\"attributes\":{\"source\":{\"id\":\"21563\",\"type\":\"ColumnDataSource\"}},\"id\":\"21568\",\"type\":\"CDSView\"},{\"attributes\":{\"callback\":null},\"id\":\"21540\",\"type\":\"DataRange1d\"},{\"attributes\":{},\"id\":\"22175\",\"type\":\"Selection\"},{\"attributes\":{},\"id\":\"21544\",\"type\":\"LinearScale\"},{\"attributes\":{\"field\":\"angle\",\"include_zero\":true},\"id\":\"21561\",\"type\":\"CumSum\"},{\"attributes\":{},\"id\":\"22177\",\"type\":\"Selection\"},{\"attributes\":{},\"id\":\"21546\",\"type\":\"LinearScale\"},{\"attributes\":{},\"id\":\"21571\",\"type\":\"BasicTickFormatter\"},{\"attributes\":{},\"id\":\"22178\",\"type\":\"UnionRenderers\"},{\"attributes\":{\"axis_label\":null,\"formatter\":{\"id\":\"21573\",\"type\":\"BasicTickFormatter\"},\"ticker\":{\"id\":\"21549\",\"type\":\"BasicTicker\"},\"visible\":false},\"id\":\"21548\",\"type\":\"LinearAxis\"},{\"attributes\":{\"label\":{\"field\":\"role\"},\"renderers\":[{\"id\":\"21567\",\"type\":\"GlyphRenderer\"}]},\"id\":\"21575\",\"type\":\"LegendItem\"},{\"attributes\":{},\"id\":\"21549\",\"type\":\"BasicTicker\"}],\"root_ids\":[\"21537\"]},\"title\":\"Bokeh Application\",\"version\":\"1.4.0\"}};\n",
       "  var render_items = [{\"docid\":\"b9b73433-f0a5-48db-82d6-2dc7b74824c0\",\"roots\":{\"21537\":\"d7891cd3-1ee5-4498-9c71-33e0c944d78c\"}}];\n",
       "  root.Bokeh.embed.embed_items_notebook(docs_json, render_items);\n",
       "\n",
       "  }\n",
       "  if (root.Bokeh !== undefined) {\n",
       "    embed_document(root);\n",
       "  } else {\n",
       "    var attempts = 0;\n",
       "    var timer = setInterval(function(root) {\n",
       "      if (root.Bokeh !== undefined) {\n",
       "        clearInterval(timer);\n",
       "        embed_document(root);\n",
       "      } else {\n",
       "        attempts++;\n",
       "        if (attempts > 100) {\n",
       "          clearInterval(timer);\n",
       "          console.log(\"Bokeh: ERROR: Unable to run BokehJS code because BokehJS library is missing\");\n",
       "        }\n",
       "      }\n",
       "    }, 10, root)\n",
       "  }\n",
       "})(window);"
      ],
      "application/vnd.bokehjs_exec.v0+json": ""
     },
     "metadata": {
      "application/vnd.bokehjs_exec.v0+json": {
       "id": "21537"
      }
     },
     "output_type": "display_data"
    }
   ],
   "source": [
    "data_pie = pd.Series(x_pie4).reset_index(name='value').rename(columns={'index':'role'})\n",
    "data_pie['angle'] = data_pie['value']/data_pie['value'].sum() * 2*pi\n",
    "data_pie['color'] = OrRd[len(x_pie4)]\n",
    "\n",
    "p_pie4 = figure(plot_height=400, plot_width = 1000, title=\"Representantes de muertes por rol\", toolbar_location=None,\n",
    "        tools=\"hover\", tooltips=\"@role: @value\")\n",
    "\n",
    "p_pie4.wedge(x=0, y=1, radius=0.30,\n",
    "        start_angle=cumsum('angle', include_zero=True), end_angle=cumsum('angle'),\n",
    "        line_color=\"white\", fill_color='color', legend='role', source=data_pie)\n",
    "\n",
    "data_pie[\"value\"] = data_pie['value'].astype(str)\n",
    "data_pie[\"value\"] = data_pie[\"value\"].str.pad(35, side = \"left\")\n",
    "source = ColumnDataSource(data_pie)\n",
    "\n",
    "labels = LabelSet(x=0, y=1, text='value', level='glyph',\n",
    "        angle=cumsum('angle', include_zero=True), source=source, render_mode='canvas')\n",
    "\n",
    "p_pie4.add_layout(labels)\n",
    "\n",
    "p_pie4.axis.axis_label=None\n",
    "p_pie4.axis.visible=False\n",
    "p_pie4.grid.grid_line_color = None\n",
    "\n",
    "show(p_pie4)"
   ]
  },
  {
   "cell_type": "code",
   "execution_count": 124,
   "metadata": {},
   "outputs": [
    {
     "name": "stdout",
     "output_type": "stream",
     "text": [
      "['GRX Top', 'G2 Mid', 'GEN Mid', '100 Mid', 'GRX ADC', 'PVB Support', 'MAD Top', 'VIT Jungle', 'C9 Jungle', 'PVB Top', 'VIT Support', 'GRX Support', '100 ADC'] [19, 20, 20, 20, 21, 23, 23, 25, 25, 26, 27, 28, 32]\n"
     ]
    }
   ],
   "source": [
    "dead_na = []\n",
    "dead_co = []\n",
    "for i in range(len(deaths)):\n",
    "    name = deaths.iloc[i]['Team'] + \" \" + deaths.iloc[i]['Position']\n",
    "    dead_na.append(name)\n",
    "    dead_co.append(deaths.iloc[i]['Deaths'])\n",
    "    \n",
    "print(dead_na, dead_co)"
   ]
  },
  {
   "cell_type": "code",
   "execution_count": 125,
   "metadata": {},
   "outputs": [
    {
     "data": {
      "text/html": [
       "\n",
       "\n",
       "\n",
       "\n",
       "\n",
       "\n",
       "  <div class=\"bk-root\" id=\"a5d2e8dc-f8b1-41e7-85ea-fb56646059f2\" data-root-id=\"22233\"></div>\n"
      ]
     },
     "metadata": {},
     "output_type": "display_data"
    },
    {
     "data": {
      "application/javascript": [
       "(function(root) {\n",
       "  function embed_document(root) {\n",
       "    \n",
       "  var docs_json = {\"cb63838a-7b80-4fd9-8e86-0925640f67b1\":{\"roots\":{\"references\":[{\"attributes\":{\"below\":[{\"id\":\"22244\",\"type\":\"CategoricalAxis\"}],\"center\":[{\"id\":\"22247\",\"type\":\"Grid\"},{\"id\":\"22252\",\"type\":\"Grid\"}],\"left\":[{\"id\":\"22248\",\"type\":\"LinearAxis\"}],\"plot_height\":250,\"plot_width\":1000,\"renderers\":[{\"id\":\"22269\",\"type\":\"GlyphRenderer\"}],\"title\":{\"id\":\"22234\",\"type\":\"Title\"},\"toolbar\":{\"id\":\"22259\",\"type\":\"Toolbar\"},\"x_range\":{\"id\":\"22236\",\"type\":\"FactorRange\"},\"x_scale\":{\"id\":\"22240\",\"type\":\"CategoricalScale\"},\"y_range\":{\"id\":\"22238\",\"type\":\"DataRange1d\"},\"y_scale\":{\"id\":\"22242\",\"type\":\"LinearScale\"}},\"id\":\"22233\",\"subtype\":\"Figure\",\"type\":\"Plot\"},{\"attributes\":{\"callback\":null,\"factors\":[\"GRX Top\",\"G2 Mid\",\"GEN Mid\",\"100 Mid\",\"GRX ADC\",\"PVB Support\",\"MAD Top\",\"VIT Jungle\",\"C9 Jungle\",\"PVB Top\",\"VIT Support\",\"GRX Support\",\"100 ADC\"]},\"id\":\"22236\",\"type\":\"FactorRange\"},{\"attributes\":{\"callback\":null},\"id\":\"22238\",\"type\":\"DataRange1d\"},{\"attributes\":{\"fill_alpha\":{\"value\":0.1},\"fill_color\":{\"value\":\"#1f77b4\"},\"line_alpha\":{\"value\":0.1},\"line_color\":{\"value\":\"#1f77b4\"},\"top\":{\"field\":\"top\"},\"width\":{\"value\":0.9},\"x\":{\"field\":\"x\"}},\"id\":\"22268\",\"type\":\"VBar\"},{\"attributes\":{},\"id\":\"22256\",\"type\":\"SaveTool\"},{\"attributes\":{\"overlay\":{\"id\":\"22877\",\"type\":\"BoxAnnotation\"}},\"id\":\"22255\",\"type\":\"BoxZoomTool\"},{\"attributes\":{\"active_drag\":\"auto\",\"active_inspect\":\"auto\",\"active_multi\":null,\"active_scroll\":\"auto\",\"active_tap\":\"auto\",\"tools\":[{\"id\":\"22253\",\"type\":\"PanTool\"},{\"id\":\"22254\",\"type\":\"WheelZoomTool\"},{\"id\":\"22255\",\"type\":\"BoxZoomTool\"},{\"id\":\"22256\",\"type\":\"SaveTool\"},{\"id\":\"22257\",\"type\":\"ResetTool\"},{\"id\":\"22258\",\"type\":\"HelpTool\"}]},\"id\":\"22259\",\"type\":\"Toolbar\"},{\"attributes\":{},\"id\":\"22258\",\"type\":\"HelpTool\"},{\"attributes\":{},\"id\":\"22245\",\"type\":\"CategoricalTicker\"},{\"attributes\":{},\"id\":\"22257\",\"type\":\"ResetTool\"},{\"attributes\":{},\"id\":\"22254\",\"type\":\"WheelZoomTool\"},{\"attributes\":{\"bottom_units\":\"screen\",\"fill_alpha\":{\"value\":0.5},\"fill_color\":{\"value\":\"lightgrey\"},\"left_units\":\"screen\",\"level\":\"overlay\",\"line_alpha\":{\"value\":1.0},\"line_color\":{\"value\":\"black\"},\"line_dash\":[4,4],\"line_width\":{\"value\":2},\"render_mode\":\"css\",\"right_units\":\"screen\",\"top_units\":\"screen\"},\"id\":\"22877\",\"type\":\"BoxAnnotation\"},{\"attributes\":{\"source\":{\"id\":\"22266\",\"type\":\"ColumnDataSource\"}},\"id\":\"22270\",\"type\":\"CDSView\"},{\"attributes\":{\"fill_color\":{\"field\":\"fill_color\"},\"line_color\":{\"field\":\"line_color\"},\"top\":{\"field\":\"top\"},\"width\":{\"value\":0.9},\"x\":{\"field\":\"x\"}},\"id\":\"22267\",\"type\":\"VBar\"},{\"attributes\":{},\"id\":\"22876\",\"type\":\"UnionRenderers\"},{\"attributes\":{\"formatter\":{\"id\":\"22872\",\"type\":\"BasicTickFormatter\"},\"ticker\":{\"id\":\"22249\",\"type\":\"BasicTicker\"}},\"id\":\"22248\",\"type\":\"LinearAxis\"},{\"attributes\":{},\"id\":\"22875\",\"type\":\"Selection\"},{\"attributes\":{},\"id\":\"22253\",\"type\":\"PanTool\"},{\"attributes\":{},\"id\":\"22874\",\"type\":\"CategoricalTickFormatter\"},{\"attributes\":{},\"id\":\"22872\",\"type\":\"BasicTickFormatter\"},{\"attributes\":{\"text\":\"Muertes por jugador\"},\"id\":\"22234\",\"type\":\"Title\"},{\"attributes\":{\"data_source\":{\"id\":\"22266\",\"type\":\"ColumnDataSource\"},\"glyph\":{\"id\":\"22267\",\"type\":\"VBar\"},\"hover_glyph\":null,\"muted_glyph\":null,\"nonselection_glyph\":{\"id\":\"22268\",\"type\":\"VBar\"},\"selection_glyph\":null,\"view\":{\"id\":\"22270\",\"type\":\"CDSView\"}},\"id\":\"22269\",\"type\":\"GlyphRenderer\"},{\"attributes\":{\"dimension\":1,\"ticker\":{\"id\":\"22249\",\"type\":\"BasicTicker\"},\"visible\":false},\"id\":\"22252\",\"type\":\"Grid\"},{\"attributes\":{},\"id\":\"22249\",\"type\":\"BasicTicker\"},{\"attributes\":{\"ticker\":{\"id\":\"22245\",\"type\":\"CategoricalTicker\"},\"visible\":false},\"id\":\"22247\",\"type\":\"Grid\"},{\"attributes\":{\"callback\":null,\"data\":{\"fill_color\":[\"#40bfc1\",\"#40bfc1\",\"#40bfc1\",\"#40bfc1\",\"#40bfc1\",\"#f5f0e3\",\"#f5f0e3\",\"#f5f0e3\",\"#f5f0e3\",\"#ff6f5e\",\"#ff6f5e\",\"#ff6f5e\",\"#f0134d\"],\"line_color\":[\"#40bfc1\",\"#40bfc1\",\"#40bfc1\",\"#40bfc1\",\"#40bfc1\",\"#f5f0e3\",\"#f5f0e3\",\"#f5f0e3\",\"#f5f0e3\",\"#ff6f5e\",\"#ff6f5e\",\"#ff6f5e\",\"#f0134d\"],\"top\":[19,20,20,20,21,23,23,25,25,26,27,28,32],\"x\":[\"GRX Top\",\"G2 Mid\",\"GEN Mid\",\"100 Mid\",\"GRX ADC\",\"PVB Support\",\"MAD Top\",\"VIT Jungle\",\"C9 Jungle\",\"PVB Top\",\"VIT Support\",\"GRX Support\",\"100 ADC\"]},\"selected\":{\"id\":\"22875\",\"type\":\"Selection\"},\"selection_policy\":{\"id\":\"22876\",\"type\":\"UnionRenderers\"}},\"id\":\"22266\",\"type\":\"ColumnDataSource\"},{\"attributes\":{},\"id\":\"22242\",\"type\":\"LinearScale\"},{\"attributes\":{},\"id\":\"22240\",\"type\":\"CategoricalScale\"},{\"attributes\":{\"formatter\":{\"id\":\"22874\",\"type\":\"CategoricalTickFormatter\"},\"ticker\":{\"id\":\"22245\",\"type\":\"CategoricalTicker\"}},\"id\":\"22244\",\"type\":\"CategoricalAxis\"}],\"root_ids\":[\"22233\"]},\"title\":\"Bokeh Application\",\"version\":\"1.4.0\"}};\n",
       "  var render_items = [{\"docid\":\"cb63838a-7b80-4fd9-8e86-0925640f67b1\",\"roots\":{\"22233\":\"a5d2e8dc-f8b1-41e7-85ea-fb56646059f2\"}}];\n",
       "  root.Bokeh.embed.embed_items_notebook(docs_json, render_items);\n",
       "\n",
       "  }\n",
       "  if (root.Bokeh !== undefined) {\n",
       "    embed_document(root);\n",
       "  } else {\n",
       "    var attempts = 0;\n",
       "    var timer = setInterval(function(root) {\n",
       "      if (root.Bokeh !== undefined) {\n",
       "        clearInterval(timer);\n",
       "        embed_document(root);\n",
       "      } else {\n",
       "        attempts++;\n",
       "        if (attempts > 100) {\n",
       "          clearInterval(timer);\n",
       "          console.log(\"Bokeh: ERROR: Unable to run BokehJS code because BokehJS library is missing\");\n",
       "        }\n",
       "      }\n",
       "    }, 10, root)\n",
       "  }\n",
       "})(window);"
      ],
      "application/vnd.bokehjs_exec.v0+json": ""
     },
     "metadata": {
      "application/vnd.bokehjs_exec.v0+json": {
       "id": "22233"
      }
     },
     "output_type": "display_data"
    }
   ],
   "source": [
    "p4 = figure(x_range = dead_na, plot_height=250, plot_width = 1000, title=\"Muertes por jugador\")\n",
    "p4.vbar(x = dead_na, top = dead_co, width = 0.9, color = [\"#40bfc1\", \"#40bfc1\", \"#40bfc1\", \"#40bfc1\", \"#40bfc1\", \"#f5f0e3\", \"#f5f0e3\", \"#f5f0e3\", \"#f5f0e3\", '#ff6f5e', '#ff6f5e', '#ff6f5e', '#f0134d'])\n",
    "p4.xgrid.visible = False\n",
    "p4.ygrid.visible = False\n",
    "show(p4)"
   ]
  },
  {
   "cell_type": "code",
   "execution_count": 126,
   "metadata": {},
   "outputs": [
    {
     "data": {
      "text/html": [
       "\n",
       "\n",
       "\n",
       "\n",
       "\n",
       "\n",
       "  <div class=\"bk-root\" id=\"9669dbc1-8a84-403d-b845-bf6d0c2e3517\" data-root-id=\"22948\"></div>\n"
      ]
     },
     "metadata": {},
     "output_type": "display_data"
    },
    {
     "data": {
      "application/javascript": [
       "(function(root) {\n",
       "  function embed_document(root) {\n",
       "    \n",
       "  var docs_json = {\"481d2e02-cff2-4728-b5dd-ce3da862a2ed\":{\"roots\":{\"references\":[{\"attributes\":{\"children\":[{\"id\":\"22945\",\"type\":\"GridBox\"},{\"id\":\"22947\",\"type\":\"ToolbarBox\"}]},\"id\":\"22948\",\"type\":\"Row\"},{\"attributes\":{\"callback\":null,\"factors\":[\"GRX Top\",\"G2 Mid\",\"GEN Mid\",\"100 Mid\",\"GRX ADC\",\"PVB Support\",\"MAD Top\",\"VIT Jungle\",\"C9 Jungle\",\"PVB Top\",\"VIT Support\",\"GRX Support\",\"100 ADC\"]},\"id\":\"22236\",\"type\":\"FactorRange\"},{\"attributes\":{\"grid_line_color\":null,\"ticker\":{\"id\":\"21549\",\"type\":\"BasicTicker\"}},\"id\":\"21552\",\"type\":\"Grid\"},{\"attributes\":{\"callback\":null},\"id\":\"22238\",\"type\":\"DataRange1d\"},{\"attributes\":{\"fill_alpha\":{\"value\":0.1},\"fill_color\":{\"value\":\"#1f77b4\"},\"line_alpha\":{\"value\":0.1},\"line_color\":{\"value\":\"#1f77b4\"},\"top\":{\"field\":\"top\"},\"width\":{\"value\":0.9},\"x\":{\"field\":\"x\"}},\"id\":\"22268\",\"type\":\"VBar\"},{\"attributes\":{\"tools\":[{\"id\":\"22253\",\"type\":\"PanTool\"},{\"id\":\"22254\",\"type\":\"WheelZoomTool\"},{\"id\":\"22255\",\"type\":\"BoxZoomTool\"},{\"id\":\"22256\",\"type\":\"SaveTool\"},{\"id\":\"22257\",\"type\":\"ResetTool\"},{\"id\":\"22258\",\"type\":\"HelpTool\"},{\"id\":\"21558\",\"type\":\"HoverTool\"}]},\"id\":\"22946\",\"type\":\"ProxyToolbar\"},{\"attributes\":{\"axis_label\":null,\"formatter\":{\"id\":\"21571\",\"type\":\"BasicTickFormatter\"},\"ticker\":{\"id\":\"21554\",\"type\":\"BasicTicker\"},\"visible\":false},\"id\":\"21553\",\"type\":\"LinearAxis\"},{\"attributes\":{\"data_source\":{\"id\":\"21563\",\"type\":\"ColumnDataSource\"},\"glyph\":{\"id\":\"21565\",\"type\":\"Wedge\"},\"hover_glyph\":null,\"muted_glyph\":null,\"nonselection_glyph\":{\"id\":\"21566\",\"type\":\"Wedge\"},\"selection_glyph\":null,\"view\":{\"id\":\"21568\",\"type\":\"CDSView\"}},\"id\":\"21567\",\"type\":\"GlyphRenderer\"},{\"attributes\":{},\"id\":\"22256\",\"type\":\"SaveTool\"},{\"attributes\":{\"callback\":null,\"data\":{\"angle\":{\"__ndarray__\":\"PgJ6YQ8z9z8+AnphDzP3Pz4CemEPM/c/qK2iLL/u7j+oraIsv+7uPw==\",\"dtype\":\"float64\",\"shape\":[5]},\"color\":[\"#b30000\",\"#e34a33\",\"#fc8d59\",\"#fdcc8a\",\"#fef0d9\"],\"index\":[0,1,2,3,4],\"role\":[\"Top\",\"Mid\",\"Support\",\"ADC\",\"Jungle\"],\"value\":[\"                                  3\",\"                                  3\",\"                                  3\",\"                                  2\",\"                                  2\"]},\"selected\":{\"id\":\"22177\",\"type\":\"Selection\"},\"selection_policy\":{\"id\":\"22178\",\"type\":\"UnionRenderers\"}},\"id\":\"21576\",\"type\":\"ColumnDataSource\"},{\"attributes\":{},\"id\":\"21554\",\"type\":\"BasicTicker\"},{\"attributes\":{\"overlay\":{\"id\":\"22877\",\"type\":\"BoxAnnotation\"}},\"id\":\"22255\",\"type\":\"BoxZoomTool\"},{\"attributes\":{\"field\":\"angle\",\"include_zero\":true},\"id\":\"21577\",\"type\":\"CumSum\"},{\"attributes\":{\"dimension\":1,\"grid_line_color\":null,\"ticker\":{\"id\":\"21554\",\"type\":\"BasicTicker\"}},\"id\":\"21557\",\"type\":\"Grid\"},{\"attributes\":{\"active_drag\":\"auto\",\"active_inspect\":\"auto\",\"active_multi\":null,\"active_scroll\":\"auto\",\"active_tap\":\"auto\",\"tools\":[{\"id\":\"22253\",\"type\":\"PanTool\"},{\"id\":\"22254\",\"type\":\"WheelZoomTool\"},{\"id\":\"22255\",\"type\":\"BoxZoomTool\"},{\"id\":\"22256\",\"type\":\"SaveTool\"},{\"id\":\"22257\",\"type\":\"ResetTool\"},{\"id\":\"22258\",\"type\":\"HelpTool\"}]},\"id\":\"22259\",\"type\":\"Toolbar\"},{\"attributes\":{},\"id\":\"22258\",\"type\":\"HelpTool\"},{\"attributes\":{\"active_drag\":\"auto\",\"active_inspect\":\"auto\",\"active_multi\":null,\"active_scroll\":\"auto\",\"active_tap\":\"auto\",\"tools\":[{\"id\":\"21558\",\"type\":\"HoverTool\"}]},\"id\":\"21559\",\"type\":\"Toolbar\"},{\"attributes\":{},\"id\":\"22245\",\"type\":\"CategoricalTicker\"},{\"attributes\":{},\"id\":\"22257\",\"type\":\"ResetTool\"},{\"attributes\":{\"callback\":null,\"tooltips\":\"@role: @value\"},\"id\":\"21558\",\"type\":\"HoverTool\"},{\"attributes\":{},\"id\":\"22254\",\"type\":\"WheelZoomTool\"},{\"attributes\":{\"bottom_units\":\"screen\",\"fill_alpha\":{\"value\":0.5},\"fill_color\":{\"value\":\"lightgrey\"},\"left_units\":\"screen\",\"level\":\"overlay\",\"line_alpha\":{\"value\":1.0},\"line_color\":{\"value\":\"black\"},\"line_dash\":[4,4],\"line_width\":{\"value\":2},\"render_mode\":\"css\",\"right_units\":\"screen\",\"top_units\":\"screen\"},\"id\":\"22877\",\"type\":\"BoxAnnotation\"},{\"attributes\":{\"toolbar\":{\"id\":\"22946\",\"type\":\"ProxyToolbar\"}},\"id\":\"22947\",\"type\":\"ToolbarBox\"},{\"attributes\":{\"source\":{\"id\":\"22266\",\"type\":\"ColumnDataSource\"}},\"id\":\"22270\",\"type\":\"CDSView\"},{\"attributes\":{\"end_angle\":{\"expr\":{\"id\":\"21562\",\"type\":\"CumSum\"},\"units\":\"rad\"},\"fill_color\":{\"field\":\"color\"},\"line_color\":{\"value\":\"white\"},\"radius\":{\"units\":\"data\",\"value\":0.3},\"start_angle\":{\"expr\":{\"id\":\"21561\",\"type\":\"CumSum\"},\"units\":\"rad\"},\"x\":{\"value\":0},\"y\":{\"value\":1}},\"id\":\"21565\",\"type\":\"Wedge\"},{\"attributes\":{\"fill_color\":{\"field\":\"fill_color\"},\"line_color\":{\"field\":\"line_color\"},\"top\":{\"field\":\"top\"},\"width\":{\"value\":0.9},\"x\":{\"field\":\"x\"}},\"id\":\"22267\",\"type\":\"VBar\"},{\"attributes\":{\"items\":[{\"id\":\"21575\",\"type\":\"LegendItem\"}]},\"id\":\"21574\",\"type\":\"Legend\"},{\"attributes\":{},\"id\":\"22876\",\"type\":\"UnionRenderers\"},{\"attributes\":{\"formatter\":{\"id\":\"22872\",\"type\":\"BasicTickFormatter\"},\"ticker\":{\"id\":\"22249\",\"type\":\"BasicTicker\"}},\"id\":\"22248\",\"type\":\"LinearAxis\"},{\"attributes\":{\"field\":\"angle\"},\"id\":\"21562\",\"type\":\"CumSum\"},{\"attributes\":{\"end_angle\":{\"expr\":{\"id\":\"21562\",\"type\":\"CumSum\"},\"units\":\"rad\"},\"fill_alpha\":{\"value\":0.1},\"fill_color\":{\"value\":\"#1f77b4\"},\"line_alpha\":{\"value\":0.1},\"line_color\":{\"value\":\"#1f77b4\"},\"radius\":{\"units\":\"data\",\"value\":0.3},\"start_angle\":{\"expr\":{\"id\":\"21561\",\"type\":\"CumSum\"},\"units\":\"rad\"},\"x\":{\"value\":0},\"y\":{\"value\":1}},\"id\":\"21566\",\"type\":\"Wedge\"},{\"attributes\":{},\"id\":\"22875\",\"type\":\"Selection\"},{\"attributes\":{},\"id\":\"22253\",\"type\":\"PanTool\"},{\"attributes\":{\"callback\":null,\"data\":{\"angle\":{\"__ndarray__\":\"PgJ6YQ8z9z8+AnphDzP3Pz4CemEPM/c/qK2iLL/u7j+oraIsv+7uPw==\",\"dtype\":\"float64\",\"shape\":[5]},\"color\":[\"#b30000\",\"#e34a33\",\"#fc8d59\",\"#fdcc8a\",\"#fef0d9\"],\"index\":[0,1,2,3,4],\"role\":[\"Top\",\"Mid\",\"Support\",\"ADC\",\"Jungle\"],\"value\":[3,3,3,2,2]},\"selected\":{\"id\":\"22175\",\"type\":\"Selection\"},\"selection_policy\":{\"id\":\"22176\",\"type\":\"UnionRenderers\"}},\"id\":\"21563\",\"type\":\"ColumnDataSource\"},{\"attributes\":{},\"id\":\"22874\",\"type\":\"CategoricalTickFormatter\"},{\"attributes\":{},\"id\":\"21573\",\"type\":\"BasicTickFormatter\"},{\"attributes\":{\"text\":\"Representantes de muertes por rol\"},\"id\":\"21538\",\"type\":\"Title\"},{\"attributes\":{},\"id\":\"22872\",\"type\":\"BasicTickFormatter\"},{\"attributes\":{},\"id\":\"22176\",\"type\":\"UnionRenderers\"},{\"attributes\":{\"text\":\"Muertes por jugador\"},\"id\":\"22234\",\"type\":\"Title\"},{\"attributes\":{\"callback\":null},\"id\":\"21542\",\"type\":\"DataRange1d\"},{\"attributes\":{\"data_source\":{\"id\":\"22266\",\"type\":\"ColumnDataSource\"},\"glyph\":{\"id\":\"22267\",\"type\":\"VBar\"},\"hover_glyph\":null,\"muted_glyph\":null,\"nonselection_glyph\":{\"id\":\"22268\",\"type\":\"VBar\"},\"selection_glyph\":null,\"view\":{\"id\":\"22270\",\"type\":\"CDSView\"}},\"id\":\"22269\",\"type\":\"GlyphRenderer\"},{\"attributes\":{\"angle\":{\"expr\":{\"id\":\"21577\",\"type\":\"CumSum\"},\"units\":\"rad\"},\"level\":\"glyph\",\"source\":{\"id\":\"21576\",\"type\":\"ColumnDataSource\"},\"text\":{\"field\":\"value\"},\"x\":{\"value\":0},\"y\":{\"value\":1}},\"id\":\"21578\",\"type\":\"LabelSet\"},{\"attributes\":{\"source\":{\"id\":\"21563\",\"type\":\"ColumnDataSource\"}},\"id\":\"21568\",\"type\":\"CDSView\"},{\"attributes\":{\"callback\":null},\"id\":\"21540\",\"type\":\"DataRange1d\"},{\"attributes\":{\"dimension\":1,\"ticker\":{\"id\":\"22249\",\"type\":\"BasicTicker\"},\"visible\":false},\"id\":\"22252\",\"type\":\"Grid\"},{\"attributes\":{\"children\":[[{\"id\":\"22233\",\"subtype\":\"Figure\",\"type\":\"Plot\"},0,0],[{\"id\":\"21537\",\"subtype\":\"Figure\",\"type\":\"Plot\"},1,0]]},\"id\":\"22945\",\"type\":\"GridBox\"},{\"attributes\":{},\"id\":\"22175\",\"type\":\"Selection\"},{\"attributes\":{},\"id\":\"21544\",\"type\":\"LinearScale\"},{\"attributes\":{\"below\":[{\"id\":\"22244\",\"type\":\"CategoricalAxis\"}],\"center\":[{\"id\":\"22247\",\"type\":\"Grid\"},{\"id\":\"22252\",\"type\":\"Grid\"}],\"left\":[{\"id\":\"22248\",\"type\":\"LinearAxis\"}],\"plot_height\":250,\"plot_width\":1000,\"renderers\":[{\"id\":\"22269\",\"type\":\"GlyphRenderer\"}],\"title\":{\"id\":\"22234\",\"type\":\"Title\"},\"toolbar\":{\"id\":\"22259\",\"type\":\"Toolbar\"},\"toolbar_location\":null,\"x_range\":{\"id\":\"22236\",\"type\":\"FactorRange\"},\"x_scale\":{\"id\":\"22240\",\"type\":\"CategoricalScale\"},\"y_range\":{\"id\":\"22238\",\"type\":\"DataRange1d\"},\"y_scale\":{\"id\":\"22242\",\"type\":\"LinearScale\"}},\"id\":\"22233\",\"subtype\":\"Figure\",\"type\":\"Plot\"},{\"attributes\":{},\"id\":\"22249\",\"type\":\"BasicTicker\"},{\"attributes\":{\"below\":[{\"id\":\"21548\",\"type\":\"LinearAxis\"}],\"center\":[{\"id\":\"21552\",\"type\":\"Grid\"},{\"id\":\"21557\",\"type\":\"Grid\"},{\"id\":\"21574\",\"type\":\"Legend\"},{\"id\":\"21578\",\"type\":\"LabelSet\"}],\"left\":[{\"id\":\"21553\",\"type\":\"LinearAxis\"}],\"plot_height\":400,\"plot_width\":1000,\"renderers\":[{\"id\":\"21567\",\"type\":\"GlyphRenderer\"}],\"title\":{\"id\":\"21538\",\"type\":\"Title\"},\"toolbar\":{\"id\":\"21559\",\"type\":\"Toolbar\"},\"toolbar_location\":null,\"x_range\":{\"id\":\"21540\",\"type\":\"DataRange1d\"},\"x_scale\":{\"id\":\"21544\",\"type\":\"LinearScale\"},\"y_range\":{\"id\":\"21542\",\"type\":\"DataRange1d\"},\"y_scale\":{\"id\":\"21546\",\"type\":\"LinearScale\"}},\"id\":\"21537\",\"subtype\":\"Figure\",\"type\":\"Plot\"},{\"attributes\":{},\"id\":\"21549\",\"type\":\"BasicTicker\"},{\"attributes\":{\"field\":\"angle\",\"include_zero\":true},\"id\":\"21561\",\"type\":\"CumSum\"},{\"attributes\":{},\"id\":\"22177\",\"type\":\"Selection\"},{\"attributes\":{\"ticker\":{\"id\":\"22245\",\"type\":\"CategoricalTicker\"},\"visible\":false},\"id\":\"22247\",\"type\":\"Grid\"},{\"attributes\":{\"callback\":null,\"data\":{\"fill_color\":[\"#40bfc1\",\"#40bfc1\",\"#40bfc1\",\"#40bfc1\",\"#40bfc1\",\"#f5f0e3\",\"#f5f0e3\",\"#f5f0e3\",\"#f5f0e3\",\"#ff6f5e\",\"#ff6f5e\",\"#ff6f5e\",\"#f0134d\"],\"line_color\":[\"#40bfc1\",\"#40bfc1\",\"#40bfc1\",\"#40bfc1\",\"#40bfc1\",\"#f5f0e3\",\"#f5f0e3\",\"#f5f0e3\",\"#f5f0e3\",\"#ff6f5e\",\"#ff6f5e\",\"#ff6f5e\",\"#f0134d\"],\"top\":[19,20,20,20,21,23,23,25,25,26,27,28,32],\"x\":[\"GRX Top\",\"G2 Mid\",\"GEN Mid\",\"100 Mid\",\"GRX ADC\",\"PVB Support\",\"MAD Top\",\"VIT Jungle\",\"C9 Jungle\",\"PVB Top\",\"VIT Support\",\"GRX Support\",\"100 ADC\"]},\"selected\":{\"id\":\"22875\",\"type\":\"Selection\"},\"selection_policy\":{\"id\":\"22876\",\"type\":\"UnionRenderers\"}},\"id\":\"22266\",\"type\":\"ColumnDataSource\"},{\"attributes\":{},\"id\":\"21546\",\"type\":\"LinearScale\"},{\"attributes\":{},\"id\":\"21571\",\"type\":\"BasicTickFormatter\"},{\"attributes\":{},\"id\":\"22178\",\"type\":\"UnionRenderers\"},{\"attributes\":{},\"id\":\"22242\",\"type\":\"LinearScale\"},{\"attributes\":{\"axis_label\":null,\"formatter\":{\"id\":\"21573\",\"type\":\"BasicTickFormatter\"},\"ticker\":{\"id\":\"21549\",\"type\":\"BasicTicker\"},\"visible\":false},\"id\":\"21548\",\"type\":\"LinearAxis\"},{\"attributes\":{},\"id\":\"22240\",\"type\":\"CategoricalScale\"},{\"attributes\":{\"label\":{\"field\":\"role\"},\"renderers\":[{\"id\":\"21567\",\"type\":\"GlyphRenderer\"}]},\"id\":\"21575\",\"type\":\"LegendItem\"},{\"attributes\":{\"formatter\":{\"id\":\"22874\",\"type\":\"CategoricalTickFormatter\"},\"ticker\":{\"id\":\"22245\",\"type\":\"CategoricalTicker\"}},\"id\":\"22244\",\"type\":\"CategoricalAxis\"}],\"root_ids\":[\"22948\"]},\"title\":\"Bokeh Application\",\"version\":\"1.4.0\"}};\n",
       "  var render_items = [{\"docid\":\"481d2e02-cff2-4728-b5dd-ce3da862a2ed\",\"roots\":{\"22948\":\"9669dbc1-8a84-403d-b845-bf6d0c2e3517\"}}];\n",
       "  root.Bokeh.embed.embed_items_notebook(docs_json, render_items);\n",
       "\n",
       "  }\n",
       "  if (root.Bokeh !== undefined) {\n",
       "    embed_document(root);\n",
       "  } else {\n",
       "    var attempts = 0;\n",
       "    var timer = setInterval(function(root) {\n",
       "      if (root.Bokeh !== undefined) {\n",
       "        clearInterval(timer);\n",
       "        embed_document(root);\n",
       "      } else {\n",
       "        attempts++;\n",
       "        if (attempts > 100) {\n",
       "          clearInterval(timer);\n",
       "          console.log(\"Bokeh: ERROR: Unable to run BokehJS code because BokehJS library is missing\");\n",
       "        }\n",
       "      }\n",
       "    }, 10, root)\n",
       "  }\n",
       "})(window);"
      ],
      "application/vnd.bokehjs_exec.v0+json": ""
     },
     "metadata": {
      "application/vnd.bokehjs_exec.v0+json": {
       "id": "22948"
      }
     },
     "output_type": "display_data"
    }
   ],
   "source": [
    "p = gridplot([[p4], [p_pie4]], toolbar_location = \"right\")\n",
    "show(p)"
   ]
  },
  {
   "cell_type": "markdown",
   "metadata": {},
   "source": [
    "### Que jugadores son los que mas asistieron a su equipo?"
   ]
  },
  {
   "cell_type": "code",
   "execution_count": 28,
   "metadata": {},
   "outputs": [
    {
     "data": {
      "text/html": [
       "<div>\n",
       "<style scoped>\n",
       "    .dataframe tbody tr th:only-of-type {\n",
       "        vertical-align: middle;\n",
       "    }\n",
       "\n",
       "    .dataframe tbody tr th {\n",
       "        vertical-align: top;\n",
       "    }\n",
       "\n",
       "    .dataframe thead th {\n",
       "        text-align: right;\n",
       "    }\n",
       "</style>\n",
       "<table border=\"1\" class=\"dataframe\">\n",
       "  <thead>\n",
       "    <tr style=\"text-align: right;\">\n",
       "      <th></th>\n",
       "      <th>Name</th>\n",
       "      <th>Team</th>\n",
       "      <th>Position</th>\n",
       "      <th>Assists</th>\n",
       "    </tr>\n",
       "  </thead>\n",
       "  <tbody>\n",
       "    <tr>\n",
       "      <th>71</th>\n",
       "      <td>Jactroll</td>\n",
       "      <td>VIT</td>\n",
       "      <td>Support</td>\n",
       "      <td>49</td>\n",
       "    </tr>\n",
       "    <tr>\n",
       "      <th>25</th>\n",
       "      <td>Jensen</td>\n",
       "      <td>C9</td>\n",
       "      <td>Mid</td>\n",
       "      <td>49</td>\n",
       "    </tr>\n",
       "    <tr>\n",
       "      <th>53</th>\n",
       "      <td>SwordArt</td>\n",
       "      <td>FW</td>\n",
       "      <td>Support</td>\n",
       "      <td>53</td>\n",
       "    </tr>\n",
       "    <tr>\n",
       "      <th>29</th>\n",
       "      <td>Xiaohu</td>\n",
       "      <td>RNG</td>\n",
       "      <td>Mid</td>\n",
       "      <td>54</td>\n",
       "    </tr>\n",
       "    <tr>\n",
       "      <th>0</th>\n",
       "      <td>Rekkles</td>\n",
       "      <td>FNC</td>\n",
       "      <td>ADC</td>\n",
       "      <td>54</td>\n",
       "    </tr>\n",
       "    <tr>\n",
       "      <th>41</th>\n",
       "      <td>Baolan</td>\n",
       "      <td>IG</td>\n",
       "      <td>Support</td>\n",
       "      <td>57</td>\n",
       "    </tr>\n",
       "    <tr>\n",
       "      <th>1</th>\n",
       "      <td>Mata</td>\n",
       "      <td>KT</td>\n",
       "      <td>Support</td>\n",
       "      <td>57</td>\n",
       "    </tr>\n",
       "    <tr>\n",
       "      <th>31</th>\n",
       "      <td>Ning</td>\n",
       "      <td>IG</td>\n",
       "      <td>Jungle</td>\n",
       "      <td>58</td>\n",
       "    </tr>\n",
       "    <tr>\n",
       "      <th>40</th>\n",
       "      <td>Meiko</td>\n",
       "      <td>EDG</td>\n",
       "      <td>Support</td>\n",
       "      <td>63</td>\n",
       "    </tr>\n",
       "    <tr>\n",
       "      <th>42</th>\n",
       "      <td>Zeyzal</td>\n",
       "      <td>C9</td>\n",
       "      <td>Support</td>\n",
       "      <td>65</td>\n",
       "    </tr>\n",
       "    <tr>\n",
       "      <th>26</th>\n",
       "      <td>Ming</td>\n",
       "      <td>RNG</td>\n",
       "      <td>Support</td>\n",
       "      <td>69</td>\n",
       "    </tr>\n",
       "    <tr>\n",
       "      <th>21</th>\n",
       "      <td>Hylissang</td>\n",
       "      <td>FNC</td>\n",
       "      <td>Support</td>\n",
       "      <td>79</td>\n",
       "    </tr>\n",
       "    <tr>\n",
       "      <th>48</th>\n",
       "      <td>Rikara</td>\n",
       "      <td>100</td>\n",
       "      <td>ADC</td>\n",
       "      <td>83</td>\n",
       "    </tr>\n",
       "  </tbody>\n",
       "</table>\n",
       "</div>"
      ],
      "text/plain": [
       "         Name Team Position  Assists\n",
       "71   Jactroll  VIT  Support       49\n",
       "25     Jensen   C9      Mid       49\n",
       "53   SwordArt   FW  Support       53\n",
       "29     Xiaohu  RNG      Mid       54\n",
       "0     Rekkles  FNC      ADC       54\n",
       "41     Baolan   IG  Support       57\n",
       "1        Mata   KT  Support       57\n",
       "31       Ning   IG   Jungle       58\n",
       "40      Meiko  EDG  Support       63\n",
       "42     Zeyzal   C9  Support       65\n",
       "26       Ming  RNG  Support       69\n",
       "21  Hylissang  FNC  Support       79\n",
       "48     Rikara  100      ADC       83"
      ]
     },
     "execution_count": 28,
     "metadata": {},
     "output_type": "execute_result"
    }
   ],
   "source": [
    "assist = data[['Name', 'Team', 'Position','Assists']]\n",
    "assists = assist.sort_values(by = ['Assists'])\n",
    "assists = assists[-13:]\n",
    "assists"
   ]
  },
  {
   "cell_type": "code",
   "execution_count": 29,
   "metadata": {},
   "outputs": [
    {
     "data": {
      "text/plain": [
       "[('Support', 8), ('Mid', 2), ('ADC', 2), ('Jungle', 1)]"
      ]
     },
     "execution_count": 29,
     "metadata": {},
     "output_type": "execute_result"
    }
   ],
   "source": [
    "roles = list(assists['Position'])\n",
    "roles_n = Counter(roles)\n",
    "roles_n.most_common()"
   ]
  },
  {
   "cell_type": "code",
   "execution_count": 30,
   "metadata": {},
   "outputs": [
    {
     "name": "stdout",
     "output_type": "stream",
     "text": [
      "{'Support': 8, 'Mid': 2, 'ADC': 2, 'Jungle': 1}\n"
     ]
    }
   ],
   "source": [
    "x_pie5 = {}\n",
    "for i in range(len(roles_n)):\n",
    "    x_pie5[roles_n.most_common()[i][0]] = roles_n.most_common()[i][1]\n",
    "\n",
    "print(x_pie5)"
   ]
  },
  {
   "cell_type": "code",
   "execution_count": 100,
   "metadata": {},
   "outputs": [
    {
     "name": "stderr",
     "output_type": "stream",
     "text": [
      "BokehDeprecationWarning: 'legend' keyword is deprecated, use explicit 'legend_label', 'legend_field', or 'legend_group' keywords instead\n"
     ]
    },
    {
     "data": {
      "text/html": [
       "\n",
       "\n",
       "\n",
       "\n",
       "\n",
       "\n",
       "  <div class=\"bk-root\" id=\"4eab94be-bea9-4140-8368-e7836bb9263b\" data-root-id=\"11280\"></div>\n"
      ]
     },
     "metadata": {},
     "output_type": "display_data"
    },
    {
     "data": {
      "application/javascript": [
       "(function(root) {\n",
       "  function embed_document(root) {\n",
       "    \n",
       "  var docs_json = {\"f64382ae-6d9b-4716-b1c7-e4fc76c25c86\":{\"roots\":{\"references\":[{\"attributes\":{\"below\":[{\"id\":\"11291\",\"type\":\"LinearAxis\"}],\"center\":[{\"id\":\"11295\",\"type\":\"Grid\"},{\"id\":\"11300\",\"type\":\"Grid\"},{\"id\":\"11317\",\"type\":\"Legend\"},{\"id\":\"11321\",\"type\":\"LabelSet\"}],\"left\":[{\"id\":\"11296\",\"type\":\"LinearAxis\"}],\"plot_height\":350,\"plot_width\":1000,\"renderers\":[{\"id\":\"11310\",\"type\":\"GlyphRenderer\"}],\"title\":{\"id\":\"11281\",\"type\":\"Title\"},\"toolbar\":{\"id\":\"11302\",\"type\":\"Toolbar\"},\"toolbar_location\":null,\"x_range\":{\"id\":\"11283\",\"type\":\"DataRange1d\"},\"x_scale\":{\"id\":\"11287\",\"type\":\"LinearScale\"},\"y_range\":{\"id\":\"11285\",\"type\":\"DataRange1d\"},\"y_scale\":{\"id\":\"11289\",\"type\":\"LinearScale\"}},\"id\":\"11280\",\"subtype\":\"Figure\",\"type\":\"Plot\"},{\"attributes\":{},\"id\":\"11292\",\"type\":\"BasicTicker\"},{\"attributes\":{},\"id\":\"11719\",\"type\":\"UnionRenderers\"},{\"attributes\":{\"items\":[{\"id\":\"11318\",\"type\":\"LegendItem\"}]},\"id\":\"11317\",\"type\":\"Legend\"},{\"attributes\":{\"grid_line_color\":null,\"ticker\":{\"id\":\"11292\",\"type\":\"BasicTicker\"}},\"id\":\"11295\",\"type\":\"Grid\"},{\"attributes\":{\"axis_label\":null,\"formatter\":{\"id\":\"11314\",\"type\":\"BasicTickFormatter\"},\"ticker\":{\"id\":\"11297\",\"type\":\"BasicTicker\"},\"visible\":false},\"id\":\"11296\",\"type\":\"LinearAxis\"},{\"attributes\":{},\"id\":\"11314\",\"type\":\"BasicTickFormatter\"},{\"attributes\":{},\"id\":\"11297\",\"type\":\"BasicTicker\"},{\"attributes\":{\"dimension\":1,\"grid_line_color\":null,\"ticker\":{\"id\":\"11297\",\"type\":\"BasicTicker\"}},\"id\":\"11300\",\"type\":\"Grid\"},{\"attributes\":{\"active_drag\":\"auto\",\"active_inspect\":\"auto\",\"active_multi\":null,\"active_scroll\":\"auto\",\"active_tap\":\"auto\",\"tools\":[{\"id\":\"11301\",\"type\":\"HoverTool\"}]},\"id\":\"11302\",\"type\":\"Toolbar\"},{\"attributes\":{},\"id\":\"11716\",\"type\":\"Selection\"},{\"attributes\":{\"callback\":null,\"tooltips\":\"@role: @value\"},\"id\":\"11301\",\"type\":\"HoverTool\"},{\"attributes\":{\"callback\":null,\"data\":{\"angle\":{\"__ndarray__\":\"qK2iLL/uDkCoraIsv+7uP6itoiy/7u4/qK2iLL/u3j8=\",\"dtype\":\"float64\",\"shape\":[4]},\"color\":[\"#225ea8\",\"#41b6c4\",\"#a1dab4\",\"#ffffcc\"],\"index\":[0,1,2,3],\"role\":[\"Support\",\"Mid\",\"ADC\",\"Jungle\"],\"value\":[\"                                  8\",\"                                  2\",\"                                  2\",\"                                  1\"]},\"selected\":{\"id\":\"11718\",\"type\":\"Selection\"},\"selection_policy\":{\"id\":\"11719\",\"type\":\"UnionRenderers\"}},\"id\":\"11319\",\"type\":\"ColumnDataSource\"},{\"attributes\":{\"field\":\"angle\"},\"id\":\"11305\",\"type\":\"CumSum\"},{\"attributes\":{\"callback\":null,\"data\":{\"angle\":{\"__ndarray__\":\"qK2iLL/uDkCoraIsv+7uP6itoiy/7u4/qK2iLL/u3j8=\",\"dtype\":\"float64\",\"shape\":[4]},\"color\":[\"#225ea8\",\"#41b6c4\",\"#a1dab4\",\"#ffffcc\"],\"index\":[0,1,2,3],\"role\":[\"Support\",\"Mid\",\"ADC\",\"Jungle\"],\"value\":[8,2,2,1]},\"selected\":{\"id\":\"11716\",\"type\":\"Selection\"},\"selection_policy\":{\"id\":\"11717\",\"type\":\"UnionRenderers\"}},\"id\":\"11306\",\"type\":\"ColumnDataSource\"},{\"attributes\":{\"text\":\"Representantes de asistencias por rol\"},\"id\":\"11281\",\"type\":\"Title\"},{\"attributes\":{\"callback\":null},\"id\":\"11285\",\"type\":\"DataRange1d\"},{\"attributes\":{\"field\":\"angle\",\"include_zero\":true},\"id\":\"11320\",\"type\":\"CumSum\"},{\"attributes\":{\"label\":{\"field\":\"role\"},\"renderers\":[{\"id\":\"11310\",\"type\":\"GlyphRenderer\"}]},\"id\":\"11318\",\"type\":\"LegendItem\"},{\"attributes\":{\"end_angle\":{\"expr\":{\"id\":\"11305\",\"type\":\"CumSum\"},\"units\":\"rad\"},\"fill_alpha\":{\"value\":0.1},\"fill_color\":{\"value\":\"#1f77b4\"},\"line_alpha\":{\"value\":0.1},\"line_color\":{\"value\":\"#1f77b4\"},\"radius\":{\"units\":\"data\",\"value\":0.3},\"start_angle\":{\"expr\":{\"id\":\"11304\",\"type\":\"CumSum\"},\"units\":\"rad\"},\"x\":{\"value\":0},\"y\":{\"value\":1}},\"id\":\"11309\",\"type\":\"Wedge\"},{\"attributes\":{},\"id\":\"11287\",\"type\":\"LinearScale\"},{\"attributes\":{\"angle\":{\"expr\":{\"id\":\"11320\",\"type\":\"CumSum\"},\"units\":\"rad\"},\"level\":\"glyph\",\"source\":{\"id\":\"11319\",\"type\":\"ColumnDataSource\"},\"text\":{\"field\":\"value\"},\"x\":{\"value\":0},\"y\":{\"value\":1}},\"id\":\"11321\",\"type\":\"LabelSet\"},{\"attributes\":{\"data_source\":{\"id\":\"11306\",\"type\":\"ColumnDataSource\"},\"glyph\":{\"id\":\"11308\",\"type\":\"Wedge\"},\"hover_glyph\":null,\"muted_glyph\":null,\"nonselection_glyph\":{\"id\":\"11309\",\"type\":\"Wedge\"},\"selection_glyph\":null,\"view\":{\"id\":\"11311\",\"type\":\"CDSView\"}},\"id\":\"11310\",\"type\":\"GlyphRenderer\"},{\"attributes\":{\"callback\":null},\"id\":\"11283\",\"type\":\"DataRange1d\"},{\"attributes\":{\"end_angle\":{\"expr\":{\"id\":\"11305\",\"type\":\"CumSum\"},\"units\":\"rad\"},\"fill_color\":{\"field\":\"color\"},\"line_color\":{\"value\":\"white\"},\"radius\":{\"units\":\"data\",\"value\":0.3},\"start_angle\":{\"expr\":{\"id\":\"11304\",\"type\":\"CumSum\"},\"units\":\"rad\"},\"x\":{\"value\":0},\"y\":{\"value\":1}},\"id\":\"11308\",\"type\":\"Wedge\"},{\"attributes\":{\"field\":\"angle\",\"include_zero\":true},\"id\":\"11304\",\"type\":\"CumSum\"},{\"attributes\":{},\"id\":\"11289\",\"type\":\"LinearScale\"},{\"attributes\":{},\"id\":\"11718\",\"type\":\"Selection\"},{\"attributes\":{},\"id\":\"11316\",\"type\":\"BasicTickFormatter\"},{\"attributes\":{},\"id\":\"11717\",\"type\":\"UnionRenderers\"},{\"attributes\":{\"axis_label\":null,\"formatter\":{\"id\":\"11316\",\"type\":\"BasicTickFormatter\"},\"ticker\":{\"id\":\"11292\",\"type\":\"BasicTicker\"},\"visible\":false},\"id\":\"11291\",\"type\":\"LinearAxis\"},{\"attributes\":{\"source\":{\"id\":\"11306\",\"type\":\"ColumnDataSource\"}},\"id\":\"11311\",\"type\":\"CDSView\"}],\"root_ids\":[\"11280\"]},\"title\":\"Bokeh Application\",\"version\":\"1.4.0\"}};\n",
       "  var render_items = [{\"docid\":\"f64382ae-6d9b-4716-b1c7-e4fc76c25c86\",\"roots\":{\"11280\":\"4eab94be-bea9-4140-8368-e7836bb9263b\"}}];\n",
       "  root.Bokeh.embed.embed_items_notebook(docs_json, render_items);\n",
       "\n",
       "  }\n",
       "  if (root.Bokeh !== undefined) {\n",
       "    embed_document(root);\n",
       "  } else {\n",
       "    var attempts = 0;\n",
       "    var timer = setInterval(function(root) {\n",
       "      if (root.Bokeh !== undefined) {\n",
       "        clearInterval(timer);\n",
       "        embed_document(root);\n",
       "      } else {\n",
       "        attempts++;\n",
       "        if (attempts > 100) {\n",
       "          clearInterval(timer);\n",
       "          console.log(\"Bokeh: ERROR: Unable to run BokehJS code because BokehJS library is missing\");\n",
       "        }\n",
       "      }\n",
       "    }, 10, root)\n",
       "  }\n",
       "})(window);"
      ],
      "application/vnd.bokehjs_exec.v0+json": ""
     },
     "metadata": {
      "application/vnd.bokehjs_exec.v0+json": {
       "id": "11280"
      }
     },
     "output_type": "display_data"
    }
   ],
   "source": [
    "data_pie = pd.Series(x_pie5).reset_index(name='value').rename(columns={'index':'role'})\n",
    "data_pie['angle'] = data_pie['value']/data_pie['value'].sum() * 2*pi\n",
    "data_pie['color'] = YlGnBu[len(x_pie5)]\n",
    "\n",
    "p_pie5 = figure(plot_height=350, plot_width = 1000, title=\"Representantes de asistencias por rol\", toolbar_location=None,\n",
    "        tools=\"hover\", tooltips=\"@role: @value\")\n",
    "\n",
    "p_pie5.wedge(x=0, y=1, radius=0.30,\n",
    "        start_angle=cumsum('angle', include_zero=True), end_angle=cumsum('angle'),\n",
    "        line_color=\"white\", fill_color='color', legend='role', source=data_pie)\n",
    "\n",
    "data_pie[\"value\"] = data_pie['value'].astype(str)\n",
    "data_pie[\"value\"] = data_pie[\"value\"].str.pad(35, side = \"left\")\n",
    "source = ColumnDataSource(data_pie)\n",
    "\n",
    "labels = LabelSet(x=0, y=1, text='value', level='glyph',\n",
    "        angle=cumsum('angle', include_zero=True), source=source, render_mode='canvas')\n",
    "\n",
    "p_pie5.add_layout(labels)\n",
    "\n",
    "p_pie5.axis.axis_label=None\n",
    "p_pie5.axis.visible=False\n",
    "p_pie5.grid.grid_line_color = None\n",
    "\n",
    "show(p_pie5)"
   ]
  },
  {
   "cell_type": "code",
   "execution_count": 127,
   "metadata": {},
   "outputs": [
    {
     "name": "stdout",
     "output_type": "stream",
     "text": [
      "['VIT Support', 'C9 Mid', 'FW Support', 'RNG Mid', 'FNC ADC', 'IG Support', 'KT Support', 'IG Jungle', 'EDG Support', 'C9 Support', 'RNG Support', 'FNC Support', '100 ADC'] [49, 49, 53, 54, 54, 57, 57, 58, 63, 65, 69, 79, 83]\n"
     ]
    }
   ],
   "source": [
    "assist_er = []\n",
    "assist_n = []\n",
    "for i in range(len(assists)):\n",
    "    name = assists.iloc[i]['Team'] + \" \" + assists.iloc[i]['Position']\n",
    "    assist_er.append(name)\n",
    "    assist_n.append(assists.iloc[i]['Assists'])\n",
    "print(assist_er, assist_n)"
   ]
  },
  {
   "cell_type": "code",
   "execution_count": 128,
   "metadata": {},
   "outputs": [
    {
     "data": {
      "text/html": [
       "\n",
       "\n",
       "\n",
       "\n",
       "\n",
       "\n",
       "  <div class=\"bk-root\" id=\"5ca78213-bf1b-4346-a37a-2ae67875b6dd\" data-root-id=\"23675\"></div>\n"
      ]
     },
     "metadata": {},
     "output_type": "display_data"
    },
    {
     "data": {
      "application/javascript": [
       "(function(root) {\n",
       "  function embed_document(root) {\n",
       "    \n",
       "  var docs_json = {\"8704c680-3a33-40a9-9476-04a63513c10a\":{\"roots\":{\"references\":[{\"attributes\":{\"below\":[{\"id\":\"23686\",\"type\":\"CategoricalAxis\"}],\"center\":[{\"id\":\"23689\",\"type\":\"Grid\"},{\"id\":\"23694\",\"type\":\"Grid\"}],\"left\":[{\"id\":\"23690\",\"type\":\"LinearAxis\"}],\"plot_height\":250,\"plot_width\":1000,\"renderers\":[{\"id\":\"23711\",\"type\":\"GlyphRenderer\"}],\"title\":{\"id\":\"23676\",\"type\":\"Title\"},\"toolbar\":{\"id\":\"23701\",\"type\":\"Toolbar\"},\"x_range\":{\"id\":\"23678\",\"type\":\"FactorRange\"},\"x_scale\":{\"id\":\"23682\",\"type\":\"CategoricalScale\"},\"y_range\":{\"id\":\"23680\",\"type\":\"DataRange1d\"},\"y_scale\":{\"id\":\"23684\",\"type\":\"LinearScale\"}},\"id\":\"23675\",\"subtype\":\"Figure\",\"type\":\"Plot\"},{\"attributes\":{},\"id\":\"24339\",\"type\":\"BasicTickFormatter\"},{\"attributes\":{},\"id\":\"23691\",\"type\":\"BasicTicker\"},{\"attributes\":{},\"id\":\"23687\",\"type\":\"CategoricalTicker\"},{\"attributes\":{\"dimension\":1,\"ticker\":{\"id\":\"23691\",\"type\":\"BasicTicker\"},\"visible\":false},\"id\":\"23694\",\"type\":\"Grid\"},{\"attributes\":{\"formatter\":{\"id\":\"24339\",\"type\":\"BasicTickFormatter\"},\"ticker\":{\"id\":\"23691\",\"type\":\"BasicTicker\"}},\"id\":\"23690\",\"type\":\"LinearAxis\"},{\"attributes\":{\"ticker\":{\"id\":\"23687\",\"type\":\"CategoricalTicker\"},\"visible\":false},\"id\":\"23689\",\"type\":\"Grid\"},{\"attributes\":{\"data_source\":{\"id\":\"23708\",\"type\":\"ColumnDataSource\"},\"glyph\":{\"id\":\"23709\",\"type\":\"VBar\"},\"hover_glyph\":null,\"muted_glyph\":null,\"nonselection_glyph\":{\"id\":\"23710\",\"type\":\"VBar\"},\"selection_glyph\":null,\"view\":{\"id\":\"23712\",\"type\":\"CDSView\"}},\"id\":\"23711\",\"type\":\"GlyphRenderer\"},{\"attributes\":{\"fill_color\":{\"field\":\"fill_color\"},\"line_color\":{\"field\":\"line_color\"},\"top\":{\"field\":\"top\"},\"width\":{\"value\":0.9},\"x\":{\"field\":\"x\"}},\"id\":\"23709\",\"type\":\"VBar\"},{\"attributes\":{\"source\":{\"id\":\"23708\",\"type\":\"ColumnDataSource\"}},\"id\":\"23712\",\"type\":\"CDSView\"},{\"attributes\":{},\"id\":\"23695\",\"type\":\"PanTool\"},{\"attributes\":{},\"id\":\"23696\",\"type\":\"WheelZoomTool\"},{\"attributes\":{\"overlay\":{\"id\":\"24344\",\"type\":\"BoxAnnotation\"}},\"id\":\"23697\",\"type\":\"BoxZoomTool\"},{\"attributes\":{},\"id\":\"23698\",\"type\":\"SaveTool\"},{\"attributes\":{\"fill_alpha\":{\"value\":0.1},\"fill_color\":{\"value\":\"#1f77b4\"},\"line_alpha\":{\"value\":0.1},\"line_color\":{\"value\":\"#1f77b4\"},\"top\":{\"field\":\"top\"},\"width\":{\"value\":0.9},\"x\":{\"field\":\"x\"}},\"id\":\"23710\",\"type\":\"VBar\"},{\"attributes\":{},\"id\":\"23699\",\"type\":\"ResetTool\"},{\"attributes\":{\"text\":\"Asistencias por jugador\"},\"id\":\"23676\",\"type\":\"Title\"},{\"attributes\":{\"bottom_units\":\"screen\",\"fill_alpha\":{\"value\":0.5},\"fill_color\":{\"value\":\"lightgrey\"},\"left_units\":\"screen\",\"level\":\"overlay\",\"line_alpha\":{\"value\":1.0},\"line_color\":{\"value\":\"black\"},\"line_dash\":[4,4],\"line_width\":{\"value\":2},\"render_mode\":\"css\",\"right_units\":\"screen\",\"top_units\":\"screen\"},\"id\":\"24344\",\"type\":\"BoxAnnotation\"},{\"attributes\":{},\"id\":\"23700\",\"type\":\"HelpTool\"},{\"attributes\":{\"active_drag\":\"auto\",\"active_inspect\":\"auto\",\"active_multi\":null,\"active_scroll\":\"auto\",\"active_tap\":\"auto\",\"tools\":[{\"id\":\"23695\",\"type\":\"PanTool\"},{\"id\":\"23696\",\"type\":\"WheelZoomTool\"},{\"id\":\"23697\",\"type\":\"BoxZoomTool\"},{\"id\":\"23698\",\"type\":\"SaveTool\"},{\"id\":\"23699\",\"type\":\"ResetTool\"},{\"id\":\"23700\",\"type\":\"HelpTool\"}]},\"id\":\"23701\",\"type\":\"Toolbar\"},{\"attributes\":{\"formatter\":{\"id\":\"24341\",\"type\":\"CategoricalTickFormatter\"},\"ticker\":{\"id\":\"23687\",\"type\":\"CategoricalTicker\"}},\"id\":\"23686\",\"type\":\"CategoricalAxis\"},{\"attributes\":{\"callback\":null},\"id\":\"23680\",\"type\":\"DataRange1d\"},{\"attributes\":{},\"id\":\"24341\",\"type\":\"CategoricalTickFormatter\"},{\"attributes\":{\"callback\":null,\"factors\":[\"VIT Support\",\"C9 Mid\",\"FW Support\",\"RNG Mid\",\"FNC ADC\",\"IG Support\",\"KT Support\",\"IG Jungle\",\"EDG Support\",\"C9 Support\",\"RNG Support\",\"FNC Support\",\"100 ADC\"]},\"id\":\"23678\",\"type\":\"FactorRange\"},{\"attributes\":{},\"id\":\"24342\",\"type\":\"Selection\"},{\"attributes\":{},\"id\":\"23684\",\"type\":\"LinearScale\"},{\"attributes\":{},\"id\":\"24343\",\"type\":\"UnionRenderers\"},{\"attributes\":{},\"id\":\"23682\",\"type\":\"CategoricalScale\"},{\"attributes\":{\"callback\":null,\"data\":{\"fill_color\":[\"#08ffc8\",\"#08ffc8\",\"#08ffc8\",\"#08ffc8\",\"#08ffc8\",\"#fff7f7\",\"#fff7f7\",\"#fff7f7\",\"#fff7f7\",\"#dadada\",\"#dadada\",\"#dadada\",\"#204969\"],\"line_color\":[\"#08ffc8\",\"#08ffc8\",\"#08ffc8\",\"#08ffc8\",\"#08ffc8\",\"#fff7f7\",\"#fff7f7\",\"#fff7f7\",\"#fff7f7\",\"#dadada\",\"#dadada\",\"#dadada\",\"#204969\"],\"top\":[49,49,53,54,54,57,57,58,63,65,69,79,83],\"x\":[\"VIT Support\",\"C9 Mid\",\"FW Support\",\"RNG Mid\",\"FNC ADC\",\"IG Support\",\"KT Support\",\"IG Jungle\",\"EDG Support\",\"C9 Support\",\"RNG Support\",\"FNC Support\",\"100 ADC\"]},\"selected\":{\"id\":\"24342\",\"type\":\"Selection\"},\"selection_policy\":{\"id\":\"24343\",\"type\":\"UnionRenderers\"}},\"id\":\"23708\",\"type\":\"ColumnDataSource\"}],\"root_ids\":[\"23675\"]},\"title\":\"Bokeh Application\",\"version\":\"1.4.0\"}};\n",
       "  var render_items = [{\"docid\":\"8704c680-3a33-40a9-9476-04a63513c10a\",\"roots\":{\"23675\":\"5ca78213-bf1b-4346-a37a-2ae67875b6dd\"}}];\n",
       "  root.Bokeh.embed.embed_items_notebook(docs_json, render_items);\n",
       "\n",
       "  }\n",
       "  if (root.Bokeh !== undefined) {\n",
       "    embed_document(root);\n",
       "  } else {\n",
       "    var attempts = 0;\n",
       "    var timer = setInterval(function(root) {\n",
       "      if (root.Bokeh !== undefined) {\n",
       "        clearInterval(timer);\n",
       "        embed_document(root);\n",
       "      } else {\n",
       "        attempts++;\n",
       "        if (attempts > 100) {\n",
       "          clearInterval(timer);\n",
       "          console.log(\"Bokeh: ERROR: Unable to run BokehJS code because BokehJS library is missing\");\n",
       "        }\n",
       "      }\n",
       "    }, 10, root)\n",
       "  }\n",
       "})(window);"
      ],
      "application/vnd.bokehjs_exec.v0+json": ""
     },
     "metadata": {
      "application/vnd.bokehjs_exec.v0+json": {
       "id": "23675"
      }
     },
     "output_type": "display_data"
    }
   ],
   "source": [
    "p5 = figure(x_range = assist_er, plot_height=250, plot_width = 1000, title=\"Asistencias por jugador\")\n",
    "p5.vbar(x = assist_er, top = assist_n, width = 0.9, color = [\"#08ffc8\", \"#08ffc8\", \"#08ffc8\", \"#08ffc8\", \"#08ffc8\", \"#fff7f7\", \"#fff7f7\", \"#fff7f7\", \"#fff7f7\", '#dadada', '#dadada', '#dadada', '#204969'])\n",
    "p5.xgrid.visible = False\n",
    "p5.ygrid.visible = False\n",
    "show(p5)"
   ]
  },
  {
   "cell_type": "code",
   "execution_count": 129,
   "metadata": {},
   "outputs": [
    {
     "data": {
      "text/html": [
       "\n",
       "\n",
       "\n",
       "\n",
       "\n",
       "\n",
       "  <div class=\"bk-root\" id=\"f404e78d-b39a-4c27-9bb7-5ea831f7dfac\" data-root-id=\"24415\"></div>\n"
      ]
     },
     "metadata": {},
     "output_type": "display_data"
    },
    {
     "data": {
      "application/javascript": [
       "(function(root) {\n",
       "  function embed_document(root) {\n",
       "    \n",
       "  var docs_json = {\"8bd61123-3362-41fb-ae15-01a810231ef6\":{\"roots\":{\"references\":[{\"attributes\":{\"children\":[{\"id\":\"24412\",\"type\":\"GridBox\"},{\"id\":\"24414\",\"type\":\"ToolbarBox\"}]},\"id\":\"24415\",\"type\":\"Row\"},{\"attributes\":{},\"id\":\"24339\",\"type\":\"BasicTickFormatter\"},{\"attributes\":{},\"id\":\"11292\",\"type\":\"BasicTicker\"},{\"attributes\":{},\"id\":\"11719\",\"type\":\"UnionRenderers\"},{\"attributes\":{\"items\":[{\"id\":\"11318\",\"type\":\"LegendItem\"}]},\"id\":\"11317\",\"type\":\"Legend\"},{\"attributes\":{},\"id\":\"23691\",\"type\":\"BasicTicker\"},{\"attributes\":{\"grid_line_color\":null,\"ticker\":{\"id\":\"11292\",\"type\":\"BasicTicker\"}},\"id\":\"11295\",\"type\":\"Grid\"},{\"attributes\":{},\"id\":\"23687\",\"type\":\"CategoricalTicker\"},{\"attributes\":{\"dimension\":1,\"ticker\":{\"id\":\"23691\",\"type\":\"BasicTicker\"},\"visible\":false},\"id\":\"23694\",\"type\":\"Grid\"},{\"attributes\":{\"axis_label\":null,\"formatter\":{\"id\":\"11314\",\"type\":\"BasicTickFormatter\"},\"ticker\":{\"id\":\"11297\",\"type\":\"BasicTicker\"},\"visible\":false},\"id\":\"11296\",\"type\":\"LinearAxis\"},{\"attributes\":{},\"id\":\"11314\",\"type\":\"BasicTickFormatter\"},{\"attributes\":{\"toolbar\":{\"id\":\"24413\",\"type\":\"ProxyToolbar\"}},\"id\":\"24414\",\"type\":\"ToolbarBox\"},{\"attributes\":{},\"id\":\"11297\",\"type\":\"BasicTicker\"},{\"attributes\":{\"formatter\":{\"id\":\"24339\",\"type\":\"BasicTickFormatter\"},\"ticker\":{\"id\":\"23691\",\"type\":\"BasicTicker\"}},\"id\":\"23690\",\"type\":\"LinearAxis\"},{\"attributes\":{\"ticker\":{\"id\":\"23687\",\"type\":\"CategoricalTicker\"},\"visible\":false},\"id\":\"23689\",\"type\":\"Grid\"},{\"attributes\":{\"dimension\":1,\"grid_line_color\":null,\"ticker\":{\"id\":\"11297\",\"type\":\"BasicTicker\"}},\"id\":\"11300\",\"type\":\"Grid\"},{\"attributes\":{\"data_source\":{\"id\":\"23708\",\"type\":\"ColumnDataSource\"},\"glyph\":{\"id\":\"23709\",\"type\":\"VBar\"},\"hover_glyph\":null,\"muted_glyph\":null,\"nonselection_glyph\":{\"id\":\"23710\",\"type\":\"VBar\"},\"selection_glyph\":null,\"view\":{\"id\":\"23712\",\"type\":\"CDSView\"}},\"id\":\"23711\",\"type\":\"GlyphRenderer\"},{\"attributes\":{\"children\":[[{\"id\":\"23675\",\"subtype\":\"Figure\",\"type\":\"Plot\"},0,0],[{\"id\":\"11280\",\"subtype\":\"Figure\",\"type\":\"Plot\"},1,0]]},\"id\":\"24412\",\"type\":\"GridBox\"},{\"attributes\":{\"active_drag\":\"auto\",\"active_inspect\":\"auto\",\"active_multi\":null,\"active_scroll\":\"auto\",\"active_tap\":\"auto\",\"tools\":[{\"id\":\"11301\",\"type\":\"HoverTool\"}]},\"id\":\"11302\",\"type\":\"Toolbar\"},{\"attributes\":{},\"id\":\"11716\",\"type\":\"Selection\"},{\"attributes\":{\"callback\":null,\"tooltips\":\"@role: @value\"},\"id\":\"11301\",\"type\":\"HoverTool\"},{\"attributes\":{\"fill_color\":{\"field\":\"fill_color\"},\"line_color\":{\"field\":\"line_color\"},\"top\":{\"field\":\"top\"},\"width\":{\"value\":0.9},\"x\":{\"field\":\"x\"}},\"id\":\"23709\",\"type\":\"VBar\"},{\"attributes\":{\"callback\":null,\"data\":{\"angle\":{\"__ndarray__\":\"qK2iLL/uDkCoraIsv+7uP6itoiy/7u4/qK2iLL/u3j8=\",\"dtype\":\"float64\",\"shape\":[4]},\"color\":[\"#225ea8\",\"#41b6c4\",\"#a1dab4\",\"#ffffcc\"],\"index\":[0,1,2,3],\"role\":[\"Support\",\"Mid\",\"ADC\",\"Jungle\"],\"value\":[\"                                  8\",\"                                  2\",\"                                  2\",\"                                  1\"]},\"selected\":{\"id\":\"11718\",\"type\":\"Selection\"},\"selection_policy\":{\"id\":\"11719\",\"type\":\"UnionRenderers\"}},\"id\":\"11319\",\"type\":\"ColumnDataSource\"},{\"attributes\":{\"tools\":[{\"id\":\"23695\",\"type\":\"PanTool\"},{\"id\":\"23696\",\"type\":\"WheelZoomTool\"},{\"id\":\"23697\",\"type\":\"BoxZoomTool\"},{\"id\":\"23698\",\"type\":\"SaveTool\"},{\"id\":\"23699\",\"type\":\"ResetTool\"},{\"id\":\"23700\",\"type\":\"HelpTool\"},{\"id\":\"11301\",\"type\":\"HoverTool\"}]},\"id\":\"24413\",\"type\":\"ProxyToolbar\"},{\"attributes\":{\"source\":{\"id\":\"23708\",\"type\":\"ColumnDataSource\"}},\"id\":\"23712\",\"type\":\"CDSView\"},{\"attributes\":{\"source\":{\"id\":\"11306\",\"type\":\"ColumnDataSource\"}},\"id\":\"11311\",\"type\":\"CDSView\"},{\"attributes\":{},\"id\":\"23695\",\"type\":\"PanTool\"},{\"attributes\":{},\"id\":\"23696\",\"type\":\"WheelZoomTool\"},{\"attributes\":{\"overlay\":{\"id\":\"24344\",\"type\":\"BoxAnnotation\"}},\"id\":\"23697\",\"type\":\"BoxZoomTool\"},{\"attributes\":{\"field\":\"angle\"},\"id\":\"11305\",\"type\":\"CumSum\"},{\"attributes\":{},\"id\":\"23698\",\"type\":\"SaveTool\"},{\"attributes\":{\"below\":[{\"id\":\"23686\",\"type\":\"CategoricalAxis\"}],\"center\":[{\"id\":\"23689\",\"type\":\"Grid\"},{\"id\":\"23694\",\"type\":\"Grid\"}],\"left\":[{\"id\":\"23690\",\"type\":\"LinearAxis\"}],\"plot_height\":250,\"plot_width\":1000,\"renderers\":[{\"id\":\"23711\",\"type\":\"GlyphRenderer\"}],\"title\":{\"id\":\"23676\",\"type\":\"Title\"},\"toolbar\":{\"id\":\"23701\",\"type\":\"Toolbar\"},\"toolbar_location\":null,\"x_range\":{\"id\":\"23678\",\"type\":\"FactorRange\"},\"x_scale\":{\"id\":\"23682\",\"type\":\"CategoricalScale\"},\"y_range\":{\"id\":\"23680\",\"type\":\"DataRange1d\"},\"y_scale\":{\"id\":\"23684\",\"type\":\"LinearScale\"}},\"id\":\"23675\",\"subtype\":\"Figure\",\"type\":\"Plot\"},{\"attributes\":{\"callback\":null,\"data\":{\"angle\":{\"__ndarray__\":\"qK2iLL/uDkCoraIsv+7uP6itoiy/7u4/qK2iLL/u3j8=\",\"dtype\":\"float64\",\"shape\":[4]},\"color\":[\"#225ea8\",\"#41b6c4\",\"#a1dab4\",\"#ffffcc\"],\"index\":[0,1,2,3],\"role\":[\"Support\",\"Mid\",\"ADC\",\"Jungle\"],\"value\":[8,2,2,1]},\"selected\":{\"id\":\"11716\",\"type\":\"Selection\"},\"selection_policy\":{\"id\":\"11717\",\"type\":\"UnionRenderers\"}},\"id\":\"11306\",\"type\":\"ColumnDataSource\"},{\"attributes\":{\"text\":\"Representantes de asistencias por rol\"},\"id\":\"11281\",\"type\":\"Title\"},{\"attributes\":{\"fill_alpha\":{\"value\":0.1},\"fill_color\":{\"value\":\"#1f77b4\"},\"line_alpha\":{\"value\":0.1},\"line_color\":{\"value\":\"#1f77b4\"},\"top\":{\"field\":\"top\"},\"width\":{\"value\":0.9},\"x\":{\"field\":\"x\"}},\"id\":\"23710\",\"type\":\"VBar\"},{\"attributes\":{\"callback\":null},\"id\":\"11285\",\"type\":\"DataRange1d\"},{\"attributes\":{\"text\":\"Asistencias por jugador\"},\"id\":\"23676\",\"type\":\"Title\"},{\"attributes\":{},\"id\":\"23699\",\"type\":\"ResetTool\"},{\"attributes\":{\"field\":\"angle\",\"include_zero\":true},\"id\":\"11320\",\"type\":\"CumSum\"},{\"attributes\":{\"bottom_units\":\"screen\",\"fill_alpha\":{\"value\":0.5},\"fill_color\":{\"value\":\"lightgrey\"},\"left_units\":\"screen\",\"level\":\"overlay\",\"line_alpha\":{\"value\":1.0},\"line_color\":{\"value\":\"black\"},\"line_dash\":[4,4],\"line_width\":{\"value\":2},\"render_mode\":\"css\",\"right_units\":\"screen\",\"top_units\":\"screen\"},\"id\":\"24344\",\"type\":\"BoxAnnotation\"},{\"attributes\":{\"below\":[{\"id\":\"11291\",\"type\":\"LinearAxis\"}],\"center\":[{\"id\":\"11295\",\"type\":\"Grid\"},{\"id\":\"11300\",\"type\":\"Grid\"},{\"id\":\"11317\",\"type\":\"Legend\"},{\"id\":\"11321\",\"type\":\"LabelSet\"}],\"left\":[{\"id\":\"11296\",\"type\":\"LinearAxis\"}],\"plot_height\":350,\"plot_width\":1000,\"renderers\":[{\"id\":\"11310\",\"type\":\"GlyphRenderer\"}],\"title\":{\"id\":\"11281\",\"type\":\"Title\"},\"toolbar\":{\"id\":\"11302\",\"type\":\"Toolbar\"},\"toolbar_location\":null,\"x_range\":{\"id\":\"11283\",\"type\":\"DataRange1d\"},\"x_scale\":{\"id\":\"11287\",\"type\":\"LinearScale\"},\"y_range\":{\"id\":\"11285\",\"type\":\"DataRange1d\"},\"y_scale\":{\"id\":\"11289\",\"type\":\"LinearScale\"}},\"id\":\"11280\",\"subtype\":\"Figure\",\"type\":\"Plot\"},{\"attributes\":{},\"id\":\"23700\",\"type\":\"HelpTool\"},{\"attributes\":{\"end_angle\":{\"expr\":{\"id\":\"11305\",\"type\":\"CumSum\"},\"units\":\"rad\"},\"fill_alpha\":{\"value\":0.1},\"fill_color\":{\"value\":\"#1f77b4\"},\"line_alpha\":{\"value\":0.1},\"line_color\":{\"value\":\"#1f77b4\"},\"radius\":{\"units\":\"data\",\"value\":0.3},\"start_angle\":{\"expr\":{\"id\":\"11304\",\"type\":\"CumSum\"},\"units\":\"rad\"},\"x\":{\"value\":0},\"y\":{\"value\":1}},\"id\":\"11309\",\"type\":\"Wedge\"},{\"attributes\":{\"label\":{\"field\":\"role\"},\"renderers\":[{\"id\":\"11310\",\"type\":\"GlyphRenderer\"}]},\"id\":\"11318\",\"type\":\"LegendItem\"},{\"attributes\":{},\"id\":\"11287\",\"type\":\"LinearScale\"},{\"attributes\":{\"data_source\":{\"id\":\"11306\",\"type\":\"ColumnDataSource\"},\"glyph\":{\"id\":\"11308\",\"type\":\"Wedge\"},\"hover_glyph\":null,\"muted_glyph\":null,\"nonselection_glyph\":{\"id\":\"11309\",\"type\":\"Wedge\"},\"selection_glyph\":null,\"view\":{\"id\":\"11311\",\"type\":\"CDSView\"}},\"id\":\"11310\",\"type\":\"GlyphRenderer\"},{\"attributes\":{\"angle\":{\"expr\":{\"id\":\"11320\",\"type\":\"CumSum\"},\"units\":\"rad\"},\"level\":\"glyph\",\"source\":{\"id\":\"11319\",\"type\":\"ColumnDataSource\"},\"text\":{\"field\":\"value\"},\"x\":{\"value\":0},\"y\":{\"value\":1}},\"id\":\"11321\",\"type\":\"LabelSet\"},{\"attributes\":{\"active_drag\":\"auto\",\"active_inspect\":\"auto\",\"active_multi\":null,\"active_scroll\":\"auto\",\"active_tap\":\"auto\",\"tools\":[{\"id\":\"23695\",\"type\":\"PanTool\"},{\"id\":\"23696\",\"type\":\"WheelZoomTool\"},{\"id\":\"23697\",\"type\":\"BoxZoomTool\"},{\"id\":\"23698\",\"type\":\"SaveTool\"},{\"id\":\"23699\",\"type\":\"ResetTool\"},{\"id\":\"23700\",\"type\":\"HelpTool\"}]},\"id\":\"23701\",\"type\":\"Toolbar\"},{\"attributes\":{\"callback\":null},\"id\":\"11283\",\"type\":\"DataRange1d\"},{\"attributes\":{\"end_angle\":{\"expr\":{\"id\":\"11305\",\"type\":\"CumSum\"},\"units\":\"rad\"},\"fill_color\":{\"field\":\"color\"},\"line_color\":{\"value\":\"white\"},\"radius\":{\"units\":\"data\",\"value\":0.3},\"start_angle\":{\"expr\":{\"id\":\"11304\",\"type\":\"CumSum\"},\"units\":\"rad\"},\"x\":{\"value\":0},\"y\":{\"value\":1}},\"id\":\"11308\",\"type\":\"Wedge\"},{\"attributes\":{\"field\":\"angle\",\"include_zero\":true},\"id\":\"11304\",\"type\":\"CumSum\"},{\"attributes\":{\"formatter\":{\"id\":\"24341\",\"type\":\"CategoricalTickFormatter\"},\"ticker\":{\"id\":\"23687\",\"type\":\"CategoricalTicker\"}},\"id\":\"23686\",\"type\":\"CategoricalAxis\"},{\"attributes\":{\"callback\":null},\"id\":\"23680\",\"type\":\"DataRange1d\"},{\"attributes\":{},\"id\":\"24341\",\"type\":\"CategoricalTickFormatter\"},{\"attributes\":{\"callback\":null,\"factors\":[\"VIT Support\",\"C9 Mid\",\"FW Support\",\"RNG Mid\",\"FNC ADC\",\"IG Support\",\"KT Support\",\"IG Jungle\",\"EDG Support\",\"C9 Support\",\"RNG Support\",\"FNC Support\",\"100 ADC\"]},\"id\":\"23678\",\"type\":\"FactorRange\"},{\"attributes\":{},\"id\":\"11289\",\"type\":\"LinearScale\"},{\"attributes\":{},\"id\":\"24342\",\"type\":\"Selection\"},{\"attributes\":{},\"id\":\"11718\",\"type\":\"Selection\"},{\"attributes\":{},\"id\":\"11316\",\"type\":\"BasicTickFormatter\"},{\"attributes\":{},\"id\":\"11717\",\"type\":\"UnionRenderers\"},{\"attributes\":{},\"id\":\"23684\",\"type\":\"LinearScale\"},{\"attributes\":{},\"id\":\"24343\",\"type\":\"UnionRenderers\"},{\"attributes\":{},\"id\":\"23682\",\"type\":\"CategoricalScale\"},{\"attributes\":{\"axis_label\":null,\"formatter\":{\"id\":\"11316\",\"type\":\"BasicTickFormatter\"},\"ticker\":{\"id\":\"11292\",\"type\":\"BasicTicker\"},\"visible\":false},\"id\":\"11291\",\"type\":\"LinearAxis\"},{\"attributes\":{\"callback\":null,\"data\":{\"fill_color\":[\"#08ffc8\",\"#08ffc8\",\"#08ffc8\",\"#08ffc8\",\"#08ffc8\",\"#fff7f7\",\"#fff7f7\",\"#fff7f7\",\"#fff7f7\",\"#dadada\",\"#dadada\",\"#dadada\",\"#204969\"],\"line_color\":[\"#08ffc8\",\"#08ffc8\",\"#08ffc8\",\"#08ffc8\",\"#08ffc8\",\"#fff7f7\",\"#fff7f7\",\"#fff7f7\",\"#fff7f7\",\"#dadada\",\"#dadada\",\"#dadada\",\"#204969\"],\"top\":[49,49,53,54,54,57,57,58,63,65,69,79,83],\"x\":[\"VIT Support\",\"C9 Mid\",\"FW Support\",\"RNG Mid\",\"FNC ADC\",\"IG Support\",\"KT Support\",\"IG Jungle\",\"EDG Support\",\"C9 Support\",\"RNG Support\",\"FNC Support\",\"100 ADC\"]},\"selected\":{\"id\":\"24342\",\"type\":\"Selection\"},\"selection_policy\":{\"id\":\"24343\",\"type\":\"UnionRenderers\"}},\"id\":\"23708\",\"type\":\"ColumnDataSource\"}],\"root_ids\":[\"24415\"]},\"title\":\"Bokeh Application\",\"version\":\"1.4.0\"}};\n",
       "  var render_items = [{\"docid\":\"8bd61123-3362-41fb-ae15-01a810231ef6\",\"roots\":{\"24415\":\"f404e78d-b39a-4c27-9bb7-5ea831f7dfac\"}}];\n",
       "  root.Bokeh.embed.embed_items_notebook(docs_json, render_items);\n",
       "\n",
       "  }\n",
       "  if (root.Bokeh !== undefined) {\n",
       "    embed_document(root);\n",
       "  } else {\n",
       "    var attempts = 0;\n",
       "    var timer = setInterval(function(root) {\n",
       "      if (root.Bokeh !== undefined) {\n",
       "        clearInterval(timer);\n",
       "        embed_document(root);\n",
       "      } else {\n",
       "        attempts++;\n",
       "        if (attempts > 100) {\n",
       "          clearInterval(timer);\n",
       "          console.log(\"Bokeh: ERROR: Unable to run BokehJS code because BokehJS library is missing\");\n",
       "        }\n",
       "      }\n",
       "    }, 10, root)\n",
       "  }\n",
       "})(window);"
      ],
      "application/vnd.bokehjs_exec.v0+json": ""
     },
     "metadata": {
      "application/vnd.bokehjs_exec.v0+json": {
       "id": "24415"
      }
     },
     "output_type": "display_data"
    }
   ],
   "source": [
    "gp5 = gridplot([[p5], [p_pie5]], toolbar_location = \"right\")\n",
    "show(gp5)"
   ]
  },
  {
   "cell_type": "code",
   "execution_count": 130,
   "metadata": {},
   "outputs": [
    {
     "data": {
      "text/html": [
       "\n",
       "\n",
       "\n",
       "\n",
       "\n",
       "\n",
       "  <div class=\"bk-root\" id=\"a86d1354-ad53-47c3-9aa6-51e0449c648d\" data-root-id=\"25197\"></div>\n"
      ]
     },
     "metadata": {},
     "output_type": "display_data"
    },
    {
     "data": {
      "application/javascript": [
       "(function(root) {\n",
       "  function embed_document(root) {\n",
       "    \n",
       "  var docs_json = {\"2db75bb4-d266-4b22-8996-d5ec287e6d59\":{\"roots\":{\"references\":[{\"attributes\":{\"children\":[{\"id\":\"25194\",\"type\":\"GridBox\"},{\"id\":\"25196\",\"type\":\"ToolbarBox\"}]},\"id\":\"25197\",\"type\":\"Row\"},{\"attributes\":{},\"id\":\"23691\",\"type\":\"BasicTicker\"},{\"attributes\":{\"dimension\":1,\"ticker\":{\"id\":\"23691\",\"type\":\"BasicTicker\"},\"visible\":false},\"id\":\"23694\",\"type\":\"Grid\"},{\"attributes\":{\"data_source\":{\"id\":\"23708\",\"type\":\"ColumnDataSource\"},\"glyph\":{\"id\":\"23709\",\"type\":\"VBar\"},\"hover_glyph\":null,\"muted_glyph\":null,\"nonselection_glyph\":{\"id\":\"23710\",\"type\":\"VBar\"},\"selection_glyph\":null,\"view\":{\"id\":\"23712\",\"type\":\"CDSView\"}},\"id\":\"23711\",\"type\":\"GlyphRenderer\"},{\"attributes\":{\"fill_color\":{\"field\":\"fill_color\"},\"line_color\":{\"field\":\"line_color\"},\"top\":{\"field\":\"top\"},\"width\":{\"value\":0.9},\"x\":{\"field\":\"x\"}},\"id\":\"23709\",\"type\":\"VBar\"},{\"attributes\":{\"children\":[[{\"id\":\"20163\",\"subtype\":\"Figure\",\"type\":\"Plot\"},0,0],[{\"id\":\"22233\",\"subtype\":\"Figure\",\"type\":\"Plot\"},1,0],[{\"id\":\"23675\",\"subtype\":\"Figure\",\"type\":\"Plot\"},2,0]]},\"id\":\"25194\",\"type\":\"GridBox\"},{\"attributes\":{\"source\":{\"id\":\"23708\",\"type\":\"ColumnDataSource\"}},\"id\":\"23712\",\"type\":\"CDSView\"},{\"attributes\":{},\"id\":\"23695\",\"type\":\"PanTool\"},{\"attributes\":{},\"id\":\"23696\",\"type\":\"WheelZoomTool\"},{\"attributes\":{\"overlay\":{\"id\":\"24344\",\"type\":\"BoxAnnotation\"}},\"id\":\"23697\",\"type\":\"BoxZoomTool\"},{\"attributes\":{\"text\":\"Muertes por jugador\"},\"id\":\"22234\",\"type\":\"Title\"},{\"attributes\":{},\"id\":\"23698\",\"type\":\"SaveTool\"},{\"attributes\":{\"fill_alpha\":{\"value\":0.1},\"fill_color\":{\"value\":\"#1f77b4\"},\"line_alpha\":{\"value\":0.1},\"line_color\":{\"value\":\"#1f77b4\"},\"top\":{\"field\":\"top\"},\"width\":{\"value\":0.9},\"x\":{\"field\":\"x\"}},\"id\":\"23710\",\"type\":\"VBar\"},{\"attributes\":{},\"id\":\"23699\",\"type\":\"ResetTool\"},{\"attributes\":{},\"id\":\"23700\",\"type\":\"HelpTool\"},{\"attributes\":{\"below\":[{\"id\":\"22244\",\"type\":\"CategoricalAxis\"}],\"center\":[{\"id\":\"22247\",\"type\":\"Grid\"},{\"id\":\"22252\",\"type\":\"Grid\"}],\"left\":[{\"id\":\"22248\",\"type\":\"LinearAxis\"}],\"plot_height\":250,\"plot_width\":1000,\"renderers\":[{\"id\":\"22269\",\"type\":\"GlyphRenderer\"}],\"title\":{\"id\":\"22234\",\"type\":\"Title\"},\"toolbar\":{\"id\":\"22259\",\"type\":\"Toolbar\"},\"toolbar_location\":null,\"x_range\":{\"id\":\"22236\",\"type\":\"FactorRange\"},\"x_scale\":{\"id\":\"22240\",\"type\":\"CategoricalScale\"},\"y_range\":{\"id\":\"22238\",\"type\":\"DataRange1d\"},\"y_scale\":{\"id\":\"22242\",\"type\":\"LinearScale\"}},\"id\":\"22233\",\"subtype\":\"Figure\",\"type\":\"Plot\"},{\"attributes\":{\"active_drag\":\"auto\",\"active_inspect\":\"auto\",\"active_multi\":null,\"active_scroll\":\"auto\",\"active_tap\":\"auto\",\"tools\":[{\"id\":\"23695\",\"type\":\"PanTool\"},{\"id\":\"23696\",\"type\":\"WheelZoomTool\"},{\"id\":\"23697\",\"type\":\"BoxZoomTool\"},{\"id\":\"23698\",\"type\":\"SaveTool\"},{\"id\":\"23699\",\"type\":\"ResetTool\"},{\"id\":\"23700\",\"type\":\"HelpTool\"}]},\"id\":\"23701\",\"type\":\"Toolbar\"},{\"attributes\":{},\"id\":\"20771\",\"type\":\"Selection\"},{\"attributes\":{},\"id\":\"24341\",\"type\":\"CategoricalTickFormatter\"},{\"attributes\":{},\"id\":\"24342\",\"type\":\"Selection\"},{\"attributes\":{},\"id\":\"24343\",\"type\":\"UnionRenderers\"},{\"attributes\":{\"bottom_units\":\"screen\",\"fill_alpha\":{\"value\":0.5},\"fill_color\":{\"value\":\"lightgrey\"},\"left_units\":\"screen\",\"level\":\"overlay\",\"line_alpha\":{\"value\":1.0},\"line_color\":{\"value\":\"black\"},\"line_dash\":[4,4],\"line_width\":{\"value\":2},\"render_mode\":\"css\",\"right_units\":\"screen\",\"top_units\":\"screen\"},\"id\":\"24344\",\"type\":\"BoxAnnotation\"},{\"attributes\":{\"toolbar\":{\"id\":\"25195\",\"type\":\"ProxyToolbar\"}},\"id\":\"25196\",\"type\":\"ToolbarBox\"},{\"attributes\":{\"callback\":null,\"data\":{\"fill_color\":[\"#40bfc1\",\"#40bfc1\",\"#40bfc1\",\"#40bfc1\",\"#40bfc1\",\"#f5f0e3\",\"#f5f0e3\",\"#f5f0e3\",\"#f5f0e3\",\"#ff6f5e\",\"#ff6f5e\",\"#ff6f5e\",\"#f0134d\"],\"line_color\":[\"#40bfc1\",\"#40bfc1\",\"#40bfc1\",\"#40bfc1\",\"#40bfc1\",\"#f5f0e3\",\"#f5f0e3\",\"#f5f0e3\",\"#f5f0e3\",\"#ff6f5e\",\"#ff6f5e\",\"#ff6f5e\",\"#f0134d\"],\"top\":[19,20,20,20,21,23,23,25,25,26,27,28,32],\"x\":[\"GRX Top\",\"G2 Mid\",\"GEN Mid\",\"100 Mid\",\"GRX ADC\",\"PVB Support\",\"MAD Top\",\"VIT Jungle\",\"C9 Jungle\",\"PVB Top\",\"VIT Support\",\"GRX Support\",\"100 ADC\"]},\"selected\":{\"id\":\"22875\",\"type\":\"Selection\"},\"selection_policy\":{\"id\":\"22876\",\"type\":\"UnionRenderers\"}},\"id\":\"22266\",\"type\":\"ColumnDataSource\"},{\"attributes\":{\"tools\":[{\"id\":\"20183\",\"type\":\"PanTool\"},{\"id\":\"20184\",\"type\":\"WheelZoomTool\"},{\"id\":\"20185\",\"type\":\"BoxZoomTool\"},{\"id\":\"20186\",\"type\":\"SaveTool\"},{\"id\":\"20187\",\"type\":\"ResetTool\"},{\"id\":\"20188\",\"type\":\"HelpTool\"},{\"id\":\"22253\",\"type\":\"PanTool\"},{\"id\":\"22254\",\"type\":\"WheelZoomTool\"},{\"id\":\"22255\",\"type\":\"BoxZoomTool\"},{\"id\":\"22256\",\"type\":\"SaveTool\"},{\"id\":\"22257\",\"type\":\"ResetTool\"},{\"id\":\"22258\",\"type\":\"HelpTool\"},{\"id\":\"23695\",\"type\":\"PanTool\"},{\"id\":\"23696\",\"type\":\"WheelZoomTool\"},{\"id\":\"23697\",\"type\":\"BoxZoomTool\"},{\"id\":\"23698\",\"type\":\"SaveTool\"},{\"id\":\"23699\",\"type\":\"ResetTool\"},{\"id\":\"23700\",\"type\":\"HelpTool\"}]},\"id\":\"25195\",\"type\":\"ProxyToolbar\"},{\"attributes\":{\"callback\":null},\"id\":\"22238\",\"type\":\"DataRange1d\"},{\"attributes\":{\"fill_alpha\":{\"value\":0.1},\"fill_color\":{\"value\":\"#1f77b4\"},\"line_alpha\":{\"value\":0.1},\"line_color\":{\"value\":\"#1f77b4\"},\"top\":{\"field\":\"top\"},\"width\":{\"value\":0.9},\"x\":{\"field\":\"x\"}},\"id\":\"22268\",\"type\":\"VBar\"},{\"attributes\":{},\"id\":\"23687\",\"type\":\"CategoricalTicker\"},{\"attributes\":{\"formatter\":{\"id\":\"20770\",\"type\":\"CategoricalTickFormatter\"},\"ticker\":{\"id\":\"20175\",\"type\":\"CategoricalTicker\"}},\"id\":\"20174\",\"type\":\"CategoricalAxis\"},{\"attributes\":{\"active_drag\":\"auto\",\"active_inspect\":\"auto\",\"active_multi\":null,\"active_scroll\":\"auto\",\"active_tap\":\"auto\",\"tools\":[{\"id\":\"22253\",\"type\":\"PanTool\"},{\"id\":\"22254\",\"type\":\"WheelZoomTool\"},{\"id\":\"22255\",\"type\":\"BoxZoomTool\"},{\"id\":\"22256\",\"type\":\"SaveTool\"},{\"id\":\"22257\",\"type\":\"ResetTool\"},{\"id\":\"22258\",\"type\":\"HelpTool\"}]},\"id\":\"22259\",\"type\":\"Toolbar\"},{\"attributes\":{\"formatter\":{\"id\":\"24339\",\"type\":\"BasicTickFormatter\"},\"ticker\":{\"id\":\"23691\",\"type\":\"BasicTicker\"}},\"id\":\"23690\",\"type\":\"LinearAxis\"},{\"attributes\":{\"ticker\":{\"id\":\"23687\",\"type\":\"CategoricalTicker\"},\"visible\":false},\"id\":\"23689\",\"type\":\"Grid\"},{\"attributes\":{},\"id\":\"22245\",\"type\":\"CategoricalTicker\"},{\"attributes\":{\"active_drag\":\"auto\",\"active_inspect\":\"auto\",\"active_multi\":null,\"active_scroll\":\"auto\",\"active_tap\":\"auto\",\"tools\":[{\"id\":\"20183\",\"type\":\"PanTool\"},{\"id\":\"20184\",\"type\":\"WheelZoomTool\"},{\"id\":\"20185\",\"type\":\"BoxZoomTool\"},{\"id\":\"20186\",\"type\":\"SaveTool\"},{\"id\":\"20187\",\"type\":\"ResetTool\"},{\"id\":\"20188\",\"type\":\"HelpTool\"}]},\"id\":\"20189\",\"type\":\"Toolbar\"},{\"attributes\":{},\"id\":\"22254\",\"type\":\"WheelZoomTool\"},{\"attributes\":{\"source\":{\"id\":\"22266\",\"type\":\"ColumnDataSource\"}},\"id\":\"22270\",\"type\":\"CDSView\"},{\"attributes\":{\"fill_color\":{\"field\":\"fill_color\"},\"line_color\":{\"field\":\"line_color\"},\"top\":{\"field\":\"top\"},\"width\":{\"value\":0.9},\"x\":{\"field\":\"x\"}},\"id\":\"22267\",\"type\":\"VBar\"},{\"attributes\":{\"formatter\":{\"id\":\"22872\",\"type\":\"BasicTickFormatter\"},\"ticker\":{\"id\":\"22249\",\"type\":\"BasicTicker\"}},\"id\":\"22248\",\"type\":\"LinearAxis\"},{\"attributes\":{},\"id\":\"22253\",\"type\":\"PanTool\"},{\"attributes\":{},\"id\":\"20187\",\"type\":\"ResetTool\"},{\"attributes\":{},\"id\":\"22874\",\"type\":\"CategoricalTickFormatter\"},{\"attributes\":{},\"id\":\"20183\",\"type\":\"PanTool\"},{\"attributes\":{},\"id\":\"20184\",\"type\":\"WheelZoomTool\"},{\"attributes\":{\"data_source\":{\"id\":\"22266\",\"type\":\"ColumnDataSource\"},\"glyph\":{\"id\":\"22267\",\"type\":\"VBar\"},\"hover_glyph\":null,\"muted_glyph\":null,\"nonselection_glyph\":{\"id\":\"22268\",\"type\":\"VBar\"},\"selection_glyph\":null,\"view\":{\"id\":\"22270\",\"type\":\"CDSView\"}},\"id\":\"22269\",\"type\":\"GlyphRenderer\"},{\"attributes\":{\"source\":{\"id\":\"20196\",\"type\":\"ColumnDataSource\"}},\"id\":\"20200\",\"type\":\"CDSView\"},{\"attributes\":{\"data_source\":{\"id\":\"20196\",\"type\":\"ColumnDataSource\"},\"glyph\":{\"id\":\"20197\",\"type\":\"VBar\"},\"hover_glyph\":null,\"muted_glyph\":null,\"nonselection_glyph\":{\"id\":\"20198\",\"type\":\"VBar\"},\"selection_glyph\":null,\"view\":{\"id\":\"20200\",\"type\":\"CDSView\"}},\"id\":\"20199\",\"type\":\"GlyphRenderer\"},{\"attributes\":{\"dimension\":1,\"ticker\":{\"id\":\"22249\",\"type\":\"BasicTicker\"},\"visible\":false},\"id\":\"22252\",\"type\":\"Grid\"},{\"attributes\":{\"fill_color\":{\"field\":\"fill_color\"},\"line_color\":{\"field\":\"line_color\"},\"top\":{\"field\":\"top\"},\"width\":{\"value\":0.9},\"x\":{\"field\":\"x\"}},\"id\":\"20197\",\"type\":\"VBar\"},{\"attributes\":{},\"id\":\"22249\",\"type\":\"BasicTicker\"},{\"attributes\":{\"ticker\":{\"id\":\"22245\",\"type\":\"CategoricalTicker\"},\"visible\":false},\"id\":\"22247\",\"type\":\"Grid\"},{\"attributes\":{},\"id\":\"20186\",\"type\":\"SaveTool\"},{\"attributes\":{},\"id\":\"22242\",\"type\":\"LinearScale\"},{\"attributes\":{\"overlay\":{\"id\":\"20773\",\"type\":\"BoxAnnotation\"}},\"id\":\"20185\",\"type\":\"BoxZoomTool\"},{\"attributes\":{},\"id\":\"22240\",\"type\":\"CategoricalScale\"},{\"attributes\":{\"formatter\":{\"id\":\"22874\",\"type\":\"CategoricalTickFormatter\"},\"ticker\":{\"id\":\"22245\",\"type\":\"CategoricalTicker\"}},\"id\":\"22244\",\"type\":\"CategoricalAxis\"},{\"attributes\":{\"formatter\":{\"id\":\"20768\",\"type\":\"BasicTickFormatter\"},\"ticker\":{\"id\":\"20179\",\"type\":\"BasicTicker\"}},\"id\":\"20178\",\"type\":\"LinearAxis\"},{\"attributes\":{},\"id\":\"20179\",\"type\":\"BasicTicker\"},{\"attributes\":{\"callback\":null,\"data\":{\"fill_color\":[\"#08ffc8\",\"#08ffc8\",\"#08ffc8\",\"#08ffc8\",\"#08ffc8\",\"#fff7f7\",\"#fff7f7\",\"#fff7f7\",\"#fff7f7\",\"#dadada\",\"#dadada\",\"#dadada\",\"#204969\"],\"line_color\":[\"#08ffc8\",\"#08ffc8\",\"#08ffc8\",\"#08ffc8\",\"#08ffc8\",\"#fff7f7\",\"#fff7f7\",\"#fff7f7\",\"#fff7f7\",\"#dadada\",\"#dadada\",\"#dadada\",\"#204969\"],\"top\":[49,49,53,54,54,57,57,58,63,65,69,79,83],\"x\":[\"VIT Support\",\"C9 Mid\",\"FW Support\",\"RNG Mid\",\"FNC ADC\",\"IG Support\",\"KT Support\",\"IG Jungle\",\"EDG Support\",\"C9 Support\",\"RNG Support\",\"FNC Support\",\"100 ADC\"]},\"selected\":{\"id\":\"24342\",\"type\":\"Selection\"},\"selection_policy\":{\"id\":\"24343\",\"type\":\"UnionRenderers\"}},\"id\":\"23708\",\"type\":\"ColumnDataSource\"},{\"attributes\":{\"callback\":null,\"factors\":[\"GRX Top\",\"G2 Mid\",\"GEN Mid\",\"100 Mid\",\"GRX ADC\",\"PVB Support\",\"MAD Top\",\"VIT Jungle\",\"C9 Jungle\",\"PVB Top\",\"VIT Support\",\"GRX Support\",\"100 ADC\"]},\"id\":\"22236\",\"type\":\"FactorRange\"},{\"attributes\":{},\"id\":\"24339\",\"type\":\"BasicTickFormatter\"},{\"attributes\":{\"ticker\":{\"id\":\"20175\",\"type\":\"CategoricalTicker\"},\"visible\":false},\"id\":\"20177\",\"type\":\"Grid\"},{\"attributes\":{\"dimension\":1,\"ticker\":{\"id\":\"20179\",\"type\":\"BasicTicker\"},\"visible\":false},\"id\":\"20182\",\"type\":\"Grid\"},{\"attributes\":{},\"id\":\"22256\",\"type\":\"SaveTool\"},{\"attributes\":{\"overlay\":{\"id\":\"22877\",\"type\":\"BoxAnnotation\"}},\"id\":\"22255\",\"type\":\"BoxZoomTool\"},{\"attributes\":{},\"id\":\"20768\",\"type\":\"BasicTickFormatter\"},{\"attributes\":{},\"id\":\"20172\",\"type\":\"LinearScale\"},{\"attributes\":{},\"id\":\"22258\",\"type\":\"HelpTool\"},{\"attributes\":{},\"id\":\"20175\",\"type\":\"CategoricalTicker\"},{\"attributes\":{},\"id\":\"22257\",\"type\":\"ResetTool\"},{\"attributes\":{\"bottom_units\":\"screen\",\"fill_alpha\":{\"value\":0.5},\"fill_color\":{\"value\":\"lightgrey\"},\"left_units\":\"screen\",\"level\":\"overlay\",\"line_alpha\":{\"value\":1.0},\"line_color\":{\"value\":\"black\"},\"line_dash\":[4,4],\"line_width\":{\"value\":2},\"render_mode\":\"css\",\"right_units\":\"screen\",\"top_units\":\"screen\"},\"id\":\"22877\",\"type\":\"BoxAnnotation\"},{\"attributes\":{},\"id\":\"22876\",\"type\":\"UnionRenderers\"},{\"attributes\":{\"below\":[{\"id\":\"20174\",\"type\":\"CategoricalAxis\"}],\"center\":[{\"id\":\"20177\",\"type\":\"Grid\"},{\"id\":\"20182\",\"type\":\"Grid\"}],\"left\":[{\"id\":\"20178\",\"type\":\"LinearAxis\"}],\"plot_height\":250,\"plot_width\":1000,\"renderers\":[{\"id\":\"20199\",\"type\":\"GlyphRenderer\"}],\"title\":{\"id\":\"20164\",\"type\":\"Title\"},\"toolbar\":{\"id\":\"20189\",\"type\":\"Toolbar\"},\"toolbar_location\":null,\"x_range\":{\"id\":\"20166\",\"type\":\"FactorRange\"},\"x_scale\":{\"id\":\"20170\",\"type\":\"CategoricalScale\"},\"y_range\":{\"id\":\"20168\",\"type\":\"DataRange1d\"},\"y_scale\":{\"id\":\"20172\",\"type\":\"LinearScale\"}},\"id\":\"20163\",\"subtype\":\"Figure\",\"type\":\"Plot\"},{\"attributes\":{},\"id\":\"20188\",\"type\":\"HelpTool\"},{\"attributes\":{},\"id\":\"22875\",\"type\":\"Selection\"},{\"attributes\":{\"callback\":null},\"id\":\"20168\",\"type\":\"DataRange1d\"},{\"attributes\":{},\"id\":\"20170\",\"type\":\"CategoricalScale\"},{\"attributes\":{},\"id\":\"22872\",\"type\":\"BasicTickFormatter\"},{\"attributes\":{\"below\":[{\"id\":\"23686\",\"type\":\"CategoricalAxis\"}],\"center\":[{\"id\":\"23689\",\"type\":\"Grid\"},{\"id\":\"23694\",\"type\":\"Grid\"}],\"left\":[{\"id\":\"23690\",\"type\":\"LinearAxis\"}],\"plot_height\":250,\"plot_width\":1000,\"renderers\":[{\"id\":\"23711\",\"type\":\"GlyphRenderer\"}],\"title\":{\"id\":\"23676\",\"type\":\"Title\"},\"toolbar\":{\"id\":\"23701\",\"type\":\"Toolbar\"},\"toolbar_location\":null,\"x_range\":{\"id\":\"23678\",\"type\":\"FactorRange\"},\"x_scale\":{\"id\":\"23682\",\"type\":\"CategoricalScale\"},\"y_range\":{\"id\":\"23680\",\"type\":\"DataRange1d\"},\"y_scale\":{\"id\":\"23684\",\"type\":\"LinearScale\"}},\"id\":\"23675\",\"subtype\":\"Figure\",\"type\":\"Plot\"},{\"attributes\":{\"text\":\"Asistencias por jugador\"},\"id\":\"23676\",\"type\":\"Title\"},{\"attributes\":{},\"id\":\"20772\",\"type\":\"UnionRenderers\"},{\"attributes\":{\"formatter\":{\"id\":\"24341\",\"type\":\"CategoricalTickFormatter\"},\"ticker\":{\"id\":\"23687\",\"type\":\"CategoricalTicker\"}},\"id\":\"23686\",\"type\":\"CategoricalAxis\"},{\"attributes\":{\"callback\":null},\"id\":\"23680\",\"type\":\"DataRange1d\"},{\"attributes\":{\"fill_alpha\":{\"value\":0.1},\"fill_color\":{\"value\":\"#1f77b4\"},\"line_alpha\":{\"value\":0.1},\"line_color\":{\"value\":\"#1f77b4\"},\"top\":{\"field\":\"top\"},\"width\":{\"value\":0.9},\"x\":{\"field\":\"x\"}},\"id\":\"20198\",\"type\":\"VBar\"},{\"attributes\":{\"callback\":null,\"data\":{\"fill_color\":[\"#004445\",\"#004445\",\"#004445\",\"#004445\",\"#004445\",\"#2c7873\",\"#2c7873\",\"#2c7873\",\"#2c7873\",\"#6fb98f\",\"#6fb98f\",\"#6fb98f\",\"#ffd800\"],\"line_color\":[\"#004445\",\"#004445\",\"#004445\",\"#004445\",\"#004445\",\"#2c7873\",\"#2c7873\",\"#2c7873\",\"#2c7873\",\"#6fb98f\",\"#6fb98f\",\"#6fb98f\",\"#ffd800\"],\"top\":[25,25,26,27,28,28,28,29,30,33,33,34,37],\"x\":[\"G2 Mid\",\"KT Mid\",\"IG Mid\",\"FW ADC\",\"KT ADC\",\"EDG ADC\",\"FNC ADC\",\"100 Jungle\",\"FNC Jungle\",\"RNG ADC\",\"IG ADC\",\"C9 Mid\",\"FNC Mid\"]},\"selected\":{\"id\":\"20771\",\"type\":\"Selection\"},\"selection_policy\":{\"id\":\"20772\",\"type\":\"UnionRenderers\"}},\"id\":\"20196\",\"type\":\"ColumnDataSource\"},{\"attributes\":{\"bottom_units\":\"screen\",\"fill_alpha\":{\"value\":0.5},\"fill_color\":{\"value\":\"lightgrey\"},\"left_units\":\"screen\",\"level\":\"overlay\",\"line_alpha\":{\"value\":1.0},\"line_color\":{\"value\":\"black\"},\"line_dash\":[4,4],\"line_width\":{\"value\":2},\"render_mode\":\"css\",\"right_units\":\"screen\",\"top_units\":\"screen\"},\"id\":\"20773\",\"type\":\"BoxAnnotation\"},{\"attributes\":{},\"id\":\"20770\",\"type\":\"CategoricalTickFormatter\"},{\"attributes\":{\"callback\":null,\"factors\":[\"VIT Support\",\"C9 Mid\",\"FW Support\",\"RNG Mid\",\"FNC ADC\",\"IG Support\",\"KT Support\",\"IG Jungle\",\"EDG Support\",\"C9 Support\",\"RNG Support\",\"FNC Support\",\"100 ADC\"]},\"id\":\"23678\",\"type\":\"FactorRange\"},{\"attributes\":{\"text\":\"Asesinatos por jugador\"},\"id\":\"20164\",\"type\":\"Title\"},{\"attributes\":{},\"id\":\"23684\",\"type\":\"LinearScale\"},{\"attributes\":{},\"id\":\"23682\",\"type\":\"CategoricalScale\"},{\"attributes\":{\"callback\":null,\"factors\":[\"G2 Mid\",\"KT Mid\",\"IG Mid\",\"FW ADC\",\"KT ADC\",\"EDG ADC\",\"FNC ADC\",\"100 Jungle\",\"FNC Jungle\",\"RNG ADC\",\"IG ADC\",\"C9 Mid\",\"FNC Mid\"]},\"id\":\"20166\",\"type\":\"FactorRange\"}],\"root_ids\":[\"25197\"]},\"title\":\"Bokeh Application\",\"version\":\"1.4.0\"}};\n",
       "  var render_items = [{\"docid\":\"2db75bb4-d266-4b22-8996-d5ec287e6d59\",\"roots\":{\"25197\":\"a86d1354-ad53-47c3-9aa6-51e0449c648d\"}}];\n",
       "  root.Bokeh.embed.embed_items_notebook(docs_json, render_items);\n",
       "\n",
       "  }\n",
       "  if (root.Bokeh !== undefined) {\n",
       "    embed_document(root);\n",
       "  } else {\n",
       "    var attempts = 0;\n",
       "    var timer = setInterval(function(root) {\n",
       "      if (root.Bokeh !== undefined) {\n",
       "        clearInterval(timer);\n",
       "        embed_document(root);\n",
       "      } else {\n",
       "        attempts++;\n",
       "        if (attempts > 100) {\n",
       "          clearInterval(timer);\n",
       "          console.log(\"Bokeh: ERROR: Unable to run BokehJS code because BokehJS library is missing\");\n",
       "        }\n",
       "      }\n",
       "    }, 10, root)\n",
       "  }\n",
       "})(window);"
      ],
      "application/vnd.bokehjs_exec.v0+json": ""
     },
     "metadata": {
      "application/vnd.bokehjs_exec.v0+json": {
       "id": "25197"
      }
     },
     "output_type": "display_data"
    }
   ],
   "source": [
    "gp1 = gridplot([[p3], [p4], [p5]], toolbar_location = \"right\")\n",
    "show(gp1)"
   ]
  },
  {
   "cell_type": "markdown",
   "metadata": {},
   "source": [
    "### Que jugadores tienen la mayor participacion en asesinatos de todos los juegos?"
   ]
  },
  {
   "cell_type": "code",
   "execution_count": 105,
   "metadata": {},
   "outputs": [
    {
     "data": {
      "text/html": [
       "<div>\n",
       "<style scoped>\n",
       "    .dataframe tbody tr th:only-of-type {\n",
       "        vertical-align: middle;\n",
       "    }\n",
       "\n",
       "    .dataframe tbody tr th {\n",
       "        vertical-align: top;\n",
       "    }\n",
       "\n",
       "    .dataframe thead th {\n",
       "        text-align: right;\n",
       "    }\n",
       "</style>\n",
       "<table border=\"1\" class=\"dataframe\">\n",
       "  <thead>\n",
       "    <tr style=\"text-align: right;\">\n",
       "      <th></th>\n",
       "      <th>Name</th>\n",
       "      <th>Kill Participation</th>\n",
       "      <th>Team</th>\n",
       "      <th>Position</th>\n",
       "    </tr>\n",
       "  </thead>\n",
       "  <tbody>\n",
       "    <tr>\n",
       "      <th>13</th>\n",
       "      <td>Kramer</td>\n",
       "      <td>0.76</td>\n",
       "      <td>AFS</td>\n",
       "      <td>ADC</td>\n",
       "    </tr>\n",
       "    <tr>\n",
       "      <th>5</th>\n",
       "      <td>Ucal</td>\n",
       "      <td>0.77</td>\n",
       "      <td>KT</td>\n",
       "      <td>Mid</td>\n",
       "    </tr>\n",
       "    <tr>\n",
       "      <th>62</th>\n",
       "      <td>Olleh</td>\n",
       "      <td>0.78</td>\n",
       "      <td>TL</td>\n",
       "      <td>Support</td>\n",
       "    </tr>\n",
       "    <tr>\n",
       "      <th>1</th>\n",
       "      <td>Mata</td>\n",
       "      <td>0.78</td>\n",
       "      <td>KT</td>\n",
       "      <td>Support</td>\n",
       "    </tr>\n",
       "    <tr>\n",
       "      <th>67</th>\n",
       "      <td>Kikis</td>\n",
       "      <td>0.78</td>\n",
       "      <td>VIT</td>\n",
       "      <td>Jungle</td>\n",
       "    </tr>\n",
       "    <tr>\n",
       "      <th>40</th>\n",
       "      <td>Meiko</td>\n",
       "      <td>0.80</td>\n",
       "      <td>EDG</td>\n",
       "      <td>Support</td>\n",
       "    </tr>\n",
       "    <tr>\n",
       "      <th>46</th>\n",
       "      <td>AnDa</td>\n",
       "      <td>0.81</td>\n",
       "      <td>100</td>\n",
       "      <td>Jungle</td>\n",
       "    </tr>\n",
       "    <tr>\n",
       "      <th>25</th>\n",
       "      <td>Jensen</td>\n",
       "      <td>0.81</td>\n",
       "      <td>C9</td>\n",
       "      <td>Mid</td>\n",
       "    </tr>\n",
       "    <tr>\n",
       "      <th>50</th>\n",
       "      <td>XuHao</td>\n",
       "      <td>0.83</td>\n",
       "      <td>PVB</td>\n",
       "      <td>Jungle</td>\n",
       "    </tr>\n",
       "    <tr>\n",
       "      <th>22</th>\n",
       "      <td>Ambition</td>\n",
       "      <td>0.83</td>\n",
       "      <td>GEN</td>\n",
       "      <td>Jungle</td>\n",
       "    </tr>\n",
       "    <tr>\n",
       "      <th>12</th>\n",
       "      <td>iBoy</td>\n",
       "      <td>0.83</td>\n",
       "      <td>EDG</td>\n",
       "      <td>ADC</td>\n",
       "    </tr>\n",
       "    <tr>\n",
       "      <th>75</th>\n",
       "      <td>Kongyue</td>\n",
       "      <td>0.86</td>\n",
       "      <td>MAD</td>\n",
       "      <td>Jungle</td>\n",
       "    </tr>\n",
       "    <tr>\n",
       "      <th>87</th>\n",
       "      <td>Blaber</td>\n",
       "      <td>1.00</td>\n",
       "      <td>C9</td>\n",
       "      <td>Jungle</td>\n",
       "    </tr>\n",
       "  </tbody>\n",
       "</table>\n",
       "</div>"
      ],
      "text/plain": [
       "        Name  Kill Participation Team Position\n",
       "13    Kramer                0.76  AFS      ADC\n",
       "5       Ucal                0.77   KT      Mid\n",
       "62     Olleh                0.78   TL  Support\n",
       "1       Mata                0.78   KT  Support\n",
       "67     Kikis                0.78  VIT   Jungle\n",
       "40     Meiko                0.80  EDG  Support\n",
       "46      AnDa                0.81  100   Jungle\n",
       "25    Jensen                0.81   C9      Mid\n",
       "50     XuHao                0.83  PVB   Jungle\n",
       "22  Ambition                0.83  GEN   Jungle\n",
       "12      iBoy                0.83  EDG      ADC\n",
       "75   Kongyue                0.86  MAD   Jungle\n",
       "87    Blaber                1.00   C9   Jungle"
      ]
     },
     "execution_count": 105,
     "metadata": {},
     "output_type": "execute_result"
    }
   ],
   "source": [
    "kpa = data[['Name', 'Kill Participation', 'Team', 'Position']]\n",
    "kpa = kpa.sort_values(by = [\"Kill Participation\"])\n",
    "kpa10 = kpa[-13:]\n",
    "kpa10"
   ]
  },
  {
   "cell_type": "code",
   "execution_count": 106,
   "metadata": {},
   "outputs": [
    {
     "data": {
      "text/plain": [
       "[('Jungle', 6), ('Support', 3), ('ADC', 2), ('Mid', 2)]"
      ]
     },
     "execution_count": 106,
     "metadata": {},
     "output_type": "execute_result"
    }
   ],
   "source": [
    "roles = list(kpa10['Position'])\n",
    "roles_n = Counter(roles)\n",
    "roles_n.most_common()"
   ]
  },
  {
   "cell_type": "code",
   "execution_count": 38,
   "metadata": {},
   "outputs": [
    {
     "name": "stdout",
     "output_type": "stream",
     "text": [
      "{'Jungle': 6, 'Support': 3, 'ADC': 2, 'Mid': 2}\n"
     ]
    }
   ],
   "source": [
    "x_pie6 = {}\n",
    "for i in range(len(roles_n)):\n",
    "    x_pie6[roles_n.most_common()[i][0]] = roles_n.most_common()[i][1]\n",
    "\n",
    "print(x_pie6)"
   ]
  },
  {
   "cell_type": "code",
   "execution_count": 107,
   "metadata": {},
   "outputs": [
    {
     "name": "stderr",
     "output_type": "stream",
     "text": [
      "BokehDeprecationWarning: 'legend' keyword is deprecated, use explicit 'legend_label', 'legend_field', or 'legend_group' keywords instead\n"
     ]
    },
    {
     "data": {
      "text/html": [
       "\n",
       "\n",
       "\n",
       "\n",
       "\n",
       "\n",
       "  <div class=\"bk-root\" id=\"539f76db-6d89-4b53-876d-07b19b4721e3\" data-root-id=\"13433\"></div>\n"
      ]
     },
     "metadata": {},
     "output_type": "display_data"
    },
    {
     "data": {
      "application/javascript": [
       "(function(root) {\n",
       "  function embed_document(root) {\n",
       "    \n",
       "  var docs_json = {\"4f7044ec-1ed8-4731-a03f-04daa57b693c\":{\"roots\":{\"references\":[{\"attributes\":{\"below\":[{\"id\":\"13444\",\"type\":\"LinearAxis\"}],\"center\":[{\"id\":\"13448\",\"type\":\"Grid\"},{\"id\":\"13453\",\"type\":\"Grid\"},{\"id\":\"13470\",\"type\":\"Legend\"},{\"id\":\"13474\",\"type\":\"LabelSet\"}],\"left\":[{\"id\":\"13449\",\"type\":\"LinearAxis\"}],\"plot_height\":350,\"plot_width\":1000,\"renderers\":[{\"id\":\"13463\",\"type\":\"GlyphRenderer\"}],\"title\":{\"id\":\"13434\",\"type\":\"Title\"},\"toolbar\":{\"id\":\"13455\",\"type\":\"Toolbar\"},\"toolbar_location\":null,\"x_range\":{\"id\":\"13436\",\"type\":\"DataRange1d\"},\"x_scale\":{\"id\":\"13440\",\"type\":\"LinearScale\"},\"y_range\":{\"id\":\"13438\",\"type\":\"DataRange1d\"},\"y_scale\":{\"id\":\"13442\",\"type\":\"LinearScale\"}},\"id\":\"13433\",\"subtype\":\"Figure\",\"type\":\"Plot\"},{\"attributes\":{},\"id\":\"13450\",\"type\":\"BasicTicker\"},{\"attributes\":{\"dimension\":1,\"grid_line_color\":null,\"ticker\":{\"id\":\"13450\",\"type\":\"BasicTicker\"}},\"id\":\"13453\",\"type\":\"Grid\"},{\"attributes\":{\"callback\":null,\"data\":{\"angle\":{\"__ndarray__\":\"PgJ6YQ8zB0A+AnphDzP3P6itoiy/7u4/qK2iLL/u7j8=\",\"dtype\":\"float64\",\"shape\":[4]},\"color\":[\"#018571\",\"#80cdc1\",\"#dfc27d\",\"#a6611a\"],\"index\":[0,1,2,3],\"role\":[\"Jungle\",\"Support\",\"ADC\",\"Mid\"],\"value\":[6,3,2,2]},\"selected\":{\"id\":\"13927\",\"type\":\"Selection\"},\"selection_policy\":{\"id\":\"13928\",\"type\":\"UnionRenderers\"}},\"id\":\"13459\",\"type\":\"ColumnDataSource\"},{\"attributes\":{},\"id\":\"13927\",\"type\":\"Selection\"},{\"attributes\":{\"active_drag\":\"auto\",\"active_inspect\":\"auto\",\"active_multi\":null,\"active_scroll\":\"auto\",\"active_tap\":\"auto\",\"tools\":[{\"id\":\"13454\",\"type\":\"HoverTool\"}]},\"id\":\"13455\",\"type\":\"Toolbar\"},{\"attributes\":{\"callback\":null,\"tooltips\":\"@role: @value\"},\"id\":\"13454\",\"type\":\"HoverTool\"},{\"attributes\":{\"data_source\":{\"id\":\"13459\",\"type\":\"ColumnDataSource\"},\"glyph\":{\"id\":\"13461\",\"type\":\"Wedge\"},\"hover_glyph\":null,\"muted_glyph\":null,\"nonselection_glyph\":{\"id\":\"13462\",\"type\":\"Wedge\"},\"selection_glyph\":null,\"view\":{\"id\":\"13464\",\"type\":\"CDSView\"}},\"id\":\"13463\",\"type\":\"GlyphRenderer\"},{\"attributes\":{\"end_angle\":{\"expr\":{\"id\":\"13458\",\"type\":\"CumSum\"},\"units\":\"rad\"},\"fill_color\":{\"field\":\"color\"},\"line_color\":{\"value\":\"white\"},\"radius\":{\"units\":\"data\",\"value\":0.3},\"start_angle\":{\"expr\":{\"id\":\"13457\",\"type\":\"CumSum\"},\"units\":\"rad\"},\"x\":{\"value\":0},\"y\":{\"value\":1}},\"id\":\"13461\",\"type\":\"Wedge\"},{\"attributes\":{},\"id\":\"13928\",\"type\":\"UnionRenderers\"},{\"attributes\":{\"text\":\"Participaci\\u00f3n en asesinatos por rol (asesinatos + asistencias)\"},\"id\":\"13434\",\"type\":\"Title\"},{\"attributes\":{\"field\":\"angle\",\"include_zero\":true},\"id\":\"13457\",\"type\":\"CumSum\"},{\"attributes\":{\"callback\":null,\"data\":{\"angle\":{\"__ndarray__\":\"PgJ6YQ8zB0A+AnphDzP3P6itoiy/7u4/qK2iLL/u7j8=\",\"dtype\":\"float64\",\"shape\":[4]},\"color\":[\"#018571\",\"#80cdc1\",\"#dfc27d\",\"#a6611a\"],\"index\":[0,1,2,3],\"role\":[\"Jungle\",\"Support\",\"ADC\",\"Mid\"],\"value\":[\"                                  6\",\"                                  3\",\"                                  2\",\"                                  2\"]},\"selected\":{\"id\":\"13929\",\"type\":\"Selection\"},\"selection_policy\":{\"id\":\"13930\",\"type\":\"UnionRenderers\"}},\"id\":\"13472\",\"type\":\"ColumnDataSource\"},{\"attributes\":{},\"id\":\"13929\",\"type\":\"Selection\"},{\"attributes\":{\"callback\":null},\"id\":\"13436\",\"type\":\"DataRange1d\"},{\"attributes\":{\"angle\":{\"expr\":{\"id\":\"13473\",\"type\":\"CumSum\"},\"units\":\"rad\"},\"level\":\"glyph\",\"source\":{\"id\":\"13472\",\"type\":\"ColumnDataSource\"},\"text\":{\"field\":\"value\"},\"x\":{\"value\":0},\"y\":{\"value\":1}},\"id\":\"13474\",\"type\":\"LabelSet\"},{\"attributes\":{\"items\":[{\"id\":\"13471\",\"type\":\"LegendItem\"}]},\"id\":\"13470\",\"type\":\"Legend\"},{\"attributes\":{\"callback\":null},\"id\":\"13438\",\"type\":\"DataRange1d\"},{\"attributes\":{\"field\":\"angle\"},\"id\":\"13458\",\"type\":\"CumSum\"},{\"attributes\":{},\"id\":\"13930\",\"type\":\"UnionRenderers\"},{\"attributes\":{},\"id\":\"13440\",\"type\":\"LinearScale\"},{\"attributes\":{},\"id\":\"13467\",\"type\":\"BasicTickFormatter\"},{\"attributes\":{\"field\":\"angle\",\"include_zero\":true},\"id\":\"13473\",\"type\":\"CumSum\"},{\"attributes\":{},\"id\":\"13442\",\"type\":\"LinearScale\"},{\"attributes\":{\"label\":{\"field\":\"role\"},\"renderers\":[{\"id\":\"13463\",\"type\":\"GlyphRenderer\"}]},\"id\":\"13471\",\"type\":\"LegendItem\"},{\"attributes\":{\"axis_label\":null,\"formatter\":{\"id\":\"13469\",\"type\":\"BasicTickFormatter\"},\"ticker\":{\"id\":\"13445\",\"type\":\"BasicTicker\"},\"visible\":false},\"id\":\"13444\",\"type\":\"LinearAxis\"},{\"attributes\":{},\"id\":\"13445\",\"type\":\"BasicTicker\"},{\"attributes\":{\"end_angle\":{\"expr\":{\"id\":\"13458\",\"type\":\"CumSum\"},\"units\":\"rad\"},\"fill_alpha\":{\"value\":0.1},\"fill_color\":{\"value\":\"#1f77b4\"},\"line_alpha\":{\"value\":0.1},\"line_color\":{\"value\":\"#1f77b4\"},\"radius\":{\"units\":\"data\",\"value\":0.3},\"start_angle\":{\"expr\":{\"id\":\"13457\",\"type\":\"CumSum\"},\"units\":\"rad\"},\"x\":{\"value\":0},\"y\":{\"value\":1}},\"id\":\"13462\",\"type\":\"Wedge\"},{\"attributes\":{},\"id\":\"13469\",\"type\":\"BasicTickFormatter\"},{\"attributes\":{\"grid_line_color\":null,\"ticker\":{\"id\":\"13445\",\"type\":\"BasicTicker\"}},\"id\":\"13448\",\"type\":\"Grid\"},{\"attributes\":{\"axis_label\":null,\"formatter\":{\"id\":\"13467\",\"type\":\"BasicTickFormatter\"},\"ticker\":{\"id\":\"13450\",\"type\":\"BasicTicker\"},\"visible\":false},\"id\":\"13449\",\"type\":\"LinearAxis\"},{\"attributes\":{\"source\":{\"id\":\"13459\",\"type\":\"ColumnDataSource\"}},\"id\":\"13464\",\"type\":\"CDSView\"}],\"root_ids\":[\"13433\"]},\"title\":\"Bokeh Application\",\"version\":\"1.4.0\"}};\n",
       "  var render_items = [{\"docid\":\"4f7044ec-1ed8-4731-a03f-04daa57b693c\",\"roots\":{\"13433\":\"539f76db-6d89-4b53-876d-07b19b4721e3\"}}];\n",
       "  root.Bokeh.embed.embed_items_notebook(docs_json, render_items);\n",
       "\n",
       "  }\n",
       "  if (root.Bokeh !== undefined) {\n",
       "    embed_document(root);\n",
       "  } else {\n",
       "    var attempts = 0;\n",
       "    var timer = setInterval(function(root) {\n",
       "      if (root.Bokeh !== undefined) {\n",
       "        clearInterval(timer);\n",
       "        embed_document(root);\n",
       "      } else {\n",
       "        attempts++;\n",
       "        if (attempts > 100) {\n",
       "          clearInterval(timer);\n",
       "          console.log(\"Bokeh: ERROR: Unable to run BokehJS code because BokehJS library is missing\");\n",
       "        }\n",
       "      }\n",
       "    }, 10, root)\n",
       "  }\n",
       "})(window);"
      ],
      "application/vnd.bokehjs_exec.v0+json": ""
     },
     "metadata": {
      "application/vnd.bokehjs_exec.v0+json": {
       "id": "13433"
      }
     },
     "output_type": "display_data"
    }
   ],
   "source": [
    "data_pie = pd.Series(x_pie6).reset_index(name='value').rename(columns={'index':'role'})\n",
    "data_pie['angle'] = data_pie['value']/data_pie['value'].sum() * 2*pi\n",
    "data_pie['color'] = BrBG[len(x_pie6)]\n",
    "\n",
    "p_pie6 = figure(plot_height=350, plot_width = 1000, title=\"Participación en asesinatos por rol (asesinatos + asistencias)\", toolbar_location=None,\n",
    "        tools=\"hover\", tooltips=\"@role: @value\")\n",
    "\n",
    "p_pie6.wedge(x=0, y=1, radius=0.3,\n",
    "        start_angle=cumsum('angle', include_zero=True), end_angle=cumsum('angle'),\n",
    "        line_color=\"white\", fill_color='color', legend='role', source=data_pie)\n",
    "\n",
    "data_pie[\"value\"] = data_pie['value'].astype(str)\n",
    "data_pie[\"value\"] = data_pie[\"value\"].str.pad(35, side = \"left\")\n",
    "source = ColumnDataSource(data_pie)\n",
    "\n",
    "labels = LabelSet(x=0, y=1, text='value', level='glyph',\n",
    "        angle=cumsum('angle', include_zero=True), source=source, render_mode='canvas')\n",
    "\n",
    "p_pie6.add_layout(labels)\n",
    "\n",
    "p_pie6.axis.axis_label=None\n",
    "p_pie6.axis.visible=False\n",
    "p_pie6.grid.grid_line_color = None\n",
    "\n",
    "show(p_pie6)"
   ]
  },
  {
   "cell_type": "code",
   "execution_count": 131,
   "metadata": {},
   "outputs": [
    {
     "name": "stdout",
     "output_type": "stream",
     "text": [
      "['AFS ADC', 'KT Mid', 'TL Support', 'KT Support', 'VIT Jungle', 'EDG Support', '100 Jungle', 'C9 Mid', 'PVB Jungle', 'GEN Jungle', 'EDG ADC', 'MAD Jungle', 'C9 Jungle'] [0.76, 0.77, 0.78, 0.78, 0.78, 0.8, 0.81, 0.81, 0.83, 0.83, 0.83, 0.86, 1.0]\n"
     ]
    }
   ],
   "source": [
    "kpa_er = []\n",
    "kpa_n = []\n",
    "for i in range(len(assists)):\n",
    "    name = kpa10.iloc[i]['Team'] + \" \" + kpa10.iloc[i]['Position']\n",
    "    kpa_er.append(name)\n",
    "    kpa_n.append(kpa10.iloc[i]['Kill Participation'])\n",
    "print(kpa_er, kpa_n)"
   ]
  },
  {
   "cell_type": "code",
   "execution_count": 132,
   "metadata": {},
   "outputs": [
    {
     "data": {
      "text/html": [
       "\n",
       "\n",
       "\n",
       "\n",
       "\n",
       "\n",
       "  <div class=\"bk-root\" id=\"88a54ab8-fffa-4303-9e39-96fbf94cc3be\" data-root-id=\"26015\"></div>\n"
      ]
     },
     "metadata": {},
     "output_type": "display_data"
    },
    {
     "data": {
      "application/javascript": [
       "(function(root) {\n",
       "  function embed_document(root) {\n",
       "    \n",
       "  var docs_json = {\"97e1d722-5eb7-43e8-a8d6-933971eb6f26\":{\"roots\":{\"references\":[{\"attributes\":{\"below\":[{\"id\":\"26026\",\"type\":\"CategoricalAxis\"}],\"center\":[{\"id\":\"26029\",\"type\":\"Grid\"},{\"id\":\"26034\",\"type\":\"Grid\"}],\"left\":[{\"id\":\"26030\",\"type\":\"LinearAxis\"}],\"plot_height\":250,\"plot_width\":1000,\"renderers\":[{\"id\":\"26051\",\"type\":\"GlyphRenderer\"}],\"title\":{\"id\":\"26016\",\"type\":\"Title\"},\"toolbar\":{\"id\":\"26041\",\"type\":\"Toolbar\"},\"x_range\":{\"id\":\"26018\",\"type\":\"FactorRange\"},\"x_scale\":{\"id\":\"26022\",\"type\":\"CategoricalScale\"},\"y_range\":{\"id\":\"26020\",\"type\":\"DataRange1d\"},\"y_scale\":{\"id\":\"26024\",\"type\":\"LinearScale\"}},\"id\":\"26015\",\"subtype\":\"Figure\",\"type\":\"Plot\"},{\"attributes\":{\"source\":{\"id\":\"26048\",\"type\":\"ColumnDataSource\"}},\"id\":\"26052\",\"type\":\"CDSView\"},{\"attributes\":{},\"id\":\"26035\",\"type\":\"PanTool\"},{\"attributes\":{\"data_source\":{\"id\":\"26048\",\"type\":\"ColumnDataSource\"},\"glyph\":{\"id\":\"26049\",\"type\":\"VBar\"},\"hover_glyph\":null,\"muted_glyph\":null,\"nonselection_glyph\":{\"id\":\"26050\",\"type\":\"VBar\"},\"selection_glyph\":null,\"view\":{\"id\":\"26052\",\"type\":\"CDSView\"}},\"id\":\"26051\",\"type\":\"GlyphRenderer\"},{\"attributes\":{},\"id\":\"26036\",\"type\":\"WheelZoomTool\"},{\"attributes\":{\"callback\":null,\"data\":{\"fill_color\":[\"#394a6d\",\"#394a6d\",\"#394a6d\",\"#394a6d\",\"#394a6d\",\"#3c9d9b\",\"#3c9d9b\",\"#3c9d9b\",\"#3c9d9b\",\"#52de97\",\"#52de97\",\"#52de97\",\"#c0ffb3\"],\"line_color\":[\"#394a6d\",\"#394a6d\",\"#394a6d\",\"#394a6d\",\"#394a6d\",\"#3c9d9b\",\"#3c9d9b\",\"#3c9d9b\",\"#3c9d9b\",\"#52de97\",\"#52de97\",\"#52de97\",\"#c0ffb3\"],\"top\":[0.76,0.77,0.78,0.78,0.78,0.8,0.81,0.81,0.83,0.83,0.83,0.86,1.0],\"x\":[\"AFS ADC\",\"KT Mid\",\"TL Support\",\"KT Support\",\"VIT Jungle\",\"EDG Support\",\"100 Jungle\",\"C9 Mid\",\"PVB Jungle\",\"GEN Jungle\",\"EDG ADC\",\"MAD Jungle\",\"C9 Jungle\"]},\"selected\":{\"id\":\"26731\",\"type\":\"Selection\"},\"selection_policy\":{\"id\":\"26732\",\"type\":\"UnionRenderers\"}},\"id\":\"26048\",\"type\":\"ColumnDataSource\"},{\"attributes\":{\"overlay\":{\"id\":\"26733\",\"type\":\"BoxAnnotation\"}},\"id\":\"26037\",\"type\":\"BoxZoomTool\"},{\"attributes\":{},\"id\":\"26038\",\"type\":\"SaveTool\"},{\"attributes\":{\"text\":\"Participacion en asesinatos por jugador\"},\"id\":\"26016\",\"type\":\"Title\"},{\"attributes\":{},\"id\":\"26039\",\"type\":\"ResetTool\"},{\"attributes\":{\"callback\":null,\"factors\":[\"AFS ADC\",\"KT Mid\",\"TL Support\",\"KT Support\",\"VIT Jungle\",\"EDG Support\",\"100 Jungle\",\"C9 Mid\",\"PVB Jungle\",\"GEN Jungle\",\"EDG ADC\",\"MAD Jungle\",\"C9 Jungle\"]},\"id\":\"26018\",\"type\":\"FactorRange\"},{\"attributes\":{},\"id\":\"26040\",\"type\":\"HelpTool\"},{\"attributes\":{\"callback\":null},\"id\":\"26020\",\"type\":\"DataRange1d\"},{\"attributes\":{\"active_drag\":\"auto\",\"active_inspect\":\"auto\",\"active_multi\":null,\"active_scroll\":\"auto\",\"active_tap\":\"auto\",\"tools\":[{\"id\":\"26035\",\"type\":\"PanTool\"},{\"id\":\"26036\",\"type\":\"WheelZoomTool\"},{\"id\":\"26037\",\"type\":\"BoxZoomTool\"},{\"id\":\"26038\",\"type\":\"SaveTool\"},{\"id\":\"26039\",\"type\":\"ResetTool\"},{\"id\":\"26040\",\"type\":\"HelpTool\"}]},\"id\":\"26041\",\"type\":\"Toolbar\"},{\"attributes\":{},\"id\":\"26022\",\"type\":\"CategoricalScale\"},{\"attributes\":{},\"id\":\"26024\",\"type\":\"LinearScale\"},{\"attributes\":{},\"id\":\"26730\",\"type\":\"CategoricalTickFormatter\"},{\"attributes\":{\"formatter\":{\"id\":\"26730\",\"type\":\"CategoricalTickFormatter\"},\"ticker\":{\"id\":\"26027\",\"type\":\"CategoricalTicker\"}},\"id\":\"26026\",\"type\":\"CategoricalAxis\"},{\"attributes\":{},\"id\":\"26027\",\"type\":\"CategoricalTicker\"},{\"attributes\":{\"bottom_units\":\"screen\",\"fill_alpha\":{\"value\":0.5},\"fill_color\":{\"value\":\"lightgrey\"},\"left_units\":\"screen\",\"level\":\"overlay\",\"line_alpha\":{\"value\":1.0},\"line_color\":{\"value\":\"black\"},\"line_dash\":[4,4],\"line_width\":{\"value\":2},\"render_mode\":\"css\",\"right_units\":\"screen\",\"top_units\":\"screen\"},\"id\":\"26733\",\"type\":\"BoxAnnotation\"},{\"attributes\":{},\"id\":\"26728\",\"type\":\"BasicTickFormatter\"},{\"attributes\":{\"ticker\":{\"id\":\"26027\",\"type\":\"CategoricalTicker\"},\"visible\":false},\"id\":\"26029\",\"type\":\"Grid\"},{\"attributes\":{},\"id\":\"26731\",\"type\":\"Selection\"},{\"attributes\":{\"formatter\":{\"id\":\"26728\",\"type\":\"BasicTickFormatter\"},\"ticker\":{\"id\":\"26031\",\"type\":\"BasicTicker\"}},\"id\":\"26030\",\"type\":\"LinearAxis\"},{\"attributes\":{},\"id\":\"26031\",\"type\":\"BasicTicker\"},{\"attributes\":{\"dimension\":1,\"ticker\":{\"id\":\"26031\",\"type\":\"BasicTicker\"},\"visible\":false},\"id\":\"26034\",\"type\":\"Grid\"},{\"attributes\":{},\"id\":\"26732\",\"type\":\"UnionRenderers\"},{\"attributes\":{\"fill_alpha\":{\"value\":0.1},\"fill_color\":{\"value\":\"#1f77b4\"},\"line_alpha\":{\"value\":0.1},\"line_color\":{\"value\":\"#1f77b4\"},\"top\":{\"field\":\"top\"},\"width\":{\"value\":0.9},\"x\":{\"field\":\"x\"}},\"id\":\"26050\",\"type\":\"VBar\"},{\"attributes\":{\"fill_color\":{\"field\":\"fill_color\"},\"line_color\":{\"field\":\"line_color\"},\"top\":{\"field\":\"top\"},\"width\":{\"value\":0.9},\"x\":{\"field\":\"x\"}},\"id\":\"26049\",\"type\":\"VBar\"}],\"root_ids\":[\"26015\"]},\"title\":\"Bokeh Application\",\"version\":\"1.4.0\"}};\n",
       "  var render_items = [{\"docid\":\"97e1d722-5eb7-43e8-a8d6-933971eb6f26\",\"roots\":{\"26015\":\"88a54ab8-fffa-4303-9e39-96fbf94cc3be\"}}];\n",
       "  root.Bokeh.embed.embed_items_notebook(docs_json, render_items);\n",
       "\n",
       "  }\n",
       "  if (root.Bokeh !== undefined) {\n",
       "    embed_document(root);\n",
       "  } else {\n",
       "    var attempts = 0;\n",
       "    var timer = setInterval(function(root) {\n",
       "      if (root.Bokeh !== undefined) {\n",
       "        clearInterval(timer);\n",
       "        embed_document(root);\n",
       "      } else {\n",
       "        attempts++;\n",
       "        if (attempts > 100) {\n",
       "          clearInterval(timer);\n",
       "          console.log(\"Bokeh: ERROR: Unable to run BokehJS code because BokehJS library is missing\");\n",
       "        }\n",
       "      }\n",
       "    }, 10, root)\n",
       "  }\n",
       "})(window);"
      ],
      "application/vnd.bokehjs_exec.v0+json": ""
     },
     "metadata": {
      "application/vnd.bokehjs_exec.v0+json": {
       "id": "26015"
      }
     },
     "output_type": "display_data"
    }
   ],
   "source": [
    "p6 = figure(x_range = kpa_er, plot_height=250, plot_width = 1000, title=\"Participacion en asesinatos por jugador\")\n",
    "p6.vbar(x = kpa_er, top = kpa_n, width = 0.9, color = [\"#394a6d\", \"#394a6d\", \"#394a6d\", \"#394a6d\", \"#394a6d\", \"#3c9d9b\", \"#3c9d9b\", \"#3c9d9b\", \"#3c9d9b\", '#52de97', '#52de97', '#52de97', '#c0ffb3'])\n",
    "p6.xgrid.visible = False\n",
    "p6.ygrid.visible = False\n",
    "show(p6)"
   ]
  },
  {
   "cell_type": "code",
   "execution_count": 133,
   "metadata": {},
   "outputs": [
    {
     "data": {
      "text/html": [
       "\n",
       "\n",
       "\n",
       "\n",
       "\n",
       "\n",
       "  <div class=\"bk-root\" id=\"8db03140-1683-49c3-a03b-eaea44cbd4f5\" data-root-id=\"26804\"></div>\n"
      ]
     },
     "metadata": {},
     "output_type": "display_data"
    },
    {
     "data": {
      "application/javascript": [
       "(function(root) {\n",
       "  function embed_document(root) {\n",
       "    \n",
       "  var docs_json = {\"8f224c53-1c5c-4a2f-86f6-59e7750d6668\":{\"roots\":{\"references\":[{\"attributes\":{\"children\":[{\"id\":\"26801\",\"type\":\"GridBox\"},{\"id\":\"26803\",\"type\":\"ToolbarBox\"}]},\"id\":\"26804\",\"type\":\"Row\"},{\"attributes\":{\"source\":{\"id\":\"26048\",\"type\":\"ColumnDataSource\"}},\"id\":\"26052\",\"type\":\"CDSView\"},{\"attributes\":{},\"id\":\"13450\",\"type\":\"BasicTicker\"},{\"attributes\":{\"children\":[[{\"id\":\"26015\",\"subtype\":\"Figure\",\"type\":\"Plot\"},0,0],[{\"id\":\"13433\",\"subtype\":\"Figure\",\"type\":\"Plot\"},1,0]]},\"id\":\"26801\",\"type\":\"GridBox\"},{\"attributes\":{\"dimension\":1,\"grid_line_color\":null,\"ticker\":{\"id\":\"13450\",\"type\":\"BasicTicker\"}},\"id\":\"13453\",\"type\":\"Grid\"},{\"attributes\":{\"callback\":null,\"data\":{\"angle\":{\"__ndarray__\":\"PgJ6YQ8zB0A+AnphDzP3P6itoiy/7u4/qK2iLL/u7j8=\",\"dtype\":\"float64\",\"shape\":[4]},\"color\":[\"#018571\",\"#80cdc1\",\"#dfc27d\",\"#a6611a\"],\"index\":[0,1,2,3],\"role\":[\"Jungle\",\"Support\",\"ADC\",\"Mid\"],\"value\":[6,3,2,2]},\"selected\":{\"id\":\"13927\",\"type\":\"Selection\"},\"selection_policy\":{\"id\":\"13928\",\"type\":\"UnionRenderers\"}},\"id\":\"13459\",\"type\":\"ColumnDataSource\"},{\"attributes\":{},\"id\":\"26035\",\"type\":\"PanTool\"},{\"attributes\":{},\"id\":\"13927\",\"type\":\"Selection\"},{\"attributes\":{\"data_source\":{\"id\":\"26048\",\"type\":\"ColumnDataSource\"},\"glyph\":{\"id\":\"26049\",\"type\":\"VBar\"},\"hover_glyph\":null,\"muted_glyph\":null,\"nonselection_glyph\":{\"id\":\"26050\",\"type\":\"VBar\"},\"selection_glyph\":null,\"view\":{\"id\":\"26052\",\"type\":\"CDSView\"}},\"id\":\"26051\",\"type\":\"GlyphRenderer\"},{\"attributes\":{},\"id\":\"26036\",\"type\":\"WheelZoomTool\"},{\"attributes\":{\"active_drag\":\"auto\",\"active_inspect\":\"auto\",\"active_multi\":null,\"active_scroll\":\"auto\",\"active_tap\":\"auto\",\"tools\":[{\"id\":\"13454\",\"type\":\"HoverTool\"}]},\"id\":\"13455\",\"type\":\"Toolbar\"},{\"attributes\":{\"callback\":null,\"tooltips\":\"@role: @value\"},\"id\":\"13454\",\"type\":\"HoverTool\"},{\"attributes\":{\"overlay\":{\"id\":\"26733\",\"type\":\"BoxAnnotation\"}},\"id\":\"26037\",\"type\":\"BoxZoomTool\"},{\"attributes\":{\"callback\":null,\"data\":{\"fill_color\":[\"#394a6d\",\"#394a6d\",\"#394a6d\",\"#394a6d\",\"#394a6d\",\"#3c9d9b\",\"#3c9d9b\",\"#3c9d9b\",\"#3c9d9b\",\"#52de97\",\"#52de97\",\"#52de97\",\"#c0ffb3\"],\"line_color\":[\"#394a6d\",\"#394a6d\",\"#394a6d\",\"#394a6d\",\"#394a6d\",\"#3c9d9b\",\"#3c9d9b\",\"#3c9d9b\",\"#3c9d9b\",\"#52de97\",\"#52de97\",\"#52de97\",\"#c0ffb3\"],\"top\":[0.76,0.77,0.78,0.78,0.78,0.8,0.81,0.81,0.83,0.83,0.83,0.86,1.0],\"x\":[\"AFS ADC\",\"KT Mid\",\"TL Support\",\"KT Support\",\"VIT Jungle\",\"EDG Support\",\"100 Jungle\",\"C9 Mid\",\"PVB Jungle\",\"GEN Jungle\",\"EDG ADC\",\"MAD Jungle\",\"C9 Jungle\"]},\"selected\":{\"id\":\"26731\",\"type\":\"Selection\"},\"selection_policy\":{\"id\":\"26732\",\"type\":\"UnionRenderers\"}},\"id\":\"26048\",\"type\":\"ColumnDataSource\"},{\"attributes\":{\"below\":[{\"id\":\"26026\",\"type\":\"CategoricalAxis\"}],\"center\":[{\"id\":\"26029\",\"type\":\"Grid\"},{\"id\":\"26034\",\"type\":\"Grid\"}],\"left\":[{\"id\":\"26030\",\"type\":\"LinearAxis\"}],\"plot_height\":250,\"plot_width\":1000,\"renderers\":[{\"id\":\"26051\",\"type\":\"GlyphRenderer\"}],\"title\":{\"id\":\"26016\",\"type\":\"Title\"},\"toolbar\":{\"id\":\"26041\",\"type\":\"Toolbar\"},\"toolbar_location\":null,\"x_range\":{\"id\":\"26018\",\"type\":\"FactorRange\"},\"x_scale\":{\"id\":\"26022\",\"type\":\"CategoricalScale\"},\"y_range\":{\"id\":\"26020\",\"type\":\"DataRange1d\"},\"y_scale\":{\"id\":\"26024\",\"type\":\"LinearScale\"}},\"id\":\"26015\",\"subtype\":\"Figure\",\"type\":\"Plot\"},{\"attributes\":{},\"id\":\"26038\",\"type\":\"SaveTool\"},{\"attributes\":{\"data_source\":{\"id\":\"13459\",\"type\":\"ColumnDataSource\"},\"glyph\":{\"id\":\"13461\",\"type\":\"Wedge\"},\"hover_glyph\":null,\"muted_glyph\":null,\"nonselection_glyph\":{\"id\":\"13462\",\"type\":\"Wedge\"},\"selection_glyph\":null,\"view\":{\"id\":\"13464\",\"type\":\"CDSView\"}},\"id\":\"13463\",\"type\":\"GlyphRenderer\"},{\"attributes\":{\"text\":\"Participacion en asesinatos por jugador\"},\"id\":\"26016\",\"type\":\"Title\"},{\"attributes\":{},\"id\":\"26039\",\"type\":\"ResetTool\"},{\"attributes\":{\"end_angle\":{\"expr\":{\"id\":\"13458\",\"type\":\"CumSum\"},\"units\":\"rad\"},\"fill_color\":{\"field\":\"color\"},\"line_color\":{\"value\":\"white\"},\"radius\":{\"units\":\"data\",\"value\":0.3},\"start_angle\":{\"expr\":{\"id\":\"13457\",\"type\":\"CumSum\"},\"units\":\"rad\"},\"x\":{\"value\":0},\"y\":{\"value\":1}},\"id\":\"13461\",\"type\":\"Wedge\"},{\"attributes\":{},\"id\":\"13928\",\"type\":\"UnionRenderers\"},{\"attributes\":{\"text\":\"Participaci\\u00f3n en asesinatos por rol (asesinatos + asistencias)\"},\"id\":\"13434\",\"type\":\"Title\"},{\"attributes\":{\"callback\":null,\"factors\":[\"AFS ADC\",\"KT Mid\",\"TL Support\",\"KT Support\",\"VIT Jungle\",\"EDG Support\",\"100 Jungle\",\"C9 Mid\",\"PVB Jungle\",\"GEN Jungle\",\"EDG ADC\",\"MAD Jungle\",\"C9 Jungle\"]},\"id\":\"26018\",\"type\":\"FactorRange\"},{\"attributes\":{},\"id\":\"26040\",\"type\":\"HelpTool\"},{\"attributes\":{\"field\":\"angle\",\"include_zero\":true},\"id\":\"13457\",\"type\":\"CumSum\"},{\"attributes\":{\"callback\":null},\"id\":\"26020\",\"type\":\"DataRange1d\"},{\"attributes\":{\"active_drag\":\"auto\",\"active_inspect\":\"auto\",\"active_multi\":null,\"active_scroll\":\"auto\",\"active_tap\":\"auto\",\"tools\":[{\"id\":\"26035\",\"type\":\"PanTool\"},{\"id\":\"26036\",\"type\":\"WheelZoomTool\"},{\"id\":\"26037\",\"type\":\"BoxZoomTool\"},{\"id\":\"26038\",\"type\":\"SaveTool\"},{\"id\":\"26039\",\"type\":\"ResetTool\"},{\"id\":\"26040\",\"type\":\"HelpTool\"}]},\"id\":\"26041\",\"type\":\"Toolbar\"},{\"attributes\":{\"callback\":null,\"data\":{\"angle\":{\"__ndarray__\":\"PgJ6YQ8zB0A+AnphDzP3P6itoiy/7u4/qK2iLL/u7j8=\",\"dtype\":\"float64\",\"shape\":[4]},\"color\":[\"#018571\",\"#80cdc1\",\"#dfc27d\",\"#a6611a\"],\"index\":[0,1,2,3],\"role\":[\"Jungle\",\"Support\",\"ADC\",\"Mid\"],\"value\":[\"                                  6\",\"                                  3\",\"                                  2\",\"                                  2\"]},\"selected\":{\"id\":\"13929\",\"type\":\"Selection\"},\"selection_policy\":{\"id\":\"13930\",\"type\":\"UnionRenderers\"}},\"id\":\"13472\",\"type\":\"ColumnDataSource\"},{\"attributes\":{},\"id\":\"26022\",\"type\":\"CategoricalScale\"},{\"attributes\":{\"callback\":null},\"id\":\"13436\",\"type\":\"DataRange1d\"},{\"attributes\":{},\"id\":\"13929\",\"type\":\"Selection\"},{\"attributes\":{\"items\":[{\"id\":\"13471\",\"type\":\"LegendItem\"}]},\"id\":\"13470\",\"type\":\"Legend\"},{\"attributes\":{\"angle\":{\"expr\":{\"id\":\"13473\",\"type\":\"CumSum\"},\"units\":\"rad\"},\"level\":\"glyph\",\"source\":{\"id\":\"13472\",\"type\":\"ColumnDataSource\"},\"text\":{\"field\":\"value\"},\"x\":{\"value\":0},\"y\":{\"value\":1}},\"id\":\"13474\",\"type\":\"LabelSet\"},{\"attributes\":{\"callback\":null},\"id\":\"13438\",\"type\":\"DataRange1d\"},{\"attributes\":{},\"id\":\"26024\",\"type\":\"LinearScale\"},{\"attributes\":{\"field\":\"angle\"},\"id\":\"13458\",\"type\":\"CumSum\"},{\"attributes\":{},\"id\":\"13930\",\"type\":\"UnionRenderers\"},{\"attributes\":{},\"id\":\"13440\",\"type\":\"LinearScale\"},{\"attributes\":{},\"id\":\"26730\",\"type\":\"CategoricalTickFormatter\"},{\"attributes\":{\"formatter\":{\"id\":\"26730\",\"type\":\"CategoricalTickFormatter\"},\"ticker\":{\"id\":\"26027\",\"type\":\"CategoricalTicker\"}},\"id\":\"26026\",\"type\":\"CategoricalAxis\"},{\"attributes\":{},\"id\":\"26027\",\"type\":\"CategoricalTicker\"},{\"attributes\":{\"bottom_units\":\"screen\",\"fill_alpha\":{\"value\":0.5},\"fill_color\":{\"value\":\"lightgrey\"},\"left_units\":\"screen\",\"level\":\"overlay\",\"line_alpha\":{\"value\":1.0},\"line_color\":{\"value\":\"black\"},\"line_dash\":[4,4],\"line_width\":{\"value\":2},\"render_mode\":\"css\",\"right_units\":\"screen\",\"top_units\":\"screen\"},\"id\":\"26733\",\"type\":\"BoxAnnotation\"},{\"attributes\":{},\"id\":\"13467\",\"type\":\"BasicTickFormatter\"},{\"attributes\":{},\"id\":\"26728\",\"type\":\"BasicTickFormatter\"},{\"attributes\":{\"ticker\":{\"id\":\"26027\",\"type\":\"CategoricalTicker\"},\"visible\":false},\"id\":\"26029\",\"type\":\"Grid\"},{\"attributes\":{},\"id\":\"26731\",\"type\":\"Selection\"},{\"attributes\":{\"field\":\"angle\",\"include_zero\":true},\"id\":\"13473\",\"type\":\"CumSum\"},{\"attributes\":{\"formatter\":{\"id\":\"26728\",\"type\":\"BasicTickFormatter\"},\"ticker\":{\"id\":\"26031\",\"type\":\"BasicTicker\"}},\"id\":\"26030\",\"type\":\"LinearAxis\"},{\"attributes\":{\"tools\":[{\"id\":\"26035\",\"type\":\"PanTool\"},{\"id\":\"26036\",\"type\":\"WheelZoomTool\"},{\"id\":\"26037\",\"type\":\"BoxZoomTool\"},{\"id\":\"26038\",\"type\":\"SaveTool\"},{\"id\":\"26039\",\"type\":\"ResetTool\"},{\"id\":\"26040\",\"type\":\"HelpTool\"},{\"id\":\"13454\",\"type\":\"HoverTool\"}]},\"id\":\"26802\",\"type\":\"ProxyToolbar\"},{\"attributes\":{},\"id\":\"13442\",\"type\":\"LinearScale\"},{\"attributes\":{\"label\":{\"field\":\"role\"},\"renderers\":[{\"id\":\"13463\",\"type\":\"GlyphRenderer\"}]},\"id\":\"13471\",\"type\":\"LegendItem\"},{\"attributes\":{},\"id\":\"26031\",\"type\":\"BasicTicker\"},{\"attributes\":{\"axis_label\":null,\"formatter\":{\"id\":\"13469\",\"type\":\"BasicTickFormatter\"},\"ticker\":{\"id\":\"13445\",\"type\":\"BasicTicker\"},\"visible\":false},\"id\":\"13444\",\"type\":\"LinearAxis\"},{\"attributes\":{\"dimension\":1,\"ticker\":{\"id\":\"26031\",\"type\":\"BasicTicker\"},\"visible\":false},\"id\":\"26034\",\"type\":\"Grid\"},{\"attributes\":{},\"id\":\"13445\",\"type\":\"BasicTicker\"},{\"attributes\":{\"end_angle\":{\"expr\":{\"id\":\"13458\",\"type\":\"CumSum\"},\"units\":\"rad\"},\"fill_alpha\":{\"value\":0.1},\"fill_color\":{\"value\":\"#1f77b4\"},\"line_alpha\":{\"value\":0.1},\"line_color\":{\"value\":\"#1f77b4\"},\"radius\":{\"units\":\"data\",\"value\":0.3},\"start_angle\":{\"expr\":{\"id\":\"13457\",\"type\":\"CumSum\"},\"units\":\"rad\"},\"x\":{\"value\":0},\"y\":{\"value\":1}},\"id\":\"13462\",\"type\":\"Wedge\"},{\"attributes\":{},\"id\":\"26732\",\"type\":\"UnionRenderers\"},{\"attributes\":{\"fill_alpha\":{\"value\":0.1},\"fill_color\":{\"value\":\"#1f77b4\"},\"line_alpha\":{\"value\":0.1},\"line_color\":{\"value\":\"#1f77b4\"},\"top\":{\"field\":\"top\"},\"width\":{\"value\":0.9},\"x\":{\"field\":\"x\"}},\"id\":\"26050\",\"type\":\"VBar\"},{\"attributes\":{\"toolbar\":{\"id\":\"26802\",\"type\":\"ProxyToolbar\"}},\"id\":\"26803\",\"type\":\"ToolbarBox\"},{\"attributes\":{\"grid_line_color\":null,\"ticker\":{\"id\":\"13445\",\"type\":\"BasicTicker\"}},\"id\":\"13448\",\"type\":\"Grid\"},{\"attributes\":{\"below\":[{\"id\":\"13444\",\"type\":\"LinearAxis\"}],\"center\":[{\"id\":\"13448\",\"type\":\"Grid\"},{\"id\":\"13453\",\"type\":\"Grid\"},{\"id\":\"13470\",\"type\":\"Legend\"},{\"id\":\"13474\",\"type\":\"LabelSet\"}],\"left\":[{\"id\":\"13449\",\"type\":\"LinearAxis\"}],\"plot_height\":350,\"plot_width\":1000,\"renderers\":[{\"id\":\"13463\",\"type\":\"GlyphRenderer\"}],\"title\":{\"id\":\"13434\",\"type\":\"Title\"},\"toolbar\":{\"id\":\"13455\",\"type\":\"Toolbar\"},\"toolbar_location\":null,\"x_range\":{\"id\":\"13436\",\"type\":\"DataRange1d\"},\"x_scale\":{\"id\":\"13440\",\"type\":\"LinearScale\"},\"y_range\":{\"id\":\"13438\",\"type\":\"DataRange1d\"},\"y_scale\":{\"id\":\"13442\",\"type\":\"LinearScale\"}},\"id\":\"13433\",\"subtype\":\"Figure\",\"type\":\"Plot\"},{\"attributes\":{},\"id\":\"13469\",\"type\":\"BasicTickFormatter\"},{\"attributes\":{\"fill_color\":{\"field\":\"fill_color\"},\"line_color\":{\"field\":\"line_color\"},\"top\":{\"field\":\"top\"},\"width\":{\"value\":0.9},\"x\":{\"field\":\"x\"}},\"id\":\"26049\",\"type\":\"VBar\"},{\"attributes\":{\"axis_label\":null,\"formatter\":{\"id\":\"13467\",\"type\":\"BasicTickFormatter\"},\"ticker\":{\"id\":\"13450\",\"type\":\"BasicTicker\"},\"visible\":false},\"id\":\"13449\",\"type\":\"LinearAxis\"},{\"attributes\":{\"source\":{\"id\":\"13459\",\"type\":\"ColumnDataSource\"}},\"id\":\"13464\",\"type\":\"CDSView\"}],\"root_ids\":[\"26804\"]},\"title\":\"Bokeh Application\",\"version\":\"1.4.0\"}};\n",
       "  var render_items = [{\"docid\":\"8f224c53-1c5c-4a2f-86f6-59e7750d6668\",\"roots\":{\"26804\":\"8db03140-1683-49c3-a03b-eaea44cbd4f5\"}}];\n",
       "  root.Bokeh.embed.embed_items_notebook(docs_json, render_items);\n",
       "\n",
       "  }\n",
       "  if (root.Bokeh !== undefined) {\n",
       "    embed_document(root);\n",
       "  } else {\n",
       "    var attempts = 0;\n",
       "    var timer = setInterval(function(root) {\n",
       "      if (root.Bokeh !== undefined) {\n",
       "        clearInterval(timer);\n",
       "        embed_document(root);\n",
       "      } else {\n",
       "        attempts++;\n",
       "        if (attempts > 100) {\n",
       "          clearInterval(timer);\n",
       "          console.log(\"Bokeh: ERROR: Unable to run BokehJS code because BokehJS library is missing\");\n",
       "        }\n",
       "      }\n",
       "    }, 10, root)\n",
       "  }\n",
       "})(window);"
      ],
      "application/vnd.bokehjs_exec.v0+json": ""
     },
     "metadata": {
      "application/vnd.bokehjs_exec.v0+json": {
       "id": "26804"
      }
     },
     "output_type": "display_data"
    }
   ],
   "source": [
    "p = gridplot([[p6], [p_pie6]], toolbar_location = \"right\")\n",
    "show(p)"
   ]
  },
  {
   "cell_type": "code",
   "execution_count": 43,
   "metadata": {},
   "outputs": [
    {
     "data": {
      "text/html": [
       "<div>\n",
       "<style scoped>\n",
       "    .dataframe tbody tr th:only-of-type {\n",
       "        vertical-align: middle;\n",
       "    }\n",
       "\n",
       "    .dataframe tbody tr th {\n",
       "        vertical-align: top;\n",
       "    }\n",
       "\n",
       "    .dataframe thead th {\n",
       "        text-align: right;\n",
       "    }\n",
       "</style>\n",
       "<table border=\"1\" class=\"dataframe\">\n",
       "  <thead>\n",
       "    <tr style=\"text-align: right;\">\n",
       "      <th></th>\n",
       "      <th>Name</th>\n",
       "      <th>CS Per Minute</th>\n",
       "      <th>Team</th>\n",
       "      <th>Position</th>\n",
       "    </tr>\n",
       "  </thead>\n",
       "  <tbody>\n",
       "    <tr>\n",
       "      <th>66</th>\n",
       "      <td>BigKoro</td>\n",
       "      <td>9.8</td>\n",
       "      <td>PVB</td>\n",
       "      <td>ADC</td>\n",
       "    </tr>\n",
       "    <tr>\n",
       "      <th>14</th>\n",
       "      <td>Betty</td>\n",
       "      <td>9.9</td>\n",
       "      <td>FW</td>\n",
       "      <td>ADC</td>\n",
       "    </tr>\n",
       "    <tr>\n",
       "      <th>83</th>\n",
       "      <td>Breeze</td>\n",
       "      <td>10.0</td>\n",
       "      <td>MAD</td>\n",
       "      <td>ADC</td>\n",
       "    </tr>\n",
       "    <tr>\n",
       "      <th>52</th>\n",
       "      <td>Wunder</td>\n",
       "      <td>10.2</td>\n",
       "      <td>G2</td>\n",
       "      <td>Top</td>\n",
       "    </tr>\n",
       "    <tr>\n",
       "      <th>63</th>\n",
       "      <td>Ruler</td>\n",
       "      <td>10.3</td>\n",
       "      <td>GEN</td>\n",
       "      <td>ADC</td>\n",
       "    </tr>\n",
       "    <tr>\n",
       "      <th>37</th>\n",
       "      <td>Hjärnan</td>\n",
       "      <td>10.3</td>\n",
       "      <td>G2</td>\n",
       "      <td>ADC</td>\n",
       "    </tr>\n",
       "    <tr>\n",
       "      <th>19</th>\n",
       "      <td>Attila</td>\n",
       "      <td>10.3</td>\n",
       "      <td>VIT</td>\n",
       "      <td>ADC</td>\n",
       "    </tr>\n",
       "    <tr>\n",
       "      <th>6</th>\n",
       "      <td>Deft</td>\n",
       "      <td>10.3</td>\n",
       "      <td>KT</td>\n",
       "      <td>ADC</td>\n",
       "    </tr>\n",
       "    <tr>\n",
       "      <th>12</th>\n",
       "      <td>iBoy</td>\n",
       "      <td>10.4</td>\n",
       "      <td>EDG</td>\n",
       "      <td>ADC</td>\n",
       "    </tr>\n",
       "    <tr>\n",
       "      <th>4</th>\n",
       "      <td>Uzi</td>\n",
       "      <td>10.8</td>\n",
       "      <td>RNG</td>\n",
       "      <td>ADC</td>\n",
       "    </tr>\n",
       "    <tr>\n",
       "      <th>0</th>\n",
       "      <td>Rekkles</td>\n",
       "      <td>10.8</td>\n",
       "      <td>FNC</td>\n",
       "      <td>ADC</td>\n",
       "    </tr>\n",
       "    <tr>\n",
       "      <th>9</th>\n",
       "      <td>Doublelift</td>\n",
       "      <td>11.1</td>\n",
       "      <td>TL</td>\n",
       "      <td>ADC</td>\n",
       "    </tr>\n",
       "    <tr>\n",
       "      <th>13</th>\n",
       "      <td>Kramer</td>\n",
       "      <td>11.2</td>\n",
       "      <td>AFS</td>\n",
       "      <td>ADC</td>\n",
       "    </tr>\n",
       "  </tbody>\n",
       "</table>\n",
       "</div>"
      ],
      "text/plain": [
       "          Name  CS Per Minute Team Position\n",
       "66     BigKoro            9.8  PVB      ADC\n",
       "14       Betty            9.9   FW      ADC\n",
       "83      Breeze           10.0  MAD      ADC\n",
       "52      Wunder           10.2   G2      Top\n",
       "63       Ruler           10.3  GEN      ADC\n",
       "37     Hjärnan           10.3   G2      ADC\n",
       "19      Attila           10.3  VIT      ADC\n",
       "6         Deft           10.3   KT      ADC\n",
       "12        iBoy           10.4  EDG      ADC\n",
       "4          Uzi           10.8  RNG      ADC\n",
       "0      Rekkles           10.8  FNC      ADC\n",
       "9   Doublelift           11.1   TL      ADC\n",
       "13      Kramer           11.2  AFS      ADC"
      ]
     },
     "execution_count": 43,
     "metadata": {},
     "output_type": "execute_result"
    }
   ],
   "source": [
    "cs = data[['Name', 'CS Per Minute', 'Team', 'Position']]\n",
    "cspm = cs.sort_values(by = [\"CS Per Minute\"])\n",
    "cspm = cspm[-13:]\n",
    "cspm"
   ]
  },
  {
   "cell_type": "code",
   "execution_count": 44,
   "metadata": {},
   "outputs": [
    {
     "data": {
      "text/plain": [
       "[('ADC', 12), ('Top', 1)]"
      ]
     },
     "execution_count": 44,
     "metadata": {},
     "output_type": "execute_result"
    }
   ],
   "source": [
    "roles = list(cspm['Position'])\n",
    "roles_n = Counter(roles)\n",
    "roles_n.most_common()"
   ]
  },
  {
   "cell_type": "code",
   "execution_count": 134,
   "metadata": {},
   "outputs": [
    {
     "name": "stdout",
     "output_type": "stream",
     "text": [
      "['PVB ADC', 'FW ADC', 'MAD ADC', 'G2 Top', 'GEN ADC', 'G2 ADC', 'VIT ADC', 'KT ADC', 'EDG ADC', 'RNG ADC', 'FNC ADC', 'TL ADC', 'AFS ADC'] [9.8, 9.9, 10.0, 10.2, 10.3, 10.3, 10.3, 10.3, 10.4, 10.8, 10.8, 11.1, 11.2]\n"
     ]
    }
   ],
   "source": [
    "cs_er = []\n",
    "cs_n = []\n",
    "for i in range(len(cspm)):\n",
    "    name = cspm.iloc[i]['Team'] + \" \" + cspm.iloc[i]['Position']\n",
    "    cs_er.append(name)\n",
    "    cs_n.append(cspm.iloc[i]['CS Per Minute'])\n",
    "print(cs_er, cs_n)"
   ]
  },
  {
   "cell_type": "code",
   "execution_count": 135,
   "metadata": {},
   "outputs": [
    {
     "data": {
      "text/html": [
       "\n",
       "\n",
       "\n",
       "\n",
       "\n",
       "\n",
       "  <div class=\"bk-root\" id=\"d3953222-8d7d-4126-aaf8-5545ac6d405f\" data-root-id=\"27605\"></div>\n"
      ]
     },
     "metadata": {},
     "output_type": "display_data"
    },
    {
     "data": {
      "application/javascript": [
       "(function(root) {\n",
       "  function embed_document(root) {\n",
       "    \n",
       "  var docs_json = {\"975c9d5c-3084-4ae8-b564-10e4140e23c2\":{\"roots\":{\"references\":[{\"attributes\":{\"below\":[{\"id\":\"27616\",\"type\":\"CategoricalAxis\"}],\"center\":[{\"id\":\"27619\",\"type\":\"Grid\"},{\"id\":\"27624\",\"type\":\"Grid\"}],\"left\":[{\"id\":\"27620\",\"type\":\"LinearAxis\"}],\"plot_height\":250,\"plot_width\":1000,\"renderers\":[{\"id\":\"27641\",\"type\":\"GlyphRenderer\"}],\"title\":{\"id\":\"27606\",\"type\":\"Title\"},\"toolbar\":{\"id\":\"27631\",\"type\":\"Toolbar\"},\"x_range\":{\"id\":\"27608\",\"type\":\"FactorRange\"},\"x_scale\":{\"id\":\"27612\",\"type\":\"CategoricalScale\"},\"y_range\":{\"id\":\"27610\",\"type\":\"DataRange1d\"},\"y_scale\":{\"id\":\"27614\",\"type\":\"LinearScale\"}},\"id\":\"27605\",\"subtype\":\"Figure\",\"type\":\"Plot\"},{\"attributes\":{\"fill_color\":{\"field\":\"fill_color\"},\"line_color\":{\"field\":\"line_color\"},\"top\":{\"field\":\"top\"},\"width\":{\"value\":0.9},\"x\":{\"field\":\"x\"}},\"id\":\"27639\",\"type\":\"VBar\"},{\"attributes\":{},\"id\":\"28345\",\"type\":\"CategoricalTickFormatter\"},{\"attributes\":{},\"id\":\"27625\",\"type\":\"PanTool\"},{\"attributes\":{\"data_source\":{\"id\":\"27638\",\"type\":\"ColumnDataSource\"},\"glyph\":{\"id\":\"27639\",\"type\":\"VBar\"},\"hover_glyph\":null,\"muted_glyph\":null,\"nonselection_glyph\":{\"id\":\"27640\",\"type\":\"VBar\"},\"selection_glyph\":null,\"view\":{\"id\":\"27642\",\"type\":\"CDSView\"}},\"id\":\"27641\",\"type\":\"GlyphRenderer\"},{\"attributes\":{},\"id\":\"28343\",\"type\":\"BasicTickFormatter\"},{\"attributes\":{},\"id\":\"27626\",\"type\":\"WheelZoomTool\"},{\"attributes\":{\"callback\":null,\"data\":{\"fill_color\":[\"#39375b\",\"#39375b\",\"#39375b\",\"#39375b\",\"#39375b\",\"#745c97\",\"#745c97\",\"#745c97\",\"#745c97\",\"#d597ce\",\"#d597ce\",\"#d597ce\",\"#f5b0cb\"],\"line_color\":[\"#39375b\",\"#39375b\",\"#39375b\",\"#39375b\",\"#39375b\",\"#745c97\",\"#745c97\",\"#745c97\",\"#745c97\",\"#d597ce\",\"#d597ce\",\"#d597ce\",\"#f5b0cb\"],\"top\":[9.8,9.9,10.0,10.2,10.3,10.3,10.3,10.3,10.4,10.8,10.8,11.1,11.2],\"x\":[\"PVB ADC\",\"FW ADC\",\"MAD ADC\",\"G2 Top\",\"GEN ADC\",\"G2 ADC\",\"VIT ADC\",\"KT ADC\",\"EDG ADC\",\"RNG ADC\",\"FNC ADC\",\"TL ADC\",\"AFS ADC\"]},\"selected\":{\"id\":\"28346\",\"type\":\"Selection\"},\"selection_policy\":{\"id\":\"28347\",\"type\":\"UnionRenderers\"}},\"id\":\"27638\",\"type\":\"ColumnDataSource\"},{\"attributes\":{\"overlay\":{\"id\":\"28348\",\"type\":\"BoxAnnotation\"}},\"id\":\"27627\",\"type\":\"BoxZoomTool\"},{\"attributes\":{},\"id\":\"27628\",\"type\":\"SaveTool\"},{\"attributes\":{\"text\":\"Subditos por minuto por jugador\"},\"id\":\"27606\",\"type\":\"Title\"},{\"attributes\":{},\"id\":\"27629\",\"type\":\"ResetTool\"},{\"attributes\":{\"callback\":null,\"factors\":[\"PVB ADC\",\"FW ADC\",\"MAD ADC\",\"G2 Top\",\"GEN ADC\",\"G2 ADC\",\"VIT ADC\",\"KT ADC\",\"EDG ADC\",\"RNG ADC\",\"FNC ADC\",\"TL ADC\",\"AFS ADC\"]},\"id\":\"27608\",\"type\":\"FactorRange\"},{\"attributes\":{},\"id\":\"27630\",\"type\":\"HelpTool\"},{\"attributes\":{\"callback\":null},\"id\":\"27610\",\"type\":\"DataRange1d\"},{\"attributes\":{\"active_drag\":\"auto\",\"active_inspect\":\"auto\",\"active_multi\":null,\"active_scroll\":\"auto\",\"active_tap\":\"auto\",\"tools\":[{\"id\":\"27625\",\"type\":\"PanTool\"},{\"id\":\"27626\",\"type\":\"WheelZoomTool\"},{\"id\":\"27627\",\"type\":\"BoxZoomTool\"},{\"id\":\"27628\",\"type\":\"SaveTool\"},{\"id\":\"27629\",\"type\":\"ResetTool\"},{\"id\":\"27630\",\"type\":\"HelpTool\"}]},\"id\":\"27631\",\"type\":\"Toolbar\"},{\"attributes\":{},\"id\":\"27612\",\"type\":\"CategoricalScale\"},{\"attributes\":{\"source\":{\"id\":\"27638\",\"type\":\"ColumnDataSource\"}},\"id\":\"27642\",\"type\":\"CDSView\"},{\"attributes\":{},\"id\":\"27614\",\"type\":\"LinearScale\"},{\"attributes\":{\"formatter\":{\"id\":\"28345\",\"type\":\"CategoricalTickFormatter\"},\"ticker\":{\"id\":\"27617\",\"type\":\"CategoricalTicker\"}},\"id\":\"27616\",\"type\":\"CategoricalAxis\"},{\"attributes\":{},\"id\":\"28346\",\"type\":\"Selection\"},{\"attributes\":{},\"id\":\"27617\",\"type\":\"CategoricalTicker\"},{\"attributes\":{},\"id\":\"28347\",\"type\":\"UnionRenderers\"},{\"attributes\":{\"ticker\":{\"id\":\"27617\",\"type\":\"CategoricalTicker\"},\"visible\":false},\"id\":\"27619\",\"type\":\"Grid\"},{\"attributes\":{\"bottom_units\":\"screen\",\"fill_alpha\":{\"value\":0.5},\"fill_color\":{\"value\":\"lightgrey\"},\"left_units\":\"screen\",\"level\":\"overlay\",\"line_alpha\":{\"value\":1.0},\"line_color\":{\"value\":\"black\"},\"line_dash\":[4,4],\"line_width\":{\"value\":2},\"render_mode\":\"css\",\"right_units\":\"screen\",\"top_units\":\"screen\"},\"id\":\"28348\",\"type\":\"BoxAnnotation\"},{\"attributes\":{\"formatter\":{\"id\":\"28343\",\"type\":\"BasicTickFormatter\"},\"ticker\":{\"id\":\"27621\",\"type\":\"BasicTicker\"}},\"id\":\"27620\",\"type\":\"LinearAxis\"},{\"attributes\":{},\"id\":\"27621\",\"type\":\"BasicTicker\"},{\"attributes\":{\"dimension\":1,\"ticker\":{\"id\":\"27621\",\"type\":\"BasicTicker\"},\"visible\":false},\"id\":\"27624\",\"type\":\"Grid\"},{\"attributes\":{\"fill_alpha\":{\"value\":0.1},\"fill_color\":{\"value\":\"#1f77b4\"},\"line_alpha\":{\"value\":0.1},\"line_color\":{\"value\":\"#1f77b4\"},\"top\":{\"field\":\"top\"},\"width\":{\"value\":0.9},\"x\":{\"field\":\"x\"}},\"id\":\"27640\",\"type\":\"VBar\"}],\"root_ids\":[\"27605\"]},\"title\":\"Bokeh Application\",\"version\":\"1.4.0\"}};\n",
       "  var render_items = [{\"docid\":\"975c9d5c-3084-4ae8-b564-10e4140e23c2\",\"roots\":{\"27605\":\"d3953222-8d7d-4126-aaf8-5545ac6d405f\"}}];\n",
       "  root.Bokeh.embed.embed_items_notebook(docs_json, render_items);\n",
       "\n",
       "  }\n",
       "  if (root.Bokeh !== undefined) {\n",
       "    embed_document(root);\n",
       "  } else {\n",
       "    var attempts = 0;\n",
       "    var timer = setInterval(function(root) {\n",
       "      if (root.Bokeh !== undefined) {\n",
       "        clearInterval(timer);\n",
       "        embed_document(root);\n",
       "      } else {\n",
       "        attempts++;\n",
       "        if (attempts > 100) {\n",
       "          clearInterval(timer);\n",
       "          console.log(\"Bokeh: ERROR: Unable to run BokehJS code because BokehJS library is missing\");\n",
       "        }\n",
       "      }\n",
       "    }, 10, root)\n",
       "  }\n",
       "})(window);"
      ],
      "application/vnd.bokehjs_exec.v0+json": ""
     },
     "metadata": {
      "application/vnd.bokehjs_exec.v0+json": {
       "id": "27605"
      }
     },
     "output_type": "display_data"
    }
   ],
   "source": [
    "p7 = figure(x_range = cs_er, plot_height=250, plot_width = 1000, title=\"Subditos por minuto por jugador\")\n",
    "p7.vbar(x = cs_er, top = cs_n, width = 0.9, color = [\"#39375b\", \"#39375b\", \"#39375b\", \"#39375b\", \"#39375b\", \"#745c97\", \"#745c97\", '#745c97', \"#745c97\", '#d597ce', '#d597ce', '#d597ce', '#f5b0cb'])\n",
    "p7.xgrid.visible = False\n",
    "p7.ygrid.visible = False\n",
    "show(p7)"
   ]
  },
  {
   "cell_type": "code",
   "execution_count": 47,
   "metadata": {},
   "outputs": [
    {
     "name": "stdout",
     "output_type": "stream",
     "text": [
      "{'ADC': 12, 'Top': 1}\n"
     ]
    }
   ],
   "source": [
    "x_pie8 = {}\n",
    "for i in range(len(roles_n)):\n",
    "    x_pie8[roles_n.most_common()[i][0]] = roles_n.most_common()[i][1]\n",
    "\n",
    "print(x_pie8)"
   ]
  },
  {
   "cell_type": "code",
   "execution_count": 116,
   "metadata": {},
   "outputs": [
    {
     "name": "stderr",
     "output_type": "stream",
     "text": [
      "BokehDeprecationWarning: 'legend' keyword is deprecated, use explicit 'legend_label', 'legend_field', or 'legend_group' keywords instead\n"
     ]
    },
    {
     "data": {
      "text/html": [
       "\n",
       "\n",
       "\n",
       "\n",
       "\n",
       "\n",
       "  <div class=\"bk-root\" id=\"d566489a-103c-4fff-bbb7-cb47b823eb84\" data-root-id=\"17549\"></div>\n"
      ]
     },
     "metadata": {},
     "output_type": "display_data"
    },
    {
     "data": {
      "application/javascript": [
       "(function(root) {\n",
       "  function embed_document(root) {\n",
       "    \n",
       "  var docs_json = {\"6cd560a0-fe1f-43b3-ba1a-641ab74d6711\":{\"roots\":{\"references\":[{\"attributes\":{\"below\":[{\"id\":\"17560\",\"type\":\"LinearAxis\"}],\"center\":[{\"id\":\"17564\",\"type\":\"Grid\"},{\"id\":\"17569\",\"type\":\"Grid\"},{\"id\":\"17586\",\"type\":\"Legend\"},{\"id\":\"17590\",\"type\":\"LabelSet\"}],\"left\":[{\"id\":\"17565\",\"type\":\"LinearAxis\"}],\"plot_height\":350,\"plot_width\":1000,\"renderers\":[{\"id\":\"17579\",\"type\":\"GlyphRenderer\"}],\"title\":{\"id\":\"17550\",\"type\":\"Title\"},\"toolbar\":{\"id\":\"17571\",\"type\":\"Toolbar\"},\"toolbar_location\":null,\"x_range\":{\"id\":\"17552\",\"type\":\"DataRange1d\"},\"x_scale\":{\"id\":\"17556\",\"type\":\"LinearScale\"},\"y_range\":{\"id\":\"17554\",\"type\":\"DataRange1d\"},\"y_scale\":{\"id\":\"17558\",\"type\":\"LinearScale\"}},\"id\":\"17549\",\"subtype\":\"Figure\",\"type\":\"Plot\"},{\"attributes\":{\"dimension\":1,\"grid_line_color\":null,\"ticker\":{\"id\":\"17566\",\"type\":\"BasicTicker\"}},\"id\":\"17569\",\"type\":\"Grid\"},{\"attributes\":{\"active_drag\":\"auto\",\"active_inspect\":\"auto\",\"active_multi\":null,\"active_scroll\":\"auto\",\"active_tap\":\"auto\",\"tools\":[{\"id\":\"17570\",\"type\":\"HoverTool\"}]},\"id\":\"17571\",\"type\":\"Toolbar\"},{\"attributes\":{},\"id\":\"18118\",\"type\":\"Selection\"},{\"attributes\":{\"callback\":null,\"tooltips\":\"@role: @value\"},\"id\":\"17570\",\"type\":\"HoverTool\"},{\"attributes\":{},\"id\":\"18119\",\"type\":\"UnionRenderers\"},{\"attributes\":{\"field\":\"angle\"},\"id\":\"17574\",\"type\":\"CumSum\"},{\"attributes\":{\"callback\":null,\"data\":{\"angle\":{\"__ndarray__\":\"PgJ6YQ8zF0CoraIsv+7ePw==\",\"dtype\":\"float64\",\"shape\":[2]},\"color\":[\"#440154\",\"#FDE724\"],\"index\":[0,1],\"role\":[\"ADC\",\"Top\"],\"value\":[12,1]},\"selected\":{\"id\":\"18118\",\"type\":\"Selection\"},\"selection_policy\":{\"id\":\"18119\",\"type\":\"UnionRenderers\"}},\"id\":\"17575\",\"type\":\"ColumnDataSource\"},{\"attributes\":{\"callback\":null},\"id\":\"17554\",\"type\":\"DataRange1d\"},{\"attributes\":{\"data_source\":{\"id\":\"17575\",\"type\":\"ColumnDataSource\"},\"glyph\":{\"id\":\"17577\",\"type\":\"Wedge\"},\"hover_glyph\":null,\"muted_glyph\":null,\"nonselection_glyph\":{\"id\":\"17578\",\"type\":\"Wedge\"},\"selection_glyph\":null,\"view\":{\"id\":\"17580\",\"type\":\"CDSView\"}},\"id\":\"17579\",\"type\":\"GlyphRenderer\"},{\"attributes\":{\"end_angle\":{\"expr\":{\"id\":\"17574\",\"type\":\"CumSum\"},\"units\":\"rad\"},\"fill_color\":{\"field\":\"color\"},\"line_color\":{\"value\":\"white\"},\"radius\":{\"units\":\"data\",\"value\":0.3},\"start_angle\":{\"expr\":{\"id\":\"17573\",\"type\":\"CumSum\"},\"units\":\"rad\"},\"x\":{\"value\":0},\"y\":{\"value\":1}},\"id\":\"17577\",\"type\":\"Wedge\"},{\"attributes\":{\"callback\":null},\"id\":\"17552\",\"type\":\"DataRange1d\"},{\"attributes\":{\"source\":{\"id\":\"17575\",\"type\":\"ColumnDataSource\"}},\"id\":\"17580\",\"type\":\"CDSView\"},{\"attributes\":{},\"id\":\"17556\",\"type\":\"LinearScale\"},{\"attributes\":{\"text\":\"Subditos por minuto por rol\"},\"id\":\"17550\",\"type\":\"Title\"},{\"attributes\":{},\"id\":\"17585\",\"type\":\"BasicTickFormatter\"},{\"attributes\":{\"end_angle\":{\"expr\":{\"id\":\"17574\",\"type\":\"CumSum\"},\"units\":\"rad\"},\"fill_alpha\":{\"value\":0.1},\"fill_color\":{\"value\":\"#1f77b4\"},\"line_alpha\":{\"value\":0.1},\"line_color\":{\"value\":\"#1f77b4\"},\"radius\":{\"units\":\"data\",\"value\":0.3},\"start_angle\":{\"expr\":{\"id\":\"17573\",\"type\":\"CumSum\"},\"units\":\"rad\"},\"x\":{\"value\":0},\"y\":{\"value\":1}},\"id\":\"17578\",\"type\":\"Wedge\"},{\"attributes\":{\"callback\":null,\"data\":{\"angle\":{\"__ndarray__\":\"PgJ6YQ8zF0CoraIsv+7ePw==\",\"dtype\":\"float64\",\"shape\":[2]},\"color\":[\"#440154\",\"#FDE724\"],\"index\":[0,1],\"role\":[\"ADC\",\"Top\"],\"value\":[\"                                 12\",\"                                  1\"]},\"selected\":{\"id\":\"18120\",\"type\":\"Selection\"},\"selection_policy\":{\"id\":\"18121\",\"type\":\"UnionRenderers\"}},\"id\":\"17588\",\"type\":\"ColumnDataSource\"},{\"attributes\":{},\"id\":\"17558\",\"type\":\"LinearScale\"},{\"attributes\":{\"angle\":{\"expr\":{\"id\":\"17589\",\"type\":\"CumSum\"},\"units\":\"rad\"},\"level\":\"glyph\",\"source\":{\"id\":\"17588\",\"type\":\"ColumnDataSource\"},\"text\":{\"field\":\"value\"},\"x\":{\"value\":0},\"y\":{\"value\":1}},\"id\":\"17590\",\"type\":\"LabelSet\"},{\"attributes\":{\"axis_label\":null,\"formatter\":{\"id\":\"17585\",\"type\":\"BasicTickFormatter\"},\"ticker\":{\"id\":\"17561\",\"type\":\"BasicTicker\"},\"visible\":false},\"id\":\"17560\",\"type\":\"LinearAxis\"},{\"attributes\":{},\"id\":\"17561\",\"type\":\"BasicTicker\"},{\"attributes\":{\"items\":[{\"id\":\"17587\",\"type\":\"LegendItem\"}]},\"id\":\"17586\",\"type\":\"Legend\"},{\"attributes\":{\"field\":\"angle\",\"include_zero\":true},\"id\":\"17573\",\"type\":\"CumSum\"},{\"attributes\":{\"grid_line_color\":null,\"ticker\":{\"id\":\"17561\",\"type\":\"BasicTicker\"}},\"id\":\"17564\",\"type\":\"Grid\"},{\"attributes\":{\"field\":\"angle\",\"include_zero\":true},\"id\":\"17589\",\"type\":\"CumSum\"},{\"attributes\":{},\"id\":\"18121\",\"type\":\"UnionRenderers\"},{\"attributes\":{},\"id\":\"18120\",\"type\":\"Selection\"},{\"attributes\":{\"axis_label\":null,\"formatter\":{\"id\":\"17583\",\"type\":\"BasicTickFormatter\"},\"ticker\":{\"id\":\"17566\",\"type\":\"BasicTicker\"},\"visible\":false},\"id\":\"17565\",\"type\":\"LinearAxis\"},{\"attributes\":{\"label\":{\"field\":\"role\"},\"renderers\":[{\"id\":\"17579\",\"type\":\"GlyphRenderer\"}]},\"id\":\"17587\",\"type\":\"LegendItem\"},{\"attributes\":{},\"id\":\"17566\",\"type\":\"BasicTicker\"},{\"attributes\":{},\"id\":\"17583\",\"type\":\"BasicTickFormatter\"}],\"root_ids\":[\"17549\"]},\"title\":\"Bokeh Application\",\"version\":\"1.4.0\"}};\n",
       "  var render_items = [{\"docid\":\"6cd560a0-fe1f-43b3-ba1a-641ab74d6711\",\"roots\":{\"17549\":\"d566489a-103c-4fff-bbb7-cb47b823eb84\"}}];\n",
       "  root.Bokeh.embed.embed_items_notebook(docs_json, render_items);\n",
       "\n",
       "  }\n",
       "  if (root.Bokeh !== undefined) {\n",
       "    embed_document(root);\n",
       "  } else {\n",
       "    var attempts = 0;\n",
       "    var timer = setInterval(function(root) {\n",
       "      if (root.Bokeh !== undefined) {\n",
       "        clearInterval(timer);\n",
       "        embed_document(root);\n",
       "      } else {\n",
       "        attempts++;\n",
       "        if (attempts > 100) {\n",
       "          clearInterval(timer);\n",
       "          console.log(\"Bokeh: ERROR: Unable to run BokehJS code because BokehJS library is missing\");\n",
       "        }\n",
       "      }\n",
       "    }, 10, root)\n",
       "  }\n",
       "})(window);"
      ],
      "application/vnd.bokehjs_exec.v0+json": ""
     },
     "metadata": {
      "application/vnd.bokehjs_exec.v0+json": {
       "id": "17549"
      }
     },
     "output_type": "display_data"
    }
   ],
   "source": [
    "data_pie = pd.Series(x_pie8).reset_index(name='value').rename(columns={'index':'role'})\n",
    "data_pie['angle'] = data_pie['value']/data_pie['value'].sum() * 2*pi\n",
    "data_pie['color'] = viridis(2)\n",
    "\n",
    "p_pie8 = figure(plot_height=350, plot_width = 1000,title=\"Subditos por minuto por rol\", toolbar_location=None,\n",
    "        tools=\"hover\", tooltips=\"@role: @value\")\n",
    "\n",
    "p_pie8.wedge(x=0, y=1, radius=0.3,\n",
    "        start_angle=cumsum('angle', include_zero=True), end_angle=cumsum('angle'),\n",
    "        line_color=\"white\", fill_color='color', legend='role', source=data_pie)\n",
    "\n",
    "data_pie[\"value\"] = data_pie['value'].astype(str)\n",
    "data_pie[\"value\"] = data_pie[\"value\"].str.pad(35, side = \"left\")\n",
    "source = ColumnDataSource(data_pie)\n",
    "\n",
    "labels = LabelSet(x=0, y=1, text='value', level='glyph',\n",
    "        angle=cumsum('angle', include_zero=True), source=source, render_mode='canvas')\n",
    "\n",
    "p_pie8.add_layout(labels)\n",
    "\n",
    "p_pie8.axis.axis_label=None\n",
    "p_pie8.axis.visible=False\n",
    "p_pie8.grid.grid_line_color = None\n",
    "\n",
    "show(p_pie8)"
   ]
  },
  {
   "cell_type": "code",
   "execution_count": 136,
   "metadata": {},
   "outputs": [
    {
     "data": {
      "text/html": [
       "\n",
       "\n",
       "\n",
       "\n",
       "\n",
       "\n",
       "  <div class=\"bk-root\" id=\"176b6d1f-f795-48f9-88b5-9df0929861fd\" data-root-id=\"28419\"></div>\n"
      ]
     },
     "metadata": {},
     "output_type": "display_data"
    },
    {
     "data": {
      "application/javascript": [
       "(function(root) {\n",
       "  function embed_document(root) {\n",
       "    \n",
       "  var docs_json = {\"538f5ca1-5c11-4dfd-8806-20dd3fa116fe\":{\"roots\":{\"references\":[{\"attributes\":{\"children\":[{\"id\":\"28416\",\"type\":\"GridBox\"},{\"id\":\"28418\",\"type\":\"ToolbarBox\"}]},\"id\":\"28419\",\"type\":\"Row\"},{\"attributes\":{\"dimension\":1,\"grid_line_color\":null,\"ticker\":{\"id\":\"17566\",\"type\":\"BasicTicker\"}},\"id\":\"17569\",\"type\":\"Grid\"},{\"attributes\":{\"fill_color\":{\"field\":\"fill_color\"},\"line_color\":{\"field\":\"line_color\"},\"top\":{\"field\":\"top\"},\"width\":{\"value\":0.9},\"x\":{\"field\":\"x\"}},\"id\":\"27639\",\"type\":\"VBar\"},{\"attributes\":{\"active_drag\":\"auto\",\"active_inspect\":\"auto\",\"active_multi\":null,\"active_scroll\":\"auto\",\"active_tap\":\"auto\",\"tools\":[{\"id\":\"17570\",\"type\":\"HoverTool\"}]},\"id\":\"17571\",\"type\":\"Toolbar\"},{\"attributes\":{},\"id\":\"18118\",\"type\":\"Selection\"},{\"attributes\":{\"callback\":null,\"tooltips\":\"@role: @value\"},\"id\":\"17570\",\"type\":\"HoverTool\"},{\"attributes\":{},\"id\":\"28345\",\"type\":\"CategoricalTickFormatter\"},{\"attributes\":{},\"id\":\"27625\",\"type\":\"PanTool\"},{\"attributes\":{},\"id\":\"18119\",\"type\":\"UnionRenderers\"},{\"attributes\":{\"data_source\":{\"id\":\"27638\",\"type\":\"ColumnDataSource\"},\"glyph\":{\"id\":\"27639\",\"type\":\"VBar\"},\"hover_glyph\":null,\"muted_glyph\":null,\"nonselection_glyph\":{\"id\":\"27640\",\"type\":\"VBar\"},\"selection_glyph\":null,\"view\":{\"id\":\"27642\",\"type\":\"CDSView\"}},\"id\":\"27641\",\"type\":\"GlyphRenderer\"},{\"attributes\":{\"field\":\"angle\"},\"id\":\"17574\",\"type\":\"CumSum\"},{\"attributes\":{},\"id\":\"28343\",\"type\":\"BasicTickFormatter\"},{\"attributes\":{},\"id\":\"27626\",\"type\":\"WheelZoomTool\"},{\"attributes\":{\"callback\":null,\"data\":{\"fill_color\":[\"#39375b\",\"#39375b\",\"#39375b\",\"#39375b\",\"#39375b\",\"#745c97\",\"#745c97\",\"#745c97\",\"#745c97\",\"#d597ce\",\"#d597ce\",\"#d597ce\",\"#f5b0cb\"],\"line_color\":[\"#39375b\",\"#39375b\",\"#39375b\",\"#39375b\",\"#39375b\",\"#745c97\",\"#745c97\",\"#745c97\",\"#745c97\",\"#d597ce\",\"#d597ce\",\"#d597ce\",\"#f5b0cb\"],\"top\":[9.8,9.9,10.0,10.2,10.3,10.3,10.3,10.3,10.4,10.8,10.8,11.1,11.2],\"x\":[\"PVB ADC\",\"FW ADC\",\"MAD ADC\",\"G2 Top\",\"GEN ADC\",\"G2 ADC\",\"VIT ADC\",\"KT ADC\",\"EDG ADC\",\"RNG ADC\",\"FNC ADC\",\"TL ADC\",\"AFS ADC\"]},\"selected\":{\"id\":\"28346\",\"type\":\"Selection\"},\"selection_policy\":{\"id\":\"28347\",\"type\":\"UnionRenderers\"}},\"id\":\"27638\",\"type\":\"ColumnDataSource\"},{\"attributes\":{\"callback\":null,\"data\":{\"angle\":{\"__ndarray__\":\"PgJ6YQ8zF0CoraIsv+7ePw==\",\"dtype\":\"float64\",\"shape\":[2]},\"color\":[\"#440154\",\"#FDE724\"],\"index\":[0,1],\"role\":[\"ADC\",\"Top\"],\"value\":[12,1]},\"selected\":{\"id\":\"18118\",\"type\":\"Selection\"},\"selection_policy\":{\"id\":\"18119\",\"type\":\"UnionRenderers\"}},\"id\":\"17575\",\"type\":\"ColumnDataSource\"},{\"attributes\":{\"below\":[{\"id\":\"27616\",\"type\":\"CategoricalAxis\"}],\"center\":[{\"id\":\"27619\",\"type\":\"Grid\"},{\"id\":\"27624\",\"type\":\"Grid\"}],\"left\":[{\"id\":\"27620\",\"type\":\"LinearAxis\"}],\"plot_height\":250,\"plot_width\":1000,\"renderers\":[{\"id\":\"27641\",\"type\":\"GlyphRenderer\"}],\"title\":{\"id\":\"27606\",\"type\":\"Title\"},\"toolbar\":{\"id\":\"27631\",\"type\":\"Toolbar\"},\"toolbar_location\":null,\"x_range\":{\"id\":\"27608\",\"type\":\"FactorRange\"},\"x_scale\":{\"id\":\"27612\",\"type\":\"CategoricalScale\"},\"y_range\":{\"id\":\"27610\",\"type\":\"DataRange1d\"},\"y_scale\":{\"id\":\"27614\",\"type\":\"LinearScale\"}},\"id\":\"27605\",\"subtype\":\"Figure\",\"type\":\"Plot\"},{\"attributes\":{\"overlay\":{\"id\":\"28348\",\"type\":\"BoxAnnotation\"}},\"id\":\"27627\",\"type\":\"BoxZoomTool\"},{\"attributes\":{\"below\":[{\"id\":\"17560\",\"type\":\"LinearAxis\"}],\"center\":[{\"id\":\"17564\",\"type\":\"Grid\"},{\"id\":\"17569\",\"type\":\"Grid\"},{\"id\":\"17586\",\"type\":\"Legend\"},{\"id\":\"17590\",\"type\":\"LabelSet\"}],\"left\":[{\"id\":\"17565\",\"type\":\"LinearAxis\"}],\"plot_height\":350,\"plot_width\":1000,\"renderers\":[{\"id\":\"17579\",\"type\":\"GlyphRenderer\"}],\"title\":{\"id\":\"17550\",\"type\":\"Title\"},\"toolbar\":{\"id\":\"17571\",\"type\":\"Toolbar\"},\"toolbar_location\":null,\"x_range\":{\"id\":\"17552\",\"type\":\"DataRange1d\"},\"x_scale\":{\"id\":\"17556\",\"type\":\"LinearScale\"},\"y_range\":{\"id\":\"17554\",\"type\":\"DataRange1d\"},\"y_scale\":{\"id\":\"17558\",\"type\":\"LinearScale\"}},\"id\":\"17549\",\"subtype\":\"Figure\",\"type\":\"Plot\"},{\"attributes\":{},\"id\":\"27628\",\"type\":\"SaveTool\"},{\"attributes\":{\"text\":\"Subditos por minuto por jugador\"},\"id\":\"27606\",\"type\":\"Title\"},{\"attributes\":{\"data_source\":{\"id\":\"17575\",\"type\":\"ColumnDataSource\"},\"glyph\":{\"id\":\"17577\",\"type\":\"Wedge\"},\"hover_glyph\":null,\"muted_glyph\":null,\"nonselection_glyph\":{\"id\":\"17578\",\"type\":\"Wedge\"},\"selection_glyph\":null,\"view\":{\"id\":\"17580\",\"type\":\"CDSView\"}},\"id\":\"17579\",\"type\":\"GlyphRenderer\"},{\"attributes\":{\"callback\":null},\"id\":\"17554\",\"type\":\"DataRange1d\"},{\"attributes\":{},\"id\":\"27629\",\"type\":\"ResetTool\"},{\"attributes\":{\"callback\":null,\"factors\":[\"PVB ADC\",\"FW ADC\",\"MAD ADC\",\"G2 Top\",\"GEN ADC\",\"G2 ADC\",\"VIT ADC\",\"KT ADC\",\"EDG ADC\",\"RNG ADC\",\"FNC ADC\",\"TL ADC\",\"AFS ADC\"]},\"id\":\"27608\",\"type\":\"FactorRange\"},{\"attributes\":{\"end_angle\":{\"expr\":{\"id\":\"17574\",\"type\":\"CumSum\"},\"units\":\"rad\"},\"fill_color\":{\"field\":\"color\"},\"line_color\":{\"value\":\"white\"},\"radius\":{\"units\":\"data\",\"value\":0.3},\"start_angle\":{\"expr\":{\"id\":\"17573\",\"type\":\"CumSum\"},\"units\":\"rad\"},\"x\":{\"value\":0},\"y\":{\"value\":1}},\"id\":\"17577\",\"type\":\"Wedge\"},{\"attributes\":{\"callback\":null},\"id\":\"17552\",\"type\":\"DataRange1d\"},{\"attributes\":{},\"id\":\"27630\",\"type\":\"HelpTool\"},{\"attributes\":{\"source\":{\"id\":\"17575\",\"type\":\"ColumnDataSource\"}},\"id\":\"17580\",\"type\":\"CDSView\"},{\"attributes\":{\"callback\":null},\"id\":\"27610\",\"type\":\"DataRange1d\"},{\"attributes\":{},\"id\":\"17556\",\"type\":\"LinearScale\"},{\"attributes\":{\"active_drag\":\"auto\",\"active_inspect\":\"auto\",\"active_multi\":null,\"active_scroll\":\"auto\",\"active_tap\":\"auto\",\"tools\":[{\"id\":\"27625\",\"type\":\"PanTool\"},{\"id\":\"27626\",\"type\":\"WheelZoomTool\"},{\"id\":\"27627\",\"type\":\"BoxZoomTool\"},{\"id\":\"27628\",\"type\":\"SaveTool\"},{\"id\":\"27629\",\"type\":\"ResetTool\"},{\"id\":\"27630\",\"type\":\"HelpTool\"}]},\"id\":\"27631\",\"type\":\"Toolbar\"},{\"attributes\":{},\"id\":\"27612\",\"type\":\"CategoricalScale\"},{\"attributes\":{\"text\":\"Subditos por minuto por rol\"},\"id\":\"17550\",\"type\":\"Title\"},{\"attributes\":{\"source\":{\"id\":\"27638\",\"type\":\"ColumnDataSource\"}},\"id\":\"27642\",\"type\":\"CDSView\"},{\"attributes\":{\"toolbar\":{\"id\":\"28417\",\"type\":\"ProxyToolbar\"}},\"id\":\"28418\",\"type\":\"ToolbarBox\"},{\"attributes\":{},\"id\":\"17585\",\"type\":\"BasicTickFormatter\"},{\"attributes\":{},\"id\":\"27614\",\"type\":\"LinearScale\"},{\"attributes\":{\"end_angle\":{\"expr\":{\"id\":\"17574\",\"type\":\"CumSum\"},\"units\":\"rad\"},\"fill_alpha\":{\"value\":0.1},\"fill_color\":{\"value\":\"#1f77b4\"},\"line_alpha\":{\"value\":0.1},\"line_color\":{\"value\":\"#1f77b4\"},\"radius\":{\"units\":\"data\",\"value\":0.3},\"start_angle\":{\"expr\":{\"id\":\"17573\",\"type\":\"CumSum\"},\"units\":\"rad\"},\"x\":{\"value\":0},\"y\":{\"value\":1}},\"id\":\"17578\",\"type\":\"Wedge\"},{\"attributes\":{\"label\":{\"field\":\"role\"},\"renderers\":[{\"id\":\"17579\",\"type\":\"GlyphRenderer\"}]},\"id\":\"17587\",\"type\":\"LegendItem\"},{\"attributes\":{\"callback\":null,\"data\":{\"angle\":{\"__ndarray__\":\"PgJ6YQ8zF0CoraIsv+7ePw==\",\"dtype\":\"float64\",\"shape\":[2]},\"color\":[\"#440154\",\"#FDE724\"],\"index\":[0,1],\"role\":[\"ADC\",\"Top\"],\"value\":[\"                                 12\",\"                                  1\"]},\"selected\":{\"id\":\"18120\",\"type\":\"Selection\"},\"selection_policy\":{\"id\":\"18121\",\"type\":\"UnionRenderers\"}},\"id\":\"17588\",\"type\":\"ColumnDataSource\"},{\"attributes\":{\"formatter\":{\"id\":\"28345\",\"type\":\"CategoricalTickFormatter\"},\"ticker\":{\"id\":\"27617\",\"type\":\"CategoricalTicker\"}},\"id\":\"27616\",\"type\":\"CategoricalAxis\"},{\"attributes\":{},\"id\":\"17558\",\"type\":\"LinearScale\"},{\"attributes\":{\"angle\":{\"expr\":{\"id\":\"17589\",\"type\":\"CumSum\"},\"units\":\"rad\"},\"level\":\"glyph\",\"source\":{\"id\":\"17588\",\"type\":\"ColumnDataSource\"},\"text\":{\"field\":\"value\"},\"x\":{\"value\":0},\"y\":{\"value\":1}},\"id\":\"17590\",\"type\":\"LabelSet\"},{\"attributes\":{},\"id\":\"28346\",\"type\":\"Selection\"},{\"attributes\":{},\"id\":\"27617\",\"type\":\"CategoricalTicker\"},{\"attributes\":{\"axis_label\":null,\"formatter\":{\"id\":\"17585\",\"type\":\"BasicTickFormatter\"},\"ticker\":{\"id\":\"17561\",\"type\":\"BasicTicker\"},\"visible\":false},\"id\":\"17560\",\"type\":\"LinearAxis\"},{\"attributes\":{},\"id\":\"28347\",\"type\":\"UnionRenderers\"},{\"attributes\":{\"ticker\":{\"id\":\"27617\",\"type\":\"CategoricalTicker\"},\"visible\":false},\"id\":\"27619\",\"type\":\"Grid\"},{\"attributes\":{},\"id\":\"17561\",\"type\":\"BasicTicker\"},{\"attributes\":{\"bottom_units\":\"screen\",\"fill_alpha\":{\"value\":0.5},\"fill_color\":{\"value\":\"lightgrey\"},\"left_units\":\"screen\",\"level\":\"overlay\",\"line_alpha\":{\"value\":1.0},\"line_color\":{\"value\":\"black\"},\"line_dash\":[4,4],\"line_width\":{\"value\":2},\"render_mode\":\"css\",\"right_units\":\"screen\",\"top_units\":\"screen\"},\"id\":\"28348\",\"type\":\"BoxAnnotation\"},{\"attributes\":{\"formatter\":{\"id\":\"28343\",\"type\":\"BasicTickFormatter\"},\"ticker\":{\"id\":\"27621\",\"type\":\"BasicTicker\"}},\"id\":\"27620\",\"type\":\"LinearAxis\"},{\"attributes\":{\"items\":[{\"id\":\"17587\",\"type\":\"LegendItem\"}]},\"id\":\"17586\",\"type\":\"Legend\"},{\"attributes\":{\"field\":\"angle\",\"include_zero\":true},\"id\":\"17573\",\"type\":\"CumSum\"},{\"attributes\":{\"grid_line_color\":null,\"ticker\":{\"id\":\"17561\",\"type\":\"BasicTicker\"}},\"id\":\"17564\",\"type\":\"Grid\"},{\"attributes\":{\"tools\":[{\"id\":\"27625\",\"type\":\"PanTool\"},{\"id\":\"27626\",\"type\":\"WheelZoomTool\"},{\"id\":\"27627\",\"type\":\"BoxZoomTool\"},{\"id\":\"27628\",\"type\":\"SaveTool\"},{\"id\":\"27629\",\"type\":\"ResetTool\"},{\"id\":\"27630\",\"type\":\"HelpTool\"},{\"id\":\"17570\",\"type\":\"HoverTool\"}]},\"id\":\"28417\",\"type\":\"ProxyToolbar\"},{\"attributes\":{\"field\":\"angle\",\"include_zero\":true},\"id\":\"17589\",\"type\":\"CumSum\"},{\"attributes\":{},\"id\":\"27621\",\"type\":\"BasicTicker\"},{\"attributes\":{},\"id\":\"18120\",\"type\":\"Selection\"},{\"attributes\":{},\"id\":\"18121\",\"type\":\"UnionRenderers\"},{\"attributes\":{\"axis_label\":null,\"formatter\":{\"id\":\"17583\",\"type\":\"BasicTickFormatter\"},\"ticker\":{\"id\":\"17566\",\"type\":\"BasicTicker\"},\"visible\":false},\"id\":\"17565\",\"type\":\"LinearAxis\"},{\"attributes\":{\"dimension\":1,\"ticker\":{\"id\":\"27621\",\"type\":\"BasicTicker\"},\"visible\":false},\"id\":\"27624\",\"type\":\"Grid\"},{\"attributes\":{\"children\":[[{\"id\":\"27605\",\"subtype\":\"Figure\",\"type\":\"Plot\"},0,0],[{\"id\":\"17549\",\"subtype\":\"Figure\",\"type\":\"Plot\"},1,0]]},\"id\":\"28416\",\"type\":\"GridBox\"},{\"attributes\":{},\"id\":\"17566\",\"type\":\"BasicTicker\"},{\"attributes\":{},\"id\":\"17583\",\"type\":\"BasicTickFormatter\"},{\"attributes\":{\"fill_alpha\":{\"value\":0.1},\"fill_color\":{\"value\":\"#1f77b4\"},\"line_alpha\":{\"value\":0.1},\"line_color\":{\"value\":\"#1f77b4\"},\"top\":{\"field\":\"top\"},\"width\":{\"value\":0.9},\"x\":{\"field\":\"x\"}},\"id\":\"27640\",\"type\":\"VBar\"}],\"root_ids\":[\"28419\"]},\"title\":\"Bokeh Application\",\"version\":\"1.4.0\"}};\n",
       "  var render_items = [{\"docid\":\"538f5ca1-5c11-4dfd-8806-20dd3fa116fe\",\"roots\":{\"28419\":\"176b6d1f-f795-48f9-88b5-9df0929861fd\"}}];\n",
       "  root.Bokeh.embed.embed_items_notebook(docs_json, render_items);\n",
       "\n",
       "  }\n",
       "  if (root.Bokeh !== undefined) {\n",
       "    embed_document(root);\n",
       "  } else {\n",
       "    var attempts = 0;\n",
       "    var timer = setInterval(function(root) {\n",
       "      if (root.Bokeh !== undefined) {\n",
       "        clearInterval(timer);\n",
       "        embed_document(root);\n",
       "      } else {\n",
       "        attempts++;\n",
       "        if (attempts > 100) {\n",
       "          clearInterval(timer);\n",
       "          console.log(\"Bokeh: ERROR: Unable to run BokehJS code because BokehJS library is missing\");\n",
       "        }\n",
       "      }\n",
       "    }, 10, root)\n",
       "  }\n",
       "})(window);"
      ],
      "application/vnd.bokehjs_exec.v0+json": ""
     },
     "metadata": {
      "application/vnd.bokehjs_exec.v0+json": {
       "id": "28419"
      }
     },
     "output_type": "display_data"
    }
   ],
   "source": [
    "p = gridplot([[p7], [p_pie8]], toolbar_location = \"right\")\n",
    "show(p)"
   ]
  },
  {
   "cell_type": "code",
   "execution_count": 50,
   "metadata": {},
   "outputs": [],
   "source": [
    "def get_score(df, att, i, max_val):\n",
    "    curr_val = df.iloc[i][att]\n",
    "    score = curr_val/max_val\n",
    "    \n",
    "    return score\n",
    "\n",
    "def player_score(df):\n",
    "    names = []\n",
    "    for i in range(len(df)):\n",
    "        names.append(df.iloc[i]['Name'])\n",
    "        \n",
    "    roles = []\n",
    "    for i in range(len(df)):\n",
    "        roles.append(df.iloc[i]['Position'])\n",
    "    \n",
    "    kills = []\n",
    "    max_val = df['Kills Total'].max()\n",
    "    att = 'Kills Total'\n",
    "    for i in range(len(df)):\n",
    "        score = get_score(df, att, i, max_val)\n",
    "        kills.append(score)\n",
    "    \n",
    "    deaths = []\n",
    "    max_val = df['Deaths'].max()\n",
    "    att = 'Deaths'\n",
    "    for i in range(len(df)):\n",
    "        score = get_score(df, att, i, max_val)\n",
    "        deaths.append(score)\n",
    "        \n",
    "    assists = []\n",
    "    max_val = df['Assists'].max()\n",
    "    att = 'Assists'  \n",
    "    for i in range(len(df)):\n",
    "        score = get_score(df, att, i, max_val)\n",
    "        assists.append(score)\n",
    "        \n",
    "    kp = []\n",
    "    max_val = df['Kill Participation'].max()\n",
    "    att = 'Kill Participation'\n",
    "    for i in range(len(df)):\n",
    "        score = get_score(df, att, i, max_val)\n",
    "        kp.append(score)\n",
    "        \n",
    "    cs = []\n",
    "    max_val = df['CS Per Minute'].max()\n",
    "    att = 'CS Per Minute'\n",
    "    for i in range(len(df)):\n",
    "        score = get_score(df, att, i, max_val)\n",
    "        cs.append(score)\n",
    "        \n",
    "    avg_score = [0, 0, 0, 0, 0]\n",
    "    avg_count = [0, 0, 0, 0, 0]\n",
    "    score_comp = []\n",
    "    for i in range(len(df)):\n",
    "        score_p1 = (kills[i] + deaths[i] + assists[i] + kp[i] + cs[i])/5\n",
    "        score_comp.append(score_p1)\n",
    "        if df.iloc[i]['Position'] == 'Top':\n",
    "            avg_score[0] += score_p1\n",
    "            avg_count[0] += 1\n",
    "        elif df.iloc[i]['Position'] == 'Jungle':\n",
    "            avg_score[1] += score_p1\n",
    "            avg_count[1] += 1\n",
    "        elif df.iloc[i]['Position'] == 'Mid':\n",
    "            avg_score[2] += score_p1\n",
    "            avg_count[2] += 1\n",
    "        elif df.iloc[i]['Position'] == 'ADC':\n",
    "            avg_score[3] += score_p1\n",
    "            avg_count[3] += 1\n",
    "        elif df.iloc[i]['Position'] == 'Support':\n",
    "            avg_score[4] += score_p1\n",
    "            avg_count[4] += 1\n",
    "    \n",
    "    avg_score_f = [0, 0, 0, 0, 0]     \n",
    "    for i in range(len(avg_score)):\n",
    "        avg_score_f[i] = avg_score[i]/avg_count[i]\n",
    "          \n",
    "    df1 = pd.DataFrame(list(zip(names, roles, score_comp)), columns = ['Name', 'Role', 'Score'])\n",
    "    return df1, avg_score_f"
   ]
  },
  {
   "cell_type": "code",
   "execution_count": 51,
   "metadata": {},
   "outputs": [],
   "source": [
    "score, avg_score= player_score(data)"
   ]
  },
  {
   "cell_type": "code",
   "execution_count": 52,
   "metadata": {},
   "outputs": [
    {
     "name": "stdout",
     "output_type": "stream",
     "text": [
      "Evaluacion promedio de top:  0.47763233731512117\n",
      "Evaluacion promedio de jg:  0.40624032810779803\n",
      "Evaluacion promedio de mid:  0.5659995324929059\n",
      "Evaluacion promedio de adc:  0.5884550147985765\n",
      "Evaluacion promedio de sup:  0.40336747608193396\n"
     ]
    }
   ],
   "source": [
    "print(\"Evaluacion promedio de top: \", avg_score[0])\n",
    "print(\"Evaluacion promedio de jg: \", avg_score[1])\n",
    "print(\"Evaluacion promedio de mid: \", avg_score[2])\n",
    "print(\"Evaluacion promedio de adc: \", avg_score[3])\n",
    "print(\"Evaluacion promedio de sup: \", avg_score[4])"
   ]
  },
  {
   "cell_type": "code",
   "execution_count": 53,
   "metadata": {},
   "outputs": [
    {
     "data": {
      "text/plain": [
       "[0.40336747608193396,\n",
       " 0.40624032810779803,\n",
       " 0.47763233731512117,\n",
       " 0.5659995324929059,\n",
       " 0.5884550147985765]"
      ]
     },
     "execution_count": 53,
     "metadata": {},
     "output_type": "execute_result"
    }
   ],
   "source": [
    "avg_score_sorted = sorted(avg_score)\n",
    "avg_score_sorted"
   ]
  },
  {
   "cell_type": "code",
   "execution_count": 54,
   "metadata": {},
   "outputs": [],
   "source": [
    "role_avg = [\"Support\", \"Jungle\", \"Top\", \"Mid\", \"ADC\"]"
   ]
  },
  {
   "cell_type": "code",
   "execution_count": 55,
   "metadata": {},
   "outputs": [
    {
     "data": {
      "text/html": [
       "\n",
       "\n",
       "\n",
       "\n",
       "\n",
       "\n",
       "  <div class=\"bk-root\" id=\"b5049ca4-e408-4714-bf9e-9d42c0b8806e\" data-root-id=\"5508\"></div>\n"
      ]
     },
     "metadata": {},
     "output_type": "display_data"
    },
    {
     "data": {
      "application/javascript": [
       "(function(root) {\n",
       "  function embed_document(root) {\n",
       "    \n",
       "  var docs_json = {\"298573f0-85b3-4065-8d77-6868c99526cc\":{\"roots\":{\"references\":[{\"attributes\":{\"below\":[{\"id\":\"5519\",\"type\":\"CategoricalAxis\"}],\"center\":[{\"id\":\"5522\",\"type\":\"Grid\"},{\"id\":\"5527\",\"type\":\"Grid\"}],\"left\":[{\"id\":\"5523\",\"type\":\"LinearAxis\"}],\"plot_height\":250,\"plot_width\":400,\"renderers\":[{\"id\":\"5544\",\"type\":\"GlyphRenderer\"}],\"title\":{\"id\":\"5509\",\"type\":\"Title\"},\"toolbar\":{\"id\":\"5534\",\"type\":\"Toolbar\"},\"x_range\":{\"id\":\"5511\",\"type\":\"FactorRange\"},\"x_scale\":{\"id\":\"5515\",\"type\":\"CategoricalScale\"},\"y_range\":{\"id\":\"5513\",\"type\":\"DataRange1d\"},\"y_scale\":{\"id\":\"5517\",\"type\":\"LinearScale\"}},\"id\":\"5508\",\"subtype\":\"Figure\",\"type\":\"Plot\"},{\"attributes\":{},\"id\":\"5532\",\"type\":\"ResetTool\"},{\"attributes\":{\"callback\":null,\"factors\":[\"Support\",\"Jungle\",\"Top\",\"Mid\",\"ADC\"]},\"id\":\"5511\",\"type\":\"FactorRange\"},{\"attributes\":{\"bottom_units\":\"screen\",\"fill_alpha\":{\"value\":0.5},\"fill_color\":{\"value\":\"lightgrey\"},\"left_units\":\"screen\",\"level\":\"overlay\",\"line_alpha\":{\"value\":1.0},\"line_color\":{\"value\":\"black\"},\"line_dash\":[4,4],\"line_width\":{\"value\":2},\"render_mode\":\"css\",\"right_units\":\"screen\",\"top_units\":\"screen\"},\"id\":\"5789\",\"type\":\"BoxAnnotation\"},{\"attributes\":{\"callback\":null},\"id\":\"5513\",\"type\":\"DataRange1d\"},{\"attributes\":{},\"id\":\"5784\",\"type\":\"BasicTickFormatter\"},{\"attributes\":{},\"id\":\"5533\",\"type\":\"HelpTool\"},{\"attributes\":{\"dimension\":1,\"ticker\":{\"id\":\"5524\",\"type\":\"BasicTicker\"},\"visible\":false},\"id\":\"5527\",\"type\":\"Grid\"},{\"attributes\":{},\"id\":\"5528\",\"type\":\"PanTool\"},{\"attributes\":{\"callback\":null,\"data\":{\"fill_color\":[\"#010038\",\"#010038\",\"#293a80\",\"#537ec5\",\"#f39422\"],\"line_color\":[\"#010038\",\"#010038\",\"#293a80\",\"#537ec5\",\"#f39422\"],\"top\":[0.40336747608193396,0.40624032810779803,0.47763233731512117,0.5659995324929059,0.5884550147985765],\"x\":[\"Support\",\"Jungle\",\"Top\",\"Mid\",\"ADC\"]},\"selected\":{\"id\":\"5787\",\"type\":\"Selection\"},\"selection_policy\":{\"id\":\"5788\",\"type\":\"UnionRenderers\"}},\"id\":\"5541\",\"type\":\"ColumnDataSource\"},{\"attributes\":{},\"id\":\"5524\",\"type\":\"BasicTicker\"},{\"attributes\":{},\"id\":\"5515\",\"type\":\"CategoricalScale\"},{\"attributes\":{},\"id\":\"5529\",\"type\":\"WheelZoomTool\"},{\"attributes\":{\"fill_alpha\":{\"value\":0.1},\"fill_color\":{\"value\":\"#1f77b4\"},\"line_alpha\":{\"value\":0.1},\"line_color\":{\"value\":\"#1f77b4\"},\"top\":{\"field\":\"top\"},\"width\":{\"value\":0.9},\"x\":{\"field\":\"x\"}},\"id\":\"5543\",\"type\":\"VBar\"},{\"attributes\":{},\"id\":\"5788\",\"type\":\"UnionRenderers\"},{\"attributes\":{},\"id\":\"5531\",\"type\":\"SaveTool\"},{\"attributes\":{\"text\":\"Evaluaci\\u00f3n promedio por rol\"},\"id\":\"5509\",\"type\":\"Title\"},{\"attributes\":{\"source\":{\"id\":\"5541\",\"type\":\"ColumnDataSource\"}},\"id\":\"5545\",\"type\":\"CDSView\"},{\"attributes\":{\"active_drag\":\"auto\",\"active_inspect\":\"auto\",\"active_multi\":null,\"active_scroll\":\"auto\",\"active_tap\":\"auto\",\"tools\":[{\"id\":\"5528\",\"type\":\"PanTool\"},{\"id\":\"5529\",\"type\":\"WheelZoomTool\"},{\"id\":\"5530\",\"type\":\"BoxZoomTool\"},{\"id\":\"5531\",\"type\":\"SaveTool\"},{\"id\":\"5532\",\"type\":\"ResetTool\"},{\"id\":\"5533\",\"type\":\"HelpTool\"}]},\"id\":\"5534\",\"type\":\"Toolbar\"},{\"attributes\":{\"fill_color\":{\"field\":\"fill_color\"},\"line_color\":{\"field\":\"line_color\"},\"top\":{\"field\":\"top\"},\"width\":{\"value\":0.9},\"x\":{\"field\":\"x\"}},\"id\":\"5542\",\"type\":\"VBar\"},{\"attributes\":{},\"id\":\"5786\",\"type\":\"CategoricalTickFormatter\"},{\"attributes\":{\"formatter\":{\"id\":\"5784\",\"type\":\"BasicTickFormatter\"},\"ticker\":{\"id\":\"5524\",\"type\":\"BasicTicker\"}},\"id\":\"5523\",\"type\":\"LinearAxis\"},{\"attributes\":{\"ticker\":{\"id\":\"5520\",\"type\":\"CategoricalTicker\"},\"visible\":false},\"id\":\"5522\",\"type\":\"Grid\"},{\"attributes\":{\"data_source\":{\"id\":\"5541\",\"type\":\"ColumnDataSource\"},\"glyph\":{\"id\":\"5542\",\"type\":\"VBar\"},\"hover_glyph\":null,\"muted_glyph\":null,\"nonselection_glyph\":{\"id\":\"5543\",\"type\":\"VBar\"},\"selection_glyph\":null,\"view\":{\"id\":\"5545\",\"type\":\"CDSView\"}},\"id\":\"5544\",\"type\":\"GlyphRenderer\"},{\"attributes\":{},\"id\":\"5517\",\"type\":\"LinearScale\"},{\"attributes\":{},\"id\":\"5787\",\"type\":\"Selection\"},{\"attributes\":{\"formatter\":{\"id\":\"5786\",\"type\":\"CategoricalTickFormatter\"},\"ticker\":{\"id\":\"5520\",\"type\":\"CategoricalTicker\"}},\"id\":\"5519\",\"type\":\"CategoricalAxis\"},{\"attributes\":{},\"id\":\"5520\",\"type\":\"CategoricalTicker\"},{\"attributes\":{\"overlay\":{\"id\":\"5789\",\"type\":\"BoxAnnotation\"}},\"id\":\"5530\",\"type\":\"BoxZoomTool\"}],\"root_ids\":[\"5508\"]},\"title\":\"Bokeh Application\",\"version\":\"1.4.0\"}};\n",
       "  var render_items = [{\"docid\":\"298573f0-85b3-4065-8d77-6868c99526cc\",\"roots\":{\"5508\":\"b5049ca4-e408-4714-bf9e-9d42c0b8806e\"}}];\n",
       "  root.Bokeh.embed.embed_items_notebook(docs_json, render_items);\n",
       "\n",
       "  }\n",
       "  if (root.Bokeh !== undefined) {\n",
       "    embed_document(root);\n",
       "  } else {\n",
       "    var attempts = 0;\n",
       "    var timer = setInterval(function(root) {\n",
       "      if (root.Bokeh !== undefined) {\n",
       "        clearInterval(timer);\n",
       "        embed_document(root);\n",
       "      } else {\n",
       "        attempts++;\n",
       "        if (attempts > 100) {\n",
       "          clearInterval(timer);\n",
       "          console.log(\"Bokeh: ERROR: Unable to run BokehJS code because BokehJS library is missing\");\n",
       "        }\n",
       "      }\n",
       "    }, 10, root)\n",
       "  }\n",
       "})(window);"
      ],
      "application/vnd.bokehjs_exec.v0+json": ""
     },
     "metadata": {
      "application/vnd.bokehjs_exec.v0+json": {
       "id": "5508"
      }
     },
     "output_type": "display_data"
    }
   ],
   "source": [
    "p7 = figure(x_range = role_avg, plot_height=250, plot_width = 400, title=\"Evaluación promedio por rol\")\n",
    "p7.vbar(x = role_avg, top = avg_score_sorted, width = 0.9, color = [\"#010038\", \"#010038\", \"#293a80\", '#537ec5', '#f39422'])\n",
    "p7.xgrid.visible = False\n",
    "p7.ygrid.visible = False\n",
    "show(p7)"
   ]
  },
  {
   "cell_type": "code",
   "execution_count": 56,
   "metadata": {},
   "outputs": [
    {
     "data": {
      "text/html": [
       "<div>\n",
       "<style scoped>\n",
       "    .dataframe tbody tr th:only-of-type {\n",
       "        vertical-align: middle;\n",
       "    }\n",
       "\n",
       "    .dataframe tbody tr th {\n",
       "        vertical-align: top;\n",
       "    }\n",
       "\n",
       "    .dataframe thead th {\n",
       "        text-align: right;\n",
       "    }\n",
       "</style>\n",
       "<table border=\"1\" class=\"dataframe\">\n",
       "  <thead>\n",
       "    <tr style=\"text-align: right;\">\n",
       "      <th></th>\n",
       "      <th>Name</th>\n",
       "      <th>Role</th>\n",
       "      <th>Score</th>\n",
       "    </tr>\n",
       "  </thead>\n",
       "  <tbody>\n",
       "    <tr>\n",
       "      <th>0</th>\n",
       "      <td>Rekkles</td>\n",
       "      <td>ADC</td>\n",
       "      <td>0.657829</td>\n",
       "    </tr>\n",
       "    <tr>\n",
       "      <th>1</th>\n",
       "      <td>Mata</td>\n",
       "      <td>Support</td>\n",
       "      <td>0.373007</td>\n",
       "    </tr>\n",
       "    <tr>\n",
       "      <th>2</th>\n",
       "      <td>Broxah</td>\n",
       "      <td>Jungle</td>\n",
       "      <td>0.558003</td>\n",
       "    </tr>\n",
       "    <tr>\n",
       "      <th>3</th>\n",
       "      <td>Mowgli</td>\n",
       "      <td>Jungle</td>\n",
       "      <td>0.272321</td>\n",
       "    </tr>\n",
       "    <tr>\n",
       "      <th>4</th>\n",
       "      <td>Uzi</td>\n",
       "      <td>ADC</td>\n",
       "      <td>0.642392</td>\n",
       "    </tr>\n",
       "  </tbody>\n",
       "</table>\n",
       "</div>"
      ],
      "text/plain": [
       "      Name     Role     Score\n",
       "0  Rekkles      ADC  0.657829\n",
       "1     Mata  Support  0.373007\n",
       "2   Broxah   Jungle  0.558003\n",
       "3   Mowgli   Jungle  0.272321\n",
       "4      Uzi      ADC  0.642392"
      ]
     },
     "execution_count": 56,
     "metadata": {},
     "output_type": "execute_result"
    }
   ],
   "source": [
    "score.head()"
   ]
  },
  {
   "cell_type": "code",
   "execution_count": 57,
   "metadata": {},
   "outputs": [
    {
     "data": {
      "text/html": [
       "<div>\n",
       "<style scoped>\n",
       "    .dataframe tbody tr th:only-of-type {\n",
       "        vertical-align: middle;\n",
       "    }\n",
       "\n",
       "    .dataframe tbody tr th {\n",
       "        vertical-align: top;\n",
       "    }\n",
       "\n",
       "    .dataframe thead th {\n",
       "        text-align: right;\n",
       "    }\n",
       "</style>\n",
       "<table border=\"1\" class=\"dataframe\">\n",
       "  <thead>\n",
       "    <tr style=\"text-align: right;\">\n",
       "      <th></th>\n",
       "      <th>Name</th>\n",
       "      <th>Role</th>\n",
       "      <th>Score</th>\n",
       "    </tr>\n",
       "  </thead>\n",
       "  <tbody>\n",
       "    <tr>\n",
       "      <th>36</th>\n",
       "      <td>Sneaky</td>\n",
       "      <td>ADC</td>\n",
       "      <td>0.595964</td>\n",
       "    </tr>\n",
       "    <tr>\n",
       "      <th>19</th>\n",
       "      <td>Attila</td>\n",
       "      <td>ADC</td>\n",
       "      <td>0.600447</td>\n",
       "    </tr>\n",
       "    <tr>\n",
       "      <th>14</th>\n",
       "      <td>Betty</td>\n",
       "      <td>ADC</td>\n",
       "      <td>0.619979</td>\n",
       "    </tr>\n",
       "    <tr>\n",
       "      <th>18</th>\n",
       "      <td>Caps</td>\n",
       "      <td>Mid</td>\n",
       "      <td>0.628842</td>\n",
       "    </tr>\n",
       "    <tr>\n",
       "      <th>30</th>\n",
       "      <td>Rookie</td>\n",
       "      <td>Mid</td>\n",
       "      <td>0.637567</td>\n",
       "    </tr>\n",
       "    <tr>\n",
       "      <th>57</th>\n",
       "      <td>Perkz</td>\n",
       "      <td>Mid</td>\n",
       "      <td>0.641015</td>\n",
       "    </tr>\n",
       "    <tr>\n",
       "      <th>4</th>\n",
       "      <td>Uzi</td>\n",
       "      <td>ADC</td>\n",
       "      <td>0.642392</td>\n",
       "    </tr>\n",
       "    <tr>\n",
       "      <th>0</th>\n",
       "      <td>Rekkles</td>\n",
       "      <td>ADC</td>\n",
       "      <td>0.657829</td>\n",
       "    </tr>\n",
       "    <tr>\n",
       "      <th>29</th>\n",
       "      <td>Xiaohu</td>\n",
       "      <td>Mid</td>\n",
       "      <td>0.671243</td>\n",
       "    </tr>\n",
       "    <tr>\n",
       "      <th>12</th>\n",
       "      <td>iBoy</td>\n",
       "      <td>ADC</td>\n",
       "      <td>0.675430</td>\n",
       "    </tr>\n",
       "    <tr>\n",
       "      <th>39</th>\n",
       "      <td>JackeyLove</td>\n",
       "      <td>ADC</td>\n",
       "      <td>0.682590</td>\n",
       "    </tr>\n",
       "    <tr>\n",
       "      <th>25</th>\n",
       "      <td>Jensen</td>\n",
       "      <td>Mid</td>\n",
       "      <td>0.736178</td>\n",
       "    </tr>\n",
       "    <tr>\n",
       "      <th>48</th>\n",
       "      <td>Rikara</td>\n",
       "      <td>ADC</td>\n",
       "      <td>0.751990</td>\n",
       "    </tr>\n",
       "  </tbody>\n",
       "</table>\n",
       "</div>"
      ],
      "text/plain": [
       "          Name Role     Score\n",
       "36      Sneaky  ADC  0.595964\n",
       "19      Attila  ADC  0.600447\n",
       "14       Betty  ADC  0.619979\n",
       "18        Caps  Mid  0.628842\n",
       "30      Rookie  Mid  0.637567\n",
       "57       Perkz  Mid  0.641015\n",
       "4          Uzi  ADC  0.642392\n",
       "0      Rekkles  ADC  0.657829\n",
       "29      Xiaohu  Mid  0.671243\n",
       "12        iBoy  ADC  0.675430\n",
       "39  JackeyLove  ADC  0.682590\n",
       "25      Jensen  Mid  0.736178\n",
       "48      Rikara  ADC  0.751990"
      ]
     },
     "execution_count": 57,
     "metadata": {},
     "output_type": "execute_result"
    }
   ],
   "source": [
    "score_ordered = score.sort_values(by = [\"Score\"])\n",
    "top13 = score_ordered[-13:]\n",
    "top13"
   ]
  },
  {
   "cell_type": "code",
   "execution_count": 58,
   "metadata": {},
   "outputs": [
    {
     "data": {
      "text/plain": [
       "[('ADC', 8), ('Mid', 5)]"
      ]
     },
     "execution_count": 58,
     "metadata": {},
     "output_type": "execute_result"
    }
   ],
   "source": [
    "roles = list(top13['Role'])\n",
    "roles_n = Counter(roles)\n",
    "roles_n.most_common()"
   ]
  },
  {
   "cell_type": "code",
   "execution_count": 59,
   "metadata": {},
   "outputs": [
    {
     "name": "stdout",
     "output_type": "stream",
     "text": [
      "{'ADC': 8, 'Mid': 5}\n"
     ]
    }
   ],
   "source": [
    "x_pie7 = {}\n",
    "for i in range(len(roles_n)):\n",
    "    x_pie7[roles_n.most_common()[i][0]] = roles_n.most_common()[i][1]\n",
    "\n",
    "print(x_pie7)"
   ]
  },
  {
   "cell_type": "code",
   "execution_count": 60,
   "metadata": {},
   "outputs": [
    {
     "name": "stderr",
     "output_type": "stream",
     "text": [
      "BokehDeprecationWarning: 'legend' keyword is deprecated, use explicit 'legend_label', 'legend_field', or 'legend_group' keywords instead\n"
     ]
    },
    {
     "data": {
      "text/html": [
       "\n",
       "\n",
       "\n",
       "\n",
       "\n",
       "\n",
       "  <div class=\"bk-root\" id=\"d8540385-4775-4b00-a488-f88bb4e3ba2f\" data-root-id=\"5838\"></div>\n"
      ]
     },
     "metadata": {},
     "output_type": "display_data"
    },
    {
     "data": {
      "application/javascript": [
       "(function(root) {\n",
       "  function embed_document(root) {\n",
       "    \n",
       "  var docs_json = {\"4bc82bd2-1348-4c1f-a3eb-eb39aedf1322\":{\"roots\":{\"references\":[{\"attributes\":{\"below\":[{\"id\":\"5849\",\"type\":\"LinearAxis\"}],\"center\":[{\"id\":\"5853\",\"type\":\"Grid\"},{\"id\":\"5858\",\"type\":\"Grid\"},{\"id\":\"5875\",\"type\":\"Legend\"},{\"id\":\"5879\",\"type\":\"LabelSet\"}],\"left\":[{\"id\":\"5854\",\"type\":\"LinearAxis\"}],\"plot_height\":350,\"renderers\":[{\"id\":\"5868\",\"type\":\"GlyphRenderer\"}],\"title\":{\"id\":\"5839\",\"type\":\"Title\"},\"toolbar\":{\"id\":\"5860\",\"type\":\"Toolbar\"},\"toolbar_location\":null,\"x_range\":{\"id\":\"5841\",\"type\":\"DataRange1d\"},\"x_scale\":{\"id\":\"5845\",\"type\":\"LinearScale\"},\"y_range\":{\"id\":\"5843\",\"type\":\"DataRange1d\"},\"y_scale\":{\"id\":\"5847\",\"type\":\"LinearScale\"}},\"id\":\"5838\",\"subtype\":\"Figure\",\"type\":\"Plot\"},{\"attributes\":{},\"id\":\"6130\",\"type\":\"Selection\"},{\"attributes\":{\"data_source\":{\"id\":\"5864\",\"type\":\"ColumnDataSource\"},\"glyph\":{\"id\":\"5866\",\"type\":\"Wedge\"},\"hover_glyph\":null,\"muted_glyph\":null,\"nonselection_glyph\":{\"id\":\"5867\",\"type\":\"Wedge\"},\"selection_glyph\":null,\"view\":{\"id\":\"5869\",\"type\":\"CDSView\"}},\"id\":\"5868\",\"type\":\"GlyphRenderer\"},{\"attributes\":{},\"id\":\"5872\",\"type\":\"BasicTickFormatter\"},{\"attributes\":{},\"id\":\"5845\",\"type\":\"LinearScale\"},{\"attributes\":{},\"id\":\"5855\",\"type\":\"BasicTicker\"},{\"attributes\":{\"callback\":null,\"tooltips\":\"@role: @value\"},\"id\":\"5859\",\"type\":\"HoverTool\"},{\"attributes\":{},\"id\":\"5874\",\"type\":\"BasicTickFormatter\"},{\"attributes\":{},\"id\":\"5847\",\"type\":\"LinearScale\"},{\"attributes\":{\"field\":\"angle\"},\"id\":\"5863\",\"type\":\"CumSum\"},{\"attributes\":{\"axis_label\":null,\"formatter\":{\"id\":\"5874\",\"type\":\"BasicTickFormatter\"},\"ticker\":{\"id\":\"5850\",\"type\":\"BasicTicker\"},\"visible\":false},\"id\":\"5849\",\"type\":\"LinearAxis\"},{\"attributes\":{\"label\":{\"field\":\"role\"},\"renderers\":[{\"id\":\"5868\",\"type\":\"GlyphRenderer\"}]},\"id\":\"5876\",\"type\":\"LegendItem\"},{\"attributes\":{\"dimension\":1,\"grid_line_color\":null,\"ticker\":{\"id\":\"5855\",\"type\":\"BasicTicker\"}},\"id\":\"5858\",\"type\":\"Grid\"},{\"attributes\":{},\"id\":\"5850\",\"type\":\"BasicTicker\"},{\"attributes\":{\"end_angle\":{\"expr\":{\"id\":\"5863\",\"type\":\"CumSum\"},\"units\":\"rad\"},\"fill_alpha\":{\"value\":0.1},\"fill_color\":{\"value\":\"#1f77b4\"},\"line_alpha\":{\"value\":0.1},\"line_color\":{\"value\":\"#1f77b4\"},\"radius\":{\"units\":\"data\",\"value\":0.4},\"start_angle\":{\"expr\":{\"id\":\"5862\",\"type\":\"CumSum\"},\"units\":\"rad\"},\"x\":{\"value\":0},\"y\":{\"value\":1}},\"id\":\"5867\",\"type\":\"Wedge\"},{\"attributes\":{\"callback\":null,\"data\":{\"angle\":{\"__ndarray__\":\"qK2iLL/uDkCJrOV7N1UDQA==\",\"dtype\":\"float64\",\"shape\":[2]},\"color\":[\"#440154\",\"#FDE724\"],\"index\":[0,1],\"role\":[\"ADC\",\"Mid\"],\"value\":[\"                                  8\",\"                                  5\"]},\"selected\":{\"id\":\"6132\",\"type\":\"Selection\"},\"selection_policy\":{\"id\":\"6133\",\"type\":\"UnionRenderers\"}},\"id\":\"5877\",\"type\":\"ColumnDataSource\"},{\"attributes\":{\"grid_line_color\":null,\"ticker\":{\"id\":\"5850\",\"type\":\"BasicTicker\"}},\"id\":\"5853\",\"type\":\"Grid\"},{\"attributes\":{},\"id\":\"6132\",\"type\":\"Selection\"},{\"attributes\":{\"field\":\"angle\",\"include_zero\":true},\"id\":\"5878\",\"type\":\"CumSum\"},{\"attributes\":{\"axis_label\":null,\"formatter\":{\"id\":\"5872\",\"type\":\"BasicTickFormatter\"},\"ticker\":{\"id\":\"5855\",\"type\":\"BasicTicker\"},\"visible\":false},\"id\":\"5854\",\"type\":\"LinearAxis\"},{\"attributes\":{},\"id\":\"6133\",\"type\":\"UnionRenderers\"},{\"attributes\":{\"items\":[{\"id\":\"5876\",\"type\":\"LegendItem\"}]},\"id\":\"5875\",\"type\":\"Legend\"},{\"attributes\":{\"angle\":{\"expr\":{\"id\":\"5878\",\"type\":\"CumSum\"},\"units\":\"rad\"},\"level\":\"glyph\",\"source\":{\"id\":\"5877\",\"type\":\"ColumnDataSource\"},\"text\":{\"field\":\"value\"},\"x\":{\"value\":0},\"y\":{\"value\":1}},\"id\":\"5879\",\"type\":\"LabelSet\"},{\"attributes\":{\"source\":{\"id\":\"5864\",\"type\":\"ColumnDataSource\"}},\"id\":\"5869\",\"type\":\"CDSView\"},{\"attributes\":{\"text\":\"Evaluaci\\u00f3n de jugadores por rol (mejores 13)\"},\"id\":\"5839\",\"type\":\"Title\"},{\"attributes\":{\"callback\":null},\"id\":\"5841\",\"type\":\"DataRange1d\"},{\"attributes\":{\"active_drag\":\"auto\",\"active_inspect\":\"auto\",\"active_multi\":null,\"active_scroll\":\"auto\",\"active_tap\":\"auto\",\"tools\":[{\"id\":\"5859\",\"type\":\"HoverTool\"}]},\"id\":\"5860\",\"type\":\"Toolbar\"},{\"attributes\":{\"callback\":null,\"data\":{\"angle\":{\"__ndarray__\":\"qK2iLL/uDkCJrOV7N1UDQA==\",\"dtype\":\"float64\",\"shape\":[2]},\"color\":[\"#440154\",\"#FDE724\"],\"index\":[0,1],\"role\":[\"ADC\",\"Mid\"],\"value\":[8,5]},\"selected\":{\"id\":\"6130\",\"type\":\"Selection\"},\"selection_policy\":{\"id\":\"6131\",\"type\":\"UnionRenderers\"}},\"id\":\"5864\",\"type\":\"ColumnDataSource\"},{\"attributes\":{\"field\":\"angle\",\"include_zero\":true},\"id\":\"5862\",\"type\":\"CumSum\"},{\"attributes\":{\"end_angle\":{\"expr\":{\"id\":\"5863\",\"type\":\"CumSum\"},\"units\":\"rad\"},\"fill_color\":{\"field\":\"color\"},\"line_color\":{\"value\":\"white\"},\"radius\":{\"units\":\"data\",\"value\":0.4},\"start_angle\":{\"expr\":{\"id\":\"5862\",\"type\":\"CumSum\"},\"units\":\"rad\"},\"x\":{\"value\":0},\"y\":{\"value\":1}},\"id\":\"5866\",\"type\":\"Wedge\"},{\"attributes\":{\"callback\":null},\"id\":\"5843\",\"type\":\"DataRange1d\"},{\"attributes\":{},\"id\":\"6131\",\"type\":\"UnionRenderers\"}],\"root_ids\":[\"5838\"]},\"title\":\"Bokeh Application\",\"version\":\"1.4.0\"}};\n",
       "  var render_items = [{\"docid\":\"4bc82bd2-1348-4c1f-a3eb-eb39aedf1322\",\"roots\":{\"5838\":\"d8540385-4775-4b00-a488-f88bb4e3ba2f\"}}];\n",
       "  root.Bokeh.embed.embed_items_notebook(docs_json, render_items);\n",
       "\n",
       "  }\n",
       "  if (root.Bokeh !== undefined) {\n",
       "    embed_document(root);\n",
       "  } else {\n",
       "    var attempts = 0;\n",
       "    var timer = setInterval(function(root) {\n",
       "      if (root.Bokeh !== undefined) {\n",
       "        clearInterval(timer);\n",
       "        embed_document(root);\n",
       "      } else {\n",
       "        attempts++;\n",
       "        if (attempts > 100) {\n",
       "          clearInterval(timer);\n",
       "          console.log(\"Bokeh: ERROR: Unable to run BokehJS code because BokehJS library is missing\");\n",
       "        }\n",
       "      }\n",
       "    }, 10, root)\n",
       "  }\n",
       "})(window);"
      ],
      "application/vnd.bokehjs_exec.v0+json": ""
     },
     "metadata": {
      "application/vnd.bokehjs_exec.v0+json": {
       "id": "5838"
      }
     },
     "output_type": "display_data"
    }
   ],
   "source": [
    "data_pie = pd.Series(x_pie7).reset_index(name='value').rename(columns={'index':'role'})\n",
    "data_pie['angle'] = data_pie['value']/data_pie['value'].sum() * 2*pi\n",
    "data_pie['color'] = viridis(len(x_pie7))\n",
    "\n",
    "p_pie7 = figure(plot_height=350, title=\"Evaluación de jugadores por rol (mejores 13)\", toolbar_location=None,\n",
    "        tools=\"hover\", tooltips=\"@role: @value\")\n",
    "\n",
    "p_pie7.wedge(x=0, y=1, radius=0.4,\n",
    "        start_angle=cumsum('angle', include_zero=True), end_angle=cumsum('angle'),\n",
    "        line_color=\"white\", fill_color='color', legend='role', source=data_pie)\n",
    "\n",
    "data_pie[\"value\"] = data_pie['value'].astype(str)\n",
    "data_pie[\"value\"] = data_pie[\"value\"].str.pad(35, side = \"left\")\n",
    "source = ColumnDataSource(data_pie)\n",
    "\n",
    "labels = LabelSet(x=0, y=1, text='value', level='glyph',\n",
    "        angle=cumsum('angle', include_zero=True), source=source, render_mode='canvas')\n",
    "\n",
    "p_pie7.add_layout(labels)\n",
    "\n",
    "p_pie7.axis.axis_label=None\n",
    "p_pie7.axis.visible=False\n",
    "p_pie7.grid.grid_line_color = None\n",
    "\n",
    "show(p_pie7)"
   ]
  },
  {
   "cell_type": "code",
   "execution_count": 61,
   "metadata": {},
   "outputs": [
    {
     "data": {
      "text/html": [
       "<div>\n",
       "<style scoped>\n",
       "    .dataframe tbody tr th:only-of-type {\n",
       "        vertical-align: middle;\n",
       "    }\n",
       "\n",
       "    .dataframe tbody tr th {\n",
       "        vertical-align: top;\n",
       "    }\n",
       "\n",
       "    .dataframe thead th {\n",
       "        text-align: right;\n",
       "    }\n",
       "</style>\n",
       "<table border=\"1\" class=\"dataframe\">\n",
       "  <thead>\n",
       "    <tr style=\"text-align: right;\">\n",
       "      <th></th>\n",
       "      <th>Name</th>\n",
       "      <th>Role</th>\n",
       "      <th>Score</th>\n",
       "    </tr>\n",
       "  </thead>\n",
       "  <tbody>\n",
       "    <tr>\n",
       "      <th>2</th>\n",
       "      <td>Broxah</td>\n",
       "      <td>Jungle</td>\n",
       "      <td>0.558003</td>\n",
       "    </tr>\n",
       "    <tr>\n",
       "      <th>66</th>\n",
       "      <td>BigKoro</td>\n",
       "      <td>ADC</td>\n",
       "      <td>0.562482</td>\n",
       "    </tr>\n",
       "    <tr>\n",
       "      <th>64</th>\n",
       "      <td>Svenskeren</td>\n",
       "      <td>Jungle</td>\n",
       "      <td>0.569275</td>\n",
       "    </tr>\n",
       "    <tr>\n",
       "      <th>49</th>\n",
       "      <td>Jiizuké</td>\n",
       "      <td>Top</td>\n",
       "      <td>0.569614</td>\n",
       "    </tr>\n",
       "    <tr>\n",
       "      <th>67</th>\n",
       "      <td>Kikis</td>\n",
       "      <td>Jungle</td>\n",
       "      <td>0.574221</td>\n",
       "    </tr>\n",
       "    <tr>\n",
       "      <th>76</th>\n",
       "      <td>Zeros</td>\n",
       "      <td>Top</td>\n",
       "      <td>0.578058</td>\n",
       "    </tr>\n",
       "    <tr>\n",
       "      <th>31</th>\n",
       "      <td>Ning</td>\n",
       "      <td>Jungle</td>\n",
       "      <td>0.578972</td>\n",
       "    </tr>\n",
       "    <tr>\n",
       "      <th>38</th>\n",
       "      <td>Licorice</td>\n",
       "      <td>Top</td>\n",
       "      <td>0.579054</td>\n",
       "    </tr>\n",
       "    <tr>\n",
       "      <th>6</th>\n",
       "      <td>Deft</td>\n",
       "      <td>ADC</td>\n",
       "      <td>0.579681</td>\n",
       "    </tr>\n",
       "    <tr>\n",
       "      <th>46</th>\n",
       "      <td>AnDa</td>\n",
       "      <td>Jungle</td>\n",
       "      <td>0.588991</td>\n",
       "    </tr>\n",
       "    <tr>\n",
       "      <th>5</th>\n",
       "      <td>Ucal</td>\n",
       "      <td>Mid</td>\n",
       "      <td>0.590437</td>\n",
       "    </tr>\n",
       "    <tr>\n",
       "      <th>37</th>\n",
       "      <td>Hjärnan</td>\n",
       "      <td>ADC</td>\n",
       "      <td>0.591214</td>\n",
       "    </tr>\n",
       "    <tr>\n",
       "      <th>23</th>\n",
       "      <td>Ray</td>\n",
       "      <td>Top</td>\n",
       "      <td>0.591439</td>\n",
       "    </tr>\n",
       "  </tbody>\n",
       "</table>\n",
       "</div>"
      ],
      "text/plain": [
       "          Name    Role     Score\n",
       "2       Broxah  Jungle  0.558003\n",
       "66     BigKoro     ADC  0.562482\n",
       "64  Svenskeren  Jungle  0.569275\n",
       "49     Jiizuké     Top  0.569614\n",
       "67       Kikis  Jungle  0.574221\n",
       "76       Zeros     Top  0.578058\n",
       "31        Ning  Jungle  0.578972\n",
       "38    Licorice     Top  0.579054\n",
       "6         Deft     ADC  0.579681\n",
       "46        AnDa  Jungle  0.588991\n",
       "5         Ucal     Mid  0.590437\n",
       "37     Hjärnan     ADC  0.591214\n",
       "23         Ray     Top  0.591439"
      ]
     },
     "execution_count": 61,
     "metadata": {},
     "output_type": "execute_result"
    }
   ],
   "source": [
    "score_ordered = score.sort_values(by = [\"Score\"])\n",
    "top26 = score_ordered[-26:-13]\n",
    "top26"
   ]
  },
  {
   "cell_type": "code",
   "execution_count": 62,
   "metadata": {},
   "outputs": [
    {
     "data": {
      "text/plain": [
       "[('Jungle', 5), ('Top', 4), ('ADC', 3), ('Mid', 1)]"
      ]
     },
     "execution_count": 62,
     "metadata": {},
     "output_type": "execute_result"
    }
   ],
   "source": [
    "roles = list(top26['Role'])\n",
    "roles_n = Counter(roles)\n",
    "roles_n.most_common()"
   ]
  },
  {
   "cell_type": "code",
   "execution_count": 65,
   "metadata": {},
   "outputs": [
    {
     "name": "stdout",
     "output_type": "stream",
     "text": [
      "{'Jungle': 5, 'Top': 4, 'ADC': 3, 'Mid': 1}\n"
     ]
    }
   ],
   "source": [
    "x_pie9 = {}\n",
    "for i in range(len(roles_n)):\n",
    "    x_pie9[roles_n.most_common()[i][0]] = roles_n.most_common()[i][1]\n",
    "\n",
    "print(x_pie9)"
   ]
  },
  {
   "cell_type": "code",
   "execution_count": 66,
   "metadata": {},
   "outputs": [
    {
     "name": "stderr",
     "output_type": "stream",
     "text": [
      "BokehDeprecationWarning: 'legend' keyword is deprecated, use explicit 'legend_label', 'legend_field', or 'legend_group' keywords instead\n"
     ]
    },
    {
     "data": {
      "text/html": [
       "\n",
       "\n",
       "\n",
       "\n",
       "\n",
       "\n",
       "  <div class=\"bk-root\" id=\"91f3dd67-7e96-4f65-9cfa-033496eea788\" data-root-id=\"6188\"></div>\n"
      ]
     },
     "metadata": {},
     "output_type": "display_data"
    },
    {
     "data": {
      "application/javascript": [
       "(function(root) {\n",
       "  function embed_document(root) {\n",
       "    \n",
       "  var docs_json = {\"7bc5b998-da2e-4d2f-a17f-d040d4b51b16\":{\"roots\":{\"references\":[{\"attributes\":{\"below\":[{\"id\":\"6199\",\"type\":\"LinearAxis\"}],\"center\":[{\"id\":\"6203\",\"type\":\"Grid\"},{\"id\":\"6208\",\"type\":\"Grid\"},{\"id\":\"6225\",\"type\":\"Legend\"},{\"id\":\"6229\",\"type\":\"LabelSet\"}],\"left\":[{\"id\":\"6204\",\"type\":\"LinearAxis\"}],\"plot_height\":350,\"renderers\":[{\"id\":\"6218\",\"type\":\"GlyphRenderer\"}],\"title\":{\"id\":\"6189\",\"type\":\"Title\"},\"toolbar\":{\"id\":\"6210\",\"type\":\"Toolbar\"},\"toolbar_location\":null,\"x_range\":{\"id\":\"6191\",\"type\":\"DataRange1d\"},\"x_scale\":{\"id\":\"6195\",\"type\":\"LinearScale\"},\"y_range\":{\"id\":\"6193\",\"type\":\"DataRange1d\"},\"y_scale\":{\"id\":\"6197\",\"type\":\"LinearScale\"}},\"id\":\"6188\",\"subtype\":\"Figure\",\"type\":\"Plot\"},{\"attributes\":{\"field\":\"angle\",\"include_zero\":true},\"id\":\"6212\",\"type\":\"CumSum\"},{\"attributes\":{},\"id\":\"6489\",\"type\":\"Selection\"},{\"attributes\":{\"callback\":null,\"tooltips\":\"@role: @value\"},\"id\":\"6209\",\"type\":\"HoverTool\"},{\"attributes\":{\"dimension\":1,\"grid_line_color\":null,\"ticker\":{\"id\":\"6205\",\"type\":\"BasicTicker\"}},\"id\":\"6208\",\"type\":\"Grid\"},{\"attributes\":{\"items\":[{\"id\":\"6226\",\"type\":\"LegendItem\"}]},\"id\":\"6225\",\"type\":\"Legend\"},{\"attributes\":{\"callback\":null},\"id\":\"6193\",\"type\":\"DataRange1d\"},{\"attributes\":{\"callback\":null},\"id\":\"6191\",\"type\":\"DataRange1d\"},{\"attributes\":{\"field\":\"angle\",\"include_zero\":true},\"id\":\"6228\",\"type\":\"CumSum\"},{\"attributes\":{},\"id\":\"6490\",\"type\":\"UnionRenderers\"},{\"attributes\":{},\"id\":\"6200\",\"type\":\"BasicTicker\"},{\"attributes\":{\"end_angle\":{\"expr\":{\"id\":\"6213\",\"type\":\"CumSum\"},\"units\":\"rad\"},\"fill_color\":{\"field\":\"color\"},\"line_color\":{\"value\":\"white\"},\"radius\":{\"units\":\"data\",\"value\":0.4},\"start_angle\":{\"expr\":{\"id\":\"6212\",\"type\":\"CumSum\"},\"units\":\"rad\"},\"x\":{\"value\":0},\"y\":{\"value\":1}},\"id\":\"6216\",\"type\":\"Wedge\"},{\"attributes\":{\"source\":{\"id\":\"6214\",\"type\":\"ColumnDataSource\"}},\"id\":\"6219\",\"type\":\"CDSView\"},{\"attributes\":{\"end_angle\":{\"expr\":{\"id\":\"6213\",\"type\":\"CumSum\"},\"units\":\"rad\"},\"fill_alpha\":{\"value\":0.1},\"fill_color\":{\"value\":\"#1f77b4\"},\"line_alpha\":{\"value\":0.1},\"line_color\":{\"value\":\"#1f77b4\"},\"radius\":{\"units\":\"data\",\"value\":0.4},\"start_angle\":{\"expr\":{\"id\":\"6212\",\"type\":\"CumSum\"},\"units\":\"rad\"},\"x\":{\"value\":0},\"y\":{\"value\":1}},\"id\":\"6217\",\"type\":\"Wedge\"},{\"attributes\":{},\"id\":\"6491\",\"type\":\"Selection\"},{\"attributes\":{\"active_drag\":\"auto\",\"active_inspect\":\"auto\",\"active_multi\":null,\"active_scroll\":\"auto\",\"active_tap\":\"auto\",\"tools\":[{\"id\":\"6209\",\"type\":\"HoverTool\"}]},\"id\":\"6210\",\"type\":\"Toolbar\"},{\"attributes\":{\"data_source\":{\"id\":\"6214\",\"type\":\"ColumnDataSource\"},\"glyph\":{\"id\":\"6216\",\"type\":\"Wedge\"},\"hover_glyph\":null,\"muted_glyph\":null,\"nonselection_glyph\":{\"id\":\"6217\",\"type\":\"Wedge\"},\"selection_glyph\":null,\"view\":{\"id\":\"6219\",\"type\":\"CDSView\"}},\"id\":\"6218\",\"type\":\"GlyphRenderer\"},{\"attributes\":{\"angle\":{\"expr\":{\"id\":\"6228\",\"type\":\"CumSum\"},\"units\":\"rad\"},\"level\":\"glyph\",\"source\":{\"id\":\"6227\",\"type\":\"ColumnDataSource\"},\"text\":{\"field\":\"value\"},\"x\":{\"value\":0},\"y\":{\"value\":1}},\"id\":\"6229\",\"type\":\"LabelSet\"},{\"attributes\":{\"callback\":null,\"data\":{\"angle\":{\"__ndarray__\":\"iazlezdVA0CoraIsv+7+Pz4CemEPM/c/qK2iLL/u3j8=\",\"dtype\":\"float64\",\"shape\":[4]},\"color\":[\"#440154\",\"#30678D\",\"#35B778\",\"#FDE724\"],\"index\":[0,1,2,3],\"role\":[\"Jungle\",\"Top\",\"ADC\",\"Mid\"],\"value\":[\"                                  5\",\"                                  4\",\"                                  3\",\"                                  1\"]},\"selected\":{\"id\":\"6491\",\"type\":\"Selection\"},\"selection_policy\":{\"id\":\"6492\",\"type\":\"UnionRenderers\"}},\"id\":\"6227\",\"type\":\"ColumnDataSource\"},{\"attributes\":{\"axis_label\":null,\"formatter\":{\"id\":\"6222\",\"type\":\"BasicTickFormatter\"},\"ticker\":{\"id\":\"6205\",\"type\":\"BasicTicker\"},\"visible\":false},\"id\":\"6204\",\"type\":\"LinearAxis\"},{\"attributes\":{\"grid_line_color\":null,\"ticker\":{\"id\":\"6200\",\"type\":\"BasicTicker\"}},\"id\":\"6203\",\"type\":\"Grid\"},{\"attributes\":{},\"id\":\"6222\",\"type\":\"BasicTickFormatter\"},{\"attributes\":{},\"id\":\"6205\",\"type\":\"BasicTicker\"},{\"attributes\":{},\"id\":\"6195\",\"type\":\"LinearScale\"},{\"attributes\":{},\"id\":\"6492\",\"type\":\"UnionRenderers\"},{\"attributes\":{\"text\":\"Evaluaci\\u00f3n de jugadores por rol (mejores 26 - 13)\"},\"id\":\"6189\",\"type\":\"Title\"},{\"attributes\":{\"callback\":null,\"data\":{\"angle\":{\"__ndarray__\":\"iazlezdVA0CoraIsv+7+Pz4CemEPM/c/qK2iLL/u3j8=\",\"dtype\":\"float64\",\"shape\":[4]},\"color\":[\"#440154\",\"#30678D\",\"#35B778\",\"#FDE724\"],\"index\":[0,1,2,3],\"role\":[\"Jungle\",\"Top\",\"ADC\",\"Mid\"],\"value\":[5,4,3,1]},\"selected\":{\"id\":\"6489\",\"type\":\"Selection\"},\"selection_policy\":{\"id\":\"6490\",\"type\":\"UnionRenderers\"}},\"id\":\"6214\",\"type\":\"ColumnDataSource\"},{\"attributes\":{},\"id\":\"6197\",\"type\":\"LinearScale\"},{\"attributes\":{},\"id\":\"6224\",\"type\":\"BasicTickFormatter\"},{\"attributes\":{\"field\":\"angle\"},\"id\":\"6213\",\"type\":\"CumSum\"},{\"attributes\":{\"axis_label\":null,\"formatter\":{\"id\":\"6224\",\"type\":\"BasicTickFormatter\"},\"ticker\":{\"id\":\"6200\",\"type\":\"BasicTicker\"},\"visible\":false},\"id\":\"6199\",\"type\":\"LinearAxis\"},{\"attributes\":{\"label\":{\"field\":\"role\"},\"renderers\":[{\"id\":\"6218\",\"type\":\"GlyphRenderer\"}]},\"id\":\"6226\",\"type\":\"LegendItem\"}],\"root_ids\":[\"6188\"]},\"title\":\"Bokeh Application\",\"version\":\"1.4.0\"}};\n",
       "  var render_items = [{\"docid\":\"7bc5b998-da2e-4d2f-a17f-d040d4b51b16\",\"roots\":{\"6188\":\"91f3dd67-7e96-4f65-9cfa-033496eea788\"}}];\n",
       "  root.Bokeh.embed.embed_items_notebook(docs_json, render_items);\n",
       "\n",
       "  }\n",
       "  if (root.Bokeh !== undefined) {\n",
       "    embed_document(root);\n",
       "  } else {\n",
       "    var attempts = 0;\n",
       "    var timer = setInterval(function(root) {\n",
       "      if (root.Bokeh !== undefined) {\n",
       "        clearInterval(timer);\n",
       "        embed_document(root);\n",
       "      } else {\n",
       "        attempts++;\n",
       "        if (attempts > 100) {\n",
       "          clearInterval(timer);\n",
       "          console.log(\"Bokeh: ERROR: Unable to run BokehJS code because BokehJS library is missing\");\n",
       "        }\n",
       "      }\n",
       "    }, 10, root)\n",
       "  }\n",
       "})(window);"
      ],
      "application/vnd.bokehjs_exec.v0+json": ""
     },
     "metadata": {
      "application/vnd.bokehjs_exec.v0+json": {
       "id": "6188"
      }
     },
     "output_type": "display_data"
    }
   ],
   "source": [
    "data_pie = pd.Series(x_pie9).reset_index(name='value').rename(columns={'index':'role'})\n",
    "data_pie['angle'] = data_pie['value']/data_pie['value'].sum() * 2*pi\n",
    "data_pie['color'] = viridis(len(x_pie9))\n",
    "\n",
    "p_pie9 = figure(plot_height=350, title=\"Evaluación de jugadores por rol (mejores 26 - 13)\", toolbar_location=None,\n",
    "        tools=\"hover\", tooltips=\"@role: @value\")\n",
    "\n",
    "p_pie9.wedge(x=0, y=1, radius=0.4,\n",
    "        start_angle=cumsum('angle', include_zero=True), end_angle=cumsum('angle'),\n",
    "        line_color=\"white\", fill_color='color', legend='role', source=data_pie)\n",
    "\n",
    "data_pie[\"value\"] = data_pie['value'].astype(str)\n",
    "data_pie[\"value\"] = data_pie[\"value\"].str.pad(35, side = \"left\")\n",
    "source = ColumnDataSource(data_pie)\n",
    "\n",
    "labels = LabelSet(x=0, y=1, text='value', level='glyph',\n",
    "        angle=cumsum('angle', include_zero=True), source=source, render_mode='canvas')\n",
    "\n",
    "p_pie9.add_layout(labels)\n",
    "\n",
    "p_pie9.axis.axis_label=None\n",
    "p_pie9.axis.visible=False\n",
    "p_pie9.grid.grid_line_color = None\n",
    "\n",
    "show(p_pie9)"
   ]
  },
  {
   "cell_type": "code",
   "execution_count": 144,
   "metadata": {},
   "outputs": [],
   "source": [
    "jg_score = score_ordered[score_ordered[:]['Role'] == 'Jungle']"
   ]
  },
  {
   "cell_type": "code",
   "execution_count": 149,
   "metadata": {},
   "outputs": [
    {
     "data": {
      "text/html": [
       "<div>\n",
       "<style scoped>\n",
       "    .dataframe tbody tr th:only-of-type {\n",
       "        vertical-align: middle;\n",
       "    }\n",
       "\n",
       "    .dataframe tbody tr th {\n",
       "        vertical-align: top;\n",
       "    }\n",
       "\n",
       "    .dataframe thead th {\n",
       "        text-align: right;\n",
       "    }\n",
       "</style>\n",
       "<table border=\"1\" class=\"dataframe\">\n",
       "  <thead>\n",
       "    <tr style=\"text-align: right;\">\n",
       "      <th></th>\n",
       "      <th>Name</th>\n",
       "      <th>Role</th>\n",
       "      <th>Score</th>\n",
       "    </tr>\n",
       "  </thead>\n",
       "  <tbody>\n",
       "    <tr>\n",
       "      <th>47</th>\n",
       "      <td>Clearlove</td>\n",
       "      <td>Jungle</td>\n",
       "      <td>0.242405</td>\n",
       "    </tr>\n",
       "    <tr>\n",
       "      <th>88</th>\n",
       "      <td>Empt2y</td>\n",
       "      <td>Jungle</td>\n",
       "      <td>0.257890</td>\n",
       "    </tr>\n",
       "    <tr>\n",
       "      <th>82</th>\n",
       "      <td>Benny</td>\n",
       "      <td>Jungle</td>\n",
       "      <td>0.264874</td>\n",
       "    </tr>\n",
       "    <tr>\n",
       "      <th>22</th>\n",
       "      <td>Ambition</td>\n",
       "      <td>Jungle</td>\n",
       "      <td>0.268861</td>\n",
       "    </tr>\n",
       "  </tbody>\n",
       "</table>\n",
       "</div>"
      ],
      "text/plain": [
       "         Name    Role     Score\n",
       "47  Clearlove  Jungle  0.242405\n",
       "88     Empt2y  Jungle  0.257890\n",
       "82      Benny  Jungle  0.264874\n",
       "22   Ambition  Jungle  0.268861"
      ]
     },
     "execution_count": 149,
     "metadata": {},
     "output_type": "execute_result"
    }
   ],
   "source": [
    "jg_score[:4]"
   ]
  },
  {
   "cell_type": "code",
   "execution_count": 148,
   "metadata": {},
   "outputs": [
    {
     "data": {
      "text/html": [
       "<div>\n",
       "<style scoped>\n",
       "    .dataframe tbody tr th:only-of-type {\n",
       "        vertical-align: middle;\n",
       "    }\n",
       "\n",
       "    .dataframe tbody tr th {\n",
       "        vertical-align: top;\n",
       "    }\n",
       "\n",
       "    .dataframe thead th {\n",
       "        text-align: right;\n",
       "    }\n",
       "</style>\n",
       "<table border=\"1\" class=\"dataframe\">\n",
       "  <thead>\n",
       "    <tr style=\"text-align: right;\">\n",
       "      <th></th>\n",
       "      <th>Name</th>\n",
       "      <th>Role</th>\n",
       "      <th>Score</th>\n",
       "    </tr>\n",
       "  </thead>\n",
       "  <tbody>\n",
       "    <tr>\n",
       "      <th>64</th>\n",
       "      <td>Svenskeren</td>\n",
       "      <td>Jungle</td>\n",
       "      <td>0.569275</td>\n",
       "    </tr>\n",
       "    <tr>\n",
       "      <th>67</th>\n",
       "      <td>Kikis</td>\n",
       "      <td>Jungle</td>\n",
       "      <td>0.574221</td>\n",
       "    </tr>\n",
       "    <tr>\n",
       "      <th>31</th>\n",
       "      <td>Ning</td>\n",
       "      <td>Jungle</td>\n",
       "      <td>0.578972</td>\n",
       "    </tr>\n",
       "    <tr>\n",
       "      <th>46</th>\n",
       "      <td>AnDa</td>\n",
       "      <td>Jungle</td>\n",
       "      <td>0.588991</td>\n",
       "    </tr>\n",
       "  </tbody>\n",
       "</table>\n",
       "</div>"
      ],
      "text/plain": [
       "          Name    Role     Score\n",
       "64  Svenskeren  Jungle  0.569275\n",
       "67       Kikis  Jungle  0.574221\n",
       "31        Ning  Jungle  0.578972\n",
       "46        AnDa  Jungle  0.588991"
      ]
     },
     "execution_count": 148,
     "metadata": {},
     "output_type": "execute_result"
    }
   ],
   "source": [
    "jg_score[-4:]"
   ]
  },
  {
   "cell_type": "markdown",
   "metadata": {},
   "source": [
    "### Prediciendo el rol de un jugador segun sus estadisticas"
   ]
  },
  {
   "cell_type": "markdown",
   "metadata": {},
   "source": [
    "### Los arboles de decision estan hechos para trabajar con valores categoricos, asi que haremos uso de un modelo de estos para intentar predecir el rol que cubre un jugador segun sus estadisticas"
   ]
  },
  {
   "cell_type": "code",
   "execution_count": 67,
   "metadata": {},
   "outputs": [
    {
     "name": "stdout",
     "output_type": "stream",
     "text": [
      "<class 'pandas.core.frame.DataFrame'>\n",
      "RangeIndex: 89 entries, 0 to 88\n",
      "Data columns (total 12 columns):\n",
      "Name                  89 non-null object\n",
      "Team                  89 non-null object\n",
      "Position              89 non-null object\n",
      "KDA Ratio             89 non-null float64\n",
      "Kills Total           89 non-null int64\n",
      "Deaths                89 non-null int64\n",
      "Assists               89 non-null int64\n",
      "Kill Participation    89 non-null float64\n",
      "CS Per Minute         89 non-null float64\n",
      "CS Total              89 non-null int64\n",
      "Minutes Played        89 non-null int64\n",
      "Games Played          89 non-null int64\n",
      "dtypes: float64(3), int64(6), object(3)\n",
      "memory usage: 8.5+ KB\n"
     ]
    }
   ],
   "source": [
    "data.info()"
   ]
  },
  {
   "cell_type": "code",
   "execution_count": 68,
   "metadata": {},
   "outputs": [],
   "source": [
    "import pandas as pd\n",
    "from sklearn.tree import DecisionTreeClassifier\n",
    "from sklearn.model_selection import train_test_split\n",
    "from sklearn import metrics\n",
    "from sklearn import tree\n",
    "#import graphviz\n",
    "from sklearn.metrics import *"
   ]
  },
  {
   "cell_type": "code",
   "execution_count": 69,
   "metadata": {},
   "outputs": [],
   "source": [
    "X = data[[\"Kills Total\", \"Assists\", \"Deaths\", \"CS Per Minute\", \"Kill Participation\"]]"
   ]
  },
  {
   "cell_type": "code",
   "execution_count": 70,
   "metadata": {},
   "outputs": [
    {
     "data": {
      "text/html": [
       "<div>\n",
       "<style scoped>\n",
       "    .dataframe tbody tr th:only-of-type {\n",
       "        vertical-align: middle;\n",
       "    }\n",
       "\n",
       "    .dataframe tbody tr th {\n",
       "        vertical-align: top;\n",
       "    }\n",
       "\n",
       "    .dataframe thead th {\n",
       "        text-align: right;\n",
       "    }\n",
       "</style>\n",
       "<table border=\"1\" class=\"dataframe\">\n",
       "  <thead>\n",
       "    <tr style=\"text-align: right;\">\n",
       "      <th></th>\n",
       "      <th>Kills Total</th>\n",
       "      <th>Assists</th>\n",
       "      <th>Deaths</th>\n",
       "      <th>CS Per Minute</th>\n",
       "      <th>Kill Participation</th>\n",
       "    </tr>\n",
       "  </thead>\n",
       "  <tbody>\n",
       "    <tr>\n",
       "      <th>0</th>\n",
       "      <td>28</td>\n",
       "      <td>54</td>\n",
       "      <td>6</td>\n",
       "      <td>10.8</td>\n",
       "      <td>0.73</td>\n",
       "    </tr>\n",
       "    <tr>\n",
       "      <th>1</th>\n",
       "      <td>4</td>\n",
       "      <td>57</td>\n",
       "      <td>5</td>\n",
       "      <td>1.5</td>\n",
       "      <td>0.78</td>\n",
       "    </tr>\n",
       "    <tr>\n",
       "      <th>2</th>\n",
       "      <td>30</td>\n",
       "      <td>48</td>\n",
       "      <td>7</td>\n",
       "      <td>5.4</td>\n",
       "      <td>0.70</td>\n",
       "    </tr>\n",
       "    <tr>\n",
       "      <th>3</th>\n",
       "      <td>2</td>\n",
       "      <td>7</td>\n",
       "      <td>0</td>\n",
       "      <td>5.3</td>\n",
       "      <td>0.75</td>\n",
       "    </tr>\n",
       "    <tr>\n",
       "      <th>4</th>\n",
       "      <td>33</td>\n",
       "      <td>37</td>\n",
       "      <td>8</td>\n",
       "      <td>10.8</td>\n",
       "      <td>0.66</td>\n",
       "    </tr>\n",
       "  </tbody>\n",
       "</table>\n",
       "</div>"
      ],
      "text/plain": [
       "   Kills Total  Assists  Deaths  CS Per Minute  Kill Participation\n",
       "0           28       54       6           10.8                0.73\n",
       "1            4       57       5            1.5                0.78\n",
       "2           30       48       7            5.4                0.70\n",
       "3            2        7       0            5.3                0.75\n",
       "4           33       37       8           10.8                0.66"
      ]
     },
     "execution_count": 70,
     "metadata": {},
     "output_type": "execute_result"
    }
   ],
   "source": [
    "X.head()"
   ]
  },
  {
   "cell_type": "code",
   "execution_count": 71,
   "metadata": {},
   "outputs": [
    {
     "data": {
      "text/plain": [
       "array(['ADC', 'Support', 'Jungle', 'Mid', 'Top'], dtype=object)"
      ]
     },
     "execution_count": 71,
     "metadata": {},
     "output_type": "execute_result"
    }
   ],
   "source": [
    "y = data[[\"Position\"]]\n",
    "data['Position'].unique()"
   ]
  },
  {
   "cell_type": "code",
   "execution_count": 72,
   "metadata": {},
   "outputs": [],
   "source": [
    "Xtrain, Xtest, Ytrain, Ytest = train_test_split(X, y, test_size = 0.3, random_state = 43)"
   ]
  },
  {
   "cell_type": "code",
   "execution_count": 73,
   "metadata": {},
   "outputs": [],
   "source": [
    "classifier = DecisionTreeClassifier()"
   ]
  },
  {
   "cell_type": "code",
   "execution_count": 74,
   "metadata": {},
   "outputs": [
    {
     "data": {
      "text/plain": [
       "DecisionTreeClassifier(class_weight=None, criterion='gini', max_depth=None,\n",
       "                       max_features=None, max_leaf_nodes=None,\n",
       "                       min_impurity_decrease=0.0, min_impurity_split=None,\n",
       "                       min_samples_leaf=1, min_samples_split=2,\n",
       "                       min_weight_fraction_leaf=0.0, presort=False,\n",
       "                       random_state=None, splitter='best')"
      ]
     },
     "execution_count": 74,
     "metadata": {},
     "output_type": "execute_result"
    }
   ],
   "source": [
    "classifier.fit(Xtrain, Ytrain)"
   ]
  },
  {
   "cell_type": "code",
   "execution_count": 75,
   "metadata": {},
   "outputs": [],
   "source": [
    "Ypred = classifier.predict(Xtest)"
   ]
  },
  {
   "cell_type": "code",
   "execution_count": 76,
   "metadata": {},
   "outputs": [
    {
     "name": "stdout",
     "output_type": "stream",
     "text": [
      "----------\n",
      "    Kills Total  Assists  Deaths  CS Per Minute  Kill Participation\n",
      "81            1       17      17            1.1                0.56\n",
      "Prediccion:  Support\n",
      "Real: Support\n",
      "----------\n",
      "    Kills Total  Assists  Deaths  CS Per Minute  Kill Participation\n",
      "61            4       20       9            5.3                0.73\n",
      "Prediccion:  Jungle\n",
      "Real: Jungle\n",
      "----------\n",
      "    Kills Total  Assists  Deaths  CS Per Minute  Kill Participation\n",
      "39           33       36      17            9.7                0.69\n",
      "Prediccion:  Mid\n",
      "Real: ADC\n",
      "----------\n",
      "    Kills Total  Assists  Deaths  CS Per Minute  Kill Participation\n",
      "81            1       17      17            1.1                0.56\n",
      "Prediccion:  Support\n",
      "Real: Support\n",
      "----------\n",
      "    Kills Total  Assists  Deaths  CS Per Minute  Kill Participation\n",
      "13           18       20       6           11.2                0.76\n",
      "Prediccion:  ADC\n",
      "Real: ADC\n"
     ]
    }
   ],
   "source": [
    "import random\n",
    "for i in range(5):\n",
    "    i = random.randint(0, 27)\n",
    "    print(\"----------\")\n",
    "    print(Xtest[i:i+1])\n",
    "    print(\"Prediccion: \", Ypred[i])\n",
    "    print(\"Real:\", Ytest.iloc[i]['Position'])"
   ]
  },
  {
   "cell_type": "code",
   "execution_count": 77,
   "metadata": {},
   "outputs": [
    {
     "data": {
      "text/plain": [
       "0.8148148148148148"
      ]
     },
     "execution_count": 77,
     "metadata": {},
     "output_type": "execute_result"
    }
   ],
   "source": [
    "metrics.accuracy_score(Ytest, Ypred)"
   ]
  },
  {
   "cell_type": "markdown",
   "metadata": {},
   "source": [
    "### Que rol(es) son los mas dificiles de predecir para el modelo?"
   ]
  },
  {
   "cell_type": "code",
   "execution_count": 78,
   "metadata": {},
   "outputs": [
    {
     "name": "stdout",
     "output_type": "stream",
     "text": [
      "1 0 2 2 0\n"
     ]
    }
   ],
   "source": [
    "top = 0\n",
    "jg = 0\n",
    "mid = 0\n",
    "adc = 0\n",
    "sup = 0\n",
    "for i in range(27):\n",
    "    if Ypred[i] != Ytest.iloc[i]['Position']:\n",
    "        if Ypred[i] == \"Top\":\n",
    "            top += 1\n",
    "        elif Ypred[i] == \"Jungle\":\n",
    "            jg += 1\n",
    "        elif Ypred[i] == \"Mid\":\n",
    "            mid += 1\n",
    "        elif Ypred[i] == \"ADC\":\n",
    "            adc += 1\n",
    "        elif Ypred[i] == \"Support\":\n",
    "            sup += 1\n",
    "            \n",
    "print(top, jg, mid, adc, sup)"
   ]
  },
  {
   "cell_type": "code",
   "execution_count": 79,
   "metadata": {},
   "outputs": [],
   "source": [
    "role_err = [\"Top\", \"Jungle\", \"Mid\", \"ADC\", \"Support\"]"
   ]
  },
  {
   "cell_type": "code",
   "execution_count": 80,
   "metadata": {},
   "outputs": [
    {
     "data": {
      "text/html": [
       "\n",
       "\n",
       "\n",
       "\n",
       "\n",
       "\n",
       "  <div class=\"bk-root\" id=\"077059ee-15c2-4ccc-9662-7352a1d6e4ef\" data-root-id=\"6547\"></div>\n"
      ]
     },
     "metadata": {},
     "output_type": "display_data"
    },
    {
     "data": {
      "application/javascript": [
       "(function(root) {\n",
       "  function embed_document(root) {\n",
       "    \n",
       "  var docs_json = {\"efab620f-b3c0-4b90-9dec-63265d3ac363\":{\"roots\":{\"references\":[{\"attributes\":{\"below\":[{\"id\":\"6558\",\"type\":\"CategoricalAxis\"}],\"center\":[{\"id\":\"6561\",\"type\":\"Grid\"},{\"id\":\"6566\",\"type\":\"Grid\"}],\"left\":[{\"id\":\"6562\",\"type\":\"LinearAxis\"}],\"plot_height\":250,\"plot_width\":400,\"renderers\":[{\"id\":\"6583\",\"type\":\"GlyphRenderer\"}],\"title\":{\"id\":\"6548\",\"type\":\"Title\"},\"toolbar\":{\"id\":\"6573\",\"type\":\"Toolbar\"},\"x_range\":{\"id\":\"6550\",\"type\":\"FactorRange\"},\"x_scale\":{\"id\":\"6554\",\"type\":\"CategoricalScale\"},\"y_range\":{\"id\":\"6552\",\"type\":\"DataRange1d\"},\"y_scale\":{\"id\":\"6556\",\"type\":\"LinearScale\"}},\"id\":\"6547\",\"subtype\":\"Figure\",\"type\":\"Plot\"},{\"attributes\":{},\"id\":\"6849\",\"type\":\"BasicTickFormatter\"},{\"attributes\":{\"source\":{\"id\":\"6580\",\"type\":\"ColumnDataSource\"}},\"id\":\"6584\",\"type\":\"CDSView\"},{\"attributes\":{},\"id\":\"6556\",\"type\":\"LinearScale\"},{\"attributes\":{\"text\":\"Error en predicci\\u00f3n por rol\"},\"id\":\"6548\",\"type\":\"Title\"},{\"attributes\":{\"formatter\":{\"id\":\"6851\",\"type\":\"CategoricalTickFormatter\"},\"ticker\":{\"id\":\"6559\",\"type\":\"CategoricalTicker\"}},\"id\":\"6558\",\"type\":\"CategoricalAxis\"},{\"attributes\":{},\"id\":\"6572\",\"type\":\"HelpTool\"},{\"attributes\":{\"bottom_units\":\"screen\",\"fill_alpha\":{\"value\":0.5},\"fill_color\":{\"value\":\"lightgrey\"},\"left_units\":\"screen\",\"level\":\"overlay\",\"line_alpha\":{\"value\":1.0},\"line_color\":{\"value\":\"black\"},\"line_dash\":[4,4],\"line_width\":{\"value\":2},\"render_mode\":\"css\",\"right_units\":\"screen\",\"top_units\":\"screen\"},\"id\":\"6854\",\"type\":\"BoxAnnotation\"},{\"attributes\":{\"callback\":null,\"factors\":[\"Top\",\"Jungle\",\"Mid\",\"ADC\",\"Support\"]},\"id\":\"6550\",\"type\":\"FactorRange\"},{\"attributes\":{},\"id\":\"6559\",\"type\":\"CategoricalTicker\"},{\"attributes\":{\"callback\":null,\"data\":{\"fill_color\":[\"#010038\",\"#010038\",\"#293a80\",\"#537ec5\",\"#f39422\"],\"line_color\":[\"#010038\",\"#010038\",\"#293a80\",\"#537ec5\",\"#f39422\"],\"top\":[1,0,2,2,0],\"x\":[\"Top\",\"Jungle\",\"Mid\",\"ADC\",\"Support\"]},\"selected\":{\"id\":\"6852\",\"type\":\"Selection\"},\"selection_policy\":{\"id\":\"6853\",\"type\":\"UnionRenderers\"}},\"id\":\"6580\",\"type\":\"ColumnDataSource\"},{\"attributes\":{\"ticker\":{\"id\":\"6559\",\"type\":\"CategoricalTicker\"},\"visible\":false},\"id\":\"6561\",\"type\":\"Grid\"},{\"attributes\":{},\"id\":\"6853\",\"type\":\"UnionRenderers\"},{\"attributes\":{\"formatter\":{\"id\":\"6849\",\"type\":\"BasicTickFormatter\"},\"ticker\":{\"id\":\"6563\",\"type\":\"BasicTicker\"}},\"id\":\"6562\",\"type\":\"LinearAxis\"},{\"attributes\":{\"callback\":null},\"id\":\"6552\",\"type\":\"DataRange1d\"},{\"attributes\":{},\"id\":\"6563\",\"type\":\"BasicTicker\"},{\"attributes\":{},\"id\":\"6851\",\"type\":\"CategoricalTickFormatter\"},{\"attributes\":{\"data_source\":{\"id\":\"6580\",\"type\":\"ColumnDataSource\"},\"glyph\":{\"id\":\"6581\",\"type\":\"VBar\"},\"hover_glyph\":null,\"muted_glyph\":null,\"nonselection_glyph\":{\"id\":\"6582\",\"type\":\"VBar\"},\"selection_glyph\":null,\"view\":{\"id\":\"6584\",\"type\":\"CDSView\"}},\"id\":\"6583\",\"type\":\"GlyphRenderer\"},{\"attributes\":{\"dimension\":1,\"ticker\":{\"id\":\"6563\",\"type\":\"BasicTicker\"},\"visible\":false},\"id\":\"6566\",\"type\":\"Grid\"},{\"attributes\":{\"fill_color\":{\"field\":\"fill_color\"},\"line_color\":{\"field\":\"line_color\"},\"top\":{\"field\":\"top\"},\"width\":{\"value\":0.9},\"x\":{\"field\":\"x\"}},\"id\":\"6581\",\"type\":\"VBar\"},{\"attributes\":{},\"id\":\"6554\",\"type\":\"CategoricalScale\"},{\"attributes\":{},\"id\":\"6567\",\"type\":\"PanTool\"},{\"attributes\":{},\"id\":\"6852\",\"type\":\"Selection\"},{\"attributes\":{},\"id\":\"6568\",\"type\":\"WheelZoomTool\"},{\"attributes\":{\"overlay\":{\"id\":\"6854\",\"type\":\"BoxAnnotation\"}},\"id\":\"6569\",\"type\":\"BoxZoomTool\"},{\"attributes\":{},\"id\":\"6570\",\"type\":\"SaveTool\"},{\"attributes\":{},\"id\":\"6571\",\"type\":\"ResetTool\"},{\"attributes\":{\"fill_alpha\":{\"value\":0.1},\"fill_color\":{\"value\":\"#1f77b4\"},\"line_alpha\":{\"value\":0.1},\"line_color\":{\"value\":\"#1f77b4\"},\"top\":{\"field\":\"top\"},\"width\":{\"value\":0.9},\"x\":{\"field\":\"x\"}},\"id\":\"6582\",\"type\":\"VBar\"},{\"attributes\":{\"active_drag\":\"auto\",\"active_inspect\":\"auto\",\"active_multi\":null,\"active_scroll\":\"auto\",\"active_tap\":\"auto\",\"tools\":[{\"id\":\"6567\",\"type\":\"PanTool\"},{\"id\":\"6568\",\"type\":\"WheelZoomTool\"},{\"id\":\"6569\",\"type\":\"BoxZoomTool\"},{\"id\":\"6570\",\"type\":\"SaveTool\"},{\"id\":\"6571\",\"type\":\"ResetTool\"},{\"id\":\"6572\",\"type\":\"HelpTool\"}]},\"id\":\"6573\",\"type\":\"Toolbar\"}],\"root_ids\":[\"6547\"]},\"title\":\"Bokeh Application\",\"version\":\"1.4.0\"}};\n",
       "  var render_items = [{\"docid\":\"efab620f-b3c0-4b90-9dec-63265d3ac363\",\"roots\":{\"6547\":\"077059ee-15c2-4ccc-9662-7352a1d6e4ef\"}}];\n",
       "  root.Bokeh.embed.embed_items_notebook(docs_json, render_items);\n",
       "\n",
       "  }\n",
       "  if (root.Bokeh !== undefined) {\n",
       "    embed_document(root);\n",
       "  } else {\n",
       "    var attempts = 0;\n",
       "    var timer = setInterval(function(root) {\n",
       "      if (root.Bokeh !== undefined) {\n",
       "        clearInterval(timer);\n",
       "        embed_document(root);\n",
       "      } else {\n",
       "        attempts++;\n",
       "        if (attempts > 100) {\n",
       "          clearInterval(timer);\n",
       "          console.log(\"Bokeh: ERROR: Unable to run BokehJS code because BokehJS library is missing\");\n",
       "        }\n",
       "      }\n",
       "    }, 10, root)\n",
       "  }\n",
       "})(window);"
      ],
      "application/vnd.bokehjs_exec.v0+json": ""
     },
     "metadata": {
      "application/vnd.bokehjs_exec.v0+json": {
       "id": "6547"
      }
     },
     "output_type": "display_data"
    }
   ],
   "source": [
    "p10 = figure(x_range = role_err, plot_height=250, plot_width = 400, title=\"Error en predicción por rol\")\n",
    "p10.vbar(x = role_err, top = [top, jg, mid, adc, sup], width = 0.9, color = [\"#010038\", \"#010038\", \"#293a80\", '#537ec5', '#f39422'])\n",
    "p10.xgrid.visible = False\n",
    "p10.ygrid.visible = False\n",
    "show(p10)"
   ]
  },
  {
   "cell_type": "code",
   "execution_count": 84,
   "metadata": {},
   "outputs": [],
   "source": [
    "def graficar_arbol(clf, atributos, etiquetas):\n",
    "    dot_data = tree.export_graphviz(clf, out_file=None,filled = True , feature_names = atributos, class_names = etiquetas) \n",
    "    graph = graphviz.Source(dot_data) \n",
    "    return graph"
   ]
  },
  {
   "cell_type": "code",
   "execution_count": 85,
   "metadata": {},
   "outputs": [
    {
     "data": {
      "image/svg+xml": [
       "<?xml version=\"1.0\" encoding=\"UTF-8\" standalone=\"no\"?>\n",
       "<!DOCTYPE svg PUBLIC \"-//W3C//DTD SVG 1.1//EN\"\n",
       " \"http://www.w3.org/Graphics/SVG/1.1/DTD/svg11.dtd\">\n",
       "<!-- Generated by graphviz version 2.40.1 (20161225.0304)\n",
       " -->\n",
       "<!-- Title: Tree Pages: 1 -->\n",
       "<svg width=\"1279pt\" height=\"1266pt\"\n",
       " viewBox=\"0.00 0.00 1278.50 1266.00\" xmlns=\"http://www.w3.org/2000/svg\" xmlns:xlink=\"http://www.w3.org/1999/xlink\">\n",
       "<g id=\"graph0\" class=\"graph\" transform=\"scale(1 1) rotate(0) translate(4 1262)\">\n",
       "<title>Tree</title>\n",
       "<polygon fill=\"#ffffff\" stroke=\"transparent\" points=\"-4,4 -4,-1262 1274.5,-1262 1274.5,4 -4,4\"/>\n",
       "<!-- 0 -->\n",
       "<g id=\"node1\" class=\"node\">\n",
       "<title>0</title>\n",
       "<polygon fill=\"#fefbfe\" stroke=\"#000000\" points=\"482.5,-1258 279.5,-1258 279.5,-1175 482.5,-1175 482.5,-1258\"/>\n",
       "<text text-anchor=\"middle\" x=\"381\" y=\"-1242.8\" font-family=\"Times,serif\" font-size=\"14.00\" fill=\"#000000\">ADC &lt;= 6.85</text>\n",
       "<text text-anchor=\"middle\" x=\"381\" y=\"-1227.8\" font-family=\"Times,serif\" font-size=\"14.00\" fill=\"#000000\">gini = 0.79</text>\n",
       "<text text-anchor=\"middle\" x=\"381\" y=\"-1212.8\" font-family=\"Times,serif\" font-size=\"14.00\" fill=\"#000000\">samples = 62</text>\n",
       "<text text-anchor=\"middle\" x=\"381\" y=\"-1197.8\" font-family=\"Times,serif\" font-size=\"14.00\" fill=\"#000000\">value = [9, 15, 12, 10, 16]</text>\n",
       "<text text-anchor=\"middle\" x=\"381\" y=\"-1182.8\" font-family=\"Times,serif\" font-size=\"14.00\" fill=\"#000000\">class = Support</text>\n",
       "</g>\n",
       "<!-- 1 -->\n",
       "<g id=\"node2\" class=\"node\">\n",
       "<title>1</title>\n",
       "<polygon fill=\"#d6f7c1\" stroke=\"#000000\" points=\"372.5,-1139 187.5,-1139 187.5,-1056 372.5,-1056 372.5,-1139\"/>\n",
       "<text text-anchor=\"middle\" x=\"280\" y=\"-1123.8\" font-family=\"Times,serif\" font-size=\"14.00\" fill=\"#000000\">ADC &lt;= 3.05</text>\n",
       "<text text-anchor=\"middle\" x=\"280\" y=\"-1108.8\" font-family=\"Times,serif\" font-size=\"14.00\" fill=\"#000000\">gini = 0.518</text>\n",
       "<text text-anchor=\"middle\" x=\"280\" y=\"-1093.8\" font-family=\"Times,serif\" font-size=\"14.00\" fill=\"#000000\">samples = 26</text>\n",
       "<text text-anchor=\"middle\" x=\"280\" y=\"-1078.8\" font-family=\"Times,serif\" font-size=\"14.00\" fill=\"#000000\">value = [1, 15, 0, 10, 0]</text>\n",
       "<text text-anchor=\"middle\" x=\"280\" y=\"-1063.8\" font-family=\"Times,serif\" font-size=\"14.00\" fill=\"#000000\">class = Jungle</text>\n",
       "</g>\n",
       "<!-- 0&#45;&gt;1 -->\n",
       "<g id=\"edge1\" class=\"edge\">\n",
       "<title>0&#45;&gt;1</title>\n",
       "<path fill=\"none\" stroke=\"#000000\" d=\"M345.6751,-1174.8796C338.0311,-1165.8733 329.8757,-1156.2644 322.0039,-1146.9897\"/>\n",
       "<polygon fill=\"#000000\" stroke=\"#000000\" points=\"324.6151,-1144.6574 315.4757,-1139.2981 319.2782,-1149.1871 324.6151,-1144.6574\"/>\n",
       "<text text-anchor=\"middle\" x=\"313.437\" y=\"-1160.5148\" font-family=\"Times,serif\" font-size=\"14.00\" fill=\"#000000\">True</text>\n",
       "</g>\n",
       "<!-- 6 -->\n",
       "<g id=\"node7\" class=\"node\">\n",
       "<title>6</title>\n",
       "<polygon fill=\"#fbdef4\" stroke=\"#000000\" points=\"575.5,-1139 390.5,-1139 390.5,-1056 575.5,-1056 575.5,-1139\"/>\n",
       "<text text-anchor=\"middle\" x=\"483\" y=\"-1123.8\" font-family=\"Times,serif\" font-size=\"14.00\" fill=\"#000000\">ADC &lt;= 10.25</text>\n",
       "<text text-anchor=\"middle\" x=\"483\" y=\"-1108.8\" font-family=\"Times,serif\" font-size=\"14.00\" fill=\"#000000\">gini = 0.642</text>\n",
       "<text text-anchor=\"middle\" x=\"483\" y=\"-1093.8\" font-family=\"Times,serif\" font-size=\"14.00\" fill=\"#000000\">samples = 36</text>\n",
       "<text text-anchor=\"middle\" x=\"483\" y=\"-1078.8\" font-family=\"Times,serif\" font-size=\"14.00\" fill=\"#000000\">value = [8, 0, 12, 0, 16]</text>\n",
       "<text text-anchor=\"middle\" x=\"483\" y=\"-1063.8\" font-family=\"Times,serif\" font-size=\"14.00\" fill=\"#000000\">class = Support</text>\n",
       "</g>\n",
       "<!-- 0&#45;&gt;6 -->\n",
       "<g id=\"edge6\" class=\"edge\">\n",
       "<title>0&#45;&gt;6</title>\n",
       "<path fill=\"none\" stroke=\"#000000\" d=\"M416.6747,-1174.8796C424.3943,-1165.8733 432.6305,-1156.2644 440.5803,-1146.9897\"/>\n",
       "<polygon fill=\"#000000\" stroke=\"#000000\" points=\"443.3225,-1149.1684 447.1731,-1139.2981 438.0077,-1144.6129 443.3225,-1149.1684\"/>\n",
       "<text text-anchor=\"middle\" x=\"449.0905\" y=\"-1160.5244\" font-family=\"Times,serif\" font-size=\"14.00\" fill=\"#000000\">False</text>\n",
       "</g>\n",
       "<!-- 2 -->\n",
       "<g id=\"node3\" class=\"node\">\n",
       "<title>2</title>\n",
       "<polygon fill=\"#3c39e5\" stroke=\"#000000\" points=\"176,-1012.5 0,-1012.5 0,-944.5 176,-944.5 176,-1012.5\"/>\n",
       "<text text-anchor=\"middle\" x=\"88\" y=\"-997.3\" font-family=\"Times,serif\" font-size=\"14.00\" fill=\"#000000\">gini = 0.0</text>\n",
       "<text text-anchor=\"middle\" x=\"88\" y=\"-982.3\" font-family=\"Times,serif\" font-size=\"14.00\" fill=\"#000000\">samples = 10</text>\n",
       "<text text-anchor=\"middle\" x=\"88\" y=\"-967.3\" font-family=\"Times,serif\" font-size=\"14.00\" fill=\"#000000\">value = [0, 0, 0, 10, 0]</text>\n",
       "<text text-anchor=\"middle\" x=\"88\" y=\"-952.3\" font-family=\"Times,serif\" font-size=\"14.00\" fill=\"#000000\">class = ADC</text>\n",
       "</g>\n",
       "<!-- 1&#45;&gt;2 -->\n",
       "<g id=\"edge2\" class=\"edge\">\n",
       "<title>1&#45;&gt;2</title>\n",
       "<path fill=\"none\" stroke=\"#000000\" d=\"M212.8477,-1055.8796C192.9717,-1043.5606 171.2768,-1030.1143 151.6305,-1017.9376\"/>\n",
       "<polygon fill=\"#000000\" stroke=\"#000000\" points=\"153.3993,-1014.9163 143.0557,-1012.623 149.7116,-1020.8661 153.3993,-1014.9163\"/>\n",
       "</g>\n",
       "<!-- 3 -->\n",
       "<g id=\"node4\" class=\"node\">\n",
       "<title>3</title>\n",
       "<polygon fill=\"#84e746\" stroke=\"#000000\" points=\"370,-1020 194,-1020 194,-937 370,-937 370,-1020\"/>\n",
       "<text text-anchor=\"middle\" x=\"282\" y=\"-1004.8\" font-family=\"Times,serif\" font-size=\"14.00\" fill=\"#000000\">Mid &lt;= 28.5</text>\n",
       "<text text-anchor=\"middle\" x=\"282\" y=\"-989.8\" font-family=\"Times,serif\" font-size=\"14.00\" fill=\"#000000\">gini = 0.117</text>\n",
       "<text text-anchor=\"middle\" x=\"282\" y=\"-974.8\" font-family=\"Times,serif\" font-size=\"14.00\" fill=\"#000000\">samples = 16</text>\n",
       "<text text-anchor=\"middle\" x=\"282\" y=\"-959.8\" font-family=\"Times,serif\" font-size=\"14.00\" fill=\"#000000\">value = [1, 15, 0, 0, 0]</text>\n",
       "<text text-anchor=\"middle\" x=\"282\" y=\"-944.8\" font-family=\"Times,serif\" font-size=\"14.00\" fill=\"#000000\">class = Jungle</text>\n",
       "</g>\n",
       "<!-- 1&#45;&gt;3 -->\n",
       "<g id=\"edge3\" class=\"edge\">\n",
       "<title>1&#45;&gt;3</title>\n",
       "<path fill=\"none\" stroke=\"#000000\" d=\"M280.6995,-1055.8796C280.8372,-1047.6838 280.9834,-1038.9891 281.126,-1030.5013\"/>\n",
       "<polygon fill=\"#000000\" stroke=\"#000000\" points=\"284.6289,-1030.3555 281.2975,-1020.2981 277.6299,-1030.2378 284.6289,-1030.3555\"/>\n",
       "</g>\n",
       "<!-- 4 -->\n",
       "<g id=\"node5\" class=\"node\">\n",
       "<title>4</title>\n",
       "<polygon fill=\"#7be539\" stroke=\"#000000\" points=\"183,-893.5 7,-893.5 7,-825.5 183,-825.5 183,-893.5\"/>\n",
       "<text text-anchor=\"middle\" x=\"95\" y=\"-878.3\" font-family=\"Times,serif\" font-size=\"14.00\" fill=\"#000000\">gini = 0.0</text>\n",
       "<text text-anchor=\"middle\" x=\"95\" y=\"-863.3\" font-family=\"Times,serif\" font-size=\"14.00\" fill=\"#000000\">samples = 15</text>\n",
       "<text text-anchor=\"middle\" x=\"95\" y=\"-848.3\" font-family=\"Times,serif\" font-size=\"14.00\" fill=\"#000000\">value = [0, 15, 0, 0, 0]</text>\n",
       "<text text-anchor=\"middle\" x=\"95\" y=\"-833.3\" font-family=\"Times,serif\" font-size=\"14.00\" fill=\"#000000\">class = Jungle</text>\n",
       "</g>\n",
       "<!-- 3&#45;&gt;4 -->\n",
       "<g id=\"edge4\" class=\"edge\">\n",
       "<title>3&#45;&gt;4</title>\n",
       "<path fill=\"none\" stroke=\"#000000\" d=\"M216.5965,-936.8796C197.3248,-924.6158 176.2976,-911.2348 157.231,-899.1015\"/>\n",
       "<polygon fill=\"#000000\" stroke=\"#000000\" points=\"158.9376,-896.039 148.6219,-893.623 155.1795,-901.9447 158.9376,-896.039\"/>\n",
       "</g>\n",
       "<!-- 5 -->\n",
       "<g id=\"node6\" class=\"node\">\n",
       "<title>5</title>\n",
       "<polygon fill=\"#e58139\" stroke=\"#000000\" points=\"367.5,-893.5 200.5,-893.5 200.5,-825.5 367.5,-825.5 367.5,-893.5\"/>\n",
       "<text text-anchor=\"middle\" x=\"284\" y=\"-878.3\" font-family=\"Times,serif\" font-size=\"14.00\" fill=\"#000000\">gini = 0.0</text>\n",
       "<text text-anchor=\"middle\" x=\"284\" y=\"-863.3\" font-family=\"Times,serif\" font-size=\"14.00\" fill=\"#000000\">samples = 1</text>\n",
       "<text text-anchor=\"middle\" x=\"284\" y=\"-848.3\" font-family=\"Times,serif\" font-size=\"14.00\" fill=\"#000000\">value = [1, 0, 0, 0, 0]</text>\n",
       "<text text-anchor=\"middle\" x=\"284\" y=\"-833.3\" font-family=\"Times,serif\" font-size=\"14.00\" fill=\"#000000\">class = Top</text>\n",
       "</g>\n",
       "<!-- 3&#45;&gt;5 -->\n",
       "<g id=\"edge5\" class=\"edge\">\n",
       "<title>3&#45;&gt;5</title>\n",
       "<path fill=\"none\" stroke=\"#000000\" d=\"M282.6995,-936.8796C282.8788,-926.2134 283.0722,-914.7021 283.2538,-903.9015\"/>\n",
       "<polygon fill=\"#000000\" stroke=\"#000000\" points=\"286.7546,-903.8724 283.4233,-893.8149 279.7556,-903.7547 286.7546,-903.8724\"/>\n",
       "</g>\n",
       "<!-- 7 -->\n",
       "<g id=\"node8\" class=\"node\">\n",
       "<title>7</title>\n",
       "<polygon fill=\"#fad5f2\" stroke=\"#000000\" points=\"574.5,-1020 389.5,-1020 389.5,-937 574.5,-937 574.5,-1020\"/>\n",
       "<text text-anchor=\"middle\" x=\"482\" y=\"-1004.8\" font-family=\"Times,serif\" font-size=\"14.00\" fill=\"#000000\">ADC &lt;= 8.55</text>\n",
       "<text text-anchor=\"middle\" x=\"482\" y=\"-989.8\" font-family=\"Times,serif\" font-size=\"14.00\" fill=\"#000000\">gini = 0.574</text>\n",
       "<text text-anchor=\"middle\" x=\"482\" y=\"-974.8\" font-family=\"Times,serif\" font-size=\"14.00\" fill=\"#000000\">samples = 31</text>\n",
       "<text text-anchor=\"middle\" x=\"482\" y=\"-959.8\" font-family=\"Times,serif\" font-size=\"14.00\" fill=\"#000000\">value = [3, 0, 12, 0, 16]</text>\n",
       "<text text-anchor=\"middle\" x=\"482\" y=\"-944.8\" font-family=\"Times,serif\" font-size=\"14.00\" fill=\"#000000\">class = Support</text>\n",
       "</g>\n",
       "<!-- 6&#45;&gt;7 -->\n",
       "<g id=\"edge7\" class=\"edge\">\n",
       "<title>6&#45;&gt;7</title>\n",
       "<path fill=\"none\" stroke=\"#000000\" d=\"M482.6502,-1055.8796C482.5814,-1047.6838 482.5083,-1038.9891 482.437,-1030.5013\"/>\n",
       "<polygon fill=\"#000000\" stroke=\"#000000\" points=\"485.9352,-1030.2683 482.3512,-1020.2981 478.9355,-1030.3272 485.9352,-1030.2683\"/>\n",
       "</g>\n",
       "<!-- 34 -->\n",
       "<g id=\"node35\" class=\"node\">\n",
       "<title>34</title>\n",
       "<polygon fill=\"#e58139\" stroke=\"#000000\" points=\"759.5,-1012.5 592.5,-1012.5 592.5,-944.5 759.5,-944.5 759.5,-1012.5\"/>\n",
       "<text text-anchor=\"middle\" x=\"676\" y=\"-997.3\" font-family=\"Times,serif\" font-size=\"14.00\" fill=\"#000000\">gini = 0.0</text>\n",
       "<text text-anchor=\"middle\" x=\"676\" y=\"-982.3\" font-family=\"Times,serif\" font-size=\"14.00\" fill=\"#000000\">samples = 5</text>\n",
       "<text text-anchor=\"middle\" x=\"676\" y=\"-967.3\" font-family=\"Times,serif\" font-size=\"14.00\" fill=\"#000000\">value = [5, 0, 0, 0, 0]</text>\n",
       "<text text-anchor=\"middle\" x=\"676\" y=\"-952.3\" font-family=\"Times,serif\" font-size=\"14.00\" fill=\"#000000\">class = Top</text>\n",
       "</g>\n",
       "<!-- 6&#45;&gt;34 -->\n",
       "<g id=\"edge34\" class=\"edge\">\n",
       "<title>6&#45;&gt;34</title>\n",
       "<path fill=\"none\" stroke=\"#000000\" d=\"M550.502,-1055.8796C570.4816,-1043.5606 592.2895,-1030.1143 612.0381,-1017.9376\"/>\n",
       "<polygon fill=\"#000000\" stroke=\"#000000\" points=\"613.9825,-1020.8507 620.6576,-1012.623 610.3086,-1014.8922 613.9825,-1020.8507\"/>\n",
       "</g>\n",
       "<!-- 8 -->\n",
       "<g id=\"node9\" class=\"node\">\n",
       "<title>8</title>\n",
       "<polygon fill=\"#ea5dcb\" stroke=\"#000000\" points=\"568,-901 392,-901 392,-818 568,-818 568,-901\"/>\n",
       "<text text-anchor=\"middle\" x=\"480\" y=\"-885.8\" font-family=\"Times,serif\" font-size=\"14.00\" fill=\"#000000\">Mid &lt;= 19.5</text>\n",
       "<text text-anchor=\"middle\" x=\"480\" y=\"-870.8\" font-family=\"Times,serif\" font-size=\"14.00\" fill=\"#000000\">gini = 0.26</text>\n",
       "<text text-anchor=\"middle\" x=\"480\" y=\"-855.8\" font-family=\"Times,serif\" font-size=\"14.00\" fill=\"#000000\">samples = 13</text>\n",
       "<text text-anchor=\"middle\" x=\"480\" y=\"-840.8\" font-family=\"Times,serif\" font-size=\"14.00\" fill=\"#000000\">value = [0, 0, 2, 0, 11]</text>\n",
       "<text text-anchor=\"middle\" x=\"480\" y=\"-825.8\" font-family=\"Times,serif\" font-size=\"14.00\" fill=\"#000000\">class = Support</text>\n",
       "</g>\n",
       "<!-- 7&#45;&gt;8 -->\n",
       "<g id=\"edge8\" class=\"edge\">\n",
       "<title>7&#45;&gt;8</title>\n",
       "<path fill=\"none\" stroke=\"#000000\" d=\"M481.3005,-936.8796C481.1628,-928.6838 481.0166,-919.9891 480.874,-911.5013\"/>\n",
       "<polygon fill=\"#000000\" stroke=\"#000000\" points=\"484.3701,-911.2378 480.7025,-901.2981 477.3711,-911.3555 484.3701,-911.2378\"/>\n",
       "</g>\n",
       "<!-- 15 -->\n",
       "<g id=\"node16\" class=\"node\">\n",
       "<title>15</title>\n",
       "<polygon fill=\"#b3f5e9\" stroke=\"#000000\" points=\"762,-901 586,-901 586,-818 762,-818 762,-901\"/>\n",
       "<text text-anchor=\"middle\" x=\"674\" y=\"-885.8\" font-family=\"Times,serif\" font-size=\"14.00\" fill=\"#000000\">Support &lt;= 0.59</text>\n",
       "<text text-anchor=\"middle\" x=\"674\" y=\"-870.8\" font-family=\"Times,serif\" font-size=\"14.00\" fill=\"#000000\">gini = 0.586</text>\n",
       "<text text-anchor=\"middle\" x=\"674\" y=\"-855.8\" font-family=\"Times,serif\" font-size=\"14.00\" fill=\"#000000\">samples = 18</text>\n",
       "<text text-anchor=\"middle\" x=\"674\" y=\"-840.8\" font-family=\"Times,serif\" font-size=\"14.00\" fill=\"#000000\">value = [3, 0, 10, 0, 5]</text>\n",
       "<text text-anchor=\"middle\" x=\"674\" y=\"-825.8\" font-family=\"Times,serif\" font-size=\"14.00\" fill=\"#000000\">class = Mid</text>\n",
       "</g>\n",
       "<!-- 7&#45;&gt;15 -->\n",
       "<g id=\"edge15\" class=\"edge\">\n",
       "<title>7&#45;&gt;15</title>\n",
       "<path fill=\"none\" stroke=\"#000000\" d=\"M549.1523,-936.8796C564.9372,-927.0962 581.8693,-916.6019 598.0114,-906.5971\"/>\n",
       "<polygon fill=\"#000000\" stroke=\"#000000\" points=\"600.2297,-909.34 606.8856,-901.0969 596.5419,-903.3901 600.2297,-909.34\"/>\n",
       "</g>\n",
       "<!-- 9 -->\n",
       "<g id=\"node10\" class=\"node\">\n",
       "<title>9</title>\n",
       "<polygon fill=\"#e74bc6\" stroke=\"#000000\" points=\"382,-782 206,-782 206,-699 382,-699 382,-782\"/>\n",
       "<text text-anchor=\"middle\" x=\"294\" y=\"-766.8\" font-family=\"Times,serif\" font-size=\"14.00\" fill=\"#000000\">Top &lt;= 13.0</text>\n",
       "<text text-anchor=\"middle\" x=\"294\" y=\"-751.8\" font-family=\"Times,serif\" font-size=\"14.00\" fill=\"#000000\">gini = 0.153</text>\n",
       "<text text-anchor=\"middle\" x=\"294\" y=\"-736.8\" font-family=\"Times,serif\" font-size=\"14.00\" fill=\"#000000\">samples = 12</text>\n",
       "<text text-anchor=\"middle\" x=\"294\" y=\"-721.8\" font-family=\"Times,serif\" font-size=\"14.00\" fill=\"#000000\">value = [0, 0, 1, 0, 11]</text>\n",
       "<text text-anchor=\"middle\" x=\"294\" y=\"-706.8\" font-family=\"Times,serif\" font-size=\"14.00\" fill=\"#000000\">class = Support</text>\n",
       "</g>\n",
       "<!-- 8&#45;&gt;9 -->\n",
       "<g id=\"edge9\" class=\"edge\">\n",
       "<title>8&#45;&gt;9</title>\n",
       "<path fill=\"none\" stroke=\"#000000\" d=\"M414.9462,-817.8796C399.6546,-808.0962 383.2516,-797.6019 367.614,-787.5971\"/>\n",
       "<polygon fill=\"#000000\" stroke=\"#000000\" points=\"369.3268,-784.538 359.017,-782.0969 365.5543,-790.4345 369.3268,-784.538\"/>\n",
       "</g>\n",
       "<!-- 14 -->\n",
       "<g id=\"node15\" class=\"node\">\n",
       "<title>14</title>\n",
       "<polygon fill=\"#39e5c5\" stroke=\"#000000\" points=\"566.5,-774.5 399.5,-774.5 399.5,-706.5 566.5,-706.5 566.5,-774.5\"/>\n",
       "<text text-anchor=\"middle\" x=\"483\" y=\"-759.3\" font-family=\"Times,serif\" font-size=\"14.00\" fill=\"#000000\">gini = 0.0</text>\n",
       "<text text-anchor=\"middle\" x=\"483\" y=\"-744.3\" font-family=\"Times,serif\" font-size=\"14.00\" fill=\"#000000\">samples = 1</text>\n",
       "<text text-anchor=\"middle\" x=\"483\" y=\"-729.3\" font-family=\"Times,serif\" font-size=\"14.00\" fill=\"#000000\">value = [0, 0, 1, 0, 0]</text>\n",
       "<text text-anchor=\"middle\" x=\"483\" y=\"-714.3\" font-family=\"Times,serif\" font-size=\"14.00\" fill=\"#000000\">class = Mid</text>\n",
       "</g>\n",
       "<!-- 8&#45;&gt;14 -->\n",
       "<g id=\"edge14\" class=\"edge\">\n",
       "<title>8&#45;&gt;14</title>\n",
       "<path fill=\"none\" stroke=\"#000000\" d=\"M481.0493,-817.8796C481.3182,-807.2134 481.6084,-795.7021 481.8806,-784.9015\"/>\n",
       "<polygon fill=\"#000000\" stroke=\"#000000\" points=\"485.3817,-784.9 482.1349,-774.8149 478.3839,-784.7235 485.3817,-784.9\"/>\n",
       "</g>\n",
       "<!-- 10 -->\n",
       "<g id=\"node11\" class=\"node\">\n",
       "<title>10</title>\n",
       "<polygon fill=\"#e539c0\" stroke=\"#000000\" points=\"239.5,-655.5 72.5,-655.5 72.5,-587.5 239.5,-587.5 239.5,-655.5\"/>\n",
       "<text text-anchor=\"middle\" x=\"156\" y=\"-640.3\" font-family=\"Times,serif\" font-size=\"14.00\" fill=\"#000000\">gini = 0.0</text>\n",
       "<text text-anchor=\"middle\" x=\"156\" y=\"-625.3\" font-family=\"Times,serif\" font-size=\"14.00\" fill=\"#000000\">samples = 9</text>\n",
       "<text text-anchor=\"middle\" x=\"156\" y=\"-610.3\" font-family=\"Times,serif\" font-size=\"14.00\" fill=\"#000000\">value = [0, 0, 0, 0, 9]</text>\n",
       "<text text-anchor=\"middle\" x=\"156\" y=\"-595.3\" font-family=\"Times,serif\" font-size=\"14.00\" fill=\"#000000\">class = Support</text>\n",
       "</g>\n",
       "<!-- 9&#45;&gt;10 -->\n",
       "<g id=\"edge10\" class=\"edge\">\n",
       "<title>9&#45;&gt;10</title>\n",
       "<path fill=\"none\" stroke=\"#000000\" d=\"M245.7343,-698.8796C232.0899,-687.1138 217.2531,-674.3197 203.6454,-662.5855\"/>\n",
       "<polygon fill=\"#000000\" stroke=\"#000000\" points=\"205.6527,-659.6948 195.7938,-655.8149 201.0813,-664.9961 205.6527,-659.6948\"/>\n",
       "</g>\n",
       "<!-- 11 -->\n",
       "<g id=\"node12\" class=\"node\">\n",
       "<title>11</title>\n",
       "<polygon fill=\"#f29ce0\" stroke=\"#000000\" points=\"424.5,-663 257.5,-663 257.5,-580 424.5,-580 424.5,-663\"/>\n",
       "<text text-anchor=\"middle\" x=\"341\" y=\"-647.8\" font-family=\"Times,serif\" font-size=\"14.00\" fill=\"#000000\">Top &lt;= 16.5</text>\n",
       "<text text-anchor=\"middle\" x=\"341\" y=\"-632.8\" font-family=\"Times,serif\" font-size=\"14.00\" fill=\"#000000\">gini = 0.444</text>\n",
       "<text text-anchor=\"middle\" x=\"341\" y=\"-617.8\" font-family=\"Times,serif\" font-size=\"14.00\" fill=\"#000000\">samples = 3</text>\n",
       "<text text-anchor=\"middle\" x=\"341\" y=\"-602.8\" font-family=\"Times,serif\" font-size=\"14.00\" fill=\"#000000\">value = [0, 0, 1, 0, 2]</text>\n",
       "<text text-anchor=\"middle\" x=\"341\" y=\"-587.8\" font-family=\"Times,serif\" font-size=\"14.00\" fill=\"#000000\">class = Support</text>\n",
       "</g>\n",
       "<!-- 9&#45;&gt;11 -->\n",
       "<g id=\"edge11\" class=\"edge\">\n",
       "<title>9&#45;&gt;11</title>\n",
       "<path fill=\"none\" stroke=\"#000000\" d=\"M310.4383,-698.8796C313.782,-690.4136 317.336,-681.4153 320.7929,-672.6626\"/>\n",
       "<polygon fill=\"#000000\" stroke=\"#000000\" points=\"324.0733,-673.8847 324.4915,-663.2981 317.5627,-671.3132 324.0733,-673.8847\"/>\n",
       "</g>\n",
       "<!-- 12 -->\n",
       "<g id=\"node13\" class=\"node\">\n",
       "<title>12</title>\n",
       "<polygon fill=\"#39e5c5\" stroke=\"#000000\" points=\"334.5,-536.5 167.5,-536.5 167.5,-468.5 334.5,-468.5 334.5,-536.5\"/>\n",
       "<text text-anchor=\"middle\" x=\"251\" y=\"-521.3\" font-family=\"Times,serif\" font-size=\"14.00\" fill=\"#000000\">gini = 0.0</text>\n",
       "<text text-anchor=\"middle\" x=\"251\" y=\"-506.3\" font-family=\"Times,serif\" font-size=\"14.00\" fill=\"#000000\">samples = 1</text>\n",
       "<text text-anchor=\"middle\" x=\"251\" y=\"-491.3\" font-family=\"Times,serif\" font-size=\"14.00\" fill=\"#000000\">value = [0, 0, 1, 0, 0]</text>\n",
       "<text text-anchor=\"middle\" x=\"251\" y=\"-476.3\" font-family=\"Times,serif\" font-size=\"14.00\" fill=\"#000000\">class = Mid</text>\n",
       "</g>\n",
       "<!-- 11&#45;&gt;12 -->\n",
       "<g id=\"edge12\" class=\"edge\">\n",
       "<title>11&#45;&gt;12</title>\n",
       "<path fill=\"none\" stroke=\"#000000\" d=\"M309.5224,-579.8796C300.9565,-568.5536 291.67,-556.2748 283.0717,-544.9058\"/>\n",
       "<polygon fill=\"#000000\" stroke=\"#000000\" points=\"285.7762,-542.6795 276.9525,-536.8149 280.1931,-546.902 285.7762,-542.6795\"/>\n",
       "</g>\n",
       "<!-- 13 -->\n",
       "<g id=\"node14\" class=\"node\">\n",
       "<title>13</title>\n",
       "<polygon fill=\"#e539c0\" stroke=\"#000000\" points=\"519.5,-536.5 352.5,-536.5 352.5,-468.5 519.5,-468.5 519.5,-536.5\"/>\n",
       "<text text-anchor=\"middle\" x=\"436\" y=\"-521.3\" font-family=\"Times,serif\" font-size=\"14.00\" fill=\"#000000\">gini = 0.0</text>\n",
       "<text text-anchor=\"middle\" x=\"436\" y=\"-506.3\" font-family=\"Times,serif\" font-size=\"14.00\" fill=\"#000000\">samples = 2</text>\n",
       "<text text-anchor=\"middle\" x=\"436\" y=\"-491.3\" font-family=\"Times,serif\" font-size=\"14.00\" fill=\"#000000\">value = [0, 0, 0, 0, 2]</text>\n",
       "<text text-anchor=\"middle\" x=\"436\" y=\"-476.3\" font-family=\"Times,serif\" font-size=\"14.00\" fill=\"#000000\">class = Support</text>\n",
       "</g>\n",
       "<!-- 11&#45;&gt;13 -->\n",
       "<g id=\"edge13\" class=\"edge\">\n",
       "<title>11&#45;&gt;13</title>\n",
       "<path fill=\"none\" stroke=\"#000000\" d=\"M374.2264,-579.8796C383.2681,-568.5536 393.0705,-556.2748 402.1466,-544.9058\"/>\n",
       "<polygon fill=\"#000000\" stroke=\"#000000\" points=\"405.102,-546.8137 408.6057,-536.8149 399.6315,-542.4464 405.102,-546.8137\"/>\n",
       "</g>\n",
       "<!-- 16 -->\n",
       "<g id=\"node17\" class=\"node\">\n",
       "<title>16</title>\n",
       "<polygon fill=\"#e539c0\" stroke=\"#000000\" points=\"755.5,-774.5 588.5,-774.5 588.5,-706.5 755.5,-706.5 755.5,-774.5\"/>\n",
       "<text text-anchor=\"middle\" x=\"672\" y=\"-759.3\" font-family=\"Times,serif\" font-size=\"14.00\" fill=\"#000000\">gini = 0.0</text>\n",
       "<text text-anchor=\"middle\" x=\"672\" y=\"-744.3\" font-family=\"Times,serif\" font-size=\"14.00\" fill=\"#000000\">samples = 3</text>\n",
       "<text text-anchor=\"middle\" x=\"672\" y=\"-729.3\" font-family=\"Times,serif\" font-size=\"14.00\" fill=\"#000000\">value = [0, 0, 0, 0, 3]</text>\n",
       "<text text-anchor=\"middle\" x=\"672\" y=\"-714.3\" font-family=\"Times,serif\" font-size=\"14.00\" fill=\"#000000\">class = Support</text>\n",
       "</g>\n",
       "<!-- 15&#45;&gt;16 -->\n",
       "<g id=\"edge16\" class=\"edge\">\n",
       "<title>15&#45;&gt;16</title>\n",
       "<path fill=\"none\" stroke=\"#000000\" d=\"M673.3005,-817.8796C673.1212,-807.2134 672.9278,-795.7021 672.7462,-784.9015\"/>\n",
       "<polygon fill=\"#000000\" stroke=\"#000000\" points=\"676.2444,-784.7547 672.5767,-774.8149 669.2454,-784.8724 676.2444,-784.7547\"/>\n",
       "</g>\n",
       "<!-- 17 -->\n",
       "<g id=\"node18\" class=\"node\">\n",
       "<title>17</title>\n",
       "<polygon fill=\"#8cf0dd\" stroke=\"#000000\" points=\"949,-782 773,-782 773,-699 949,-699 949,-782\"/>\n",
       "<text text-anchor=\"middle\" x=\"861\" y=\"-766.8\" font-family=\"Times,serif\" font-size=\"14.00\" fill=\"#000000\">Mid &lt;= 20.5</text>\n",
       "<text text-anchor=\"middle\" x=\"861\" y=\"-751.8\" font-family=\"Times,serif\" font-size=\"14.00\" fill=\"#000000\">gini = 0.498</text>\n",
       "<text text-anchor=\"middle\" x=\"861\" y=\"-736.8\" font-family=\"Times,serif\" font-size=\"14.00\" fill=\"#000000\">samples = 15</text>\n",
       "<text text-anchor=\"middle\" x=\"861\" y=\"-721.8\" font-family=\"Times,serif\" font-size=\"14.00\" fill=\"#000000\">value = [3, 0, 10, 0, 2]</text>\n",
       "<text text-anchor=\"middle\" x=\"861\" y=\"-706.8\" font-family=\"Times,serif\" font-size=\"14.00\" fill=\"#000000\">class = Mid</text>\n",
       "</g>\n",
       "<!-- 15&#45;&gt;17 -->\n",
       "<g id=\"edge17\" class=\"edge\">\n",
       "<title>15&#45;&gt;17</title>\n",
       "<path fill=\"none\" stroke=\"#000000\" d=\"M739.4035,-817.8796C754.7774,-808.0962 771.2685,-797.6019 786.9902,-787.5971\"/>\n",
       "<polygon fill=\"#000000\" stroke=\"#000000\" points=\"789.0759,-790.4185 795.6334,-782.0969 785.3177,-784.5129 789.0759,-790.4185\"/>\n",
       "</g>\n",
       "<!-- 18 -->\n",
       "<g id=\"node19\" class=\"node\">\n",
       "<title>18</title>\n",
       "<polygon fill=\"#6fecd5\" stroke=\"#000000\" points=\"902,-663 726,-663 726,-580 902,-580 902,-663\"/>\n",
       "<text text-anchor=\"middle\" x=\"814\" y=\"-647.8\" font-family=\"Times,serif\" font-size=\"14.00\" fill=\"#000000\">ADC &lt;= 9.7</text>\n",
       "<text text-anchor=\"middle\" x=\"814\" y=\"-632.8\" font-family=\"Times,serif\" font-size=\"14.00\" fill=\"#000000\">gini = 0.379</text>\n",
       "<text text-anchor=\"middle\" x=\"814\" y=\"-617.8\" font-family=\"Times,serif\" font-size=\"14.00\" fill=\"#000000\">samples = 13</text>\n",
       "<text text-anchor=\"middle\" x=\"814\" y=\"-602.8\" font-family=\"Times,serif\" font-size=\"14.00\" fill=\"#000000\">value = [2, 0, 10, 0, 1]</text>\n",
       "<text text-anchor=\"middle\" x=\"814\" y=\"-587.8\" font-family=\"Times,serif\" font-size=\"14.00\" fill=\"#000000\">class = Mid</text>\n",
       "</g>\n",
       "<!-- 17&#45;&gt;18 -->\n",
       "<g id=\"edge18\" class=\"edge\">\n",
       "<title>17&#45;&gt;18</title>\n",
       "<path fill=\"none\" stroke=\"#000000\" d=\"M844.5617,-698.8796C841.218,-690.4136 837.664,-681.4153 834.2071,-672.6626\"/>\n",
       "<polygon fill=\"#000000\" stroke=\"#000000\" points=\"837.4373,-671.3132 830.5085,-663.2981 830.9267,-673.8847 837.4373,-671.3132\"/>\n",
       "</g>\n",
       "<!-- 31 -->\n",
       "<g id=\"node32\" class=\"node\">\n",
       "<title>31</title>\n",
       "<polygon fill=\"#ffffff\" stroke=\"#000000\" points=\"1086.5,-663 919.5,-663 919.5,-580 1086.5,-580 1086.5,-663\"/>\n",
       "<text text-anchor=\"middle\" x=\"1003\" y=\"-647.8\" font-family=\"Times,serif\" font-size=\"14.00\" fill=\"#000000\">Mid &lt;= 23.5</text>\n",
       "<text text-anchor=\"middle\" x=\"1003\" y=\"-632.8\" font-family=\"Times,serif\" font-size=\"14.00\" fill=\"#000000\">gini = 0.5</text>\n",
       "<text text-anchor=\"middle\" x=\"1003\" y=\"-617.8\" font-family=\"Times,serif\" font-size=\"14.00\" fill=\"#000000\">samples = 2</text>\n",
       "<text text-anchor=\"middle\" x=\"1003\" y=\"-602.8\" font-family=\"Times,serif\" font-size=\"14.00\" fill=\"#000000\">value = [1, 0, 0, 0, 1]</text>\n",
       "<text text-anchor=\"middle\" x=\"1003\" y=\"-587.8\" font-family=\"Times,serif\" font-size=\"14.00\" fill=\"#000000\">class = Top</text>\n",
       "</g>\n",
       "<!-- 17&#45;&gt;31 -->\n",
       "<g id=\"edge31\" class=\"edge\">\n",
       "<title>17&#45;&gt;31</title>\n",
       "<path fill=\"none\" stroke=\"#000000\" d=\"M910.6647,-698.8796C921.8416,-689.513 933.7962,-679.4948 945.2712,-669.8784\"/>\n",
       "<polygon fill=\"#000000\" stroke=\"#000000\" points=\"947.7069,-672.4037 953.1233,-663.2981 943.2107,-667.0386 947.7069,-672.4037\"/>\n",
       "</g>\n",
       "<!-- 19 -->\n",
       "<g id=\"node20\" class=\"node\">\n",
       "<title>19</title>\n",
       "<polygon fill=\"#5dead0\" stroke=\"#000000\" points=\"715,-544 539,-544 539,-461 715,-461 715,-544\"/>\n",
       "<text text-anchor=\"middle\" x=\"627\" y=\"-528.8\" font-family=\"Times,serif\" font-size=\"14.00\" fill=\"#000000\">Support &lt;= 0.62</text>\n",
       "<text text-anchor=\"middle\" x=\"627\" y=\"-513.8\" font-family=\"Times,serif\" font-size=\"14.00\" fill=\"#000000\">gini = 0.292</text>\n",
       "<text text-anchor=\"middle\" x=\"627\" y=\"-498.8\" font-family=\"Times,serif\" font-size=\"14.00\" fill=\"#000000\">samples = 12</text>\n",
       "<text text-anchor=\"middle\" x=\"627\" y=\"-483.8\" font-family=\"Times,serif\" font-size=\"14.00\" fill=\"#000000\">value = [1, 0, 10, 0, 1]</text>\n",
       "<text text-anchor=\"middle\" x=\"627\" y=\"-468.8\" font-family=\"Times,serif\" font-size=\"14.00\" fill=\"#000000\">class = Mid</text>\n",
       "</g>\n",
       "<!-- 18&#45;&gt;19 -->\n",
       "<g id=\"edge19\" class=\"edge\">\n",
       "<title>18&#45;&gt;19</title>\n",
       "<path fill=\"none\" stroke=\"#000000\" d=\"M748.5965,-579.8796C733.2226,-570.0962 716.7315,-559.6019 701.0098,-549.5971\"/>\n",
       "<polygon fill=\"#000000\" stroke=\"#000000\" points=\"702.6823,-546.5129 692.3666,-544.0969 698.9241,-552.4185 702.6823,-546.5129\"/>\n",
       "</g>\n",
       "<!-- 30 -->\n",
       "<g id=\"node31\" class=\"node\">\n",
       "<title>30</title>\n",
       "<polygon fill=\"#e58139\" stroke=\"#000000\" points=\"899.5,-536.5 732.5,-536.5 732.5,-468.5 899.5,-468.5 899.5,-536.5\"/>\n",
       "<text text-anchor=\"middle\" x=\"816\" y=\"-521.3\" font-family=\"Times,serif\" font-size=\"14.00\" fill=\"#000000\">gini = 0.0</text>\n",
       "<text text-anchor=\"middle\" x=\"816\" y=\"-506.3\" font-family=\"Times,serif\" font-size=\"14.00\" fill=\"#000000\">samples = 1</text>\n",
       "<text text-anchor=\"middle\" x=\"816\" y=\"-491.3\" font-family=\"Times,serif\" font-size=\"14.00\" fill=\"#000000\">value = [1, 0, 0, 0, 0]</text>\n",
       "<text text-anchor=\"middle\" x=\"816\" y=\"-476.3\" font-family=\"Times,serif\" font-size=\"14.00\" fill=\"#000000\">class = Top</text>\n",
       "</g>\n",
       "<!-- 18&#45;&gt;30 -->\n",
       "<g id=\"edge30\" class=\"edge\">\n",
       "<title>18&#45;&gt;30</title>\n",
       "<path fill=\"none\" stroke=\"#000000\" d=\"M814.6995,-579.8796C814.8788,-569.2134 815.0722,-557.7021 815.2538,-546.9015\"/>\n",
       "<polygon fill=\"#000000\" stroke=\"#000000\" points=\"818.7546,-546.8724 815.4233,-536.8149 811.7556,-546.7547 818.7546,-546.8724\"/>\n",
       "</g>\n",
       "<!-- 20 -->\n",
       "<g id=\"node21\" class=\"node\">\n",
       "<title>20</title>\n",
       "<polygon fill=\"#9cf2e2\" stroke=\"#000000\" points=\"618.5,-425 451.5,-425 451.5,-342 618.5,-342 618.5,-425\"/>\n",
       "<text text-anchor=\"middle\" x=\"535\" y=\"-409.8\" font-family=\"Times,serif\" font-size=\"14.00\" fill=\"#000000\">ADC &lt;= 8.95</text>\n",
       "<text text-anchor=\"middle\" x=\"535\" y=\"-394.8\" font-family=\"Times,serif\" font-size=\"14.00\" fill=\"#000000\">gini = 0.444</text>\n",
       "<text text-anchor=\"middle\" x=\"535\" y=\"-379.8\" font-family=\"Times,serif\" font-size=\"14.00\" fill=\"#000000\">samples = 3</text>\n",
       "<text text-anchor=\"middle\" x=\"535\" y=\"-364.8\" font-family=\"Times,serif\" font-size=\"14.00\" fill=\"#000000\">value = [1, 0, 2, 0, 0]</text>\n",
       "<text text-anchor=\"middle\" x=\"535\" y=\"-349.8\" font-family=\"Times,serif\" font-size=\"14.00\" fill=\"#000000\">class = Mid</text>\n",
       "</g>\n",
       "<!-- 19&#45;&gt;20 -->\n",
       "<g id=\"edge20\" class=\"edge\">\n",
       "<title>19&#45;&gt;20</title>\n",
       "<path fill=\"none\" stroke=\"#000000\" d=\"M594.8229,-460.8796C587.9296,-451.9633 580.5798,-442.4565 573.4761,-433.268\"/>\n",
       "<polygon fill=\"#000000\" stroke=\"#000000\" points=\"576.1999,-431.0687 567.3145,-425.2981 570.6619,-435.3502 576.1999,-431.0687\"/>\n",
       "</g>\n",
       "<!-- 23 -->\n",
       "<g id=\"node24\" class=\"node\">\n",
       "<title>23</title>\n",
       "<polygon fill=\"#52e8cc\" stroke=\"#000000\" points=\"803.5,-425 636.5,-425 636.5,-342 803.5,-342 803.5,-425\"/>\n",
       "<text text-anchor=\"middle\" x=\"720\" y=\"-409.8\" font-family=\"Times,serif\" font-size=\"14.00\" fill=\"#000000\">Support &lt;= 0.685</text>\n",
       "<text text-anchor=\"middle\" x=\"720\" y=\"-394.8\" font-family=\"Times,serif\" font-size=\"14.00\" fill=\"#000000\">gini = 0.198</text>\n",
       "<text text-anchor=\"middle\" x=\"720\" y=\"-379.8\" font-family=\"Times,serif\" font-size=\"14.00\" fill=\"#000000\">samples = 9</text>\n",
       "<text text-anchor=\"middle\" x=\"720\" y=\"-364.8\" font-family=\"Times,serif\" font-size=\"14.00\" fill=\"#000000\">value = [0, 0, 8, 0, 1]</text>\n",
       "<text text-anchor=\"middle\" x=\"720\" y=\"-349.8\" font-family=\"Times,serif\" font-size=\"14.00\" fill=\"#000000\">class = Mid</text>\n",
       "</g>\n",
       "<!-- 19&#45;&gt;23 -->\n",
       "<g id=\"edge23\" class=\"edge\">\n",
       "<title>19&#45;&gt;23</title>\n",
       "<path fill=\"none\" stroke=\"#000000\" d=\"M659.5269,-460.8796C666.4951,-451.9633 673.9247,-442.4565 681.1056,-433.268\"/>\n",
       "<polygon fill=\"#000000\" stroke=\"#000000\" points=\"683.9343,-435.3326 687.3343,-425.2981 678.4188,-431.0221 683.9343,-435.3326\"/>\n",
       "</g>\n",
       "<!-- 21 -->\n",
       "<g id=\"node22\" class=\"node\">\n",
       "<title>21</title>\n",
       "<polygon fill=\"#39e5c5\" stroke=\"#000000\" points=\"433.5,-298.5 266.5,-298.5 266.5,-230.5 433.5,-230.5 433.5,-298.5\"/>\n",
       "<text text-anchor=\"middle\" x=\"350\" y=\"-283.3\" font-family=\"Times,serif\" font-size=\"14.00\" fill=\"#000000\">gini = 0.0</text>\n",
       "<text text-anchor=\"middle\" x=\"350\" y=\"-268.3\" font-family=\"Times,serif\" font-size=\"14.00\" fill=\"#000000\">samples = 2</text>\n",
       "<text text-anchor=\"middle\" x=\"350\" y=\"-253.3\" font-family=\"Times,serif\" font-size=\"14.00\" fill=\"#000000\">value = [0, 0, 2, 0, 0]</text>\n",
       "<text text-anchor=\"middle\" x=\"350\" y=\"-238.3\" font-family=\"Times,serif\" font-size=\"14.00\" fill=\"#000000\">class = Mid</text>\n",
       "</g>\n",
       "<!-- 20&#45;&gt;21 -->\n",
       "<g id=\"edge21\" class=\"edge\">\n",
       "<title>20&#45;&gt;21</title>\n",
       "<path fill=\"none\" stroke=\"#000000\" d=\"M470.296,-341.8796C451.2304,-329.6158 430.4281,-316.2348 411.5654,-304.1015\"/>\n",
       "<polygon fill=\"#000000\" stroke=\"#000000\" points=\"413.3522,-301.0893 403.0484,-298.623 409.5653,-306.9766 413.3522,-301.0893\"/>\n",
       "</g>\n",
       "<!-- 22 -->\n",
       "<g id=\"node23\" class=\"node\">\n",
       "<title>22</title>\n",
       "<polygon fill=\"#e58139\" stroke=\"#000000\" points=\"618.5,-298.5 451.5,-298.5 451.5,-230.5 618.5,-230.5 618.5,-298.5\"/>\n",
       "<text text-anchor=\"middle\" x=\"535\" y=\"-283.3\" font-family=\"Times,serif\" font-size=\"14.00\" fill=\"#000000\">gini = 0.0</text>\n",
       "<text text-anchor=\"middle\" x=\"535\" y=\"-268.3\" font-family=\"Times,serif\" font-size=\"14.00\" fill=\"#000000\">samples = 1</text>\n",
       "<text text-anchor=\"middle\" x=\"535\" y=\"-253.3\" font-family=\"Times,serif\" font-size=\"14.00\" fill=\"#000000\">value = [1, 0, 0, 0, 0]</text>\n",
       "<text text-anchor=\"middle\" x=\"535\" y=\"-238.3\" font-family=\"Times,serif\" font-size=\"14.00\" fill=\"#000000\">class = Top</text>\n",
       "</g>\n",
       "<!-- 20&#45;&gt;22 -->\n",
       "<g id=\"edge22\" class=\"edge\">\n",
       "<title>20&#45;&gt;22</title>\n",
       "<path fill=\"none\" stroke=\"#000000\" d=\"M535,-341.8796C535,-331.2134 535,-319.7021 535,-308.9015\"/>\n",
       "<polygon fill=\"#000000\" stroke=\"#000000\" points=\"538.5001,-308.8149 535,-298.8149 531.5001,-308.815 538.5001,-308.8149\"/>\n",
       "</g>\n",
       "<!-- 24 -->\n",
       "<g id=\"node25\" class=\"node\">\n",
       "<title>24</title>\n",
       "<polygon fill=\"#7beed8\" stroke=\"#000000\" points=\"803.5,-306 636.5,-306 636.5,-223 803.5,-223 803.5,-306\"/>\n",
       "<text text-anchor=\"middle\" x=\"720\" y=\"-290.8\" font-family=\"Times,serif\" font-size=\"14.00\" fill=\"#000000\">Support &lt;= 0.67</text>\n",
       "<text text-anchor=\"middle\" x=\"720\" y=\"-275.8\" font-family=\"Times,serif\" font-size=\"14.00\" fill=\"#000000\">gini = 0.375</text>\n",
       "<text text-anchor=\"middle\" x=\"720\" y=\"-260.8\" font-family=\"Times,serif\" font-size=\"14.00\" fill=\"#000000\">samples = 4</text>\n",
       "<text text-anchor=\"middle\" x=\"720\" y=\"-245.8\" font-family=\"Times,serif\" font-size=\"14.00\" fill=\"#000000\">value = [0, 0, 3, 0, 1]</text>\n",
       "<text text-anchor=\"middle\" x=\"720\" y=\"-230.8\" font-family=\"Times,serif\" font-size=\"14.00\" fill=\"#000000\">class = Mid</text>\n",
       "</g>\n",
       "<!-- 23&#45;&gt;24 -->\n",
       "<g id=\"edge24\" class=\"edge\">\n",
       "<title>23&#45;&gt;24</title>\n",
       "<path fill=\"none\" stroke=\"#000000\" d=\"M720,-341.8796C720,-333.6838 720,-324.9891 720,-316.5013\"/>\n",
       "<polygon fill=\"#000000\" stroke=\"#000000\" points=\"723.5001,-316.298 720,-306.2981 716.5001,-316.2981 723.5001,-316.298\"/>\n",
       "</g>\n",
       "<!-- 29 -->\n",
       "<g id=\"node30\" class=\"node\">\n",
       "<title>29</title>\n",
       "<polygon fill=\"#39e5c5\" stroke=\"#000000\" points=\"988.5,-298.5 821.5,-298.5 821.5,-230.5 988.5,-230.5 988.5,-298.5\"/>\n",
       "<text text-anchor=\"middle\" x=\"905\" y=\"-283.3\" font-family=\"Times,serif\" font-size=\"14.00\" fill=\"#000000\">gini = 0.0</text>\n",
       "<text text-anchor=\"middle\" x=\"905\" y=\"-268.3\" font-family=\"Times,serif\" font-size=\"14.00\" fill=\"#000000\">samples = 5</text>\n",
       "<text text-anchor=\"middle\" x=\"905\" y=\"-253.3\" font-family=\"Times,serif\" font-size=\"14.00\" fill=\"#000000\">value = [0, 0, 5, 0, 0]</text>\n",
       "<text text-anchor=\"middle\" x=\"905\" y=\"-238.3\" font-family=\"Times,serif\" font-size=\"14.00\" fill=\"#000000\">class = Mid</text>\n",
       "</g>\n",
       "<!-- 23&#45;&gt;29 -->\n",
       "<g id=\"edge29\" class=\"edge\">\n",
       "<title>23&#45;&gt;29</title>\n",
       "<path fill=\"none\" stroke=\"#000000\" d=\"M784.704,-341.8796C803.7696,-329.6158 824.5719,-316.2348 843.4346,-304.1015\"/>\n",
       "<polygon fill=\"#000000\" stroke=\"#000000\" points=\"845.4347,-306.9766 851.9516,-298.623 841.6478,-301.0893 845.4347,-306.9766\"/>\n",
       "</g>\n",
       "<!-- 25 -->\n",
       "<g id=\"node26\" class=\"node\">\n",
       "<title>25</title>\n",
       "<polygon fill=\"#39e5c5\" stroke=\"#000000\" points=\"710.5,-179.5 543.5,-179.5 543.5,-111.5 710.5,-111.5 710.5,-179.5\"/>\n",
       "<text text-anchor=\"middle\" x=\"627\" y=\"-164.3\" font-family=\"Times,serif\" font-size=\"14.00\" fill=\"#000000\">gini = 0.0</text>\n",
       "<text text-anchor=\"middle\" x=\"627\" y=\"-149.3\" font-family=\"Times,serif\" font-size=\"14.00\" fill=\"#000000\">samples = 2</text>\n",
       "<text text-anchor=\"middle\" x=\"627\" y=\"-134.3\" font-family=\"Times,serif\" font-size=\"14.00\" fill=\"#000000\">value = [0, 0, 2, 0, 0]</text>\n",
       "<text text-anchor=\"middle\" x=\"627\" y=\"-119.3\" font-family=\"Times,serif\" font-size=\"14.00\" fill=\"#000000\">class = Mid</text>\n",
       "</g>\n",
       "<!-- 24&#45;&gt;25 -->\n",
       "<g id=\"edge25\" class=\"edge\">\n",
       "<title>24&#45;&gt;25</title>\n",
       "<path fill=\"none\" stroke=\"#000000\" d=\"M687.4731,-222.8796C678.6217,-211.5536 669.0257,-199.2748 660.1407,-187.9058\"/>\n",
       "<polygon fill=\"#000000\" stroke=\"#000000\" points=\"662.7331,-185.539 653.8176,-179.8149 657.2176,-189.8494 662.7331,-185.539\"/>\n",
       "</g>\n",
       "<!-- 26 -->\n",
       "<g id=\"node27\" class=\"node\">\n",
       "<title>26</title>\n",
       "<polygon fill=\"#ffffff\" stroke=\"#000000\" points=\"895.5,-187 728.5,-187 728.5,-104 895.5,-104 895.5,-187\"/>\n",
       "<text text-anchor=\"middle\" x=\"812\" y=\"-171.8\" font-family=\"Times,serif\" font-size=\"14.00\" fill=\"#000000\">Jungle &lt;= 35.0</text>\n",
       "<text text-anchor=\"middle\" x=\"812\" y=\"-156.8\" font-family=\"Times,serif\" font-size=\"14.00\" fill=\"#000000\">gini = 0.5</text>\n",
       "<text text-anchor=\"middle\" x=\"812\" y=\"-141.8\" font-family=\"Times,serif\" font-size=\"14.00\" fill=\"#000000\">samples = 2</text>\n",
       "<text text-anchor=\"middle\" x=\"812\" y=\"-126.8\" font-family=\"Times,serif\" font-size=\"14.00\" fill=\"#000000\">value = [0, 0, 1, 0, 1]</text>\n",
       "<text text-anchor=\"middle\" x=\"812\" y=\"-111.8\" font-family=\"Times,serif\" font-size=\"14.00\" fill=\"#000000\">class = Mid</text>\n",
       "</g>\n",
       "<!-- 24&#45;&gt;26 -->\n",
       "<g id=\"edge26\" class=\"edge\">\n",
       "<title>24&#45;&gt;26</title>\n",
       "<path fill=\"none\" stroke=\"#000000\" d=\"M752.1771,-222.8796C759.0704,-213.9633 766.4202,-204.4565 773.5239,-195.268\"/>\n",
       "<polygon fill=\"#000000\" stroke=\"#000000\" points=\"776.3381,-197.3502 779.6855,-187.2981 770.8001,-193.0687 776.3381,-197.3502\"/>\n",
       "</g>\n",
       "<!-- 27 -->\n",
       "<g id=\"node28\" class=\"node\">\n",
       "<title>27</title>\n",
       "<polygon fill=\"#e539c0\" stroke=\"#000000\" points=\"803.5,-68 636.5,-68 636.5,0 803.5,0 803.5,-68\"/>\n",
       "<text text-anchor=\"middle\" x=\"720\" y=\"-52.8\" font-family=\"Times,serif\" font-size=\"14.00\" fill=\"#000000\">gini = 0.0</text>\n",
       "<text text-anchor=\"middle\" x=\"720\" y=\"-37.8\" font-family=\"Times,serif\" font-size=\"14.00\" fill=\"#000000\">samples = 1</text>\n",
       "<text text-anchor=\"middle\" x=\"720\" y=\"-22.8\" font-family=\"Times,serif\" font-size=\"14.00\" fill=\"#000000\">value = [0, 0, 0, 0, 1]</text>\n",
       "<text text-anchor=\"middle\" x=\"720\" y=\"-7.8\" font-family=\"Times,serif\" font-size=\"14.00\" fill=\"#000000\">class = Support</text>\n",
       "</g>\n",
       "<!-- 26&#45;&gt;27 -->\n",
       "<g id=\"edge27\" class=\"edge\">\n",
       "<title>26&#45;&gt;27</title>\n",
       "<path fill=\"none\" stroke=\"#000000\" d=\"M777.7426,-103.9815C770.2351,-94.8828 762.2804,-85.242 754.7536,-76.1199\"/>\n",
       "<polygon fill=\"#000000\" stroke=\"#000000\" points=\"757.3354,-73.7495 748.2714,-68.2637 751.9361,-78.2045 757.3354,-73.7495\"/>\n",
       "</g>\n",
       "<!-- 28 -->\n",
       "<g id=\"node29\" class=\"node\">\n",
       "<title>28</title>\n",
       "<polygon fill=\"#39e5c5\" stroke=\"#000000\" points=\"988.5,-68 821.5,-68 821.5,0 988.5,0 988.5,-68\"/>\n",
       "<text text-anchor=\"middle\" x=\"905\" y=\"-52.8\" font-family=\"Times,serif\" font-size=\"14.00\" fill=\"#000000\">gini = 0.0</text>\n",
       "<text text-anchor=\"middle\" x=\"905\" y=\"-37.8\" font-family=\"Times,serif\" font-size=\"14.00\" fill=\"#000000\">samples = 1</text>\n",
       "<text text-anchor=\"middle\" x=\"905\" y=\"-22.8\" font-family=\"Times,serif\" font-size=\"14.00\" fill=\"#000000\">value = [0, 0, 1, 0, 0]</text>\n",
       "<text text-anchor=\"middle\" x=\"905\" y=\"-7.8\" font-family=\"Times,serif\" font-size=\"14.00\" fill=\"#000000\">class = Mid</text>\n",
       "</g>\n",
       "<!-- 26&#45;&gt;28 -->\n",
       "<g id=\"edge28\" class=\"edge\">\n",
       "<title>26&#45;&gt;28</title>\n",
       "<path fill=\"none\" stroke=\"#000000\" d=\"M846.6298,-103.9815C854.2189,-94.8828 862.26,-85.242 869.8686,-76.1199\"/>\n",
       "<polygon fill=\"#000000\" stroke=\"#000000\" points=\"872.7039,-78.1849 876.4213,-68.2637 867.3283,-73.7012 872.7039,-78.1849\"/>\n",
       "</g>\n",
       "<!-- 32 -->\n",
       "<g id=\"node33\" class=\"node\">\n",
       "<title>32</title>\n",
       "<polygon fill=\"#e58139\" stroke=\"#000000\" points=\"1085.5,-536.5 918.5,-536.5 918.5,-468.5 1085.5,-468.5 1085.5,-536.5\"/>\n",
       "<text text-anchor=\"middle\" x=\"1002\" y=\"-521.3\" font-family=\"Times,serif\" font-size=\"14.00\" fill=\"#000000\">gini = 0.0</text>\n",
       "<text text-anchor=\"middle\" x=\"1002\" y=\"-506.3\" font-family=\"Times,serif\" font-size=\"14.00\" fill=\"#000000\">samples = 1</text>\n",
       "<text text-anchor=\"middle\" x=\"1002\" y=\"-491.3\" font-family=\"Times,serif\" font-size=\"14.00\" fill=\"#000000\">value = [1, 0, 0, 0, 0]</text>\n",
       "<text text-anchor=\"middle\" x=\"1002\" y=\"-476.3\" font-family=\"Times,serif\" font-size=\"14.00\" fill=\"#000000\">class = Top</text>\n",
       "</g>\n",
       "<!-- 31&#45;&gt;32 -->\n",
       "<g id=\"edge32\" class=\"edge\">\n",
       "<title>31&#45;&gt;32</title>\n",
       "<path fill=\"none\" stroke=\"#000000\" d=\"M1002.6502,-579.8796C1002.5606,-569.2134 1002.4639,-557.7021 1002.3731,-546.9015\"/>\n",
       "<polygon fill=\"#000000\" stroke=\"#000000\" points=\"1005.8724,-546.7851 1002.2884,-536.8149 998.8726,-546.844 1005.8724,-546.7851\"/>\n",
       "</g>\n",
       "<!-- 33 -->\n",
       "<g id=\"node34\" class=\"node\">\n",
       "<title>33</title>\n",
       "<polygon fill=\"#e539c0\" stroke=\"#000000\" points=\"1270.5,-536.5 1103.5,-536.5 1103.5,-468.5 1270.5,-468.5 1270.5,-536.5\"/>\n",
       "<text text-anchor=\"middle\" x=\"1187\" y=\"-521.3\" font-family=\"Times,serif\" font-size=\"14.00\" fill=\"#000000\">gini = 0.0</text>\n",
       "<text text-anchor=\"middle\" x=\"1187\" y=\"-506.3\" font-family=\"Times,serif\" font-size=\"14.00\" fill=\"#000000\">samples = 1</text>\n",
       "<text text-anchor=\"middle\" x=\"1187\" y=\"-491.3\" font-family=\"Times,serif\" font-size=\"14.00\" fill=\"#000000\">value = [0, 0, 0, 0, 1]</text>\n",
       "<text text-anchor=\"middle\" x=\"1187\" y=\"-476.3\" font-family=\"Times,serif\" font-size=\"14.00\" fill=\"#000000\">class = Support</text>\n",
       "</g>\n",
       "<!-- 31&#45;&gt;33 -->\n",
       "<g id=\"edge33\" class=\"edge\">\n",
       "<title>31&#45;&gt;33</title>\n",
       "<path fill=\"none\" stroke=\"#000000\" d=\"M1067.3543,-579.8796C1086.3167,-567.6158 1107.0066,-554.2348 1125.7674,-542.1015\"/>\n",
       "<polygon fill=\"#000000\" stroke=\"#000000\" points=\"1127.7421,-544.9926 1134.2383,-536.623 1123.9407,-539.1148 1127.7421,-544.9926\"/>\n",
       "</g>\n",
       "</g>\n",
       "</svg>\n"
      ],
      "text/plain": [
       "<graphviz.files.Source at 0x7fb8158c30b8>"
      ]
     },
     "execution_count": 85,
     "metadata": {},
     "output_type": "execute_result"
    }
   ],
   "source": [
    "graficar_arbol(classifier,  ['Top', 'Jungle', 'Mid', 'ADC', 'Support'], ['Top', 'Jungle', 'Mid', 'ADC', 'Support'])"
   ]
  },
  {
   "cell_type": "code",
   "execution_count": null,
   "metadata": {},
   "outputs": [],
   "source": []
  }
 ],
 "metadata": {
  "kernelspec": {
   "display_name": "Python 3",
   "language": "python",
   "name": "python3"
  },
  "language_info": {
   "codemirror_mode": {
    "name": "ipython",
    "version": 3
   },
   "file_extension": ".py",
   "mimetype": "text/x-python",
   "name": "python",
   "nbconvert_exporter": "python",
   "pygments_lexer": "ipython3",
   "version": "3.8.8"
  }
 },
 "nbformat": 4,
 "nbformat_minor": 4
}
